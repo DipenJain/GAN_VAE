{
  "nbformat": 4,
  "nbformat_minor": 0,
  "metadata": {
    "colab": {
      "name": "VAE.ipynb",
      "provenance": [],
      "collapsed_sections": []
    },
    "kernelspec": {
      "name": "python3",
      "display_name": "Python 3"
    },
    "accelerator": "GPU",
    "widgets": {
      "application/vnd.jupyter.widget-state+json": {
        "c51219ae6dec4378a571250fe3767954": {
          "model_module": "@jupyter-widgets/controls",
          "model_name": "HBoxModel",
          "state": {
            "_view_name": "HBoxView",
            "_dom_classes": [],
            "_model_name": "HBoxModel",
            "_view_module": "@jupyter-widgets/controls",
            "_model_module_version": "1.5.0",
            "_view_count": null,
            "_view_module_version": "1.5.0",
            "box_style": "",
            "layout": "IPY_MODEL_3f565c06950c4f7fb0e433804acb4da7",
            "_model_module": "@jupyter-widgets/controls",
            "children": [
              "IPY_MODEL_3d20fef98dfb4d47a4d34d63490c0cc3",
              "IPY_MODEL_3b606fbee3fb4cfd8c5c95b02d2602b2"
            ]
          }
        },
        "3f565c06950c4f7fb0e433804acb4da7": {
          "model_module": "@jupyter-widgets/base",
          "model_name": "LayoutModel",
          "state": {
            "_view_name": "LayoutView",
            "grid_template_rows": null,
            "right": null,
            "justify_content": null,
            "_view_module": "@jupyter-widgets/base",
            "overflow": null,
            "_model_module_version": "1.2.0",
            "_view_count": null,
            "flex_flow": null,
            "width": null,
            "min_width": null,
            "border": null,
            "align_items": null,
            "bottom": null,
            "_model_module": "@jupyter-widgets/base",
            "top": null,
            "grid_column": null,
            "overflow_y": null,
            "overflow_x": null,
            "grid_auto_flow": null,
            "grid_area": null,
            "grid_template_columns": null,
            "flex": null,
            "_model_name": "LayoutModel",
            "justify_items": null,
            "grid_row": null,
            "max_height": null,
            "align_content": null,
            "visibility": null,
            "align_self": null,
            "height": null,
            "min_height": null,
            "padding": null,
            "grid_auto_rows": null,
            "grid_gap": null,
            "max_width": null,
            "order": null,
            "_view_module_version": "1.2.0",
            "grid_template_areas": null,
            "object_position": null,
            "object_fit": null,
            "grid_auto_columns": null,
            "margin": null,
            "display": null,
            "left": null
          }
        },
        "3d20fef98dfb4d47a4d34d63490c0cc3": {
          "model_module": "@jupyter-widgets/controls",
          "model_name": "FloatProgressModel",
          "state": {
            "_view_name": "ProgressView",
            "style": "IPY_MODEL_51faff22633843cbbe822eb18e8e6c91",
            "_dom_classes": [],
            "description": "",
            "_model_name": "FloatProgressModel",
            "bar_style": "info",
            "max": 1,
            "_view_module": "@jupyter-widgets/controls",
            "_model_module_version": "1.5.0",
            "value": 1,
            "_view_count": null,
            "_view_module_version": "1.5.0",
            "orientation": "horizontal",
            "min": 0,
            "description_tooltip": null,
            "_model_module": "@jupyter-widgets/controls",
            "layout": "IPY_MODEL_09d0843088044006ae743ede1cddfa87"
          }
        },
        "3b606fbee3fb4cfd8c5c95b02d2602b2": {
          "model_module": "@jupyter-widgets/controls",
          "model_name": "HTMLModel",
          "state": {
            "_view_name": "HTMLView",
            "style": "IPY_MODEL_7852d4ae61694347931d9310bed62001",
            "_dom_classes": [],
            "description": "",
            "_model_name": "HTMLModel",
            "placeholder": "​",
            "_view_module": "@jupyter-widgets/controls",
            "_model_module_version": "1.5.0",
            "value": " 9920512/? [00:20&lt;00:00, 44733492.53it/s]",
            "_view_count": null,
            "_view_module_version": "1.5.0",
            "description_tooltip": null,
            "_model_module": "@jupyter-widgets/controls",
            "layout": "IPY_MODEL_aa7a46d98bdc4c569e48131bbc7ffd1a"
          }
        },
        "51faff22633843cbbe822eb18e8e6c91": {
          "model_module": "@jupyter-widgets/controls",
          "model_name": "ProgressStyleModel",
          "state": {
            "_view_name": "StyleView",
            "_model_name": "ProgressStyleModel",
            "description_width": "initial",
            "_view_module": "@jupyter-widgets/base",
            "_model_module_version": "1.5.0",
            "_view_count": null,
            "_view_module_version": "1.2.0",
            "bar_color": null,
            "_model_module": "@jupyter-widgets/controls"
          }
        },
        "09d0843088044006ae743ede1cddfa87": {
          "model_module": "@jupyter-widgets/base",
          "model_name": "LayoutModel",
          "state": {
            "_view_name": "LayoutView",
            "grid_template_rows": null,
            "right": null,
            "justify_content": null,
            "_view_module": "@jupyter-widgets/base",
            "overflow": null,
            "_model_module_version": "1.2.0",
            "_view_count": null,
            "flex_flow": null,
            "width": null,
            "min_width": null,
            "border": null,
            "align_items": null,
            "bottom": null,
            "_model_module": "@jupyter-widgets/base",
            "top": null,
            "grid_column": null,
            "overflow_y": null,
            "overflow_x": null,
            "grid_auto_flow": null,
            "grid_area": null,
            "grid_template_columns": null,
            "flex": null,
            "_model_name": "LayoutModel",
            "justify_items": null,
            "grid_row": null,
            "max_height": null,
            "align_content": null,
            "visibility": null,
            "align_self": null,
            "height": null,
            "min_height": null,
            "padding": null,
            "grid_auto_rows": null,
            "grid_gap": null,
            "max_width": null,
            "order": null,
            "_view_module_version": "1.2.0",
            "grid_template_areas": null,
            "object_position": null,
            "object_fit": null,
            "grid_auto_columns": null,
            "margin": null,
            "display": null,
            "left": null
          }
        },
        "7852d4ae61694347931d9310bed62001": {
          "model_module": "@jupyter-widgets/controls",
          "model_name": "DescriptionStyleModel",
          "state": {
            "_view_name": "StyleView",
            "_model_name": "DescriptionStyleModel",
            "description_width": "",
            "_view_module": "@jupyter-widgets/base",
            "_model_module_version": "1.5.0",
            "_view_count": null,
            "_view_module_version": "1.2.0",
            "_model_module": "@jupyter-widgets/controls"
          }
        },
        "aa7a46d98bdc4c569e48131bbc7ffd1a": {
          "model_module": "@jupyter-widgets/base",
          "model_name": "LayoutModel",
          "state": {
            "_view_name": "LayoutView",
            "grid_template_rows": null,
            "right": null,
            "justify_content": null,
            "_view_module": "@jupyter-widgets/base",
            "overflow": null,
            "_model_module_version": "1.2.0",
            "_view_count": null,
            "flex_flow": null,
            "width": null,
            "min_width": null,
            "border": null,
            "align_items": null,
            "bottom": null,
            "_model_module": "@jupyter-widgets/base",
            "top": null,
            "grid_column": null,
            "overflow_y": null,
            "overflow_x": null,
            "grid_auto_flow": null,
            "grid_area": null,
            "grid_template_columns": null,
            "flex": null,
            "_model_name": "LayoutModel",
            "justify_items": null,
            "grid_row": null,
            "max_height": null,
            "align_content": null,
            "visibility": null,
            "align_self": null,
            "height": null,
            "min_height": null,
            "padding": null,
            "grid_auto_rows": null,
            "grid_gap": null,
            "max_width": null,
            "order": null,
            "_view_module_version": "1.2.0",
            "grid_template_areas": null,
            "object_position": null,
            "object_fit": null,
            "grid_auto_columns": null,
            "margin": null,
            "display": null,
            "left": null
          }
        },
        "31322e7e41e549f8899b7b88a7ac0904": {
          "model_module": "@jupyter-widgets/controls",
          "model_name": "HBoxModel",
          "state": {
            "_view_name": "HBoxView",
            "_dom_classes": [],
            "_model_name": "HBoxModel",
            "_view_module": "@jupyter-widgets/controls",
            "_model_module_version": "1.5.0",
            "_view_count": null,
            "_view_module_version": "1.5.0",
            "box_style": "",
            "layout": "IPY_MODEL_e06f60c3b83f4566a5dc93d8b3311baa",
            "_model_module": "@jupyter-widgets/controls",
            "children": [
              "IPY_MODEL_94029d7f7b2f41a6abb1aa9274c99b18",
              "IPY_MODEL_325a795d2bd24361bb5665958f7f309c"
            ]
          }
        },
        "e06f60c3b83f4566a5dc93d8b3311baa": {
          "model_module": "@jupyter-widgets/base",
          "model_name": "LayoutModel",
          "state": {
            "_view_name": "LayoutView",
            "grid_template_rows": null,
            "right": null,
            "justify_content": null,
            "_view_module": "@jupyter-widgets/base",
            "overflow": null,
            "_model_module_version": "1.2.0",
            "_view_count": null,
            "flex_flow": null,
            "width": null,
            "min_width": null,
            "border": null,
            "align_items": null,
            "bottom": null,
            "_model_module": "@jupyter-widgets/base",
            "top": null,
            "grid_column": null,
            "overflow_y": null,
            "overflow_x": null,
            "grid_auto_flow": null,
            "grid_area": null,
            "grid_template_columns": null,
            "flex": null,
            "_model_name": "LayoutModel",
            "justify_items": null,
            "grid_row": null,
            "max_height": null,
            "align_content": null,
            "visibility": null,
            "align_self": null,
            "height": null,
            "min_height": null,
            "padding": null,
            "grid_auto_rows": null,
            "grid_gap": null,
            "max_width": null,
            "order": null,
            "_view_module_version": "1.2.0",
            "grid_template_areas": null,
            "object_position": null,
            "object_fit": null,
            "grid_auto_columns": null,
            "margin": null,
            "display": null,
            "left": null
          }
        },
        "94029d7f7b2f41a6abb1aa9274c99b18": {
          "model_module": "@jupyter-widgets/controls",
          "model_name": "FloatProgressModel",
          "state": {
            "_view_name": "ProgressView",
            "style": "IPY_MODEL_d297fd9961b3496998bb6c8b014da7f2",
            "_dom_classes": [],
            "description": "",
            "_model_name": "FloatProgressModel",
            "bar_style": "success",
            "max": 1,
            "_view_module": "@jupyter-widgets/controls",
            "_model_module_version": "1.5.0",
            "value": 1,
            "_view_count": null,
            "_view_module_version": "1.5.0",
            "orientation": "horizontal",
            "min": 0,
            "description_tooltip": null,
            "_model_module": "@jupyter-widgets/controls",
            "layout": "IPY_MODEL_a8f61dc43dc1468cb2c5c9202aeda646"
          }
        },
        "325a795d2bd24361bb5665958f7f309c": {
          "model_module": "@jupyter-widgets/controls",
          "model_name": "HTMLModel",
          "state": {
            "_view_name": "HTMLView",
            "style": "IPY_MODEL_02ff69d6ccea41da9c446be80af519de",
            "_dom_classes": [],
            "description": "",
            "_model_name": "HTMLModel",
            "placeholder": "​",
            "_view_module": "@jupyter-widgets/controls",
            "_model_module_version": "1.5.0",
            "value": " 32768/? [00:00&lt;00:00, 104179.22it/s]",
            "_view_count": null,
            "_view_module_version": "1.5.0",
            "description_tooltip": null,
            "_model_module": "@jupyter-widgets/controls",
            "layout": "IPY_MODEL_87044fc71d034090bb9f269232d22b08"
          }
        },
        "d297fd9961b3496998bb6c8b014da7f2": {
          "model_module": "@jupyter-widgets/controls",
          "model_name": "ProgressStyleModel",
          "state": {
            "_view_name": "StyleView",
            "_model_name": "ProgressStyleModel",
            "description_width": "initial",
            "_view_module": "@jupyter-widgets/base",
            "_model_module_version": "1.5.0",
            "_view_count": null,
            "_view_module_version": "1.2.0",
            "bar_color": null,
            "_model_module": "@jupyter-widgets/controls"
          }
        },
        "a8f61dc43dc1468cb2c5c9202aeda646": {
          "model_module": "@jupyter-widgets/base",
          "model_name": "LayoutModel",
          "state": {
            "_view_name": "LayoutView",
            "grid_template_rows": null,
            "right": null,
            "justify_content": null,
            "_view_module": "@jupyter-widgets/base",
            "overflow": null,
            "_model_module_version": "1.2.0",
            "_view_count": null,
            "flex_flow": null,
            "width": null,
            "min_width": null,
            "border": null,
            "align_items": null,
            "bottom": null,
            "_model_module": "@jupyter-widgets/base",
            "top": null,
            "grid_column": null,
            "overflow_y": null,
            "overflow_x": null,
            "grid_auto_flow": null,
            "grid_area": null,
            "grid_template_columns": null,
            "flex": null,
            "_model_name": "LayoutModel",
            "justify_items": null,
            "grid_row": null,
            "max_height": null,
            "align_content": null,
            "visibility": null,
            "align_self": null,
            "height": null,
            "min_height": null,
            "padding": null,
            "grid_auto_rows": null,
            "grid_gap": null,
            "max_width": null,
            "order": null,
            "_view_module_version": "1.2.0",
            "grid_template_areas": null,
            "object_position": null,
            "object_fit": null,
            "grid_auto_columns": null,
            "margin": null,
            "display": null,
            "left": null
          }
        },
        "02ff69d6ccea41da9c446be80af519de": {
          "model_module": "@jupyter-widgets/controls",
          "model_name": "DescriptionStyleModel",
          "state": {
            "_view_name": "StyleView",
            "_model_name": "DescriptionStyleModel",
            "description_width": "",
            "_view_module": "@jupyter-widgets/base",
            "_model_module_version": "1.5.0",
            "_view_count": null,
            "_view_module_version": "1.2.0",
            "_model_module": "@jupyter-widgets/controls"
          }
        },
        "87044fc71d034090bb9f269232d22b08": {
          "model_module": "@jupyter-widgets/base",
          "model_name": "LayoutModel",
          "state": {
            "_view_name": "LayoutView",
            "grid_template_rows": null,
            "right": null,
            "justify_content": null,
            "_view_module": "@jupyter-widgets/base",
            "overflow": null,
            "_model_module_version": "1.2.0",
            "_view_count": null,
            "flex_flow": null,
            "width": null,
            "min_width": null,
            "border": null,
            "align_items": null,
            "bottom": null,
            "_model_module": "@jupyter-widgets/base",
            "top": null,
            "grid_column": null,
            "overflow_y": null,
            "overflow_x": null,
            "grid_auto_flow": null,
            "grid_area": null,
            "grid_template_columns": null,
            "flex": null,
            "_model_name": "LayoutModel",
            "justify_items": null,
            "grid_row": null,
            "max_height": null,
            "align_content": null,
            "visibility": null,
            "align_self": null,
            "height": null,
            "min_height": null,
            "padding": null,
            "grid_auto_rows": null,
            "grid_gap": null,
            "max_width": null,
            "order": null,
            "_view_module_version": "1.2.0",
            "grid_template_areas": null,
            "object_position": null,
            "object_fit": null,
            "grid_auto_columns": null,
            "margin": null,
            "display": null,
            "left": null
          }
        },
        "b36c4b0278f94c4082fb0bcf8e1b7fc2": {
          "model_module": "@jupyter-widgets/controls",
          "model_name": "HBoxModel",
          "state": {
            "_view_name": "HBoxView",
            "_dom_classes": [],
            "_model_name": "HBoxModel",
            "_view_module": "@jupyter-widgets/controls",
            "_model_module_version": "1.5.0",
            "_view_count": null,
            "_view_module_version": "1.5.0",
            "box_style": "",
            "layout": "IPY_MODEL_6813052e23974af7872c350346698531",
            "_model_module": "@jupyter-widgets/controls",
            "children": [
              "IPY_MODEL_9bf29783edfc4311a0344a10e8d33a0e",
              "IPY_MODEL_1cfc8fd63e8c4d8e81a0dbf61ec676cc"
            ]
          }
        },
        "6813052e23974af7872c350346698531": {
          "model_module": "@jupyter-widgets/base",
          "model_name": "LayoutModel",
          "state": {
            "_view_name": "LayoutView",
            "grid_template_rows": null,
            "right": null,
            "justify_content": null,
            "_view_module": "@jupyter-widgets/base",
            "overflow": null,
            "_model_module_version": "1.2.0",
            "_view_count": null,
            "flex_flow": null,
            "width": null,
            "min_width": null,
            "border": null,
            "align_items": null,
            "bottom": null,
            "_model_module": "@jupyter-widgets/base",
            "top": null,
            "grid_column": null,
            "overflow_y": null,
            "overflow_x": null,
            "grid_auto_flow": null,
            "grid_area": null,
            "grid_template_columns": null,
            "flex": null,
            "_model_name": "LayoutModel",
            "justify_items": null,
            "grid_row": null,
            "max_height": null,
            "align_content": null,
            "visibility": null,
            "align_self": null,
            "height": null,
            "min_height": null,
            "padding": null,
            "grid_auto_rows": null,
            "grid_gap": null,
            "max_width": null,
            "order": null,
            "_view_module_version": "1.2.0",
            "grid_template_areas": null,
            "object_position": null,
            "object_fit": null,
            "grid_auto_columns": null,
            "margin": null,
            "display": null,
            "left": null
          }
        },
        "9bf29783edfc4311a0344a10e8d33a0e": {
          "model_module": "@jupyter-widgets/controls",
          "model_name": "FloatProgressModel",
          "state": {
            "_view_name": "ProgressView",
            "style": "IPY_MODEL_8a3915abeef74267b4a1a0bcdbd0c032",
            "_dom_classes": [],
            "description": "",
            "_model_name": "FloatProgressModel",
            "bar_style": "success",
            "max": 1,
            "_view_module": "@jupyter-widgets/controls",
            "_model_module_version": "1.5.0",
            "value": 1,
            "_view_count": null,
            "_view_module_version": "1.5.0",
            "orientation": "horizontal",
            "min": 0,
            "description_tooltip": null,
            "_model_module": "@jupyter-widgets/controls",
            "layout": "IPY_MODEL_662f67ca5e884ae3aef319f3b908d14c"
          }
        },
        "1cfc8fd63e8c4d8e81a0dbf61ec676cc": {
          "model_module": "@jupyter-widgets/controls",
          "model_name": "HTMLModel",
          "state": {
            "_view_name": "HTMLView",
            "style": "IPY_MODEL_2b7d90184e7d41e6aef68582c5c366ad",
            "_dom_classes": [],
            "description": "",
            "_model_name": "HTMLModel",
            "placeholder": "​",
            "_view_module": "@jupyter-widgets/controls",
            "_model_module_version": "1.5.0",
            "value": " 1654784/? [00:00&lt;00:00, 7195018.24it/s]",
            "_view_count": null,
            "_view_module_version": "1.5.0",
            "description_tooltip": null,
            "_model_module": "@jupyter-widgets/controls",
            "layout": "IPY_MODEL_a779f0dd4dba4372a514dfc857e86845"
          }
        },
        "8a3915abeef74267b4a1a0bcdbd0c032": {
          "model_module": "@jupyter-widgets/controls",
          "model_name": "ProgressStyleModel",
          "state": {
            "_view_name": "StyleView",
            "_model_name": "ProgressStyleModel",
            "description_width": "initial",
            "_view_module": "@jupyter-widgets/base",
            "_model_module_version": "1.5.0",
            "_view_count": null,
            "_view_module_version": "1.2.0",
            "bar_color": null,
            "_model_module": "@jupyter-widgets/controls"
          }
        },
        "662f67ca5e884ae3aef319f3b908d14c": {
          "model_module": "@jupyter-widgets/base",
          "model_name": "LayoutModel",
          "state": {
            "_view_name": "LayoutView",
            "grid_template_rows": null,
            "right": null,
            "justify_content": null,
            "_view_module": "@jupyter-widgets/base",
            "overflow": null,
            "_model_module_version": "1.2.0",
            "_view_count": null,
            "flex_flow": null,
            "width": null,
            "min_width": null,
            "border": null,
            "align_items": null,
            "bottom": null,
            "_model_module": "@jupyter-widgets/base",
            "top": null,
            "grid_column": null,
            "overflow_y": null,
            "overflow_x": null,
            "grid_auto_flow": null,
            "grid_area": null,
            "grid_template_columns": null,
            "flex": null,
            "_model_name": "LayoutModel",
            "justify_items": null,
            "grid_row": null,
            "max_height": null,
            "align_content": null,
            "visibility": null,
            "align_self": null,
            "height": null,
            "min_height": null,
            "padding": null,
            "grid_auto_rows": null,
            "grid_gap": null,
            "max_width": null,
            "order": null,
            "_view_module_version": "1.2.0",
            "grid_template_areas": null,
            "object_position": null,
            "object_fit": null,
            "grid_auto_columns": null,
            "margin": null,
            "display": null,
            "left": null
          }
        },
        "2b7d90184e7d41e6aef68582c5c366ad": {
          "model_module": "@jupyter-widgets/controls",
          "model_name": "DescriptionStyleModel",
          "state": {
            "_view_name": "StyleView",
            "_model_name": "DescriptionStyleModel",
            "description_width": "",
            "_view_module": "@jupyter-widgets/base",
            "_model_module_version": "1.5.0",
            "_view_count": null,
            "_view_module_version": "1.2.0",
            "_model_module": "@jupyter-widgets/controls"
          }
        },
        "a779f0dd4dba4372a514dfc857e86845": {
          "model_module": "@jupyter-widgets/base",
          "model_name": "LayoutModel",
          "state": {
            "_view_name": "LayoutView",
            "grid_template_rows": null,
            "right": null,
            "justify_content": null,
            "_view_module": "@jupyter-widgets/base",
            "overflow": null,
            "_model_module_version": "1.2.0",
            "_view_count": null,
            "flex_flow": null,
            "width": null,
            "min_width": null,
            "border": null,
            "align_items": null,
            "bottom": null,
            "_model_module": "@jupyter-widgets/base",
            "top": null,
            "grid_column": null,
            "overflow_y": null,
            "overflow_x": null,
            "grid_auto_flow": null,
            "grid_area": null,
            "grid_template_columns": null,
            "flex": null,
            "_model_name": "LayoutModel",
            "justify_items": null,
            "grid_row": null,
            "max_height": null,
            "align_content": null,
            "visibility": null,
            "align_self": null,
            "height": null,
            "min_height": null,
            "padding": null,
            "grid_auto_rows": null,
            "grid_gap": null,
            "max_width": null,
            "order": null,
            "_view_module_version": "1.2.0",
            "grid_template_areas": null,
            "object_position": null,
            "object_fit": null,
            "grid_auto_columns": null,
            "margin": null,
            "display": null,
            "left": null
          }
        },
        "580c78cdaa774c0fb6a18e8040b50ced": {
          "model_module": "@jupyter-widgets/controls",
          "model_name": "HBoxModel",
          "state": {
            "_view_name": "HBoxView",
            "_dom_classes": [],
            "_model_name": "HBoxModel",
            "_view_module": "@jupyter-widgets/controls",
            "_model_module_version": "1.5.0",
            "_view_count": null,
            "_view_module_version": "1.5.0",
            "box_style": "",
            "layout": "IPY_MODEL_33c4633f8b9d4864a56e4f41317384dc",
            "_model_module": "@jupyter-widgets/controls",
            "children": [
              "IPY_MODEL_fb851c09dac842388d504e7982a9bf04",
              "IPY_MODEL_08ae2ac0270c4c44bad9e070b10d7af0"
            ]
          }
        },
        "33c4633f8b9d4864a56e4f41317384dc": {
          "model_module": "@jupyter-widgets/base",
          "model_name": "LayoutModel",
          "state": {
            "_view_name": "LayoutView",
            "grid_template_rows": null,
            "right": null,
            "justify_content": null,
            "_view_module": "@jupyter-widgets/base",
            "overflow": null,
            "_model_module_version": "1.2.0",
            "_view_count": null,
            "flex_flow": null,
            "width": null,
            "min_width": null,
            "border": null,
            "align_items": null,
            "bottom": null,
            "_model_module": "@jupyter-widgets/base",
            "top": null,
            "grid_column": null,
            "overflow_y": null,
            "overflow_x": null,
            "grid_auto_flow": null,
            "grid_area": null,
            "grid_template_columns": null,
            "flex": null,
            "_model_name": "LayoutModel",
            "justify_items": null,
            "grid_row": null,
            "max_height": null,
            "align_content": null,
            "visibility": null,
            "align_self": null,
            "height": null,
            "min_height": null,
            "padding": null,
            "grid_auto_rows": null,
            "grid_gap": null,
            "max_width": null,
            "order": null,
            "_view_module_version": "1.2.0",
            "grid_template_areas": null,
            "object_position": null,
            "object_fit": null,
            "grid_auto_columns": null,
            "margin": null,
            "display": null,
            "left": null
          }
        },
        "fb851c09dac842388d504e7982a9bf04": {
          "model_module": "@jupyter-widgets/controls",
          "model_name": "FloatProgressModel",
          "state": {
            "_view_name": "ProgressView",
            "style": "IPY_MODEL_0d66bf8fd3574a9c87dae4e76cb4b841",
            "_dom_classes": [],
            "description": "",
            "_model_name": "FloatProgressModel",
            "bar_style": "info",
            "max": 1,
            "_view_module": "@jupyter-widgets/controls",
            "_model_module_version": "1.5.0",
            "value": 0,
            "_view_count": null,
            "_view_module_version": "1.5.0",
            "orientation": "horizontal",
            "min": 0,
            "description_tooltip": null,
            "_model_module": "@jupyter-widgets/controls",
            "layout": "IPY_MODEL_ac539671d22347d6b353aa900727642a"
          }
        },
        "08ae2ac0270c4c44bad9e070b10d7af0": {
          "model_module": "@jupyter-widgets/controls",
          "model_name": "HTMLModel",
          "state": {
            "_view_name": "HTMLView",
            "style": "IPY_MODEL_f0ff0b0797d044feba118dfcf1757e35",
            "_dom_classes": [],
            "description": "",
            "_model_name": "HTMLModel",
            "placeholder": "​",
            "_view_module": "@jupyter-widgets/controls",
            "_model_module_version": "1.5.0",
            "value": " 0/? [00:00&lt;?, ?it/s]",
            "_view_count": null,
            "_view_module_version": "1.5.0",
            "description_tooltip": null,
            "_model_module": "@jupyter-widgets/controls",
            "layout": "IPY_MODEL_31fc24fc13354f2b94b23cca5e42d10c"
          }
        },
        "0d66bf8fd3574a9c87dae4e76cb4b841": {
          "model_module": "@jupyter-widgets/controls",
          "model_name": "ProgressStyleModel",
          "state": {
            "_view_name": "StyleView",
            "_model_name": "ProgressStyleModel",
            "description_width": "initial",
            "_view_module": "@jupyter-widgets/base",
            "_model_module_version": "1.5.0",
            "_view_count": null,
            "_view_module_version": "1.2.0",
            "bar_color": null,
            "_model_module": "@jupyter-widgets/controls"
          }
        },
        "ac539671d22347d6b353aa900727642a": {
          "model_module": "@jupyter-widgets/base",
          "model_name": "LayoutModel",
          "state": {
            "_view_name": "LayoutView",
            "grid_template_rows": null,
            "right": null,
            "justify_content": null,
            "_view_module": "@jupyter-widgets/base",
            "overflow": null,
            "_model_module_version": "1.2.0",
            "_view_count": null,
            "flex_flow": null,
            "width": null,
            "min_width": null,
            "border": null,
            "align_items": null,
            "bottom": null,
            "_model_module": "@jupyter-widgets/base",
            "top": null,
            "grid_column": null,
            "overflow_y": null,
            "overflow_x": null,
            "grid_auto_flow": null,
            "grid_area": null,
            "grid_template_columns": null,
            "flex": null,
            "_model_name": "LayoutModel",
            "justify_items": null,
            "grid_row": null,
            "max_height": null,
            "align_content": null,
            "visibility": null,
            "align_self": null,
            "height": null,
            "min_height": null,
            "padding": null,
            "grid_auto_rows": null,
            "grid_gap": null,
            "max_width": null,
            "order": null,
            "_view_module_version": "1.2.0",
            "grid_template_areas": null,
            "object_position": null,
            "object_fit": null,
            "grid_auto_columns": null,
            "margin": null,
            "display": null,
            "left": null
          }
        },
        "f0ff0b0797d044feba118dfcf1757e35": {
          "model_module": "@jupyter-widgets/controls",
          "model_name": "DescriptionStyleModel",
          "state": {
            "_view_name": "StyleView",
            "_model_name": "DescriptionStyleModel",
            "description_width": "",
            "_view_module": "@jupyter-widgets/base",
            "_model_module_version": "1.5.0",
            "_view_count": null,
            "_view_module_version": "1.2.0",
            "_model_module": "@jupyter-widgets/controls"
          }
        },
        "31fc24fc13354f2b94b23cca5e42d10c": {
          "model_module": "@jupyter-widgets/base",
          "model_name": "LayoutModel",
          "state": {
            "_view_name": "LayoutView",
            "grid_template_rows": null,
            "right": null,
            "justify_content": null,
            "_view_module": "@jupyter-widgets/base",
            "overflow": null,
            "_model_module_version": "1.2.0",
            "_view_count": null,
            "flex_flow": null,
            "width": null,
            "min_width": null,
            "border": null,
            "align_items": null,
            "bottom": null,
            "_model_module": "@jupyter-widgets/base",
            "top": null,
            "grid_column": null,
            "overflow_y": null,
            "overflow_x": null,
            "grid_auto_flow": null,
            "grid_area": null,
            "grid_template_columns": null,
            "flex": null,
            "_model_name": "LayoutModel",
            "justify_items": null,
            "grid_row": null,
            "max_height": null,
            "align_content": null,
            "visibility": null,
            "align_self": null,
            "height": null,
            "min_height": null,
            "padding": null,
            "grid_auto_rows": null,
            "grid_gap": null,
            "max_width": null,
            "order": null,
            "_view_module_version": "1.2.0",
            "grid_template_areas": null,
            "object_position": null,
            "object_fit": null,
            "grid_auto_columns": null,
            "margin": null,
            "display": null,
            "left": null
          }
        }
      }
    }
  },
  "cells": [
    {
      "cell_type": "code",
      "metadata": {
        "id": "M8I4iTvE7-uZ"
      },
      "source": [
        "import torch\n",
        "import torch.nn as nn\n",
        "import torch.nn.functional as F"
      ],
      "execution_count": null,
      "outputs": []
    },
    {
      "cell_type": "code",
      "metadata": {
        "id": "08Bkn1gh8TvO"
      },
      "source": [
        "features = 16\n",
        "# define a simple linear VAE\n",
        "class LinearVAE(nn.Module):\n",
        "    def __init__(self):\n",
        "        super(LinearVAE, self).__init__()\n",
        " \n",
        "        # encoder\n",
        "        self.enc1 = nn.Linear(in_features=784, out_features=512)\n",
        "        self.enc2 = nn.Linear(in_features=512, out_features=features*2)\n",
        " \n",
        "        # decoder \n",
        "        self.dec1 = nn.Linear(in_features=features, out_features=512)\n",
        "        self.dec2 = nn.Linear(in_features=512, out_features=784)\n",
        "    def reparameterize(self, mu, log_var):\n",
        "        \"\"\"\n",
        "        :param mu: mean from the encoder's latent space\n",
        "        :param log_var: log variance from the encoder's latent space\n",
        "        \"\"\"\n",
        "        std = torch.exp(0.5*log_var) # standard deviation\n",
        "        eps = torch.randn_like(std) # `randn_like` as we need the same size\n",
        "        sample = mu + (eps * std) # sampling as if coming from the input space\n",
        "        return sample\n",
        " \n",
        "    def forward(self, x):\n",
        "        # encoding\n",
        "        x = F.relu(self.enc1(x))\n",
        "        x = self.enc2(x).view(-1, 2, features)\n",
        "        # get `mu` and `log_var`\n",
        "        mu = x[:, 0, :] # the first feature values as mean\n",
        "        log_var = x[:, 1, :] # the other feature values as variance\n",
        "        # get the latent vector through reparameterization\n",
        "        z = self.reparameterize(mu, log_var)\n",
        " \n",
        "        # decoding\n",
        "        x = F.relu(self.dec1(z))\n",
        "        reconstruction = torch.sigmoid(self.dec2(x))\n",
        "        return reconstruction, mu, log_var"
      ],
      "execution_count": null,
      "outputs": []
    },
    {
      "cell_type": "code",
      "metadata": {
        "id": "B1D6KeTN8YUT"
      },
      "source": [
        "import torch\n",
        "import torchvision\n",
        "import torch.optim as optim\n",
        "import argparse\n",
        "import matplotlib\n",
        "import torch.nn as nn\n",
        "import matplotlib.pyplot as plt\n",
        "import torchvision.transforms as transforms\n",
        "from tqdm import tqdm\n",
        "from torchvision import datasets\n",
        "from torch.utils.data import DataLoader\n",
        "from torchvision.utils import save_image\n",
        "matplotlib.style.use('ggplot')"
      ],
      "execution_count": null,
      "outputs": []
    },
    {
      "cell_type": "code",
      "metadata": {
        "id": "FB-G6JwK8HU0"
      },
      "source": [
        "# leanring parameters\n",
        "epochs = 1000\n",
        "batch_size = 64\n",
        "lr = 0.0001\n",
        "device = torch.device('cuda' if torch.cuda.is_available() else 'cpu')"
      ],
      "execution_count": null,
      "outputs": []
    },
    {
      "cell_type": "code",
      "metadata": {
        "id": "N505dkv7H0zn"
      },
      "source": [
        "# transforms\n",
        "transform = transforms.Compose([\n",
        "    transforms.ToTensor(),\n",
        "])"
      ],
      "execution_count": null,
      "outputs": []
    },
    {
      "cell_type": "code",
      "metadata": {
        "id": "NAO2-W9gH4UP",
        "colab": {
          "base_uri": "https://localhost:8080/",
          "height": 403,
          "referenced_widgets": [
            "c51219ae6dec4378a571250fe3767954",
            "3f565c06950c4f7fb0e433804acb4da7",
            "3d20fef98dfb4d47a4d34d63490c0cc3",
            "3b606fbee3fb4cfd8c5c95b02d2602b2",
            "51faff22633843cbbe822eb18e8e6c91",
            "09d0843088044006ae743ede1cddfa87",
            "7852d4ae61694347931d9310bed62001",
            "aa7a46d98bdc4c569e48131bbc7ffd1a",
            "31322e7e41e549f8899b7b88a7ac0904",
            "e06f60c3b83f4566a5dc93d8b3311baa",
            "94029d7f7b2f41a6abb1aa9274c99b18",
            "325a795d2bd24361bb5665958f7f309c",
            "d297fd9961b3496998bb6c8b014da7f2",
            "a8f61dc43dc1468cb2c5c9202aeda646",
            "02ff69d6ccea41da9c446be80af519de",
            "87044fc71d034090bb9f269232d22b08",
            "b36c4b0278f94c4082fb0bcf8e1b7fc2",
            "6813052e23974af7872c350346698531",
            "9bf29783edfc4311a0344a10e8d33a0e",
            "1cfc8fd63e8c4d8e81a0dbf61ec676cc",
            "8a3915abeef74267b4a1a0bcdbd0c032",
            "662f67ca5e884ae3aef319f3b908d14c",
            "2b7d90184e7d41e6aef68582c5c366ad",
            "a779f0dd4dba4372a514dfc857e86845",
            "580c78cdaa774c0fb6a18e8040b50ced",
            "33c4633f8b9d4864a56e4f41317384dc",
            "fb851c09dac842388d504e7982a9bf04",
            "08ae2ac0270c4c44bad9e070b10d7af0",
            "0d66bf8fd3574a9c87dae4e76cb4b841",
            "ac539671d22347d6b353aa900727642a",
            "f0ff0b0797d044feba118dfcf1757e35",
            "31fc24fc13354f2b94b23cca5e42d10c"
          ]
        },
        "outputId": "984b0ccc-6d72-4bbe-dced-5578df3e5e75"
      },
      "source": [
        "# train and validation data\n",
        "train_data = datasets.MNIST(\n",
        "    root='../input/data',\n",
        "    train=True,\n",
        "    download=True,\n",
        "    transform=transform\n",
        ")\n",
        "val_data = datasets.MNIST(\n",
        "    root='../input/data',\n",
        "    train=False,\n",
        "    download=True,\n",
        "    transform=transform\n",
        ")"
      ],
      "execution_count": null,
      "outputs": [
        {
          "output_type": "stream",
          "text": [
            "Downloading http://yann.lecun.com/exdb/mnist/train-images-idx3-ubyte.gz to ../input/data/MNIST/raw/train-images-idx3-ubyte.gz\n"
          ],
          "name": "stdout"
        },
        {
          "output_type": "display_data",
          "data": {
            "application/vnd.jupyter.widget-view+json": {
              "model_id": "c51219ae6dec4378a571250fe3767954",
              "version_minor": 0,
              "version_major": 2
            },
            "text/plain": [
              "HBox(children=(FloatProgress(value=1.0, bar_style='info', max=1.0), HTML(value='')))"
            ]
          },
          "metadata": {
            "tags": []
          }
        },
        {
          "output_type": "stream",
          "text": [
            "Extracting ../input/data/MNIST/raw/train-images-idx3-ubyte.gz to ../input/data/MNIST/raw\n",
            "Downloading http://yann.lecun.com/exdb/mnist/train-labels-idx1-ubyte.gz to ../input/data/MNIST/raw/train-labels-idx1-ubyte.gz\n"
          ],
          "name": "stdout"
        },
        {
          "output_type": "display_data",
          "data": {
            "application/vnd.jupyter.widget-view+json": {
              "model_id": "31322e7e41e549f8899b7b88a7ac0904",
              "version_minor": 0,
              "version_major": 2
            },
            "text/plain": [
              "HBox(children=(FloatProgress(value=1.0, bar_style='info', max=1.0), HTML(value='')))"
            ]
          },
          "metadata": {
            "tags": []
          }
        },
        {
          "output_type": "stream",
          "text": [
            "Extracting ../input/data/MNIST/raw/train-labels-idx1-ubyte.gz to ../input/data/MNIST/raw\n",
            "Downloading http://yann.lecun.com/exdb/mnist/t10k-images-idx3-ubyte.gz to ../input/data/MNIST/raw/t10k-images-idx3-ubyte.gz\n"
          ],
          "name": "stdout"
        },
        {
          "output_type": "display_data",
          "data": {
            "application/vnd.jupyter.widget-view+json": {
              "model_id": "b36c4b0278f94c4082fb0bcf8e1b7fc2",
              "version_minor": 0,
              "version_major": 2
            },
            "text/plain": [
              "HBox(children=(FloatProgress(value=1.0, bar_style='info', max=1.0), HTML(value='')))"
            ]
          },
          "metadata": {
            "tags": []
          }
        },
        {
          "output_type": "stream",
          "text": [
            "Extracting ../input/data/MNIST/raw/t10k-images-idx3-ubyte.gz to ../input/data/MNIST/raw\n",
            "Downloading http://yann.lecun.com/exdb/mnist/t10k-labels-idx1-ubyte.gz to ../input/data/MNIST/raw/t10k-labels-idx1-ubyte.gz\n",
            "\n",
            "\n"
          ],
          "name": "stdout"
        },
        {
          "output_type": "display_data",
          "data": {
            "application/vnd.jupyter.widget-view+json": {
              "model_id": "580c78cdaa774c0fb6a18e8040b50ced",
              "version_minor": 0,
              "version_major": 2
            },
            "text/plain": [
              "HBox(children=(FloatProgress(value=1.0, bar_style='info', max=1.0), HTML(value='')))"
            ]
          },
          "metadata": {
            "tags": []
          }
        },
        {
          "output_type": "stream",
          "text": [
            "Extracting ../input/data/MNIST/raw/t10k-labels-idx1-ubyte.gz to ../input/data/MNIST/raw\n",
            "Processing...\n",
            "Done!\n"
          ],
          "name": "stdout"
        },
        {
          "output_type": "stream",
          "text": [
            "/usr/local/lib/python3.6/dist-packages/torchvision/datasets/mnist.py:480: UserWarning: The given NumPy array is not writeable, and PyTorch does not support non-writeable tensors. This means you can write to the underlying (supposedly non-writeable) NumPy array using the tensor. You may want to copy the array to protect its data or make it writeable before converting it to a tensor. This type of warning will be suppressed for the rest of this program. (Triggered internally at  /pytorch/torch/csrc/utils/tensor_numpy.cpp:141.)\n",
            "  return torch.from_numpy(parsed.astype(m[2], copy=False)).view(*s)\n"
          ],
          "name": "stderr"
        }
      ]
    },
    {
      "cell_type": "code",
      "metadata": {
        "id": "E6kMpXXgH6_K"
      },
      "source": [
        "# training and validation data loaders\n",
        "train_loader = DataLoader(\n",
        "    train_data,\n",
        "    batch_size=batch_size,\n",
        "    shuffle=True\n",
        ")\n",
        "val_loader = DataLoader(\n",
        "    val_data,\n",
        "    batch_size=batch_size,\n",
        "    shuffle=False\n",
        ")"
      ],
      "execution_count": null,
      "outputs": []
    },
    {
      "cell_type": "code",
      "metadata": {
        "id": "W67J0nyJH9mT"
      },
      "source": [
        "model = LinearVAE().to(device)\n",
        "optimizer = optim.Adam(model.parameters(), lr=lr)\n",
        "criterion = nn.BCELoss(reduction='sum')"
      ],
      "execution_count": null,
      "outputs": []
    },
    {
      "cell_type": "code",
      "metadata": {
        "id": "GupKAThRIBdQ"
      },
      "source": [
        "def final_loss(bce_loss, mu, logvar):\n",
        "    \"\"\"\n",
        "    This function will add the reconstruction loss (BCELoss) and the \n",
        "    KL-Divergence.\n",
        "    KL-Divergence = 0.5 * sum(1 + log(sigma^2) - mu^2 - sigma^2)\n",
        "    :param bce_loss: recontruction loss\n",
        "    :param mu: the mean from the latent vector\n",
        "    :param logvar: log variance from the latent vector\n",
        "    \"\"\"\n",
        "    BCE = bce_loss \n",
        "    KLD = -0.5 * torch.sum(1 + logvar - mu.pow(2) - logvar.exp())\n",
        "    return BCE + KLD"
      ],
      "execution_count": null,
      "outputs": []
    },
    {
      "cell_type": "code",
      "metadata": {
        "id": "3s2DURM0IUZa"
      },
      "source": [
        "def fit(model, dataloader):\n",
        "    model.train()\n",
        "    running_loss = 0.0\n",
        "    for i, data in tqdm(enumerate(dataloader), total=int(len(train_data)/dataloader.batch_size)):\n",
        "        data, _ = data\n",
        "        data = data.to(device)\n",
        "        data = data.view(data.size(0), -1)\n",
        "        optimizer.zero_grad()\n",
        "        reconstruction, mu, logvar = model(data)\n",
        "        bce_loss = criterion(reconstruction, data)\n",
        "        loss = final_loss(bce_loss, mu, logvar)\n",
        "        running_loss += loss.item()\n",
        "        loss.backward()\n",
        "        optimizer.step()\n",
        "    train_loss = running_loss/len(dataloader.dataset)\n",
        "    return train_loss"
      ],
      "execution_count": null,
      "outputs": []
    },
    {
      "cell_type": "code",
      "metadata": {
        "id": "yyxHVCgKIg1K"
      },
      "source": [
        "def validate(model, dataloader):\n",
        "    model.eval()\n",
        "    running_loss = 0.0\n",
        "    with torch.no_grad():\n",
        "        for i, data in tqdm(enumerate(dataloader), total=int(len(val_data)/dataloader.batch_size)):\n",
        "            data, _ = data\n",
        "            data = data.to(device)\n",
        "            data = data.view(data.size(0), -1)\n",
        "            reconstruction, mu, logvar = model(data)\n",
        "            bce_loss = criterion(reconstruction, data)\n",
        "            loss = final_loss(bce_loss, mu, logvar)\n",
        "            running_loss += loss.item()\n",
        "        \n",
        "            # save the last batch input and output of every epoch\n",
        "            if i == int(len(val_data)/dataloader.batch_size) - 1:\n",
        "                num_rows = 8\n",
        "                both = torch.cat((data.view(batch_size, 1, 28, 28)[:8], \n",
        "                                  reconstruction.view(batch_size, 1, 28, 28)[:8]))\n",
        "                save_image(both.cpu(), f\"output{epoch}.png\", nrow=num_rows)\n",
        "    val_loss = running_loss/len(dataloader.dataset)\n",
        "    return val_loss"
      ],
      "execution_count": null,
      "outputs": []
    },
    {
      "cell_type": "code",
      "metadata": {
        "id": "05oPxyy_IkCK",
        "colab": {
          "base_uri": "https://localhost:8080/"
        },
        "outputId": "06946592-30cb-40b1-c76a-9610ed27e38b"
      },
      "source": [
        "train_loss = []\n",
        "val_loss = []\n",
        "for epoch in range(epochs):\n",
        "    print(f\"Epoch {epoch+1} of {epochs}\")\n",
        "    train_epoch_loss = fit(model, train_loader)\n",
        "    val_epoch_loss = validate(model, val_loader)\n",
        "    train_loss.append(train_epoch_loss)\n",
        "    val_loss.append(val_epoch_loss)\n",
        "    print(f\"Train Loss: {train_epoch_loss:.4f}\")\n",
        "    print(f\"Val Loss: {val_epoch_loss:.4f}\")"
      ],
      "execution_count": null,
      "outputs": [
        {
          "output_type": "stream",
          "text": [
            "\r  0%|          | 0/937 [00:00<?, ?it/s]"
          ],
          "name": "stderr"
        },
        {
          "output_type": "stream",
          "text": [
            "Epoch 1 of 1000\n"
          ],
          "name": "stdout"
        },
        {
          "output_type": "stream",
          "text": [
            "938it [00:07, 118.28it/s]                         \n",
            "157it [00:00, 172.56it/s]                         \n",
            "  1%|▏         | 12/937 [00:00<00:08, 112.95it/s]"
          ],
          "name": "stderr"
        },
        {
          "output_type": "stream",
          "text": [
            "Train Loss: 215.6978\n",
            "Val Loss: 163.0075\n",
            "Epoch 2 of 1000\n"
          ],
          "name": "stdout"
        },
        {
          "output_type": "stream",
          "text": [
            "938it [00:07, 120.31it/s]                         \n",
            "157it [00:00, 172.55it/s]                         \n",
            "  1%|          | 11/937 [00:00<00:08, 108.73it/s]"
          ],
          "name": "stderr"
        },
        {
          "output_type": "stream",
          "text": [
            "Train Loss: 151.0035\n",
            "Val Loss: 140.0490\n",
            "Epoch 3 of 1000\n"
          ],
          "name": "stdout"
        },
        {
          "output_type": "stream",
          "text": [
            "938it [00:07, 118.88it/s]                         \n",
            "157it [00:00, 169.46it/s]                         \n",
            "  1%|▏         | 12/937 [00:00<00:07, 117.81it/s]"
          ],
          "name": "stderr"
        },
        {
          "output_type": "stream",
          "text": [
            "Train Loss: 135.3409\n",
            "Val Loss: 129.6311\n",
            "Epoch 4 of 1000\n"
          ],
          "name": "stdout"
        },
        {
          "output_type": "stream",
          "text": [
            "938it [00:07, 119.07it/s]\n",
            "157it [00:00, 176.02it/s]                         \n",
            "  1%|▏         | 13/937 [00:00<00:07, 124.55it/s]"
          ],
          "name": "stderr"
        },
        {
          "output_type": "stream",
          "text": [
            "Train Loss: 127.4251\n",
            "Val Loss: 123.6276\n",
            "Epoch 5 of 1000\n"
          ],
          "name": "stdout"
        },
        {
          "output_type": "stream",
          "text": [
            "938it [00:07, 118.52it/s]                         \n",
            "157it [00:00, 172.88it/s]                         \n",
            "  1%|▏         | 13/937 [00:00<00:07, 124.47it/s]"
          ],
          "name": "stderr"
        },
        {
          "output_type": "stream",
          "text": [
            "Train Loss: 122.7460\n",
            "Val Loss: 119.9497\n",
            "Epoch 6 of 1000\n"
          ],
          "name": "stdout"
        },
        {
          "output_type": "stream",
          "text": [
            "938it [00:07, 119.37it/s]                         \n",
            "157it [00:00, 176.31it/s]                         \n",
            "  1%|▏         | 13/937 [00:00<00:07, 122.14it/s]"
          ],
          "name": "stderr"
        },
        {
          "output_type": "stream",
          "text": [
            "Train Loss: 119.8098\n",
            "Val Loss: 117.4609\n",
            "Epoch 7 of 1000\n"
          ],
          "name": "stdout"
        },
        {
          "output_type": "stream",
          "text": [
            "938it [00:07, 119.96it/s]                         \n",
            "157it [00:00, 176.35it/s]                         \n",
            "  1%|▏         | 12/937 [00:00<00:07, 118.36it/s]"
          ],
          "name": "stderr"
        },
        {
          "output_type": "stream",
          "text": [
            "Train Loss: 117.7469\n",
            "Val Loss: 115.7797\n",
            "Epoch 8 of 1000\n"
          ],
          "name": "stdout"
        },
        {
          "output_type": "stream",
          "text": [
            "938it [00:07, 120.34it/s]                         \n",
            "157it [00:00, 173.89it/s]                         \n",
            "  1%|          | 11/937 [00:00<00:08, 107.07it/s]"
          ],
          "name": "stderr"
        },
        {
          "output_type": "stream",
          "text": [
            "Train Loss: 116.1894\n",
            "Val Loss: 114.4880\n",
            "Epoch 9 of 1000\n"
          ],
          "name": "stdout"
        },
        {
          "output_type": "stream",
          "text": [
            "938it [00:07, 119.50it/s]                         \n",
            "157it [00:00, 175.11it/s]                         \n",
            "  1%|▏         | 13/937 [00:00<00:07, 118.07it/s]"
          ],
          "name": "stderr"
        },
        {
          "output_type": "stream",
          "text": [
            "Train Loss: 114.9213\n",
            "Val Loss: 113.3602\n",
            "Epoch 10 of 1000\n"
          ],
          "name": "stdout"
        },
        {
          "output_type": "stream",
          "text": [
            "938it [00:08, 114.78it/s]                         \n",
            "157it [00:00, 178.58it/s]                         \n",
            "  1%|▏         | 13/937 [00:00<00:07, 127.79it/s]"
          ],
          "name": "stderr"
        },
        {
          "output_type": "stream",
          "text": [
            "Train Loss: 113.9022\n",
            "Val Loss: 112.4444\n",
            "Epoch 11 of 1000\n"
          ],
          "name": "stdout"
        },
        {
          "output_type": "stream",
          "text": [
            "938it [00:07, 123.22it/s]                         \n",
            "157it [00:00, 175.99it/s]                         \n",
            "  1%|▏         | 12/937 [00:00<00:07, 117.95it/s]"
          ],
          "name": "stderr"
        },
        {
          "output_type": "stream",
          "text": [
            "Train Loss: 113.0239\n",
            "Val Loss: 111.6974\n",
            "Epoch 12 of 1000\n"
          ],
          "name": "stdout"
        },
        {
          "output_type": "stream",
          "text": [
            "938it [00:07, 119.82it/s]                         \n",
            "157it [00:00, 178.08it/s]                         \n",
            "  1%|▏         | 13/937 [00:00<00:07, 120.89it/s]"
          ],
          "name": "stderr"
        },
        {
          "output_type": "stream",
          "text": [
            "Train Loss: 112.2743\n",
            "Val Loss: 111.0562\n",
            "Epoch 13 of 1000\n"
          ],
          "name": "stdout"
        },
        {
          "output_type": "stream",
          "text": [
            "938it [00:07, 119.55it/s]                         \n",
            "157it [00:00, 175.32it/s]                         \n",
            "  1%|▏         | 12/937 [00:00<00:08, 115.19it/s]"
          ],
          "name": "stderr"
        },
        {
          "output_type": "stream",
          "text": [
            "Train Loss: 111.6385\n",
            "Val Loss: 110.5342\n",
            "Epoch 14 of 1000\n"
          ],
          "name": "stdout"
        },
        {
          "output_type": "stream",
          "text": [
            "938it [00:07, 120.34it/s]                         \n",
            "157it [00:00, 173.05it/s]                         \n",
            "  1%|▏         | 12/937 [00:00<00:08, 114.96it/s]"
          ],
          "name": "stderr"
        },
        {
          "output_type": "stream",
          "text": [
            "Train Loss: 111.0836\n",
            "Val Loss: 109.9528\n",
            "Epoch 15 of 1000\n"
          ],
          "name": "stdout"
        },
        {
          "output_type": "stream",
          "text": [
            "938it [00:07, 122.21it/s]                         \n",
            "157it [00:00, 172.48it/s]                         \n",
            "  1%|▏         | 12/937 [00:00<00:07, 119.73it/s]"
          ],
          "name": "stderr"
        },
        {
          "output_type": "stream",
          "text": [
            "Train Loss: 110.6097\n",
            "Val Loss: 109.4525\n",
            "Epoch 16 of 1000\n"
          ],
          "name": "stdout"
        },
        {
          "output_type": "stream",
          "text": [
            "938it [00:07, 121.24it/s]                         \n",
            "157it [00:00, 170.24it/s]                         \n",
            "  1%|▏         | 12/937 [00:00<00:07, 118.64it/s]"
          ],
          "name": "stderr"
        },
        {
          "output_type": "stream",
          "text": [
            "Train Loss: 110.0973\n",
            "Val Loss: 109.1520\n",
            "Epoch 17 of 1000\n"
          ],
          "name": "stdout"
        },
        {
          "output_type": "stream",
          "text": [
            "938it [00:08, 117.14it/s]                         \n",
            "157it [00:00, 181.56it/s]                         \n",
            "  1%|▏         | 13/937 [00:00<00:07, 121.53it/s]"
          ],
          "name": "stderr"
        },
        {
          "output_type": "stream",
          "text": [
            "Train Loss: 109.7190\n",
            "Val Loss: 108.9676\n",
            "Epoch 18 of 1000\n"
          ],
          "name": "stdout"
        },
        {
          "output_type": "stream",
          "text": [
            "938it [00:07, 121.18it/s]                         \n",
            "157it [00:00, 184.74it/s]                         \n",
            "  1%|▏         | 13/937 [00:00<00:07, 123.26it/s]"
          ],
          "name": "stderr"
        },
        {
          "output_type": "stream",
          "text": [
            "Train Loss: 109.3309\n",
            "Val Loss: 108.3855\n",
            "Epoch 19 of 1000\n"
          ],
          "name": "stdout"
        },
        {
          "output_type": "stream",
          "text": [
            "938it [00:07, 119.81it/s]                         \n",
            "157it [00:00, 174.88it/s]                         \n",
            "  1%|▏         | 13/937 [00:00<00:07, 124.44it/s]"
          ],
          "name": "stderr"
        },
        {
          "output_type": "stream",
          "text": [
            "Train Loss: 109.0115\n",
            "Val Loss: 108.1773\n",
            "Epoch 20 of 1000\n"
          ],
          "name": "stdout"
        },
        {
          "output_type": "stream",
          "text": [
            "938it [00:07, 117.97it/s]                         \n",
            "157it [00:00, 172.06it/s]                         \n",
            "  1%|▏         | 13/937 [00:00<00:07, 122.77it/s]"
          ],
          "name": "stderr"
        },
        {
          "output_type": "stream",
          "text": [
            "Train Loss: 108.7025\n",
            "Val Loss: 107.8902\n",
            "Epoch 21 of 1000\n"
          ],
          "name": "stdout"
        },
        {
          "output_type": "stream",
          "text": [
            "938it [00:07, 117.59it/s]                         \n",
            "157it [00:00, 175.35it/s]                         \n",
            "  1%|▏         | 12/937 [00:00<00:07, 117.43it/s]"
          ],
          "name": "stderr"
        },
        {
          "output_type": "stream",
          "text": [
            "Train Loss: 108.4352\n",
            "Val Loss: 107.6174\n",
            "Epoch 22 of 1000\n"
          ],
          "name": "stdout"
        },
        {
          "output_type": "stream",
          "text": [
            "938it [00:07, 117.44it/s]                         \n",
            "157it [00:00, 173.07it/s]                         \n",
            "  1%|▏         | 13/937 [00:00<00:07, 124.23it/s]"
          ],
          "name": "stderr"
        },
        {
          "output_type": "stream",
          "text": [
            "Train Loss: 108.1653\n",
            "Val Loss: 107.4700\n",
            "Epoch 23 of 1000\n"
          ],
          "name": "stdout"
        },
        {
          "output_type": "stream",
          "text": [
            "938it [00:07, 118.02it/s]                         \n",
            "157it [00:00, 176.80it/s]                         \n",
            "  1%|▏         | 12/937 [00:00<00:08, 113.58it/s]"
          ],
          "name": "stderr"
        },
        {
          "output_type": "stream",
          "text": [
            "Train Loss: 107.9282\n",
            "Val Loss: 107.2037\n",
            "Epoch 24 of 1000\n"
          ],
          "name": "stdout"
        },
        {
          "output_type": "stream",
          "text": [
            "938it [00:07, 118.69it/s]                         \n",
            "157it [00:00, 178.92it/s]                         \n",
            "  1%|▏         | 12/937 [00:00<00:07, 118.14it/s]"
          ],
          "name": "stderr"
        },
        {
          "output_type": "stream",
          "text": [
            "Train Loss: 107.7393\n",
            "Val Loss: 106.9879\n",
            "Epoch 25 of 1000\n"
          ],
          "name": "stdout"
        },
        {
          "output_type": "stream",
          "text": [
            "938it [00:07, 118.75it/s]                         \n",
            "157it [00:00, 175.82it/s]                         \n",
            "  1%|▏         | 12/937 [00:00<00:08, 109.97it/s]"
          ],
          "name": "stderr"
        },
        {
          "output_type": "stream",
          "text": [
            "Train Loss: 107.4911\n",
            "Val Loss: 106.8916\n",
            "Epoch 26 of 1000\n"
          ],
          "name": "stdout"
        },
        {
          "output_type": "stream",
          "text": [
            "938it [00:08, 117.17it/s]                         \n",
            "157it [00:00, 176.93it/s]                         \n",
            "  1%|▏         | 13/937 [00:00<00:07, 122.88it/s]"
          ],
          "name": "stderr"
        },
        {
          "output_type": "stream",
          "text": [
            "Train Loss: 107.3094\n",
            "Val Loss: 106.7461\n",
            "Epoch 27 of 1000\n"
          ],
          "name": "stdout"
        },
        {
          "output_type": "stream",
          "text": [
            "938it [00:07, 121.22it/s]                         \n",
            "157it [00:00, 176.10it/s]                         \n",
            "  1%|▏         | 13/937 [00:00<00:07, 123.28it/s]"
          ],
          "name": "stderr"
        },
        {
          "output_type": "stream",
          "text": [
            "Train Loss: 107.1191\n",
            "Val Loss: 106.5143\n",
            "Epoch 28 of 1000\n"
          ],
          "name": "stdout"
        },
        {
          "output_type": "stream",
          "text": [
            "938it [00:07, 120.05it/s]                         \n",
            "157it [00:00, 175.70it/s]                         \n",
            "  1%|▏         | 13/937 [00:00<00:07, 120.69it/s]"
          ],
          "name": "stderr"
        },
        {
          "output_type": "stream",
          "text": [
            "Train Loss: 106.9145\n",
            "Val Loss: 106.3008\n",
            "Epoch 29 of 1000\n"
          ],
          "name": "stdout"
        },
        {
          "output_type": "stream",
          "text": [
            "938it [00:08, 115.98it/s]                         \n",
            "157it [00:00, 171.66it/s]                         \n",
            "  1%|          | 10/937 [00:00<00:09, 96.94it/s]"
          ],
          "name": "stderr"
        },
        {
          "output_type": "stream",
          "text": [
            "Train Loss: 106.7594\n",
            "Val Loss: 106.2592\n",
            "Epoch 30 of 1000\n"
          ],
          "name": "stdout"
        },
        {
          "output_type": "stream",
          "text": [
            "938it [00:07, 118.31it/s]\n",
            "157it [00:00, 171.58it/s]                         \n",
            "  1%|▏         | 13/937 [00:00<00:07, 117.03it/s]"
          ],
          "name": "stderr"
        },
        {
          "output_type": "stream",
          "text": [
            "Train Loss: 106.6145\n",
            "Val Loss: 106.1785\n",
            "Epoch 31 of 1000\n"
          ],
          "name": "stdout"
        },
        {
          "output_type": "stream",
          "text": [
            "938it [00:08, 114.97it/s]                         \n",
            "157it [00:00, 171.52it/s]                         \n",
            "  1%|▏         | 12/937 [00:00<00:07, 119.85it/s]"
          ],
          "name": "stderr"
        },
        {
          "output_type": "stream",
          "text": [
            "Train Loss: 106.4476\n",
            "Val Loss: 106.0248\n",
            "Epoch 32 of 1000\n"
          ],
          "name": "stdout"
        },
        {
          "output_type": "stream",
          "text": [
            "938it [00:07, 118.05it/s]\n",
            "157it [00:00, 174.34it/s]                         \n",
            "  1%|▏         | 12/937 [00:00<00:08, 111.89it/s]"
          ],
          "name": "stderr"
        },
        {
          "output_type": "stream",
          "text": [
            "Train Loss: 106.3414\n",
            "Val Loss: 105.7770\n",
            "Epoch 33 of 1000\n"
          ],
          "name": "stdout"
        },
        {
          "output_type": "stream",
          "text": [
            "938it [00:08, 115.40it/s]                         \n",
            "157it [00:00, 178.91it/s]                         \n",
            "  1%|▏         | 12/937 [00:00<00:07, 116.79it/s]"
          ],
          "name": "stderr"
        },
        {
          "output_type": "stream",
          "text": [
            "Train Loss: 106.1840\n",
            "Val Loss: 105.6961\n",
            "Epoch 34 of 1000\n"
          ],
          "name": "stdout"
        },
        {
          "output_type": "stream",
          "text": [
            "938it [00:08, 114.40it/s]                         \n",
            "157it [00:00, 171.81it/s]                         \n",
            "  1%|          | 11/937 [00:00<00:08, 109.44it/s]"
          ],
          "name": "stderr"
        },
        {
          "output_type": "stream",
          "text": [
            "Train Loss: 106.0731\n",
            "Val Loss: 105.6098\n",
            "Epoch 35 of 1000\n"
          ],
          "name": "stdout"
        },
        {
          "output_type": "stream",
          "text": [
            "938it [00:08, 115.00it/s]                         \n",
            "157it [00:00, 169.77it/s]                         \n",
            "  1%|▏         | 12/937 [00:00<00:07, 117.50it/s]"
          ],
          "name": "stderr"
        },
        {
          "output_type": "stream",
          "text": [
            "Train Loss: 105.9398\n",
            "Val Loss: 105.6105\n",
            "Epoch 36 of 1000\n"
          ],
          "name": "stdout"
        },
        {
          "output_type": "stream",
          "text": [
            "938it [00:08, 112.26it/s]                         \n",
            "157it [00:00, 169.98it/s]                         \n",
            "  1%|▏         | 13/937 [00:00<00:07, 117.37it/s]"
          ],
          "name": "stderr"
        },
        {
          "output_type": "stream",
          "text": [
            "Train Loss: 105.8587\n",
            "Val Loss: 105.4709\n",
            "Epoch 37 of 1000\n"
          ],
          "name": "stdout"
        },
        {
          "output_type": "stream",
          "text": [
            "938it [00:07, 120.34it/s]\n",
            "157it [00:00, 175.75it/s]                         \n",
            "  1%|▏         | 13/937 [00:00<00:07, 124.19it/s]"
          ],
          "name": "stderr"
        },
        {
          "output_type": "stream",
          "text": [
            "Train Loss: 105.6940\n",
            "Val Loss: 105.4046\n",
            "Epoch 38 of 1000\n"
          ],
          "name": "stdout"
        },
        {
          "output_type": "stream",
          "text": [
            "938it [00:07, 119.36it/s]                         \n",
            "157it [00:00, 173.82it/s]                         \n",
            "  1%|▏         | 12/937 [00:00<00:07, 119.54it/s]"
          ],
          "name": "stderr"
        },
        {
          "output_type": "stream",
          "text": [
            "Train Loss: 105.6129\n",
            "Val Loss: 105.2848\n",
            "Epoch 39 of 1000\n"
          ],
          "name": "stdout"
        },
        {
          "output_type": "stream",
          "text": [
            "938it [00:07, 121.07it/s]                         \n",
            "157it [00:00, 167.34it/s]                         \n",
            "  1%|▏         | 13/937 [00:00<00:07, 122.46it/s]"
          ],
          "name": "stderr"
        },
        {
          "output_type": "stream",
          "text": [
            "Train Loss: 105.4981\n",
            "Val Loss: 105.2374\n",
            "Epoch 40 of 1000\n"
          ],
          "name": "stdout"
        },
        {
          "output_type": "stream",
          "text": [
            "938it [00:07, 119.88it/s]                         \n",
            "157it [00:00, 175.64it/s]                         \n",
            "  1%|▏         | 12/937 [00:00<00:07, 117.78it/s]"
          ],
          "name": "stderr"
        },
        {
          "output_type": "stream",
          "text": [
            "Train Loss: 105.3657\n",
            "Val Loss: 105.1305\n",
            "Epoch 41 of 1000\n"
          ],
          "name": "stdout"
        },
        {
          "output_type": "stream",
          "text": [
            "938it [00:07, 118.77it/s]                         \n",
            "157it [00:00, 174.68it/s]                         \n",
            "  1%|▏         | 13/937 [00:00<00:07, 121.27it/s]"
          ],
          "name": "stderr"
        },
        {
          "output_type": "stream",
          "text": [
            "Train Loss: 105.2981\n",
            "Val Loss: 104.9919\n",
            "Epoch 42 of 1000\n"
          ],
          "name": "stdout"
        },
        {
          "output_type": "stream",
          "text": [
            "938it [00:08, 117.19it/s]                         \n",
            "157it [00:01, 149.99it/s]                         \n",
            "  1%|▏         | 12/937 [00:00<00:07, 117.31it/s]"
          ],
          "name": "stderr"
        },
        {
          "output_type": "stream",
          "text": [
            "Train Loss: 105.2030\n",
            "Val Loss: 104.9403\n",
            "Epoch 43 of 1000\n"
          ],
          "name": "stdout"
        },
        {
          "output_type": "stream",
          "text": [
            "938it [00:08, 116.41it/s]                         \n",
            "157it [00:00, 171.31it/s]                         \n",
            "  1%|▏         | 12/937 [00:00<00:07, 115.66it/s]"
          ],
          "name": "stderr"
        },
        {
          "output_type": "stream",
          "text": [
            "Train Loss: 105.1216\n",
            "Val Loss: 104.9509\n",
            "Epoch 44 of 1000\n"
          ],
          "name": "stdout"
        },
        {
          "output_type": "stream",
          "text": [
            "938it [00:07, 118.36it/s]                         \n",
            "157it [00:00, 177.61it/s]                         \n",
            "  1%|▏         | 12/937 [00:00<00:07, 116.37it/s]"
          ],
          "name": "stderr"
        },
        {
          "output_type": "stream",
          "text": [
            "Train Loss: 105.0017\n",
            "Val Loss: 104.7359\n",
            "Epoch 45 of 1000\n"
          ],
          "name": "stdout"
        },
        {
          "output_type": "stream",
          "text": [
            "938it [00:07, 119.88it/s]                         \n",
            "157it [00:00, 171.61it/s]                         \n",
            "  1%|▏         | 12/937 [00:00<00:07, 118.44it/s]"
          ],
          "name": "stderr"
        },
        {
          "output_type": "stream",
          "text": [
            "Train Loss: 104.9537\n",
            "Val Loss: 104.7086\n",
            "Epoch 46 of 1000\n"
          ],
          "name": "stdout"
        },
        {
          "output_type": "stream",
          "text": [
            "938it [00:07, 118.65it/s]                         \n",
            "157it [00:00, 174.16it/s]                         \n",
            "  1%|▏         | 12/937 [00:00<00:08, 115.59it/s]"
          ],
          "name": "stderr"
        },
        {
          "output_type": "stream",
          "text": [
            "Train Loss: 104.8547\n",
            "Val Loss: 104.6230\n",
            "Epoch 47 of 1000\n"
          ],
          "name": "stdout"
        },
        {
          "output_type": "stream",
          "text": [
            "938it [00:08, 116.48it/s]                         \n",
            "157it [00:00, 171.48it/s]                         \n",
            "  1%|▏         | 13/937 [00:00<00:07, 124.04it/s]"
          ],
          "name": "stderr"
        },
        {
          "output_type": "stream",
          "text": [
            "Train Loss: 104.7950\n",
            "Val Loss: 104.5865\n",
            "Epoch 48 of 1000\n"
          ],
          "name": "stdout"
        },
        {
          "output_type": "stream",
          "text": [
            "938it [00:07, 118.83it/s]                         \n",
            "157it [00:00, 181.71it/s]                         \n",
            "  1%|▏         | 13/937 [00:00<00:07, 127.87it/s]"
          ],
          "name": "stderr"
        },
        {
          "output_type": "stream",
          "text": [
            "Train Loss: 104.6999\n",
            "Val Loss: 104.4961\n",
            "Epoch 49 of 1000\n"
          ],
          "name": "stdout"
        },
        {
          "output_type": "stream",
          "text": [
            "938it [00:08, 117.02it/s]\n",
            "157it [00:00, 160.35it/s]                         \n",
            "  1%|▏         | 13/937 [00:00<00:07, 124.59it/s]"
          ],
          "name": "stderr"
        },
        {
          "output_type": "stream",
          "text": [
            "Train Loss: 104.6429\n",
            "Val Loss: 104.4828\n",
            "Epoch 50 of 1000\n"
          ],
          "name": "stdout"
        },
        {
          "output_type": "stream",
          "text": [
            "938it [00:07, 118.78it/s]                         \n",
            "157it [00:00, 173.88it/s]                         \n",
            "  1%|▏         | 13/937 [00:00<00:07, 124.87it/s]"
          ],
          "name": "stderr"
        },
        {
          "output_type": "stream",
          "text": [
            "Train Loss: 104.5764\n",
            "Val Loss: 104.3874\n",
            "Epoch 51 of 1000\n"
          ],
          "name": "stdout"
        },
        {
          "output_type": "stream",
          "text": [
            "938it [00:08, 117.13it/s]                         \n",
            "157it [00:00, 173.06it/s]                         \n",
            "  1%|▏         | 12/937 [00:00<00:08, 114.78it/s]"
          ],
          "name": "stderr"
        },
        {
          "output_type": "stream",
          "text": [
            "Train Loss: 104.5208\n",
            "Val Loss: 104.3311\n",
            "Epoch 52 of 1000\n"
          ],
          "name": "stdout"
        },
        {
          "output_type": "stream",
          "text": [
            "938it [00:07, 117.52it/s]\n",
            "157it [00:00, 172.97it/s]                         \n",
            "  1%|          | 11/937 [00:00<00:08, 109.98it/s]"
          ],
          "name": "stderr"
        },
        {
          "output_type": "stream",
          "text": [
            "Train Loss: 104.4504\n",
            "Val Loss: 104.2447\n",
            "Epoch 53 of 1000\n"
          ],
          "name": "stdout"
        },
        {
          "output_type": "stream",
          "text": [
            "938it [00:07, 117.57it/s]\n",
            "157it [00:00, 171.79it/s]                         \n",
            "  1%|          | 11/937 [00:00<00:08, 106.37it/s]"
          ],
          "name": "stderr"
        },
        {
          "output_type": "stream",
          "text": [
            "Train Loss: 104.3536\n",
            "Val Loss: 104.2527\n",
            "Epoch 54 of 1000\n"
          ],
          "name": "stdout"
        },
        {
          "output_type": "stream",
          "text": [
            "938it [00:07, 120.14it/s]                         \n",
            "157it [00:00, 170.91it/s]                         \n",
            "  1%|          | 11/937 [00:00<00:08, 105.39it/s]"
          ],
          "name": "stderr"
        },
        {
          "output_type": "stream",
          "text": [
            "Train Loss: 104.2671\n",
            "Val Loss: 104.2568\n",
            "Epoch 55 of 1000\n"
          ],
          "name": "stdout"
        },
        {
          "output_type": "stream",
          "text": [
            "938it [00:07, 120.00it/s]                         \n",
            "157it [00:00, 184.99it/s]                         \n",
            "  1%|▏         | 12/937 [00:00<00:07, 116.69it/s]"
          ],
          "name": "stderr"
        },
        {
          "output_type": "stream",
          "text": [
            "Train Loss: 104.2122\n",
            "Val Loss: 104.0987\n",
            "Epoch 56 of 1000\n"
          ],
          "name": "stdout"
        },
        {
          "output_type": "stream",
          "text": [
            "938it [00:07, 119.69it/s]                         \n",
            "157it [00:00, 174.89it/s]                         \n",
            "  1%|▏         | 12/937 [00:00<00:07, 118.71it/s]"
          ],
          "name": "stderr"
        },
        {
          "output_type": "stream",
          "text": [
            "Train Loss: 104.1886\n",
            "Val Loss: 104.1072\n",
            "Epoch 57 of 1000\n"
          ],
          "name": "stdout"
        },
        {
          "output_type": "stream",
          "text": [
            "938it [00:07, 119.36it/s]                         \n",
            "157it [00:00, 176.15it/s]                         \n",
            "  1%|▏         | 13/937 [00:00<00:07, 121.59it/s]"
          ],
          "name": "stderr"
        },
        {
          "output_type": "stream",
          "text": [
            "Train Loss: 104.1184\n",
            "Val Loss: 103.9935\n",
            "Epoch 58 of 1000\n"
          ],
          "name": "stdout"
        },
        {
          "output_type": "stream",
          "text": [
            "938it [00:07, 119.06it/s]                         \n",
            "157it [00:00, 178.77it/s]                         \n",
            "  1%|▏         | 13/937 [00:00<00:07, 121.30it/s]"
          ],
          "name": "stderr"
        },
        {
          "output_type": "stream",
          "text": [
            "Train Loss: 104.0540\n",
            "Val Loss: 103.8950\n",
            "Epoch 59 of 1000\n"
          ],
          "name": "stdout"
        },
        {
          "output_type": "stream",
          "text": [
            "938it [00:07, 120.54it/s]                         \n",
            "157it [00:00, 175.43it/s]                         \n",
            "  1%|▏         | 12/937 [00:00<00:07, 118.91it/s]"
          ],
          "name": "stderr"
        },
        {
          "output_type": "stream",
          "text": [
            "Train Loss: 103.9953\n",
            "Val Loss: 103.8832\n",
            "Epoch 60 of 1000\n"
          ],
          "name": "stdout"
        },
        {
          "output_type": "stream",
          "text": [
            "938it [00:07, 118.90it/s]                         \n",
            "157it [00:00, 170.38it/s]                         \n",
            "  1%|▏         | 13/937 [00:00<00:07, 121.42it/s]"
          ],
          "name": "stderr"
        },
        {
          "output_type": "stream",
          "text": [
            "Train Loss: 103.9307\n",
            "Val Loss: 103.8759\n",
            "Epoch 61 of 1000\n"
          ],
          "name": "stdout"
        },
        {
          "output_type": "stream",
          "text": [
            "938it [00:07, 121.10it/s]                         \n",
            "157it [00:00, 175.03it/s]                         \n",
            "  1%|▏         | 12/937 [00:00<00:08, 114.58it/s]"
          ],
          "name": "stderr"
        },
        {
          "output_type": "stream",
          "text": [
            "Train Loss: 103.8562\n",
            "Val Loss: 103.8789\n",
            "Epoch 62 of 1000\n"
          ],
          "name": "stdout"
        },
        {
          "output_type": "stream",
          "text": [
            "938it [00:07, 119.78it/s]                         \n",
            "157it [00:00, 175.23it/s]                         \n",
            "  1%|▏         | 13/937 [00:00<00:07, 125.08it/s]"
          ],
          "name": "stderr"
        },
        {
          "output_type": "stream",
          "text": [
            "Train Loss: 103.8171\n",
            "Val Loss: 103.7262\n",
            "Epoch 63 of 1000\n"
          ],
          "name": "stdout"
        },
        {
          "output_type": "stream",
          "text": [
            "938it [00:07, 119.32it/s]                         \n",
            "157it [00:00, 181.16it/s]                         \n",
            "  1%|          | 10/937 [00:00<00:09, 97.66it/s]"
          ],
          "name": "stderr"
        },
        {
          "output_type": "stream",
          "text": [
            "Train Loss: 103.7974\n",
            "Val Loss: 103.6770\n",
            "Epoch 64 of 1000\n"
          ],
          "name": "stdout"
        },
        {
          "output_type": "stream",
          "text": [
            "938it [00:08, 114.54it/s]                         \n",
            "157it [00:00, 170.31it/s]                         \n",
            "  1%|          | 11/937 [00:00<00:08, 105.19it/s]"
          ],
          "name": "stderr"
        },
        {
          "output_type": "stream",
          "text": [
            "Train Loss: 103.6905\n",
            "Val Loss: 103.7117\n",
            "Epoch 65 of 1000\n"
          ],
          "name": "stdout"
        },
        {
          "output_type": "stream",
          "text": [
            "938it [00:07, 118.07it/s]                         \n",
            "157it [00:00, 182.73it/s]                         \n",
            "  1%|▏         | 13/937 [00:00<00:07, 120.19it/s]"
          ],
          "name": "stderr"
        },
        {
          "output_type": "stream",
          "text": [
            "Train Loss: 103.6681\n",
            "Val Loss: 103.6355\n",
            "Epoch 66 of 1000\n"
          ],
          "name": "stdout"
        },
        {
          "output_type": "stream",
          "text": [
            "938it [00:07, 117.98it/s]                         \n",
            "157it [00:00, 171.71it/s]                         \n",
            "  1%|▏         | 13/937 [00:00<00:07, 120.69it/s]"
          ],
          "name": "stderr"
        },
        {
          "output_type": "stream",
          "text": [
            "Train Loss: 103.5907\n",
            "Val Loss: 103.6194\n",
            "Epoch 67 of 1000\n"
          ],
          "name": "stdout"
        },
        {
          "output_type": "stream",
          "text": [
            "938it [00:07, 119.36it/s]                         \n",
            "157it [00:00, 176.10it/s]                         \n",
            "  1%|▏         | 12/937 [00:00<00:07, 117.29it/s]"
          ],
          "name": "stderr"
        },
        {
          "output_type": "stream",
          "text": [
            "Train Loss: 103.5664\n",
            "Val Loss: 103.5540\n",
            "Epoch 68 of 1000\n"
          ],
          "name": "stdout"
        },
        {
          "output_type": "stream",
          "text": [
            "938it [00:07, 118.72it/s]                         \n",
            "157it [00:00, 176.02it/s]                         \n",
            "  1%|▏         | 13/937 [00:00<00:07, 121.26it/s]"
          ],
          "name": "stderr"
        },
        {
          "output_type": "stream",
          "text": [
            "Train Loss: 103.5096\n",
            "Val Loss: 103.5652\n",
            "Epoch 69 of 1000\n"
          ],
          "name": "stdout"
        },
        {
          "output_type": "stream",
          "text": [
            "938it [00:07, 117.51it/s]                         \n",
            "157it [00:00, 176.85it/s]                         \n",
            "  1%|▏         | 13/937 [00:00<00:07, 127.62it/s]"
          ],
          "name": "stderr"
        },
        {
          "output_type": "stream",
          "text": [
            "Train Loss: 103.4535\n",
            "Val Loss: 103.4076\n",
            "Epoch 70 of 1000\n"
          ],
          "name": "stdout"
        },
        {
          "output_type": "stream",
          "text": [
            "938it [00:08, 116.50it/s]                         \n",
            "157it [00:00, 175.29it/s]                         \n",
            "  1%|▏         | 12/937 [00:00<00:07, 117.44it/s]"
          ],
          "name": "stderr"
        },
        {
          "output_type": "stream",
          "text": [
            "Train Loss: 103.4151\n",
            "Val Loss: 103.4787\n",
            "Epoch 71 of 1000\n"
          ],
          "name": "stdout"
        },
        {
          "output_type": "stream",
          "text": [
            "938it [00:08, 115.36it/s]                         \n",
            "157it [00:00, 168.88it/s]                         \n",
            "  1%|▏         | 12/937 [00:00<00:08, 114.35it/s]"
          ],
          "name": "stderr"
        },
        {
          "output_type": "stream",
          "text": [
            "Train Loss: 103.3610\n",
            "Val Loss: 103.5320\n",
            "Epoch 72 of 1000\n"
          ],
          "name": "stdout"
        },
        {
          "output_type": "stream",
          "text": [
            "938it [00:08, 115.81it/s]                         \n",
            "157it [00:00, 165.23it/s]                         \n",
            "  1%|▏         | 12/937 [00:00<00:07, 116.62it/s]"
          ],
          "name": "stderr"
        },
        {
          "output_type": "stream",
          "text": [
            "Train Loss: 103.3222\n",
            "Val Loss: 103.4587\n",
            "Epoch 73 of 1000\n"
          ],
          "name": "stdout"
        },
        {
          "output_type": "stream",
          "text": [
            "938it [00:08, 116.22it/s]                         \n",
            "157it [00:00, 174.18it/s]                         \n",
            "  1%|▏         | 13/937 [00:00<00:07, 120.74it/s]"
          ],
          "name": "stderr"
        },
        {
          "output_type": "stream",
          "text": [
            "Train Loss: 103.2950\n",
            "Val Loss: 103.3377\n",
            "Epoch 74 of 1000\n"
          ],
          "name": "stdout"
        },
        {
          "output_type": "stream",
          "text": [
            "938it [00:07, 119.80it/s]                         \n",
            "157it [00:00, 174.85it/s]                         \n",
            "  1%|▏         | 12/937 [00:00<00:08, 113.49it/s]"
          ],
          "name": "stderr"
        },
        {
          "output_type": "stream",
          "text": [
            "Train Loss: 103.2429\n",
            "Val Loss: 103.3337\n",
            "Epoch 75 of 1000\n"
          ],
          "name": "stdout"
        },
        {
          "output_type": "stream",
          "text": [
            "938it [00:07, 119.27it/s]                         \n",
            "157it [00:00, 176.26it/s]                         \n",
            "  1%|▏         | 13/937 [00:00<00:07, 123.35it/s]"
          ],
          "name": "stderr"
        },
        {
          "output_type": "stream",
          "text": [
            "Train Loss: 103.1883\n",
            "Val Loss: 103.3914\n",
            "Epoch 76 of 1000\n"
          ],
          "name": "stdout"
        },
        {
          "output_type": "stream",
          "text": [
            "938it [00:07, 120.03it/s]                         \n",
            "157it [00:00, 176.69it/s]                         \n",
            "  1%|▏         | 12/937 [00:00<00:07, 116.71it/s]"
          ],
          "name": "stderr"
        },
        {
          "output_type": "stream",
          "text": [
            "Train Loss: 103.1585\n",
            "Val Loss: 103.2409\n",
            "Epoch 77 of 1000\n"
          ],
          "name": "stdout"
        },
        {
          "output_type": "stream",
          "text": [
            "938it [00:07, 120.39it/s]                         \n",
            "157it [00:00, 174.90it/s]                         \n",
            "  1%|▏         | 13/937 [00:00<00:07, 125.49it/s]"
          ],
          "name": "stderr"
        },
        {
          "output_type": "stream",
          "text": [
            "Train Loss: 103.1346\n",
            "Val Loss: 103.2849\n",
            "Epoch 78 of 1000\n"
          ],
          "name": "stdout"
        },
        {
          "output_type": "stream",
          "text": [
            "938it [00:07, 119.43it/s]                         \n",
            "157it [00:00, 172.47it/s]                         \n",
            "  1%|▏         | 12/937 [00:00<00:07, 119.88it/s]"
          ],
          "name": "stderr"
        },
        {
          "output_type": "stream",
          "text": [
            "Train Loss: 103.0653\n",
            "Val Loss: 103.1823\n",
            "Epoch 79 of 1000\n"
          ],
          "name": "stdout"
        },
        {
          "output_type": "stream",
          "text": [
            "938it [00:07, 118.53it/s]                         \n",
            "157it [00:00, 168.07it/s]\n",
            "  1%|▏         | 13/937 [00:00<00:07, 121.61it/s]"
          ],
          "name": "stderr"
        },
        {
          "output_type": "stream",
          "text": [
            "Train Loss: 103.0380\n",
            "Val Loss: 103.1484\n",
            "Epoch 80 of 1000\n"
          ],
          "name": "stdout"
        },
        {
          "output_type": "stream",
          "text": [
            "938it [00:07, 118.62it/s]                         \n",
            "157it [00:00, 172.52it/s]                         \n",
            "  1%|▏         | 13/937 [00:00<00:07, 120.49it/s]"
          ],
          "name": "stderr"
        },
        {
          "output_type": "stream",
          "text": [
            "Train Loss: 103.0121\n",
            "Val Loss: 103.0601\n",
            "Epoch 81 of 1000\n"
          ],
          "name": "stdout"
        },
        {
          "output_type": "stream",
          "text": [
            "938it [00:07, 119.61it/s]                         \n",
            "157it [00:00, 180.30it/s]                         \n",
            "  1%|          | 11/937 [00:00<00:08, 108.65it/s]"
          ],
          "name": "stderr"
        },
        {
          "output_type": "stream",
          "text": [
            "Train Loss: 102.9461\n",
            "Val Loss: 103.0116\n",
            "Epoch 82 of 1000\n"
          ],
          "name": "stdout"
        },
        {
          "output_type": "stream",
          "text": [
            "938it [00:07, 119.68it/s]                         \n",
            "157it [00:00, 181.77it/s]                         \n",
            "  1%|          | 10/937 [00:00<00:09, 99.06it/s]"
          ],
          "name": "stderr"
        },
        {
          "output_type": "stream",
          "text": [
            "Train Loss: 102.9184\n",
            "Val Loss: 103.0496\n",
            "Epoch 83 of 1000\n"
          ],
          "name": "stdout"
        },
        {
          "output_type": "stream",
          "text": [
            "938it [00:07, 120.21it/s]                         \n",
            "157it [00:00, 178.71it/s]                         \n",
            "  1%|▏         | 13/937 [00:00<00:07, 125.31it/s]"
          ],
          "name": "stderr"
        },
        {
          "output_type": "stream",
          "text": [
            "Train Loss: 102.8631\n",
            "Val Loss: 102.9962\n",
            "Epoch 84 of 1000\n"
          ],
          "name": "stdout"
        },
        {
          "output_type": "stream",
          "text": [
            "938it [00:07, 120.59it/s]                         \n",
            "157it [00:00, 180.53it/s]                         \n",
            "  1%|▏         | 13/937 [00:00<00:07, 125.33it/s]"
          ],
          "name": "stderr"
        },
        {
          "output_type": "stream",
          "text": [
            "Train Loss: 102.8083\n",
            "Val Loss: 103.0215\n",
            "Epoch 85 of 1000\n"
          ],
          "name": "stdout"
        },
        {
          "output_type": "stream",
          "text": [
            "938it [00:07, 119.44it/s]                         \n",
            "157it [00:00, 176.61it/s]                         \n",
            "  1%|▏         | 13/937 [00:00<00:07, 127.00it/s]"
          ],
          "name": "stderr"
        },
        {
          "output_type": "stream",
          "text": [
            "Train Loss: 102.7799\n",
            "Val Loss: 103.0336\n",
            "Epoch 86 of 1000\n"
          ],
          "name": "stdout"
        },
        {
          "output_type": "stream",
          "text": [
            "938it [00:07, 117.43it/s]                         \n",
            "157it [00:00, 176.77it/s]                         \n",
            "  1%|▏         | 12/937 [00:00<00:07, 118.70it/s]"
          ],
          "name": "stderr"
        },
        {
          "output_type": "stream",
          "text": [
            "Train Loss: 102.7443\n",
            "Val Loss: 102.9776\n",
            "Epoch 87 of 1000\n"
          ],
          "name": "stdout"
        },
        {
          "output_type": "stream",
          "text": [
            "938it [00:07, 120.91it/s]                         \n",
            "157it [00:00, 175.75it/s]                         \n",
            "  1%|▏         | 13/937 [00:00<00:07, 122.73it/s]"
          ],
          "name": "stderr"
        },
        {
          "output_type": "stream",
          "text": [
            "Train Loss: 102.6835\n",
            "Val Loss: 102.8919\n",
            "Epoch 88 of 1000\n"
          ],
          "name": "stdout"
        },
        {
          "output_type": "stream",
          "text": [
            "938it [00:07, 120.17it/s]                         \n",
            "157it [00:00, 172.68it/s]                         \n",
            "  1%|▏         | 12/937 [00:00<00:07, 117.44it/s]"
          ],
          "name": "stderr"
        },
        {
          "output_type": "stream",
          "text": [
            "Train Loss: 102.7121\n",
            "Val Loss: 102.9291\n",
            "Epoch 89 of 1000\n"
          ],
          "name": "stdout"
        },
        {
          "output_type": "stream",
          "text": [
            "938it [00:07, 117.92it/s]                         \n",
            "157it [00:00, 174.22it/s]                         \n",
            "  1%|▏         | 13/937 [00:00<00:07, 121.84it/s]"
          ],
          "name": "stderr"
        },
        {
          "output_type": "stream",
          "text": [
            "Train Loss: 102.6788\n",
            "Val Loss: 102.8556\n",
            "Epoch 90 of 1000\n"
          ],
          "name": "stdout"
        },
        {
          "output_type": "stream",
          "text": [
            "938it [00:07, 119.38it/s]                         \n",
            "157it [00:00, 165.30it/s]                         \n",
            "  1%|▏         | 12/937 [00:00<00:07, 116.67it/s]"
          ],
          "name": "stderr"
        },
        {
          "output_type": "stream",
          "text": [
            "Train Loss: 102.5953\n",
            "Val Loss: 102.8524\n",
            "Epoch 91 of 1000\n"
          ],
          "name": "stdout"
        },
        {
          "output_type": "stream",
          "text": [
            "938it [00:07, 118.81it/s]                         \n",
            "157it [00:00, 177.46it/s]                         \n",
            "  1%|▏         | 12/937 [00:00<00:07, 117.21it/s]"
          ],
          "name": "stderr"
        },
        {
          "output_type": "stream",
          "text": [
            "Train Loss: 102.6038\n",
            "Val Loss: 102.8161\n",
            "Epoch 92 of 1000\n"
          ],
          "name": "stdout"
        },
        {
          "output_type": "stream",
          "text": [
            "938it [00:07, 119.63it/s]                         \n",
            "157it [00:00, 174.21it/s]                         \n",
            "  1%|▏         | 13/937 [00:00<00:07, 122.39it/s]"
          ],
          "name": "stderr"
        },
        {
          "output_type": "stream",
          "text": [
            "Train Loss: 102.5406\n",
            "Val Loss: 102.7989\n",
            "Epoch 93 of 1000\n"
          ],
          "name": "stdout"
        },
        {
          "output_type": "stream",
          "text": [
            "938it [00:07, 119.24it/s]                         \n",
            "157it [00:00, 175.45it/s]                         \n",
            "  1%|▏         | 12/937 [00:00<00:08, 111.98it/s]"
          ],
          "name": "stderr"
        },
        {
          "output_type": "stream",
          "text": [
            "Train Loss: 102.5340\n",
            "Val Loss: 102.7736\n",
            "Epoch 94 of 1000\n"
          ],
          "name": "stdout"
        },
        {
          "output_type": "stream",
          "text": [
            "938it [00:07, 120.06it/s]                         \n",
            "157it [00:00, 174.07it/s]                         \n",
            "  1%|▏         | 13/937 [00:00<00:07, 124.30it/s]"
          ],
          "name": "stderr"
        },
        {
          "output_type": "stream",
          "text": [
            "Train Loss: 102.4769\n",
            "Val Loss: 102.7682\n",
            "Epoch 95 of 1000\n"
          ],
          "name": "stdout"
        },
        {
          "output_type": "stream",
          "text": [
            "938it [00:07, 120.53it/s]                         \n",
            "157it [00:00, 175.32it/s]                         \n",
            "  1%|▏         | 12/937 [00:00<00:07, 115.93it/s]"
          ],
          "name": "stderr"
        },
        {
          "output_type": "stream",
          "text": [
            "Train Loss: 102.4620\n",
            "Val Loss: 102.7422\n",
            "Epoch 96 of 1000\n"
          ],
          "name": "stdout"
        },
        {
          "output_type": "stream",
          "text": [
            "938it [00:07, 118.05it/s]                         \n",
            "157it [00:00, 175.93it/s]                         \n",
            "  1%|          | 11/937 [00:00<00:08, 109.55it/s]"
          ],
          "name": "stderr"
        },
        {
          "output_type": "stream",
          "text": [
            "Train Loss: 102.4521\n",
            "Val Loss: 102.6501\n",
            "Epoch 97 of 1000\n"
          ],
          "name": "stdout"
        },
        {
          "output_type": "stream",
          "text": [
            "938it [00:07, 120.95it/s]                         \n",
            "157it [00:00, 181.75it/s]                         \n",
            "  1%|▏         | 13/937 [00:00<00:07, 124.86it/s]"
          ],
          "name": "stderr"
        },
        {
          "output_type": "stream",
          "text": [
            "Train Loss: 102.4068\n",
            "Val Loss: 102.7242\n",
            "Epoch 98 of 1000\n"
          ],
          "name": "stdout"
        },
        {
          "output_type": "stream",
          "text": [
            "938it [00:07, 123.18it/s]                         \n",
            "157it [00:00, 183.28it/s]                         \n",
            "  1%|▏         | 13/937 [00:00<00:07, 120.63it/s]"
          ],
          "name": "stderr"
        },
        {
          "output_type": "stream",
          "text": [
            "Train Loss: 102.3750\n",
            "Val Loss: 102.6252\n",
            "Epoch 99 of 1000\n"
          ],
          "name": "stdout"
        },
        {
          "output_type": "stream",
          "text": [
            "938it [00:07, 121.40it/s]                         \n",
            "157it [00:00, 171.66it/s]                         \n",
            "  1%|▏         | 12/937 [00:00<00:07, 119.44it/s]"
          ],
          "name": "stderr"
        },
        {
          "output_type": "stream",
          "text": [
            "Train Loss: 102.3359\n",
            "Val Loss: 102.5585\n",
            "Epoch 100 of 1000\n"
          ],
          "name": "stdout"
        },
        {
          "output_type": "stream",
          "text": [
            "938it [00:07, 117.95it/s]\n",
            "157it [00:00, 182.90it/s]                         \n",
            "  1%|▏         | 13/937 [00:00<00:07, 122.28it/s]"
          ],
          "name": "stderr"
        },
        {
          "output_type": "stream",
          "text": [
            "Train Loss: 102.3026\n",
            "Val Loss: 102.6239\n",
            "Epoch 101 of 1000\n"
          ],
          "name": "stdout"
        },
        {
          "output_type": "stream",
          "text": [
            "938it [00:07, 120.31it/s]                         \n",
            "157it [00:00, 180.08it/s]                         \n",
            "  1%|▏         | 13/937 [00:00<00:07, 125.69it/s]"
          ],
          "name": "stderr"
        },
        {
          "output_type": "stream",
          "text": [
            "Train Loss: 102.2825\n",
            "Val Loss: 102.5952\n",
            "Epoch 102 of 1000\n"
          ],
          "name": "stdout"
        },
        {
          "output_type": "stream",
          "text": [
            "938it [00:07, 120.20it/s]                         \n",
            "157it [00:00, 172.35it/s]                         \n",
            "  1%|▏         | 12/937 [00:00<00:07, 118.31it/s]"
          ],
          "name": "stderr"
        },
        {
          "output_type": "stream",
          "text": [
            "Train Loss: 102.2667\n",
            "Val Loss: 102.5050\n",
            "Epoch 103 of 1000\n"
          ],
          "name": "stdout"
        },
        {
          "output_type": "stream",
          "text": [
            "938it [00:07, 120.18it/s]                         \n",
            "157it [00:00, 171.82it/s]                         \n",
            "  1%|▏         | 12/937 [00:00<00:08, 112.66it/s]"
          ],
          "name": "stderr"
        },
        {
          "output_type": "stream",
          "text": [
            "Train Loss: 102.2458\n",
            "Val Loss: 102.4874\n",
            "Epoch 104 of 1000\n"
          ],
          "name": "stdout"
        },
        {
          "output_type": "stream",
          "text": [
            "938it [00:07, 119.34it/s]                         \n",
            "157it [00:00, 175.78it/s]                         \n",
            "  1%|▏         | 12/937 [00:00<00:07, 119.86it/s]"
          ],
          "name": "stderr"
        },
        {
          "output_type": "stream",
          "text": [
            "Train Loss: 102.1974\n",
            "Val Loss: 102.4741\n",
            "Epoch 105 of 1000\n"
          ],
          "name": "stdout"
        },
        {
          "output_type": "stream",
          "text": [
            "938it [00:08, 116.94it/s]                         \n",
            "157it [00:00, 171.92it/s]                         \n",
            "  1%|▏         | 12/937 [00:00<00:07, 117.73it/s]"
          ],
          "name": "stderr"
        },
        {
          "output_type": "stream",
          "text": [
            "Train Loss: 102.1690\n",
            "Val Loss: 102.4647\n",
            "Epoch 106 of 1000\n"
          ],
          "name": "stdout"
        },
        {
          "output_type": "stream",
          "text": [
            "938it [00:08, 116.97it/s]                         \n",
            "157it [00:00, 173.98it/s]                         \n",
            "  1%|▏         | 12/937 [00:00<00:07, 118.77it/s]"
          ],
          "name": "stderr"
        },
        {
          "output_type": "stream",
          "text": [
            "Train Loss: 102.1237\n",
            "Val Loss: 102.4608\n",
            "Epoch 107 of 1000\n"
          ],
          "name": "stdout"
        },
        {
          "output_type": "stream",
          "text": [
            "938it [00:08, 115.31it/s]                         \n",
            "157it [00:00, 173.80it/s]                         \n",
            "  1%|▏         | 12/937 [00:00<00:07, 117.23it/s]"
          ],
          "name": "stderr"
        },
        {
          "output_type": "stream",
          "text": [
            "Train Loss: 102.1022\n",
            "Val Loss: 102.4323\n",
            "Epoch 108 of 1000\n"
          ],
          "name": "stdout"
        },
        {
          "output_type": "stream",
          "text": [
            "938it [00:07, 119.63it/s]                         \n",
            "157it [00:00, 179.26it/s]                         \n",
            "  1%|▏         | 13/937 [00:00<00:07, 128.09it/s]"
          ],
          "name": "stderr"
        },
        {
          "output_type": "stream",
          "text": [
            "Train Loss: 102.0270\n",
            "Val Loss: 102.3419\n",
            "Epoch 109 of 1000\n"
          ],
          "name": "stdout"
        },
        {
          "output_type": "stream",
          "text": [
            "938it [00:07, 121.93it/s]                         \n",
            "157it [00:00, 177.27it/s]                         \n",
            "  1%|▏         | 12/937 [00:00<00:07, 118.56it/s]"
          ],
          "name": "stderr"
        },
        {
          "output_type": "stream",
          "text": [
            "Train Loss: 102.0242\n",
            "Val Loss: 102.3672\n",
            "Epoch 110 of 1000\n"
          ],
          "name": "stdout"
        },
        {
          "output_type": "stream",
          "text": [
            "938it [00:07, 121.01it/s]                         \n",
            "157it [00:00, 175.26it/s]                         \n",
            "  1%|▏         | 12/937 [00:00<00:08, 112.81it/s]"
          ],
          "name": "stderr"
        },
        {
          "output_type": "stream",
          "text": [
            "Train Loss: 102.0143\n",
            "Val Loss: 102.3190\n",
            "Epoch 111 of 1000\n"
          ],
          "name": "stdout"
        },
        {
          "output_type": "stream",
          "text": [
            "938it [00:07, 120.44it/s]                         \n",
            "157it [00:00, 176.77it/s]                         \n",
            "  1%|▏         | 12/937 [00:00<00:08, 115.50it/s]"
          ],
          "name": "stderr"
        },
        {
          "output_type": "stream",
          "text": [
            "Train Loss: 101.9843\n",
            "Val Loss: 102.2751\n",
            "Epoch 112 of 1000\n"
          ],
          "name": "stdout"
        },
        {
          "output_type": "stream",
          "text": [
            "938it [00:07, 121.54it/s]                         \n",
            "157it [00:00, 175.60it/s]                         \n",
            "  1%|▏         | 12/937 [00:00<00:07, 115.83it/s]"
          ],
          "name": "stderr"
        },
        {
          "output_type": "stream",
          "text": [
            "Train Loss: 101.9430\n",
            "Val Loss: 102.3740\n",
            "Epoch 113 of 1000\n"
          ],
          "name": "stdout"
        },
        {
          "output_type": "stream",
          "text": [
            "938it [00:07, 118.44it/s]                         \n",
            "157it [00:00, 163.48it/s]                         \n",
            "  1%|▏         | 12/937 [00:00<00:08, 113.66it/s]"
          ],
          "name": "stderr"
        },
        {
          "output_type": "stream",
          "text": [
            "Train Loss: 101.9085\n",
            "Val Loss: 102.3082\n",
            "Epoch 114 of 1000\n"
          ],
          "name": "stdout"
        },
        {
          "output_type": "stream",
          "text": [
            "938it [00:07, 118.42it/s]                         \n",
            "157it [00:00, 176.17it/s]                         \n",
            "  1%|          | 11/937 [00:00<00:08, 105.62it/s]"
          ],
          "name": "stderr"
        },
        {
          "output_type": "stream",
          "text": [
            "Train Loss: 101.9201\n",
            "Val Loss: 102.1897\n",
            "Epoch 115 of 1000\n"
          ],
          "name": "stdout"
        },
        {
          "output_type": "stream",
          "text": [
            "938it [00:07, 117.88it/s]                         \n",
            "157it [00:00, 175.79it/s]                         \n",
            "  1%|▏         | 12/937 [00:00<00:07, 119.40it/s]"
          ],
          "name": "stderr"
        },
        {
          "output_type": "stream",
          "text": [
            "Train Loss: 101.8801\n",
            "Val Loss: 102.3245\n",
            "Epoch 116 of 1000\n"
          ],
          "name": "stdout"
        },
        {
          "output_type": "stream",
          "text": [
            "938it [00:07, 120.27it/s]                         \n",
            "157it [00:00, 176.95it/s]                         \n",
            "  1%|▏         | 13/937 [00:00<00:07, 122.33it/s]"
          ],
          "name": "stderr"
        },
        {
          "output_type": "stream",
          "text": [
            "Train Loss: 101.8502\n",
            "Val Loss: 102.2806\n",
            "Epoch 117 of 1000\n"
          ],
          "name": "stdout"
        },
        {
          "output_type": "stream",
          "text": [
            "938it [00:07, 119.71it/s]                         \n",
            "157it [00:00, 181.87it/s]                         \n",
            "  1%|▏         | 13/937 [00:00<00:07, 124.09it/s]"
          ],
          "name": "stderr"
        },
        {
          "output_type": "stream",
          "text": [
            "Train Loss: 101.8034\n",
            "Val Loss: 102.1959\n",
            "Epoch 118 of 1000\n"
          ],
          "name": "stdout"
        },
        {
          "output_type": "stream",
          "text": [
            "938it [00:07, 121.35it/s]                         \n",
            "157it [00:00, 183.82it/s]                         \n",
            "  1%|▏         | 13/937 [00:00<00:07, 122.00it/s]"
          ],
          "name": "stderr"
        },
        {
          "output_type": "stream",
          "text": [
            "Train Loss: 101.7816\n",
            "Val Loss: 102.1236\n",
            "Epoch 119 of 1000\n"
          ],
          "name": "stdout"
        },
        {
          "output_type": "stream",
          "text": [
            "938it [00:07, 121.49it/s]                         \n",
            "157it [00:00, 175.53it/s]                         \n",
            "  1%|▏         | 13/937 [00:00<00:07, 121.28it/s]"
          ],
          "name": "stderr"
        },
        {
          "output_type": "stream",
          "text": [
            "Train Loss: 101.7758\n",
            "Val Loss: 102.1970\n",
            "Epoch 120 of 1000\n"
          ],
          "name": "stdout"
        },
        {
          "output_type": "stream",
          "text": [
            "938it [00:07, 121.58it/s]                         \n",
            "157it [00:00, 168.96it/s]                         \n",
            "  1%|▏         | 12/937 [00:00<00:07, 116.87it/s]"
          ],
          "name": "stderr"
        },
        {
          "output_type": "stream",
          "text": [
            "Train Loss: 101.7444\n",
            "Val Loss: 102.1261\n",
            "Epoch 121 of 1000\n"
          ],
          "name": "stdout"
        },
        {
          "output_type": "stream",
          "text": [
            "938it [00:07, 119.22it/s]                         \n",
            "157it [00:00, 176.18it/s]                         \n",
            "  1%|          | 11/937 [00:00<00:09, 101.44it/s]"
          ],
          "name": "stderr"
        },
        {
          "output_type": "stream",
          "text": [
            "Train Loss: 101.7182\n",
            "Val Loss: 102.0983\n",
            "Epoch 122 of 1000\n"
          ],
          "name": "stdout"
        },
        {
          "output_type": "stream",
          "text": [
            "938it [00:07, 125.54it/s]                         \n",
            "157it [00:00, 183.87it/s]                         \n",
            "  1%|▏         | 13/937 [00:00<00:07, 126.43it/s]"
          ],
          "name": "stderr"
        },
        {
          "output_type": "stream",
          "text": [
            "Train Loss: 101.7066\n",
            "Val Loss: 102.1298\n",
            "Epoch 123 of 1000\n"
          ],
          "name": "stdout"
        },
        {
          "output_type": "stream",
          "text": [
            "938it [00:07, 123.52it/s]                         \n",
            "157it [00:00, 181.83it/s]                         \n",
            "  1%|▏         | 13/937 [00:00<00:07, 124.66it/s]"
          ],
          "name": "stderr"
        },
        {
          "output_type": "stream",
          "text": [
            "Train Loss: 101.6813\n",
            "Val Loss: 102.1417\n",
            "Epoch 124 of 1000\n"
          ],
          "name": "stdout"
        },
        {
          "output_type": "stream",
          "text": [
            "938it [00:07, 122.04it/s]                         \n",
            "157it [00:00, 180.49it/s]                         \n",
            "  1%|▏         | 12/937 [00:00<00:08, 114.68it/s]"
          ],
          "name": "stderr"
        },
        {
          "output_type": "stream",
          "text": [
            "Train Loss: 101.6675\n",
            "Val Loss: 102.0230\n",
            "Epoch 125 of 1000\n"
          ],
          "name": "stdout"
        },
        {
          "output_type": "stream",
          "text": [
            "938it [00:07, 120.20it/s]                         \n",
            "157it [00:00, 179.06it/s]                         \n",
            "  1%|▏         | 13/937 [00:00<00:07, 124.44it/s]"
          ],
          "name": "stderr"
        },
        {
          "output_type": "stream",
          "text": [
            "Train Loss: 101.6276\n",
            "Val Loss: 102.0717\n",
            "Epoch 126 of 1000\n"
          ],
          "name": "stdout"
        },
        {
          "output_type": "stream",
          "text": [
            "938it [00:07, 120.85it/s]                         \n",
            "157it [00:00, 175.93it/s]                         \n",
            "  1%|▏         | 13/937 [00:00<00:07, 124.17it/s]"
          ],
          "name": "stderr"
        },
        {
          "output_type": "stream",
          "text": [
            "Train Loss: 101.5925\n",
            "Val Loss: 101.9025\n",
            "Epoch 127 of 1000\n"
          ],
          "name": "stdout"
        },
        {
          "output_type": "stream",
          "text": [
            "938it [00:07, 119.83it/s]                         \n",
            "157it [00:00, 175.83it/s]                         \n",
            "  1%|▏         | 12/937 [00:00<00:07, 118.22it/s]"
          ],
          "name": "stderr"
        },
        {
          "output_type": "stream",
          "text": [
            "Train Loss: 101.5982\n",
            "Val Loss: 102.1205\n",
            "Epoch 128 of 1000\n"
          ],
          "name": "stdout"
        },
        {
          "output_type": "stream",
          "text": [
            "938it [00:07, 118.82it/s]                         \n",
            "157it [00:00, 176.36it/s]                         \n",
            "  1%|▏         | 12/937 [00:00<00:08, 113.38it/s]"
          ],
          "name": "stderr"
        },
        {
          "output_type": "stream",
          "text": [
            "Train Loss: 101.5521\n",
            "Val Loss: 102.0460\n",
            "Epoch 129 of 1000\n"
          ],
          "name": "stdout"
        },
        {
          "output_type": "stream",
          "text": [
            "938it [00:07, 119.43it/s]                         \n",
            "157it [00:00, 176.71it/s]                         \n",
            "  1%|▏         | 12/937 [00:00<00:08, 112.16it/s]"
          ],
          "name": "stderr"
        },
        {
          "output_type": "stream",
          "text": [
            "Train Loss: 101.5501\n",
            "Val Loss: 101.9495\n",
            "Epoch 130 of 1000\n"
          ],
          "name": "stdout"
        },
        {
          "output_type": "stream",
          "text": [
            "938it [00:07, 121.96it/s]                         \n",
            "157it [00:00, 170.19it/s]                         \n",
            "  1%|▏         | 12/937 [00:00<00:07, 119.86it/s]"
          ],
          "name": "stderr"
        },
        {
          "output_type": "stream",
          "text": [
            "Train Loss: 101.5497\n",
            "Val Loss: 101.9741\n",
            "Epoch 131 of 1000\n"
          ],
          "name": "stdout"
        },
        {
          "output_type": "stream",
          "text": [
            "938it [00:07, 120.26it/s]                         \n",
            "157it [00:00, 177.67it/s]                         \n",
            "  1%|▏         | 13/937 [00:00<00:07, 122.84it/s]"
          ],
          "name": "stderr"
        },
        {
          "output_type": "stream",
          "text": [
            "Train Loss: 101.4894\n",
            "Val Loss: 101.9847\n",
            "Epoch 132 of 1000\n"
          ],
          "name": "stdout"
        },
        {
          "output_type": "stream",
          "text": [
            "938it [00:07, 120.60it/s]                         \n",
            "157it [00:00, 180.50it/s]                         \n",
            "  1%|▏         | 13/937 [00:00<00:07, 121.62it/s]"
          ],
          "name": "stderr"
        },
        {
          "output_type": "stream",
          "text": [
            "Train Loss: 101.4526\n",
            "Val Loss: 101.9282\n",
            "Epoch 133 of 1000\n"
          ],
          "name": "stdout"
        },
        {
          "output_type": "stream",
          "text": [
            "938it [00:07, 119.94it/s]                         \n",
            "157it [00:00, 175.37it/s]                         \n",
            "  1%|▏         | 13/937 [00:00<00:07, 121.96it/s]"
          ],
          "name": "stderr"
        },
        {
          "output_type": "stream",
          "text": [
            "Train Loss: 101.4590\n",
            "Val Loss: 101.9082\n",
            "Epoch 134 of 1000\n"
          ],
          "name": "stdout"
        },
        {
          "output_type": "stream",
          "text": [
            "938it [00:07, 119.72it/s]                         \n",
            "157it [00:00, 176.01it/s]                         \n",
            "  1%|▏         | 12/937 [00:00<00:07, 116.36it/s]"
          ],
          "name": "stderr"
        },
        {
          "output_type": "stream",
          "text": [
            "Train Loss: 101.4535\n",
            "Val Loss: 101.9692\n",
            "Epoch 135 of 1000\n"
          ],
          "name": "stdout"
        },
        {
          "output_type": "stream",
          "text": [
            "938it [00:08, 115.89it/s]                         \n",
            "157it [00:00, 171.43it/s]                         \n",
            "  1%|▏         | 12/937 [00:00<00:08, 111.71it/s]"
          ],
          "name": "stderr"
        },
        {
          "output_type": "stream",
          "text": [
            "Train Loss: 101.4158\n",
            "Val Loss: 101.8751\n",
            "Epoch 136 of 1000\n"
          ],
          "name": "stdout"
        },
        {
          "output_type": "stream",
          "text": [
            "938it [00:07, 118.31it/s]                         \n",
            "157it [00:00, 175.67it/s]                         \n",
            "  1%|▏         | 13/937 [00:00<00:07, 122.92it/s]"
          ],
          "name": "stderr"
        },
        {
          "output_type": "stream",
          "text": [
            "Train Loss: 101.3647\n",
            "Val Loss: 101.8216\n",
            "Epoch 137 of 1000\n"
          ],
          "name": "stdout"
        },
        {
          "output_type": "stream",
          "text": [
            "938it [00:07, 119.31it/s]                         \n",
            "157it [00:00, 174.41it/s]                         \n",
            "  1%|▏         | 12/937 [00:00<00:08, 114.12it/s]"
          ],
          "name": "stderr"
        },
        {
          "output_type": "stream",
          "text": [
            "Train Loss: 101.3782\n",
            "Val Loss: 101.9021\n",
            "Epoch 138 of 1000\n"
          ],
          "name": "stdout"
        },
        {
          "output_type": "stream",
          "text": [
            "938it [00:07, 120.46it/s]                         \n",
            "157it [00:00, 176.14it/s]                         \n",
            "  1%|▏         | 13/937 [00:00<00:07, 126.46it/s]"
          ],
          "name": "stderr"
        },
        {
          "output_type": "stream",
          "text": [
            "Train Loss: 101.3669\n",
            "Val Loss: 101.8243\n",
            "Epoch 139 of 1000\n"
          ],
          "name": "stdout"
        },
        {
          "output_type": "stream",
          "text": [
            "938it [00:07, 120.98it/s]                         \n",
            "157it [00:00, 183.42it/s]                         \n",
            "  1%|▏         | 13/937 [00:00<00:07, 125.70it/s]"
          ],
          "name": "stderr"
        },
        {
          "output_type": "stream",
          "text": [
            "Train Loss: 101.3310\n",
            "Val Loss: 101.8964\n",
            "Epoch 140 of 1000\n"
          ],
          "name": "stdout"
        },
        {
          "output_type": "stream",
          "text": [
            "938it [00:07, 120.08it/s]                         \n",
            "157it [00:00, 178.48it/s]                         \n",
            "  1%|▏         | 13/937 [00:00<00:07, 123.84it/s]"
          ],
          "name": "stderr"
        },
        {
          "output_type": "stream",
          "text": [
            "Train Loss: 101.2969\n",
            "Val Loss: 101.8287\n",
            "Epoch 141 of 1000\n"
          ],
          "name": "stdout"
        },
        {
          "output_type": "stream",
          "text": [
            "938it [00:07, 120.22it/s]                         \n",
            "157it [00:00, 175.69it/s]                         \n",
            "  1%|▏         | 12/937 [00:00<00:07, 119.40it/s]"
          ],
          "name": "stderr"
        },
        {
          "output_type": "stream",
          "text": [
            "Train Loss: 101.2699\n",
            "Val Loss: 101.7211\n",
            "Epoch 142 of 1000\n"
          ],
          "name": "stdout"
        },
        {
          "output_type": "stream",
          "text": [
            "938it [00:07, 121.50it/s]                         \n",
            "157it [00:00, 176.30it/s]                         \n",
            "  1%|▏         | 12/937 [00:00<00:07, 116.79it/s]"
          ],
          "name": "stderr"
        },
        {
          "output_type": "stream",
          "text": [
            "Train Loss: 101.2489\n",
            "Val Loss: 101.9675\n",
            "Epoch 143 of 1000\n"
          ],
          "name": "stdout"
        },
        {
          "output_type": "stream",
          "text": [
            "938it [00:07, 122.23it/s]                         \n",
            "157it [00:00, 184.33it/s]                         \n",
            "  1%|          | 11/937 [00:00<00:08, 106.89it/s]"
          ],
          "name": "stderr"
        },
        {
          "output_type": "stream",
          "text": [
            "Train Loss: 101.2593\n",
            "Val Loss: 101.7713\n",
            "Epoch 144 of 1000\n"
          ],
          "name": "stdout"
        },
        {
          "output_type": "stream",
          "text": [
            "938it [00:07, 119.06it/s]                         \n",
            "157it [00:00, 176.03it/s]                         \n",
            "  1%|▏         | 12/937 [00:00<00:07, 118.82it/s]"
          ],
          "name": "stderr"
        },
        {
          "output_type": "stream",
          "text": [
            "Train Loss: 101.2270\n",
            "Val Loss: 101.7468\n",
            "Epoch 145 of 1000\n"
          ],
          "name": "stdout"
        },
        {
          "output_type": "stream",
          "text": [
            "938it [00:07, 121.36it/s]\n",
            "157it [00:00, 166.16it/s]                         \n",
            "  1%|▏         | 13/937 [00:00<00:07, 121.42it/s]"
          ],
          "name": "stderr"
        },
        {
          "output_type": "stream",
          "text": [
            "Train Loss: 101.1846\n",
            "Val Loss: 101.7830\n",
            "Epoch 146 of 1000\n"
          ],
          "name": "stdout"
        },
        {
          "output_type": "stream",
          "text": [
            "938it [00:07, 120.81it/s]                         \n",
            "157it [00:00, 182.01it/s]                         \n",
            "  1%|▏         | 12/937 [00:00<00:08, 114.93it/s]"
          ],
          "name": "stderr"
        },
        {
          "output_type": "stream",
          "text": [
            "Train Loss: 101.1885\n",
            "Val Loss: 101.7345\n",
            "Epoch 147 of 1000\n"
          ],
          "name": "stdout"
        },
        {
          "output_type": "stream",
          "text": [
            "938it [00:07, 122.57it/s]                         \n",
            "157it [00:00, 181.43it/s]                         \n",
            "  1%|▏         | 12/937 [00:00<00:07, 117.76it/s]"
          ],
          "name": "stderr"
        },
        {
          "output_type": "stream",
          "text": [
            "Train Loss: 101.1748\n",
            "Val Loss: 101.7786\n",
            "Epoch 148 of 1000\n"
          ],
          "name": "stdout"
        },
        {
          "output_type": "stream",
          "text": [
            "938it [00:07, 121.98it/s]                         \n",
            "157it [00:00, 181.90it/s]                         \n",
            "  1%|▏         | 12/937 [00:00<00:07, 119.55it/s]"
          ],
          "name": "stderr"
        },
        {
          "output_type": "stream",
          "text": [
            "Train Loss: 101.1314\n",
            "Val Loss: 101.7034\n",
            "Epoch 149 of 1000\n"
          ],
          "name": "stdout"
        },
        {
          "output_type": "stream",
          "text": [
            "938it [00:07, 121.97it/s]                         \n",
            "157it [00:00, 181.22it/s]                         \n",
            "  1%|▏         | 13/937 [00:00<00:07, 127.61it/s]"
          ],
          "name": "stderr"
        },
        {
          "output_type": "stream",
          "text": [
            "Train Loss: 101.1201\n",
            "Val Loss: 101.6838\n",
            "Epoch 150 of 1000\n"
          ],
          "name": "stdout"
        },
        {
          "output_type": "stream",
          "text": [
            "938it [00:07, 120.12it/s]                         \n",
            "157it [00:00, 182.71it/s]                         \n",
            "  1%|▏         | 13/937 [00:00<00:07, 126.22it/s]"
          ],
          "name": "stderr"
        },
        {
          "output_type": "stream",
          "text": [
            "Train Loss: 101.1113\n",
            "Val Loss: 101.6316\n",
            "Epoch 151 of 1000\n"
          ],
          "name": "stdout"
        },
        {
          "output_type": "stream",
          "text": [
            "938it [00:07, 120.61it/s]                         \n",
            "157it [00:00, 176.70it/s]                         \n",
            "  1%|▏         | 13/937 [00:00<00:07, 124.22it/s]"
          ],
          "name": "stderr"
        },
        {
          "output_type": "stream",
          "text": [
            "Train Loss: 101.1031\n",
            "Val Loss: 101.7395\n",
            "Epoch 152 of 1000\n"
          ],
          "name": "stdout"
        },
        {
          "output_type": "stream",
          "text": [
            "938it [00:07, 118.98it/s]\n",
            "157it [00:00, 176.66it/s]                         \n",
            "  1%|          | 10/937 [00:00<00:09, 99.23it/s]"
          ],
          "name": "stderr"
        },
        {
          "output_type": "stream",
          "text": [
            "Train Loss: 101.0894\n",
            "Val Loss: 101.5958\n",
            "Epoch 153 of 1000\n"
          ],
          "name": "stdout"
        },
        {
          "output_type": "stream",
          "text": [
            "938it [00:07, 119.41it/s]                         \n",
            "157it [00:00, 165.05it/s]                         \n",
            "  1%|▏         | 13/937 [00:00<00:07, 121.34it/s]"
          ],
          "name": "stderr"
        },
        {
          "output_type": "stream",
          "text": [
            "Train Loss: 101.0400\n",
            "Val Loss: 101.6750\n",
            "Epoch 154 of 1000\n"
          ],
          "name": "stdout"
        },
        {
          "output_type": "stream",
          "text": [
            "938it [00:07, 118.39it/s]                         \n",
            "157it [00:00, 182.31it/s]                         \n",
            "  1%|▏         | 12/937 [00:00<00:07, 119.84it/s]"
          ],
          "name": "stderr"
        },
        {
          "output_type": "stream",
          "text": [
            "Train Loss: 101.0350\n",
            "Val Loss: 101.6428\n",
            "Epoch 155 of 1000\n"
          ],
          "name": "stdout"
        },
        {
          "output_type": "stream",
          "text": [
            "938it [00:07, 119.33it/s]                         \n",
            "157it [00:00, 179.00it/s]                         \n",
            "  1%|          | 11/937 [00:00<00:09, 102.33it/s]"
          ],
          "name": "stderr"
        },
        {
          "output_type": "stream",
          "text": [
            "Train Loss: 101.0026\n",
            "Val Loss: 101.5868\n",
            "Epoch 156 of 1000\n"
          ],
          "name": "stdout"
        },
        {
          "output_type": "stream",
          "text": [
            "938it [00:08, 116.98it/s]                         \n",
            "157it [00:00, 177.51it/s]                         \n",
            "  1%|▏         | 12/937 [00:00<00:08, 113.43it/s]"
          ],
          "name": "stderr"
        },
        {
          "output_type": "stream",
          "text": [
            "Train Loss: 100.9966\n",
            "Val Loss: 101.5838\n",
            "Epoch 157 of 1000\n"
          ],
          "name": "stdout"
        },
        {
          "output_type": "stream",
          "text": [
            "938it [00:07, 120.84it/s]                         \n",
            "157it [00:00, 176.71it/s]                         \n",
            "  1%|▏         | 13/937 [00:00<00:07, 122.00it/s]"
          ],
          "name": "stderr"
        },
        {
          "output_type": "stream",
          "text": [
            "Train Loss: 100.9615\n",
            "Val Loss: 101.6136\n",
            "Epoch 158 of 1000\n"
          ],
          "name": "stdout"
        },
        {
          "output_type": "stream",
          "text": [
            "938it [00:07, 120.57it/s]                         \n",
            "157it [00:00, 177.54it/s]                         \n",
            "  1%|▏         | 13/937 [00:00<00:07, 124.58it/s]"
          ],
          "name": "stderr"
        },
        {
          "output_type": "stream",
          "text": [
            "Train Loss: 100.9550\n",
            "Val Loss: 101.5139\n",
            "Epoch 159 of 1000\n"
          ],
          "name": "stdout"
        },
        {
          "output_type": "stream",
          "text": [
            "938it [00:07, 120.88it/s]                         \n",
            "157it [00:00, 178.93it/s]                         \n",
            "  1%|▏         | 13/937 [00:00<00:07, 122.76it/s]"
          ],
          "name": "stderr"
        },
        {
          "output_type": "stream",
          "text": [
            "Train Loss: 100.9499\n",
            "Val Loss: 101.5880\n",
            "Epoch 160 of 1000\n"
          ],
          "name": "stdout"
        },
        {
          "output_type": "stream",
          "text": [
            "938it [00:07, 121.42it/s]                         \n",
            "157it [00:00, 183.23it/s]                         \n",
            "  1%|▏         | 12/937 [00:00<00:08, 111.79it/s]"
          ],
          "name": "stderr"
        },
        {
          "output_type": "stream",
          "text": [
            "Train Loss: 100.9016\n",
            "Val Loss: 101.5067\n",
            "Epoch 161 of 1000\n"
          ],
          "name": "stdout"
        },
        {
          "output_type": "stream",
          "text": [
            "938it [00:07, 120.12it/s]                         \n",
            "157it [00:00, 177.87it/s]                         \n",
            "  1%|▏         | 12/937 [00:00<00:08, 112.21it/s]"
          ],
          "name": "stderr"
        },
        {
          "output_type": "stream",
          "text": [
            "Train Loss: 100.9212\n",
            "Val Loss: 101.5648\n",
            "Epoch 162 of 1000\n"
          ],
          "name": "stdout"
        },
        {
          "output_type": "stream",
          "text": [
            "938it [00:07, 120.92it/s]\n",
            "157it [00:00, 172.50it/s]                         \n",
            "  1%|▏         | 13/937 [00:00<00:07, 122.67it/s]"
          ],
          "name": "stderr"
        },
        {
          "output_type": "stream",
          "text": [
            "Train Loss: 100.9048\n",
            "Val Loss: 101.5201\n",
            "Epoch 163 of 1000\n"
          ],
          "name": "stdout"
        },
        {
          "output_type": "stream",
          "text": [
            "938it [00:07, 119.89it/s]                         \n",
            "157it [00:00, 178.81it/s]                         \n",
            "  1%|▏         | 13/937 [00:00<00:07, 124.22it/s]"
          ],
          "name": "stderr"
        },
        {
          "output_type": "stream",
          "text": [
            "Train Loss: 100.8880\n",
            "Val Loss: 101.4938\n",
            "Epoch 164 of 1000\n"
          ],
          "name": "stdout"
        },
        {
          "output_type": "stream",
          "text": [
            "938it [00:07, 120.66it/s]                         \n",
            "157it [00:00, 178.14it/s]                         \n",
            "  1%|▏         | 13/937 [00:00<00:07, 124.90it/s]"
          ],
          "name": "stderr"
        },
        {
          "output_type": "stream",
          "text": [
            "Train Loss: 100.8551\n",
            "Val Loss: 101.4605\n",
            "Epoch 165 of 1000\n"
          ],
          "name": "stdout"
        },
        {
          "output_type": "stream",
          "text": [
            "938it [00:07, 120.63it/s]                         \n",
            "157it [00:00, 181.55it/s]                         \n",
            "  1%|▏         | 13/937 [00:00<00:07, 125.98it/s]"
          ],
          "name": "stderr"
        },
        {
          "output_type": "stream",
          "text": [
            "Train Loss: 100.8437\n",
            "Val Loss: 101.4294\n",
            "Epoch 166 of 1000\n"
          ],
          "name": "stdout"
        },
        {
          "output_type": "stream",
          "text": [
            "938it [00:07, 121.87it/s]                         \n",
            "157it [00:00, 180.25it/s]                         \n",
            "  1%|▏         | 13/937 [00:00<00:07, 124.60it/s]"
          ],
          "name": "stderr"
        },
        {
          "output_type": "stream",
          "text": [
            "Train Loss: 100.7965\n",
            "Val Loss: 101.5204\n",
            "Epoch 167 of 1000\n"
          ],
          "name": "stdout"
        },
        {
          "output_type": "stream",
          "text": [
            "938it [00:07, 120.84it/s]                         \n",
            "157it [00:00, 179.04it/s]                         \n",
            "  1%|▏         | 13/937 [00:00<00:07, 124.92it/s]"
          ],
          "name": "stderr"
        },
        {
          "output_type": "stream",
          "text": [
            "Train Loss: 100.8340\n",
            "Val Loss: 101.5693\n",
            "Epoch 168 of 1000\n"
          ],
          "name": "stdout"
        },
        {
          "output_type": "stream",
          "text": [
            "938it [00:07, 120.06it/s]                         \n",
            "157it [00:00, 173.47it/s]                         \n",
            "  1%|▏         | 13/937 [00:00<00:07, 125.21it/s]"
          ],
          "name": "stderr"
        },
        {
          "output_type": "stream",
          "text": [
            "Train Loss: 100.7960\n",
            "Val Loss: 101.4393\n",
            "Epoch 169 of 1000\n"
          ],
          "name": "stdout"
        },
        {
          "output_type": "stream",
          "text": [
            "938it [00:07, 120.39it/s]                         \n",
            "157it [00:00, 178.64it/s]                         \n",
            "  1%|▏         | 12/937 [00:00<00:08, 111.93it/s]"
          ],
          "name": "stderr"
        },
        {
          "output_type": "stream",
          "text": [
            "Train Loss: 100.7508\n",
            "Val Loss: 101.3684\n",
            "Epoch 170 of 1000\n"
          ],
          "name": "stdout"
        },
        {
          "output_type": "stream",
          "text": [
            "938it [00:07, 120.13it/s]                         \n",
            "157it [00:00, 168.58it/s]                         \n",
            "  1%|          | 11/937 [00:00<00:08, 104.02it/s]"
          ],
          "name": "stderr"
        },
        {
          "output_type": "stream",
          "text": [
            "Train Loss: 100.7354\n",
            "Val Loss: 101.4805\n",
            "Epoch 171 of 1000\n"
          ],
          "name": "stdout"
        },
        {
          "output_type": "stream",
          "text": [
            "938it [00:08, 115.70it/s]                         \n",
            "157it [00:00, 167.91it/s]                         \n",
            "  1%|          | 11/937 [00:00<00:08, 107.46it/s]"
          ],
          "name": "stderr"
        },
        {
          "output_type": "stream",
          "text": [
            "Train Loss: 100.7309\n",
            "Val Loss: 101.3737\n",
            "Epoch 172 of 1000\n"
          ],
          "name": "stdout"
        },
        {
          "output_type": "stream",
          "text": [
            "938it [00:08, 117.15it/s]                         \n",
            "157it [00:00, 173.68it/s]                         \n",
            "  1%|▏         | 12/937 [00:00<00:07, 119.31it/s]"
          ],
          "name": "stderr"
        },
        {
          "output_type": "stream",
          "text": [
            "Train Loss: 100.7023\n",
            "Val Loss: 101.4270\n",
            "Epoch 173 of 1000\n"
          ],
          "name": "stdout"
        },
        {
          "output_type": "stream",
          "text": [
            "938it [00:07, 119.62it/s]                         \n",
            "157it [00:00, 162.16it/s]                         \n",
            "  1%|▏         | 13/937 [00:00<00:07, 121.13it/s]"
          ],
          "name": "stderr"
        },
        {
          "output_type": "stream",
          "text": [
            "Train Loss: 100.7219\n",
            "Val Loss: 101.3932\n",
            "Epoch 174 of 1000\n"
          ],
          "name": "stdout"
        },
        {
          "output_type": "stream",
          "text": [
            "938it [00:07, 119.89it/s]                         \n",
            "157it [00:00, 173.84it/s]                         \n",
            "  1%|▏         | 13/937 [00:00<00:07, 121.76it/s]"
          ],
          "name": "stderr"
        },
        {
          "output_type": "stream",
          "text": [
            "Train Loss: 100.7059\n",
            "Val Loss: 101.3709\n",
            "Epoch 175 of 1000\n"
          ],
          "name": "stdout"
        },
        {
          "output_type": "stream",
          "text": [
            "938it [00:07, 119.92it/s]                         \n",
            "157it [00:00, 174.70it/s]                         \n",
            "  1%|▏         | 13/937 [00:00<00:07, 121.03it/s]"
          ],
          "name": "stderr"
        },
        {
          "output_type": "stream",
          "text": [
            "Train Loss: 100.6741\n",
            "Val Loss: 101.3381\n",
            "Epoch 176 of 1000\n"
          ],
          "name": "stdout"
        },
        {
          "output_type": "stream",
          "text": [
            "938it [00:07, 121.47it/s]                         \n",
            "157it [00:00, 172.09it/s]                         \n",
            "  1%|▏         | 13/937 [00:00<00:07, 123.66it/s]"
          ],
          "name": "stderr"
        },
        {
          "output_type": "stream",
          "text": [
            "Train Loss: 100.6493\n",
            "Val Loss: 101.3970\n",
            "Epoch 177 of 1000\n"
          ],
          "name": "stdout"
        },
        {
          "output_type": "stream",
          "text": [
            "938it [00:07, 118.17it/s]                         \n",
            "157it [00:00, 165.20it/s]                         \n",
            "  1%|▏         | 13/937 [00:00<00:07, 124.73it/s]"
          ],
          "name": "stderr"
        },
        {
          "output_type": "stream",
          "text": [
            "Train Loss: 100.6558\n",
            "Val Loss: 101.3949\n",
            "Epoch 178 of 1000\n"
          ],
          "name": "stdout"
        },
        {
          "output_type": "stream",
          "text": [
            "938it [00:07, 121.26it/s]                         \n",
            "157it [00:00, 178.33it/s]                         \n",
            "  1%|          | 11/937 [00:00<00:08, 106.67it/s]"
          ],
          "name": "stderr"
        },
        {
          "output_type": "stream",
          "text": [
            "Train Loss: 100.6248\n",
            "Val Loss: 101.2725\n",
            "Epoch 179 of 1000\n"
          ],
          "name": "stdout"
        },
        {
          "output_type": "stream",
          "text": [
            "938it [00:07, 120.93it/s]                         \n",
            "157it [00:00, 179.30it/s]                         \n",
            "  1%|▏         | 12/937 [00:00<00:07, 119.03it/s]"
          ],
          "name": "stderr"
        },
        {
          "output_type": "stream",
          "text": [
            "Train Loss: 100.6216\n",
            "Val Loss: 101.2878\n",
            "Epoch 180 of 1000\n"
          ],
          "name": "stdout"
        },
        {
          "output_type": "stream",
          "text": [
            "938it [00:07, 121.75it/s]                         \n",
            "157it [00:00, 176.40it/s]                         \n",
            "  1%|▏         | 12/937 [00:00<00:07, 119.85it/s]"
          ],
          "name": "stderr"
        },
        {
          "output_type": "stream",
          "text": [
            "Train Loss: 100.6126\n",
            "Val Loss: 101.2377\n",
            "Epoch 181 of 1000\n"
          ],
          "name": "stdout"
        },
        {
          "output_type": "stream",
          "text": [
            "938it [00:07, 120.60it/s]                         \n",
            "157it [00:00, 174.72it/s]                         \n",
            "  1%|▏         | 12/937 [00:00<00:07, 118.74it/s]"
          ],
          "name": "stderr"
        },
        {
          "output_type": "stream",
          "text": [
            "Train Loss: 100.6073\n",
            "Val Loss: 101.2742\n",
            "Epoch 182 of 1000\n"
          ],
          "name": "stdout"
        },
        {
          "output_type": "stream",
          "text": [
            "938it [00:07, 119.69it/s]                         \n",
            "157it [00:00, 174.48it/s]                         \n",
            "  1%|▏         | 13/937 [00:00<00:07, 125.66it/s]"
          ],
          "name": "stderr"
        },
        {
          "output_type": "stream",
          "text": [
            "Train Loss: 100.5646\n",
            "Val Loss: 101.2270\n",
            "Epoch 183 of 1000\n"
          ],
          "name": "stdout"
        },
        {
          "output_type": "stream",
          "text": [
            "938it [00:07, 121.18it/s]                         \n",
            "157it [00:00, 170.20it/s]                         \n",
            "  1%|          | 11/937 [00:00<00:08, 108.31it/s]"
          ],
          "name": "stderr"
        },
        {
          "output_type": "stream",
          "text": [
            "Train Loss: 100.5531\n",
            "Val Loss: 101.2992\n",
            "Epoch 184 of 1000\n"
          ],
          "name": "stdout"
        },
        {
          "output_type": "stream",
          "text": [
            "938it [00:07, 119.44it/s]                         \n",
            "157it [00:00, 172.32it/s]                         \n",
            "  1%|▏         | 12/937 [00:00<00:08, 114.46it/s]"
          ],
          "name": "stderr"
        },
        {
          "output_type": "stream",
          "text": [
            "Train Loss: 100.5209\n",
            "Val Loss: 101.2681\n",
            "Epoch 185 of 1000\n"
          ],
          "name": "stdout"
        },
        {
          "output_type": "stream",
          "text": [
            "938it [00:07, 118.25it/s]                         \n",
            "157it [00:00, 176.11it/s]                         \n",
            "  1%|▏         | 13/937 [00:00<00:07, 121.88it/s]"
          ],
          "name": "stderr"
        },
        {
          "output_type": "stream",
          "text": [
            "Train Loss: 100.5203\n",
            "Val Loss: 101.2683\n",
            "Epoch 186 of 1000\n"
          ],
          "name": "stdout"
        },
        {
          "output_type": "stream",
          "text": [
            "938it [00:08, 117.23it/s]                         \n",
            "157it [00:00, 172.85it/s]                         \n",
            "  1%|▏         | 12/937 [00:00<00:08, 111.00it/s]"
          ],
          "name": "stderr"
        },
        {
          "output_type": "stream",
          "text": [
            "Train Loss: 100.4825\n",
            "Val Loss: 101.2276\n",
            "Epoch 187 of 1000\n"
          ],
          "name": "stdout"
        },
        {
          "output_type": "stream",
          "text": [
            "938it [00:07, 118.56it/s]                         \n",
            "157it [00:00, 178.53it/s]                         \n",
            "  1%|▏         | 12/937 [00:00<00:07, 119.49it/s]"
          ],
          "name": "stderr"
        },
        {
          "output_type": "stream",
          "text": [
            "Train Loss: 100.4964\n",
            "Val Loss: 101.3221\n",
            "Epoch 188 of 1000\n"
          ],
          "name": "stdout"
        },
        {
          "output_type": "stream",
          "text": [
            "938it [00:07, 118.96it/s]                         \n",
            "157it [00:00, 174.52it/s]                         \n",
            "  1%|▏         | 12/937 [00:00<00:07, 119.07it/s]"
          ],
          "name": "stderr"
        },
        {
          "output_type": "stream",
          "text": [
            "Train Loss: 100.4648\n",
            "Val Loss: 101.2122\n",
            "Epoch 189 of 1000\n"
          ],
          "name": "stdout"
        },
        {
          "output_type": "stream",
          "text": [
            "938it [00:08, 115.61it/s]                         \n",
            "157it [00:00, 174.95it/s]                         \n",
            "  1%|▏         | 13/937 [00:00<00:07, 120.27it/s]"
          ],
          "name": "stderr"
        },
        {
          "output_type": "stream",
          "text": [
            "Train Loss: 100.4648\n",
            "Val Loss: 101.2459\n",
            "Epoch 190 of 1000\n"
          ],
          "name": "stdout"
        },
        {
          "output_type": "stream",
          "text": [
            "938it [00:08, 115.49it/s]\n",
            "157it [00:00, 171.29it/s]                         \n",
            "  1%|▏         | 12/937 [00:00<00:08, 111.39it/s]"
          ],
          "name": "stderr"
        },
        {
          "output_type": "stream",
          "text": [
            "Train Loss: 100.4498\n",
            "Val Loss: 101.2024\n",
            "Epoch 191 of 1000\n"
          ],
          "name": "stdout"
        },
        {
          "output_type": "stream",
          "text": [
            "938it [00:08, 115.91it/s]                         \n",
            "157it [00:00, 173.84it/s]                         \n",
            "  1%|▏         | 13/937 [00:00<00:07, 120.66it/s]"
          ],
          "name": "stderr"
        },
        {
          "output_type": "stream",
          "text": [
            "Train Loss: 100.4254\n",
            "Val Loss: 101.2459\n",
            "Epoch 192 of 1000\n"
          ],
          "name": "stdout"
        },
        {
          "output_type": "stream",
          "text": [
            "938it [00:07, 118.33it/s]                         \n",
            "157it [00:00, 176.44it/s]                         \n",
            "  1%|▏         | 13/937 [00:00<00:07, 123.94it/s]"
          ],
          "name": "stderr"
        },
        {
          "output_type": "stream",
          "text": [
            "Train Loss: 100.4327\n",
            "Val Loss: 101.1000\n",
            "Epoch 193 of 1000\n"
          ],
          "name": "stdout"
        },
        {
          "output_type": "stream",
          "text": [
            "938it [00:07, 119.64it/s]                         \n",
            "157it [00:00, 174.34it/s]                         \n",
            "  1%|          | 11/937 [00:00<00:08, 109.57it/s]"
          ],
          "name": "stderr"
        },
        {
          "output_type": "stream",
          "text": [
            "Train Loss: 100.4342\n",
            "Val Loss: 101.2537\n",
            "Epoch 194 of 1000\n"
          ],
          "name": "stdout"
        },
        {
          "output_type": "stream",
          "text": [
            "938it [00:07, 117.89it/s]                         \n",
            "157it [00:00, 171.74it/s]                         \n",
            "  1%|▏         | 12/937 [00:00<00:07, 119.92it/s]"
          ],
          "name": "stderr"
        },
        {
          "output_type": "stream",
          "text": [
            "Train Loss: 100.4042\n",
            "Val Loss: 101.1842\n",
            "Epoch 195 of 1000\n"
          ],
          "name": "stdout"
        },
        {
          "output_type": "stream",
          "text": [
            "938it [00:07, 118.76it/s]                         \n",
            "157it [00:00, 175.53it/s]                         \n",
            "  1%|          | 10/937 [00:00<00:09, 99.63it/s]"
          ],
          "name": "stderr"
        },
        {
          "output_type": "stream",
          "text": [
            "Train Loss: 100.3740\n",
            "Val Loss: 101.1340\n",
            "Epoch 196 of 1000\n"
          ],
          "name": "stdout"
        },
        {
          "output_type": "stream",
          "text": [
            "938it [00:07, 117.60it/s]                         \n",
            "157it [00:00, 171.83it/s]                         \n",
            "  1%|▏         | 13/937 [00:00<00:07, 124.62it/s]"
          ],
          "name": "stderr"
        },
        {
          "output_type": "stream",
          "text": [
            "Train Loss: 100.3988\n",
            "Val Loss: 101.2079\n",
            "Epoch 197 of 1000\n"
          ],
          "name": "stdout"
        },
        {
          "output_type": "stream",
          "text": [
            "938it [00:07, 119.00it/s]                         \n",
            "157it [00:00, 175.40it/s]                         \n",
            "  1%|▏         | 12/937 [00:00<00:07, 117.91it/s]"
          ],
          "name": "stderr"
        },
        {
          "output_type": "stream",
          "text": [
            "Train Loss: 100.3823\n",
            "Val Loss: 101.1316\n",
            "Epoch 198 of 1000\n"
          ],
          "name": "stdout"
        },
        {
          "output_type": "stream",
          "text": [
            "938it [00:07, 120.54it/s]                         \n",
            "157it [00:00, 177.33it/s]                         \n",
            "  1%|▏         | 12/937 [00:00<00:07, 118.15it/s]"
          ],
          "name": "stderr"
        },
        {
          "output_type": "stream",
          "text": [
            "Train Loss: 100.3548\n",
            "Val Loss: 101.1566\n",
            "Epoch 199 of 1000\n"
          ],
          "name": "stdout"
        },
        {
          "output_type": "stream",
          "text": [
            "938it [00:07, 119.50it/s]                         \n",
            "157it [00:00, 160.20it/s]                         \n",
            "  1%|▏         | 13/937 [00:00<00:07, 123.04it/s]"
          ],
          "name": "stderr"
        },
        {
          "output_type": "stream",
          "text": [
            "Train Loss: 100.3396\n",
            "Val Loss: 101.1224\n",
            "Epoch 200 of 1000\n"
          ],
          "name": "stdout"
        },
        {
          "output_type": "stream",
          "text": [
            "938it [00:07, 119.47it/s]                         \n",
            "157it [00:00, 178.14it/s]                         \n",
            "  1%|▏         | 13/937 [00:00<00:07, 120.45it/s]"
          ],
          "name": "stderr"
        },
        {
          "output_type": "stream",
          "text": [
            "Train Loss: 100.3328\n",
            "Val Loss: 101.2011\n",
            "Epoch 201 of 1000\n"
          ],
          "name": "stdout"
        },
        {
          "output_type": "stream",
          "text": [
            "938it [00:07, 119.00it/s]                         \n",
            "157it [00:00, 179.03it/s]                         \n",
            "  1%|▏         | 12/937 [00:00<00:07, 119.39it/s]"
          ],
          "name": "stderr"
        },
        {
          "output_type": "stream",
          "text": [
            "Train Loss: 100.3197\n",
            "Val Loss: 101.1405\n",
            "Epoch 202 of 1000\n"
          ],
          "name": "stdout"
        },
        {
          "output_type": "stream",
          "text": [
            "938it [00:07, 120.64it/s]                         \n",
            "157it [00:00, 175.83it/s]                         \n",
            "  1%|▏         | 13/937 [00:00<00:07, 124.20it/s]"
          ],
          "name": "stderr"
        },
        {
          "output_type": "stream",
          "text": [
            "Train Loss: 100.3060\n",
            "Val Loss: 101.1767\n",
            "Epoch 203 of 1000\n"
          ],
          "name": "stdout"
        },
        {
          "output_type": "stream",
          "text": [
            "938it [00:07, 118.28it/s]                         \n",
            "157it [00:00, 175.32it/s]                         \n",
            "  1%|▏         | 12/937 [00:00<00:07, 117.85it/s]"
          ],
          "name": "stderr"
        },
        {
          "output_type": "stream",
          "text": [
            "Train Loss: 100.2811\n",
            "Val Loss: 101.1257\n",
            "Epoch 204 of 1000\n"
          ],
          "name": "stdout"
        },
        {
          "output_type": "stream",
          "text": [
            "938it [00:07, 119.38it/s]                         \n",
            "157it [00:00, 175.63it/s]                         \n",
            "  1%|          | 11/937 [00:00<00:08, 109.97it/s]"
          ],
          "name": "stderr"
        },
        {
          "output_type": "stream",
          "text": [
            "Train Loss: 100.2733\n",
            "Val Loss: 101.0881\n",
            "Epoch 205 of 1000\n"
          ],
          "name": "stdout"
        },
        {
          "output_type": "stream",
          "text": [
            "938it [00:07, 119.93it/s]                         \n",
            "157it [00:00, 180.35it/s]                         \n",
            "  1%|▏         | 12/937 [00:00<00:07, 116.41it/s]"
          ],
          "name": "stderr"
        },
        {
          "output_type": "stream",
          "text": [
            "Train Loss: 100.2771\n",
            "Val Loss: 101.0628\n",
            "Epoch 206 of 1000\n"
          ],
          "name": "stdout"
        },
        {
          "output_type": "stream",
          "text": [
            "938it [00:08, 115.09it/s]                         \n",
            "157it [00:00, 174.19it/s]                         \n",
            "  1%|▏         | 12/937 [00:00<00:08, 114.74it/s]"
          ],
          "name": "stderr"
        },
        {
          "output_type": "stream",
          "text": [
            "Train Loss: 100.2579\n",
            "Val Loss: 101.0205\n",
            "Epoch 207 of 1000\n"
          ],
          "name": "stdout"
        },
        {
          "output_type": "stream",
          "text": [
            "938it [00:08, 115.60it/s]                         \n",
            "157it [00:00, 178.83it/s]                         \n",
            "  1%|▏         | 13/937 [00:00<00:07, 120.46it/s]"
          ],
          "name": "stderr"
        },
        {
          "output_type": "stream",
          "text": [
            "Train Loss: 100.2287\n",
            "Val Loss: 101.1179\n",
            "Epoch 208 of 1000\n"
          ],
          "name": "stdout"
        },
        {
          "output_type": "stream",
          "text": [
            "938it [00:07, 117.88it/s]                         \n",
            "157it [00:00, 173.63it/s]                         \n",
            "  1%|▏         | 12/937 [00:00<00:07, 117.91it/s]"
          ],
          "name": "stderr"
        },
        {
          "output_type": "stream",
          "text": [
            "Train Loss: 100.2398\n",
            "Val Loss: 101.1941\n",
            "Epoch 209 of 1000\n"
          ],
          "name": "stdout"
        },
        {
          "output_type": "stream",
          "text": [
            "938it [00:08, 116.62it/s]                         \n",
            "157it [00:00, 177.58it/s]                         \n",
            "  1%|          | 11/937 [00:00<00:08, 108.86it/s]"
          ],
          "name": "stderr"
        },
        {
          "output_type": "stream",
          "text": [
            "Train Loss: 100.2288\n",
            "Val Loss: 101.0883\n",
            "Epoch 210 of 1000\n"
          ],
          "name": "stdout"
        },
        {
          "output_type": "stream",
          "text": [
            "938it [00:07, 118.56it/s]                         \n",
            "157it [00:00, 168.35it/s]                         \n",
            "  1%|▏         | 13/937 [00:00<00:07, 121.06it/s]"
          ],
          "name": "stderr"
        },
        {
          "output_type": "stream",
          "text": [
            "Train Loss: 100.2017\n",
            "Val Loss: 101.0272\n",
            "Epoch 211 of 1000\n"
          ],
          "name": "stdout"
        },
        {
          "output_type": "stream",
          "text": [
            "938it [00:08, 116.66it/s]                         \n",
            "157it [00:00, 162.23it/s]                         \n",
            "  1%|▏         | 13/937 [00:00<00:07, 121.77it/s]"
          ],
          "name": "stderr"
        },
        {
          "output_type": "stream",
          "text": [
            "Train Loss: 100.1794\n",
            "Val Loss: 101.0983\n",
            "Epoch 212 of 1000\n"
          ],
          "name": "stdout"
        },
        {
          "output_type": "stream",
          "text": [
            "938it [00:07, 117.88it/s]                         \n",
            "157it [00:00, 171.15it/s]                         \n",
            "  1%|▏         | 12/937 [00:00<00:08, 113.83it/s]"
          ],
          "name": "stderr"
        },
        {
          "output_type": "stream",
          "text": [
            "Train Loss: 100.1890\n",
            "Val Loss: 101.0391\n",
            "Epoch 213 of 1000\n"
          ],
          "name": "stdout"
        },
        {
          "output_type": "stream",
          "text": [
            "938it [00:08, 116.85it/s]                         \n",
            "157it [00:00, 170.26it/s]                         \n",
            "  1%|▏         | 12/937 [00:00<00:07, 115.89it/s]"
          ],
          "name": "stderr"
        },
        {
          "output_type": "stream",
          "text": [
            "Train Loss: 100.1508\n",
            "Val Loss: 101.0394\n",
            "Epoch 214 of 1000\n"
          ],
          "name": "stdout"
        },
        {
          "output_type": "stream",
          "text": [
            "938it [00:07, 118.12it/s]                         \n",
            "157it [00:00, 172.53it/s]                         \n",
            "  1%|          | 11/937 [00:00<00:08, 105.89it/s]"
          ],
          "name": "stderr"
        },
        {
          "output_type": "stream",
          "text": [
            "Train Loss: 100.1484\n",
            "Val Loss: 101.1259\n",
            "Epoch 215 of 1000\n"
          ],
          "name": "stdout"
        },
        {
          "output_type": "stream",
          "text": [
            "938it [00:07, 117.93it/s]                         \n",
            "157it [00:00, 167.52it/s]                         \n",
            "  1%|▏         | 12/937 [00:00<00:07, 117.13it/s]"
          ],
          "name": "stderr"
        },
        {
          "output_type": "stream",
          "text": [
            "Train Loss: 100.1275\n",
            "Val Loss: 101.0021\n",
            "Epoch 216 of 1000\n"
          ],
          "name": "stdout"
        },
        {
          "output_type": "stream",
          "text": [
            "938it [00:07, 118.38it/s]\n",
            "157it [00:00, 170.35it/s]                         \n",
            "  1%|▏         | 12/937 [00:00<00:07, 119.61it/s]"
          ],
          "name": "stderr"
        },
        {
          "output_type": "stream",
          "text": [
            "Train Loss: 100.1414\n",
            "Val Loss: 101.0436\n",
            "Epoch 217 of 1000\n"
          ],
          "name": "stdout"
        },
        {
          "output_type": "stream",
          "text": [
            "938it [00:08, 116.98it/s]                         \n",
            "157it [00:00, 171.52it/s]                         \n",
            "  1%|▏         | 12/937 [00:00<00:07, 116.71it/s]"
          ],
          "name": "stderr"
        },
        {
          "output_type": "stream",
          "text": [
            "Train Loss: 100.0999\n",
            "Val Loss: 101.0145\n",
            "Epoch 218 of 1000\n"
          ],
          "name": "stdout"
        },
        {
          "output_type": "stream",
          "text": [
            "938it [00:07, 117.60it/s]                         \n",
            "157it [00:00, 172.49it/s]                         \n",
            "  1%|▏         | 13/937 [00:00<00:07, 119.72it/s]"
          ],
          "name": "stderr"
        },
        {
          "output_type": "stream",
          "text": [
            "Train Loss: 100.1159\n",
            "Val Loss: 100.9696\n",
            "Epoch 219 of 1000\n"
          ],
          "name": "stdout"
        },
        {
          "output_type": "stream",
          "text": [
            "938it [00:07, 118.40it/s]                         \n",
            "157it [00:00, 175.98it/s]                         \n",
            "  1%|▏         | 12/937 [00:00<00:08, 113.85it/s]"
          ],
          "name": "stderr"
        },
        {
          "output_type": "stream",
          "text": [
            "Train Loss: 100.0780\n",
            "Val Loss: 101.0549\n",
            "Epoch 220 of 1000\n"
          ],
          "name": "stdout"
        },
        {
          "output_type": "stream",
          "text": [
            "938it [00:07, 117.62it/s]                         \n",
            "157it [00:00, 173.14it/s]                         \n",
            "  1%|▏         | 13/937 [00:00<00:07, 121.69it/s]"
          ],
          "name": "stderr"
        },
        {
          "output_type": "stream",
          "text": [
            "Train Loss: 100.0925\n",
            "Val Loss: 101.0380\n",
            "Epoch 221 of 1000\n"
          ],
          "name": "stdout"
        },
        {
          "output_type": "stream",
          "text": [
            "938it [00:07, 117.50it/s]                         \n",
            "157it [00:00, 174.16it/s]                         \n",
            "  1%|▏         | 12/937 [00:00<00:08, 114.93it/s]"
          ],
          "name": "stderr"
        },
        {
          "output_type": "stream",
          "text": [
            "Train Loss: 100.0380\n",
            "Val Loss: 100.9908\n",
            "Epoch 222 of 1000\n"
          ],
          "name": "stdout"
        },
        {
          "output_type": "stream",
          "text": [
            "938it [00:07, 117.96it/s]                         \n",
            "157it [00:00, 164.18it/s]                         \n",
            "  1%|▏         | 12/937 [00:00<00:07, 116.30it/s]"
          ],
          "name": "stderr"
        },
        {
          "output_type": "stream",
          "text": [
            "Train Loss: 100.0425\n",
            "Val Loss: 101.0097\n",
            "Epoch 223 of 1000\n"
          ],
          "name": "stdout"
        },
        {
          "output_type": "stream",
          "text": [
            "938it [00:07, 117.91it/s]                         \n",
            "157it [00:00, 167.25it/s]                         \n",
            "  1%|▏         | 13/937 [00:00<00:07, 123.41it/s]"
          ],
          "name": "stderr"
        },
        {
          "output_type": "stream",
          "text": [
            "Train Loss: 100.0520\n",
            "Val Loss: 100.9868\n",
            "Epoch 224 of 1000\n"
          ],
          "name": "stdout"
        },
        {
          "output_type": "stream",
          "text": [
            "938it [00:07, 117.62it/s]                         \n",
            "157it [00:00, 170.61it/s]                         \n",
            "  1%|▏         | 12/937 [00:00<00:07, 116.89it/s]"
          ],
          "name": "stderr"
        },
        {
          "output_type": "stream",
          "text": [
            "Train Loss: 100.0189\n",
            "Val Loss: 100.9255\n",
            "Epoch 225 of 1000\n"
          ],
          "name": "stdout"
        },
        {
          "output_type": "stream",
          "text": [
            "938it [00:08, 115.74it/s]                         \n",
            "157it [00:00, 162.71it/s]                         \n",
            "  1%|▏         | 12/937 [00:00<00:08, 113.44it/s]"
          ],
          "name": "stderr"
        },
        {
          "output_type": "stream",
          "text": [
            "Train Loss: 100.0003\n",
            "Val Loss: 100.9811\n",
            "Epoch 226 of 1000\n"
          ],
          "name": "stdout"
        },
        {
          "output_type": "stream",
          "text": [
            "938it [00:08, 116.41it/s]                         \n",
            "157it [00:00, 171.17it/s]                         \n",
            "  1%|▏         | 12/937 [00:00<00:07, 116.31it/s]"
          ],
          "name": "stderr"
        },
        {
          "output_type": "stream",
          "text": [
            "Train Loss: 100.0137\n",
            "Val Loss: 100.9377\n",
            "Epoch 227 of 1000\n"
          ],
          "name": "stdout"
        },
        {
          "output_type": "stream",
          "text": [
            "938it [00:08, 116.81it/s]                         \n",
            "157it [00:00, 166.01it/s]                         \n",
            "  1%|▏         | 12/937 [00:00<00:08, 115.56it/s]"
          ],
          "name": "stderr"
        },
        {
          "output_type": "stream",
          "text": [
            "Train Loss: 100.0050\n",
            "Val Loss: 100.9685\n",
            "Epoch 228 of 1000\n"
          ],
          "name": "stdout"
        },
        {
          "output_type": "stream",
          "text": [
            "938it [00:08, 115.95it/s]                         \n",
            "157it [00:00, 170.11it/s]                         \n",
            "  1%|▏         | 12/937 [00:00<00:08, 115.43it/s]"
          ],
          "name": "stderr"
        },
        {
          "output_type": "stream",
          "text": [
            "Train Loss: 99.9747\n",
            "Val Loss: 100.9422\n",
            "Epoch 229 of 1000\n"
          ],
          "name": "stdout"
        },
        {
          "output_type": "stream",
          "text": [
            "938it [00:08, 116.53it/s]                         \n",
            "157it [00:00, 170.23it/s]                         \n",
            "  1%|▏         | 12/937 [00:00<00:07, 119.98it/s]"
          ],
          "name": "stderr"
        },
        {
          "output_type": "stream",
          "text": [
            "Train Loss: 99.9840\n",
            "Val Loss: 100.9317\n",
            "Epoch 230 of 1000\n"
          ],
          "name": "stdout"
        },
        {
          "output_type": "stream",
          "text": [
            "938it [00:08, 116.03it/s]                         \n",
            "157it [00:00, 169.76it/s]\n",
            "  1%|▏         | 12/937 [00:00<00:07, 116.15it/s]"
          ],
          "name": "stderr"
        },
        {
          "output_type": "stream",
          "text": [
            "Train Loss: 99.9636\n",
            "Val Loss: 100.8810\n",
            "Epoch 231 of 1000\n"
          ],
          "name": "stdout"
        },
        {
          "output_type": "stream",
          "text": [
            "938it [00:08, 116.75it/s]                         \n",
            "157it [00:00, 167.46it/s]                         \n",
            "  1%|▏         | 12/937 [00:00<00:08, 115.09it/s]"
          ],
          "name": "stderr"
        },
        {
          "output_type": "stream",
          "text": [
            "Train Loss: 99.9350\n",
            "Val Loss: 100.8802\n",
            "Epoch 232 of 1000\n"
          ],
          "name": "stdout"
        },
        {
          "output_type": "stream",
          "text": [
            "938it [00:08, 116.74it/s]                         \n",
            "157it [00:00, 171.04it/s]                         \n",
            "  1%|          | 11/937 [00:00<00:09, 102.66it/s]"
          ],
          "name": "stderr"
        },
        {
          "output_type": "stream",
          "text": [
            "Train Loss: 99.9763\n",
            "Val Loss: 100.9125\n",
            "Epoch 233 of 1000\n"
          ],
          "name": "stdout"
        },
        {
          "output_type": "stream",
          "text": [
            "938it [00:08, 115.28it/s]                         \n",
            "157it [00:00, 170.61it/s]                         \n",
            "  1%|▏         | 12/937 [00:00<00:07, 116.34it/s]"
          ],
          "name": "stderr"
        },
        {
          "output_type": "stream",
          "text": [
            "Train Loss: 99.9535\n",
            "Val Loss: 100.8392\n",
            "Epoch 234 of 1000\n"
          ],
          "name": "stdout"
        },
        {
          "output_type": "stream",
          "text": [
            "938it [00:07, 117.49it/s]                         \n",
            "157it [00:00, 174.74it/s]                         \n",
            "  1%|▏         | 12/937 [00:00<00:07, 115.63it/s]"
          ],
          "name": "stderr"
        },
        {
          "output_type": "stream",
          "text": [
            "Train Loss: 99.9287\n",
            "Val Loss: 100.9722\n",
            "Epoch 235 of 1000\n"
          ],
          "name": "stdout"
        },
        {
          "output_type": "stream",
          "text": [
            "938it [00:08, 116.84it/s]                         \n",
            "157it [00:00, 165.52it/s]                         \n",
            "  1%|▏         | 12/937 [00:00<00:08, 113.18it/s]"
          ],
          "name": "stderr"
        },
        {
          "output_type": "stream",
          "text": [
            "Train Loss: 99.9066\n",
            "Val Loss: 100.8832\n",
            "Epoch 236 of 1000\n"
          ],
          "name": "stdout"
        },
        {
          "output_type": "stream",
          "text": [
            "938it [00:08, 114.46it/s]                         \n",
            "157it [00:00, 172.12it/s]                         \n",
            "  1%|          | 11/937 [00:00<00:08, 102.95it/s]"
          ],
          "name": "stderr"
        },
        {
          "output_type": "stream",
          "text": [
            "Train Loss: 99.9476\n",
            "Val Loss: 100.8283\n",
            "Epoch 237 of 1000\n"
          ],
          "name": "stdout"
        },
        {
          "output_type": "stream",
          "text": [
            "938it [00:08, 115.84it/s]                         \n",
            "157it [00:00, 165.45it/s]                         \n",
            "  1%|▏         | 13/937 [00:00<00:07, 124.12it/s]"
          ],
          "name": "stderr"
        },
        {
          "output_type": "stream",
          "text": [
            "Train Loss: 99.8924\n",
            "Val Loss: 100.8702\n",
            "Epoch 238 of 1000\n"
          ],
          "name": "stdout"
        },
        {
          "output_type": "stream",
          "text": [
            "938it [00:08, 117.16it/s]                         \n",
            "157it [00:00, 171.42it/s]                         \n",
            "  1%|▏         | 12/937 [00:00<00:07, 119.60it/s]"
          ],
          "name": "stderr"
        },
        {
          "output_type": "stream",
          "text": [
            "Train Loss: 99.8938\n",
            "Val Loss: 100.8285\n",
            "Epoch 239 of 1000\n"
          ],
          "name": "stdout"
        },
        {
          "output_type": "stream",
          "text": [
            "938it [00:08, 117.24it/s]                         \n",
            "157it [00:00, 168.95it/s]                         \n",
            "  1%|▏         | 12/937 [00:00<00:08, 111.61it/s]"
          ],
          "name": "stderr"
        },
        {
          "output_type": "stream",
          "text": [
            "Train Loss: 99.8896\n",
            "Val Loss: 100.8365\n",
            "Epoch 240 of 1000\n"
          ],
          "name": "stdout"
        },
        {
          "output_type": "stream",
          "text": [
            "938it [00:08, 114.80it/s]                         \n",
            "157it [00:00, 170.58it/s]                         \n",
            "  1%|▏         | 12/937 [00:00<00:08, 112.73it/s]"
          ],
          "name": "stderr"
        },
        {
          "output_type": "stream",
          "text": [
            "Train Loss: 99.8959\n",
            "Val Loss: 100.8706\n",
            "Epoch 241 of 1000\n"
          ],
          "name": "stdout"
        },
        {
          "output_type": "stream",
          "text": [
            "938it [00:08, 111.07it/s]                         \n",
            "157it [00:00, 161.33it/s]                         \n",
            "  1%|▏         | 12/937 [00:00<00:07, 115.92it/s]"
          ],
          "name": "stderr"
        },
        {
          "output_type": "stream",
          "text": [
            "Train Loss: 99.8390\n",
            "Val Loss: 100.7824\n",
            "Epoch 242 of 1000\n"
          ],
          "name": "stdout"
        },
        {
          "output_type": "stream",
          "text": [
            "938it [00:07, 117.39it/s]                         \n",
            "157it [00:00, 177.67it/s]                         \n",
            "  1%|▏         | 12/937 [00:00<00:08, 113.54it/s]"
          ],
          "name": "stderr"
        },
        {
          "output_type": "stream",
          "text": [
            "Train Loss: 99.8611\n",
            "Val Loss: 100.7729\n",
            "Epoch 243 of 1000\n"
          ],
          "name": "stdout"
        },
        {
          "output_type": "stream",
          "text": [
            "938it [00:07, 117.99it/s]                         \n",
            "157it [00:00, 174.26it/s]                         \n",
            "  1%|▏         | 13/937 [00:00<00:07, 120.68it/s]"
          ],
          "name": "stderr"
        },
        {
          "output_type": "stream",
          "text": [
            "Train Loss: 99.8407\n",
            "Val Loss: 100.7476\n",
            "Epoch 244 of 1000\n"
          ],
          "name": "stdout"
        },
        {
          "output_type": "stream",
          "text": [
            "938it [00:08, 113.92it/s]                         \n",
            "157it [00:00, 173.70it/s]                         \n",
            "  1%|▏         | 12/937 [00:00<00:08, 113.10it/s]"
          ],
          "name": "stderr"
        },
        {
          "output_type": "stream",
          "text": [
            "Train Loss: 99.8310\n",
            "Val Loss: 100.8465\n",
            "Epoch 245 of 1000\n"
          ],
          "name": "stdout"
        },
        {
          "output_type": "stream",
          "text": [
            "938it [00:08, 114.74it/s]                         \n",
            "157it [00:00, 168.88it/s]                         \n",
            "  1%|▏         | 12/937 [00:00<00:08, 112.90it/s]"
          ],
          "name": "stderr"
        },
        {
          "output_type": "stream",
          "text": [
            "Train Loss: 99.8073\n",
            "Val Loss: 100.7960\n",
            "Epoch 246 of 1000\n"
          ],
          "name": "stdout"
        },
        {
          "output_type": "stream",
          "text": [
            "938it [00:08, 117.22it/s]                         \n",
            "157it [00:00, 173.11it/s]                         \n",
            "  1%|          | 11/937 [00:00<00:08, 106.43it/s]"
          ],
          "name": "stderr"
        },
        {
          "output_type": "stream",
          "text": [
            "Train Loss: 99.7928\n",
            "Val Loss: 100.8319\n",
            "Epoch 247 of 1000\n"
          ],
          "name": "stdout"
        },
        {
          "output_type": "stream",
          "text": [
            "938it [00:08, 116.37it/s]                         \n",
            "157it [00:00, 163.11it/s]                         \n",
            "  1%|▏         | 12/937 [00:00<00:07, 117.14it/s]"
          ],
          "name": "stderr"
        },
        {
          "output_type": "stream",
          "text": [
            "Train Loss: 99.7935\n",
            "Val Loss: 100.7360\n",
            "Epoch 248 of 1000\n"
          ],
          "name": "stdout"
        },
        {
          "output_type": "stream",
          "text": [
            "938it [00:07, 118.36it/s]                         \n",
            "157it [00:01, 155.83it/s]                         \n",
            "  1%|▏         | 12/937 [00:00<00:07, 117.10it/s]"
          ],
          "name": "stderr"
        },
        {
          "output_type": "stream",
          "text": [
            "Train Loss: 99.7631\n",
            "Val Loss: 100.8408\n",
            "Epoch 249 of 1000\n"
          ],
          "name": "stdout"
        },
        {
          "output_type": "stream",
          "text": [
            "938it [00:07, 117.46it/s]                         \n",
            "157it [00:00, 172.96it/s]                         \n",
            "  1%|▏         | 12/937 [00:00<00:08, 114.78it/s]"
          ],
          "name": "stderr"
        },
        {
          "output_type": "stream",
          "text": [
            "Train Loss: 99.8063\n",
            "Val Loss: 100.7167\n",
            "Epoch 250 of 1000\n"
          ],
          "name": "stdout"
        },
        {
          "output_type": "stream",
          "text": [
            "938it [00:07, 117.57it/s]                         \n",
            "157it [00:00, 170.26it/s]\n",
            "  1%|▏         | 12/937 [00:00<00:08, 113.10it/s]"
          ],
          "name": "stderr"
        },
        {
          "output_type": "stream",
          "text": [
            "Train Loss: 99.7727\n",
            "Val Loss: 100.6916\n",
            "Epoch 251 of 1000\n"
          ],
          "name": "stdout"
        },
        {
          "output_type": "stream",
          "text": [
            "938it [00:08, 117.18it/s]                         \n",
            "157it [00:00, 169.63it/s]                         \n",
            "  1%|▏         | 13/937 [00:00<00:07, 124.68it/s]"
          ],
          "name": "stderr"
        },
        {
          "output_type": "stream",
          "text": [
            "Train Loss: 99.7578\n",
            "Val Loss: 100.7968\n",
            "Epoch 252 of 1000\n"
          ],
          "name": "stdout"
        },
        {
          "output_type": "stream",
          "text": [
            "938it [00:07, 118.73it/s]                         \n",
            "157it [00:00, 171.50it/s]                         \n",
            "  1%|▏         | 13/937 [00:00<00:07, 121.79it/s]"
          ],
          "name": "stderr"
        },
        {
          "output_type": "stream",
          "text": [
            "Train Loss: 99.7553\n",
            "Val Loss: 100.7369\n",
            "Epoch 253 of 1000\n"
          ],
          "name": "stdout"
        },
        {
          "output_type": "stream",
          "text": [
            "938it [00:08, 117.01it/s]                         \n",
            "157it [00:00, 170.84it/s]                         \n",
            "  1%|▏         | 12/937 [00:00<00:07, 119.89it/s]"
          ],
          "name": "stderr"
        },
        {
          "output_type": "stream",
          "text": [
            "Train Loss: 99.7393\n",
            "Val Loss: 100.7905\n",
            "Epoch 254 of 1000\n"
          ],
          "name": "stdout"
        },
        {
          "output_type": "stream",
          "text": [
            "938it [00:08, 114.85it/s]                         \n",
            "157it [00:00, 172.13it/s]                         \n",
            "  1%|▏         | 12/937 [00:00<00:08, 112.76it/s]"
          ],
          "name": "stderr"
        },
        {
          "output_type": "stream",
          "text": [
            "Train Loss: 99.7304\n",
            "Val Loss: 100.7368\n",
            "Epoch 255 of 1000\n"
          ],
          "name": "stdout"
        },
        {
          "output_type": "stream",
          "text": [
            "938it [00:07, 118.52it/s]                         \n",
            "157it [00:00, 168.26it/s]                         \n",
            "  1%|▏         | 13/937 [00:00<00:07, 122.06it/s]"
          ],
          "name": "stderr"
        },
        {
          "output_type": "stream",
          "text": [
            "Train Loss: 99.6904\n",
            "Val Loss: 100.7882\n",
            "Epoch 256 of 1000\n"
          ],
          "name": "stdout"
        },
        {
          "output_type": "stream",
          "text": [
            "938it [00:07, 118.88it/s]                         \n",
            "157it [00:00, 173.84it/s]                         \n",
            "  1%|▏         | 13/937 [00:00<00:07, 121.58it/s]"
          ],
          "name": "stderr"
        },
        {
          "output_type": "stream",
          "text": [
            "Train Loss: 99.7167\n",
            "Val Loss: 100.7787\n",
            "Epoch 257 of 1000\n"
          ],
          "name": "stdout"
        },
        {
          "output_type": "stream",
          "text": [
            "938it [00:08, 116.47it/s]                         \n",
            "157it [00:00, 176.96it/s]                         \n",
            "  1%|▏         | 12/937 [00:00<00:07, 119.32it/s]"
          ],
          "name": "stderr"
        },
        {
          "output_type": "stream",
          "text": [
            "Train Loss: 99.7288\n",
            "Val Loss: 100.6596\n",
            "Epoch 258 of 1000\n"
          ],
          "name": "stdout"
        },
        {
          "output_type": "stream",
          "text": [
            "938it [00:07, 118.62it/s]                         \n",
            "157it [00:00, 174.74it/s]                         \n",
            "  1%|▏         | 12/937 [00:00<00:07, 118.77it/s]"
          ],
          "name": "stderr"
        },
        {
          "output_type": "stream",
          "text": [
            "Train Loss: 99.7028\n",
            "Val Loss: 100.6254\n",
            "Epoch 259 of 1000\n"
          ],
          "name": "stdout"
        },
        {
          "output_type": "stream",
          "text": [
            "938it [00:08, 115.20it/s]                         \n",
            "157it [00:00, 173.70it/s]                         \n",
            "  1%|▏         | 12/937 [00:00<00:08, 112.42it/s]"
          ],
          "name": "stderr"
        },
        {
          "output_type": "stream",
          "text": [
            "Train Loss: 99.6776\n",
            "Val Loss: 100.6110\n",
            "Epoch 260 of 1000\n"
          ],
          "name": "stdout"
        },
        {
          "output_type": "stream",
          "text": [
            "938it [00:07, 119.25it/s]                         \n",
            "157it [00:00, 174.05it/s]                         \n",
            "  1%|▏         | 12/937 [00:00<00:08, 113.72it/s]"
          ],
          "name": "stderr"
        },
        {
          "output_type": "stream",
          "text": [
            "Train Loss: 99.6510\n",
            "Val Loss: 100.6741\n",
            "Epoch 261 of 1000\n"
          ],
          "name": "stdout"
        },
        {
          "output_type": "stream",
          "text": [
            "938it [00:07, 118.01it/s]                         \n",
            "157it [00:00, 176.27it/s]                         \n",
            "  1%|▏         | 13/937 [00:00<00:07, 123.44it/s]"
          ],
          "name": "stderr"
        },
        {
          "output_type": "stream",
          "text": [
            "Train Loss: 99.6411\n",
            "Val Loss: 100.7873\n",
            "Epoch 262 of 1000\n"
          ],
          "name": "stdout"
        },
        {
          "output_type": "stream",
          "text": [
            "938it [00:07, 117.41it/s]                         \n",
            "157it [00:00, 167.74it/s]                         \n",
            "  1%|▏         | 13/937 [00:00<00:07, 121.32it/s]"
          ],
          "name": "stderr"
        },
        {
          "output_type": "stream",
          "text": [
            "Train Loss: 99.6431\n",
            "Val Loss: 100.7080\n",
            "Epoch 263 of 1000\n"
          ],
          "name": "stdout"
        },
        {
          "output_type": "stream",
          "text": [
            "938it [00:07, 118.33it/s]                         \n",
            "157it [00:00, 174.88it/s]                         \n",
            "  1%|▏         | 12/937 [00:00<00:07, 116.68it/s]"
          ],
          "name": "stderr"
        },
        {
          "output_type": "stream",
          "text": [
            "Train Loss: 99.6474\n",
            "Val Loss: 100.6782\n",
            "Epoch 264 of 1000\n"
          ],
          "name": "stdout"
        },
        {
          "output_type": "stream",
          "text": [
            "938it [00:08, 116.86it/s]                         \n",
            "157it [00:00, 174.14it/s]                         \n",
            "  1%|▏         | 13/937 [00:00<00:07, 123.56it/s]"
          ],
          "name": "stderr"
        },
        {
          "output_type": "stream",
          "text": [
            "Train Loss: 99.6239\n",
            "Val Loss: 100.6780\n",
            "Epoch 265 of 1000\n"
          ],
          "name": "stdout"
        },
        {
          "output_type": "stream",
          "text": [
            "938it [00:07, 119.18it/s]                         \n",
            "157it [00:00, 174.21it/s]                         \n",
            "  1%|▏         | 12/937 [00:00<00:07, 117.79it/s]"
          ],
          "name": "stderr"
        },
        {
          "output_type": "stream",
          "text": [
            "Train Loss: 99.6384\n",
            "Val Loss: 100.7192\n",
            "Epoch 266 of 1000\n"
          ],
          "name": "stdout"
        },
        {
          "output_type": "stream",
          "text": [
            "938it [00:07, 118.63it/s]                         \n",
            "157it [00:00, 176.80it/s]                         \n",
            "  1%|▏         | 12/937 [00:00<00:07, 119.34it/s]"
          ],
          "name": "stderr"
        },
        {
          "output_type": "stream",
          "text": [
            "Train Loss: 99.6116\n",
            "Val Loss: 100.6504\n",
            "Epoch 267 of 1000\n"
          ],
          "name": "stdout"
        },
        {
          "output_type": "stream",
          "text": [
            "938it [00:07, 118.84it/s]                         \n",
            "157it [00:00, 171.43it/s]                         \n",
            "  1%|▏         | 12/937 [00:00<00:08, 114.76it/s]"
          ],
          "name": "stderr"
        },
        {
          "output_type": "stream",
          "text": [
            "Train Loss: 99.6031\n",
            "Val Loss: 100.6105\n",
            "Epoch 268 of 1000\n"
          ],
          "name": "stdout"
        },
        {
          "output_type": "stream",
          "text": [
            "938it [00:08, 116.47it/s]                         \n",
            "157it [00:00, 173.21it/s]                         \n",
            "  1%|▏         | 12/937 [00:00<00:07, 118.24it/s]"
          ],
          "name": "stderr"
        },
        {
          "output_type": "stream",
          "text": [
            "Train Loss: 99.5600\n",
            "Val Loss: 100.7202\n",
            "Epoch 269 of 1000\n"
          ],
          "name": "stdout"
        },
        {
          "output_type": "stream",
          "text": [
            "938it [00:07, 118.11it/s]                         \n",
            "157it [00:00, 174.70it/s]                         \n",
            "  1%|▏         | 13/937 [00:00<00:07, 123.12it/s]"
          ],
          "name": "stderr"
        },
        {
          "output_type": "stream",
          "text": [
            "Train Loss: 99.6030\n",
            "Val Loss: 100.6586\n",
            "Epoch 270 of 1000\n"
          ],
          "name": "stdout"
        },
        {
          "output_type": "stream",
          "text": [
            "938it [00:07, 119.41it/s]                         \n",
            "157it [00:00, 170.14it/s]                         \n",
            "  1%|▏         | 12/937 [00:00<00:08, 110.80it/s]"
          ],
          "name": "stderr"
        },
        {
          "output_type": "stream",
          "text": [
            "Train Loss: 99.5963\n",
            "Val Loss: 100.5917\n",
            "Epoch 271 of 1000\n"
          ],
          "name": "stdout"
        },
        {
          "output_type": "stream",
          "text": [
            "938it [00:08, 116.17it/s]                         \n",
            "157it [00:00, 172.14it/s]                         \n",
            "  1%|          | 11/937 [00:00<00:08, 108.66it/s]"
          ],
          "name": "stderr"
        },
        {
          "output_type": "stream",
          "text": [
            "Train Loss: 99.5684\n",
            "Val Loss: 100.7262\n",
            "Epoch 272 of 1000\n"
          ],
          "name": "stdout"
        },
        {
          "output_type": "stream",
          "text": [
            "938it [00:08, 116.18it/s]                         \n",
            "157it [00:00, 170.79it/s]                         \n",
            "  1%|▏         | 12/937 [00:00<00:07, 118.42it/s]"
          ],
          "name": "stderr"
        },
        {
          "output_type": "stream",
          "text": [
            "Train Loss: 99.5594\n",
            "Val Loss: 100.6625\n",
            "Epoch 273 of 1000\n"
          ],
          "name": "stdout"
        },
        {
          "output_type": "stream",
          "text": [
            "938it [00:07, 118.01it/s]                         \n",
            "157it [00:00, 174.16it/s]                         \n",
            "  1%|▏         | 13/937 [00:00<00:07, 122.22it/s]"
          ],
          "name": "stderr"
        },
        {
          "output_type": "stream",
          "text": [
            "Train Loss: 99.5652\n",
            "Val Loss: 100.6555\n",
            "Epoch 274 of 1000\n"
          ],
          "name": "stdout"
        },
        {
          "output_type": "stream",
          "text": [
            "938it [00:07, 122.23it/s]                         \n",
            "157it [00:00, 174.97it/s]                         \n",
            "  1%|▏         | 13/937 [00:00<00:07, 122.38it/s]"
          ],
          "name": "stderr"
        },
        {
          "output_type": "stream",
          "text": [
            "Train Loss: 99.5312\n",
            "Val Loss: 100.5865\n",
            "Epoch 275 of 1000\n"
          ],
          "name": "stdout"
        },
        {
          "output_type": "stream",
          "text": [
            "938it [00:07, 118.24it/s]                         \n",
            "157it [00:01, 156.23it/s]                         \n",
            "  1%|▏         | 12/937 [00:00<00:08, 113.68it/s]"
          ],
          "name": "stderr"
        },
        {
          "output_type": "stream",
          "text": [
            "Train Loss: 99.5128\n",
            "Val Loss: 100.5402\n",
            "Epoch 276 of 1000\n"
          ],
          "name": "stdout"
        },
        {
          "output_type": "stream",
          "text": [
            "938it [00:08, 113.89it/s]                         \n",
            "157it [00:00, 166.64it/s]                         \n",
            "  1%|          | 11/937 [00:00<00:08, 107.14it/s]"
          ],
          "name": "stderr"
        },
        {
          "output_type": "stream",
          "text": [
            "Train Loss: 99.5176\n",
            "Val Loss: 100.6656\n",
            "Epoch 277 of 1000\n"
          ],
          "name": "stdout"
        },
        {
          "output_type": "stream",
          "text": [
            "938it [00:08, 115.93it/s]                         \n",
            "157it [00:00, 174.57it/s]                         \n",
            "  1%|▏         | 13/937 [00:00<00:07, 121.25it/s]"
          ],
          "name": "stderr"
        },
        {
          "output_type": "stream",
          "text": [
            "Train Loss: 99.4990\n",
            "Val Loss: 100.5196\n",
            "Epoch 278 of 1000\n"
          ],
          "name": "stdout"
        },
        {
          "output_type": "stream",
          "text": [
            "938it [00:07, 118.60it/s]                         \n",
            "157it [00:00, 173.01it/s]                         \n",
            "  1%|▏         | 12/937 [00:00<00:07, 117.93it/s]"
          ],
          "name": "stderr"
        },
        {
          "output_type": "stream",
          "text": [
            "Train Loss: 99.5117\n",
            "Val Loss: 100.4953\n",
            "Epoch 279 of 1000\n"
          ],
          "name": "stdout"
        },
        {
          "output_type": "stream",
          "text": [
            "938it [00:07, 118.45it/s]                         \n",
            "157it [00:00, 169.65it/s]                         \n",
            "  1%|▏         | 12/937 [00:00<00:07, 119.07it/s]"
          ],
          "name": "stderr"
        },
        {
          "output_type": "stream",
          "text": [
            "Train Loss: 99.4815\n",
            "Val Loss: 100.5959\n",
            "Epoch 280 of 1000\n"
          ],
          "name": "stdout"
        },
        {
          "output_type": "stream",
          "text": [
            "938it [00:08, 117.15it/s]                         \n",
            "157it [00:00, 172.52it/s]                         \n",
            "  1%|▏         | 12/937 [00:00<00:08, 114.36it/s]"
          ],
          "name": "stderr"
        },
        {
          "output_type": "stream",
          "text": [
            "Train Loss: 99.4970\n",
            "Val Loss: 100.5914\n",
            "Epoch 281 of 1000\n"
          ],
          "name": "stdout"
        },
        {
          "output_type": "stream",
          "text": [
            "938it [00:07, 118.48it/s]                         \n",
            "157it [00:00, 170.75it/s]                         \n",
            "  1%|          | 11/937 [00:00<00:08, 108.85it/s]"
          ],
          "name": "stderr"
        },
        {
          "output_type": "stream",
          "text": [
            "Train Loss: 99.4755\n",
            "Val Loss: 100.6499\n",
            "Epoch 282 of 1000\n"
          ],
          "name": "stdout"
        },
        {
          "output_type": "stream",
          "text": [
            "938it [00:08, 116.32it/s]                         \n",
            "157it [00:00, 170.78it/s]                         \n",
            "  1%|▏         | 12/937 [00:00<00:08, 115.35it/s]"
          ],
          "name": "stderr"
        },
        {
          "output_type": "stream",
          "text": [
            "Train Loss: 99.4581\n",
            "Val Loss: 100.6111\n",
            "Epoch 283 of 1000\n"
          ],
          "name": "stdout"
        },
        {
          "output_type": "stream",
          "text": [
            "938it [00:07, 117.86it/s]                         \n",
            "157it [00:00, 175.55it/s]                         \n",
            "  1%|▏         | 13/937 [00:00<00:07, 121.70it/s]"
          ],
          "name": "stderr"
        },
        {
          "output_type": "stream",
          "text": [
            "Train Loss: 99.4737\n",
            "Val Loss: 100.5953\n",
            "Epoch 284 of 1000\n"
          ],
          "name": "stdout"
        },
        {
          "output_type": "stream",
          "text": [
            "938it [00:07, 119.65it/s]                         \n",
            "157it [00:00, 174.39it/s]                         \n",
            "  1%|▏         | 13/937 [00:00<00:07, 121.56it/s]"
          ],
          "name": "stderr"
        },
        {
          "output_type": "stream",
          "text": [
            "Train Loss: 99.4527\n",
            "Val Loss: 100.6414\n",
            "Epoch 285 of 1000\n"
          ],
          "name": "stdout"
        },
        {
          "output_type": "stream",
          "text": [
            "938it [00:07, 117.38it/s]\n",
            "157it [00:00, 168.24it/s]                         \n",
            "  1%|▏         | 12/937 [00:00<00:07, 117.65it/s]"
          ],
          "name": "stderr"
        },
        {
          "output_type": "stream",
          "text": [
            "Train Loss: 99.4590\n",
            "Val Loss: 100.6111\n",
            "Epoch 286 of 1000\n"
          ],
          "name": "stdout"
        },
        {
          "output_type": "stream",
          "text": [
            "938it [00:08, 115.91it/s]                         \n",
            "157it [00:00, 172.54it/s]                         \n",
            "  1%|▏         | 12/937 [00:00<00:08, 111.24it/s]"
          ],
          "name": "stderr"
        },
        {
          "output_type": "stream",
          "text": [
            "Train Loss: 99.4576\n",
            "Val Loss: 100.5272\n",
            "Epoch 287 of 1000\n"
          ],
          "name": "stdout"
        },
        {
          "output_type": "stream",
          "text": [
            "938it [00:07, 119.21it/s]                         \n",
            "157it [00:00, 173.56it/s]                         \n",
            "  1%|▏         | 12/937 [00:00<00:07, 119.11it/s]"
          ],
          "name": "stderr"
        },
        {
          "output_type": "stream",
          "text": [
            "Train Loss: 99.4499\n",
            "Val Loss: 100.6172\n",
            "Epoch 288 of 1000\n"
          ],
          "name": "stdout"
        },
        {
          "output_type": "stream",
          "text": [
            "938it [00:07, 117.47it/s]                         \n",
            "157it [00:00, 169.65it/s]                         \n",
            "  1%|▏         | 12/937 [00:00<00:08, 113.80it/s]"
          ],
          "name": "stderr"
        },
        {
          "output_type": "stream",
          "text": [
            "Train Loss: 99.4341\n",
            "Val Loss: 100.4701\n",
            "Epoch 289 of 1000\n"
          ],
          "name": "stdout"
        },
        {
          "output_type": "stream",
          "text": [
            "938it [00:08, 116.60it/s]                         \n",
            "157it [00:00, 169.48it/s]                         \n",
            "  1%|          | 11/937 [00:00<00:08, 107.81it/s]"
          ],
          "name": "stderr"
        },
        {
          "output_type": "stream",
          "text": [
            "Train Loss: 99.4364\n",
            "Val Loss: 100.5875\n",
            "Epoch 290 of 1000\n"
          ],
          "name": "stdout"
        },
        {
          "output_type": "stream",
          "text": [
            "938it [00:08, 116.38it/s]                         \n",
            "157it [00:00, 173.33it/s]                         \n",
            "  1%|          | 11/937 [00:00<00:08, 106.35it/s]"
          ],
          "name": "stderr"
        },
        {
          "output_type": "stream",
          "text": [
            "Train Loss: 99.4319\n",
            "Val Loss: 100.5534\n",
            "Epoch 291 of 1000\n"
          ],
          "name": "stdout"
        },
        {
          "output_type": "stream",
          "text": [
            "938it [00:08, 115.88it/s]                         \n",
            "157it [00:00, 172.59it/s]                         \n",
            "  1%|▏         | 13/937 [00:00<00:07, 120.64it/s]"
          ],
          "name": "stderr"
        },
        {
          "output_type": "stream",
          "text": [
            "Train Loss: 99.4200\n",
            "Val Loss: 100.5221\n",
            "Epoch 292 of 1000\n"
          ],
          "name": "stdout"
        },
        {
          "output_type": "stream",
          "text": [
            "938it [00:07, 118.68it/s]                         \n",
            "157it [00:00, 169.45it/s]                         \n",
            "  1%|▏         | 12/937 [00:00<00:07, 118.60it/s]"
          ],
          "name": "stderr"
        },
        {
          "output_type": "stream",
          "text": [
            "Train Loss: 99.3952\n",
            "Val Loss: 100.5606\n",
            "Epoch 293 of 1000\n"
          ],
          "name": "stdout"
        },
        {
          "output_type": "stream",
          "text": [
            "938it [00:08, 117.20it/s]                         \n",
            "157it [00:00, 166.83it/s]                         \n",
            "  1%|▏         | 12/937 [00:00<00:07, 119.60it/s]"
          ],
          "name": "stderr"
        },
        {
          "output_type": "stream",
          "text": [
            "Train Loss: 99.4108\n",
            "Val Loss: 100.5610\n",
            "Epoch 294 of 1000\n"
          ],
          "name": "stdout"
        },
        {
          "output_type": "stream",
          "text": [
            "938it [00:08, 115.64it/s]                         \n",
            "157it [00:00, 171.34it/s]\n",
            "  1%|▏         | 12/937 [00:00<00:08, 111.64it/s]"
          ],
          "name": "stderr"
        },
        {
          "output_type": "stream",
          "text": [
            "Train Loss: 99.3963\n",
            "Val Loss: 100.5559\n",
            "Epoch 295 of 1000\n"
          ],
          "name": "stdout"
        },
        {
          "output_type": "stream",
          "text": [
            "938it [00:07, 118.20it/s]                         \n",
            "157it [00:00, 170.65it/s]                         \n",
            "  1%|▏         | 12/937 [00:00<00:07, 115.66it/s]"
          ],
          "name": "stderr"
        },
        {
          "output_type": "stream",
          "text": [
            "Train Loss: 99.3746\n",
            "Val Loss: 100.5224\n",
            "Epoch 296 of 1000\n"
          ],
          "name": "stdout"
        },
        {
          "output_type": "stream",
          "text": [
            "938it [00:08, 115.75it/s]                         \n",
            "157it [00:00, 175.14it/s]                         \n",
            "  1%|          | 10/937 [00:00<00:09, 97.05it/s]"
          ],
          "name": "stderr"
        },
        {
          "output_type": "stream",
          "text": [
            "Train Loss: 99.3536\n",
            "Val Loss: 100.5344\n",
            "Epoch 297 of 1000\n"
          ],
          "name": "stdout"
        },
        {
          "output_type": "stream",
          "text": [
            "938it [00:08, 115.58it/s]                         \n",
            "157it [00:00, 173.56it/s]                         \n",
            "  1%|▏         | 12/937 [00:00<00:07, 118.11it/s]"
          ],
          "name": "stderr"
        },
        {
          "output_type": "stream",
          "text": [
            "Train Loss: 99.3465\n",
            "Val Loss: 100.5295\n",
            "Epoch 298 of 1000\n"
          ],
          "name": "stdout"
        },
        {
          "output_type": "stream",
          "text": [
            "938it [00:08, 116.01it/s]                         \n",
            "157it [00:00, 170.06it/s]\n",
            "  1%|▏         | 12/937 [00:00<00:08, 113.23it/s]"
          ],
          "name": "stderr"
        },
        {
          "output_type": "stream",
          "text": [
            "Train Loss: 99.3554\n",
            "Val Loss: 100.5293\n",
            "Epoch 299 of 1000\n"
          ],
          "name": "stdout"
        },
        {
          "output_type": "stream",
          "text": [
            "938it [00:07, 118.52it/s]                         \n",
            "157it [00:00, 167.88it/s]                         \n",
            "  1%|▏         | 12/937 [00:00<00:07, 116.10it/s]"
          ],
          "name": "stderr"
        },
        {
          "output_type": "stream",
          "text": [
            "Train Loss: 99.3625\n",
            "Val Loss: 100.4867\n",
            "Epoch 300 of 1000\n"
          ],
          "name": "stdout"
        },
        {
          "output_type": "stream",
          "text": [
            "938it [00:07, 118.26it/s]                         \n",
            "157it [00:00, 174.71it/s]                         \n",
            "  1%|▏         | 12/937 [00:00<00:08, 112.20it/s]"
          ],
          "name": "stderr"
        },
        {
          "output_type": "stream",
          "text": [
            "Train Loss: 99.3359\n",
            "Val Loss: 100.4275\n",
            "Epoch 301 of 1000\n"
          ],
          "name": "stdout"
        },
        {
          "output_type": "stream",
          "text": [
            "938it [00:07, 118.24it/s]                         \n",
            "157it [00:00, 172.53it/s]                         \n",
            "  1%|▏         | 12/937 [00:00<00:08, 112.75it/s]"
          ],
          "name": "stderr"
        },
        {
          "output_type": "stream",
          "text": [
            "Train Loss: 99.3227\n",
            "Val Loss: 100.4227\n",
            "Epoch 302 of 1000\n"
          ],
          "name": "stdout"
        },
        {
          "output_type": "stream",
          "text": [
            "938it [00:07, 118.55it/s]                         \n",
            "157it [00:00, 174.62it/s]                         \n",
            "  1%|▏         | 13/937 [00:00<00:07, 121.23it/s]"
          ],
          "name": "stderr"
        },
        {
          "output_type": "stream",
          "text": [
            "Train Loss: 99.3384\n",
            "Val Loss: 100.5480\n",
            "Epoch 303 of 1000\n"
          ],
          "name": "stdout"
        },
        {
          "output_type": "stream",
          "text": [
            "938it [00:07, 118.88it/s]                         \n",
            "157it [00:00, 171.49it/s]                         \n",
            "  1%|▏         | 12/937 [00:00<00:07, 118.40it/s]"
          ],
          "name": "stderr"
        },
        {
          "output_type": "stream",
          "text": [
            "Train Loss: 99.3320\n",
            "Val Loss: 100.4960\n",
            "Epoch 304 of 1000\n"
          ],
          "name": "stdout"
        },
        {
          "output_type": "stream",
          "text": [
            "938it [00:08, 116.25it/s]                         \n",
            "157it [00:00, 174.41it/s]                         \n",
            "  1%|▏         | 13/937 [00:00<00:07, 121.68it/s]"
          ],
          "name": "stderr"
        },
        {
          "output_type": "stream",
          "text": [
            "Train Loss: 99.2993\n",
            "Val Loss: 100.5055\n",
            "Epoch 305 of 1000\n"
          ],
          "name": "stdout"
        },
        {
          "output_type": "stream",
          "text": [
            "938it [00:07, 118.38it/s]                         \n",
            "157it [00:00, 175.05it/s]                         \n",
            "  1%|▏         | 12/937 [00:00<00:08, 114.47it/s]"
          ],
          "name": "stderr"
        },
        {
          "output_type": "stream",
          "text": [
            "Train Loss: 99.2919\n",
            "Val Loss: 100.4482\n",
            "Epoch 306 of 1000\n"
          ],
          "name": "stdout"
        },
        {
          "output_type": "stream",
          "text": [
            "938it [00:07, 118.43it/s]                         \n",
            "157it [00:00, 169.01it/s]\n",
            "  1%|▏         | 12/937 [00:00<00:07, 118.65it/s]"
          ],
          "name": "stderr"
        },
        {
          "output_type": "stream",
          "text": [
            "Train Loss: 99.2897\n",
            "Val Loss: 100.4326\n",
            "Epoch 307 of 1000\n"
          ],
          "name": "stdout"
        },
        {
          "output_type": "stream",
          "text": [
            "938it [00:07, 117.38it/s]                         \n",
            "157it [00:00, 172.21it/s]                         \n",
            "  1%|          | 11/937 [00:00<00:09, 102.42it/s]"
          ],
          "name": "stderr"
        },
        {
          "output_type": "stream",
          "text": [
            "Train Loss: 99.2850\n",
            "Val Loss: 100.4390\n",
            "Epoch 308 of 1000\n"
          ],
          "name": "stdout"
        },
        {
          "output_type": "stream",
          "text": [
            "938it [00:08, 116.15it/s]                         \n",
            "157it [00:00, 174.36it/s]                         \n",
            "  1%|          | 11/937 [00:00<00:08, 109.45it/s]"
          ],
          "name": "stderr"
        },
        {
          "output_type": "stream",
          "text": [
            "Train Loss: 99.2601\n",
            "Val Loss: 100.4892\n",
            "Epoch 309 of 1000\n"
          ],
          "name": "stdout"
        },
        {
          "output_type": "stream",
          "text": [
            "938it [00:07, 117.58it/s]                         \n",
            "157it [00:00, 176.00it/s]                         \n",
            "  1%|▏         | 13/937 [00:00<00:07, 119.74it/s]"
          ],
          "name": "stderr"
        },
        {
          "output_type": "stream",
          "text": [
            "Train Loss: 99.2539\n",
            "Val Loss: 100.4565\n",
            "Epoch 310 of 1000\n"
          ],
          "name": "stdout"
        },
        {
          "output_type": "stream",
          "text": [
            "938it [00:07, 117.26it/s]                         \n",
            "157it [00:00, 169.46it/s]\n",
            "  1%|▏         | 12/937 [00:00<00:08, 109.88it/s]"
          ],
          "name": "stderr"
        },
        {
          "output_type": "stream",
          "text": [
            "Train Loss: 99.2714\n",
            "Val Loss: 100.4587\n",
            "Epoch 311 of 1000\n"
          ],
          "name": "stdout"
        },
        {
          "output_type": "stream",
          "text": [
            "938it [00:08, 113.39it/s]                         \n",
            "157it [00:00, 175.72it/s]                         \n",
            "  1%|▏         | 12/937 [00:00<00:08, 113.69it/s]"
          ],
          "name": "stderr"
        },
        {
          "output_type": "stream",
          "text": [
            "Train Loss: 99.2551\n",
            "Val Loss: 100.4459\n",
            "Epoch 312 of 1000\n"
          ],
          "name": "stdout"
        },
        {
          "output_type": "stream",
          "text": [
            "938it [00:08, 115.18it/s]                         \n",
            "157it [00:00, 158.72it/s]                         \n",
            "  1%|▏         | 12/937 [00:00<00:08, 111.76it/s]"
          ],
          "name": "stderr"
        },
        {
          "output_type": "stream",
          "text": [
            "Train Loss: 99.2731\n",
            "Val Loss: 100.4596\n",
            "Epoch 313 of 1000\n"
          ],
          "name": "stdout"
        },
        {
          "output_type": "stream",
          "text": [
            "938it [00:07, 118.36it/s]                         \n",
            "157it [00:00, 173.87it/s]                         \n",
            "  1%|▏         | 12/937 [00:00<00:07, 120.00it/s]"
          ],
          "name": "stderr"
        },
        {
          "output_type": "stream",
          "text": [
            "Train Loss: 99.2258\n",
            "Val Loss: 100.3870\n",
            "Epoch 314 of 1000\n"
          ],
          "name": "stdout"
        },
        {
          "output_type": "stream",
          "text": [
            "938it [00:07, 118.26it/s]                         \n",
            "157it [00:00, 166.25it/s]                         \n",
            "  1%|▏         | 12/937 [00:00<00:07, 117.63it/s]"
          ],
          "name": "stderr"
        },
        {
          "output_type": "stream",
          "text": [
            "Train Loss: 99.2356\n",
            "Val Loss: 100.4074\n",
            "Epoch 315 of 1000\n"
          ],
          "name": "stdout"
        },
        {
          "output_type": "stream",
          "text": [
            "938it [00:07, 117.52it/s]                         \n",
            "157it [00:00, 173.52it/s]                         \n",
            "  1%|          | 11/937 [00:00<00:08, 109.57it/s]"
          ],
          "name": "stderr"
        },
        {
          "output_type": "stream",
          "text": [
            "Train Loss: 99.2172\n",
            "Val Loss: 100.5035\n",
            "Epoch 316 of 1000\n"
          ],
          "name": "stdout"
        },
        {
          "output_type": "stream",
          "text": [
            "938it [00:07, 117.90it/s]                         \n",
            "157it [00:00, 168.60it/s]                         \n",
            "  1%|▏         | 12/937 [00:00<00:07, 116.72it/s]"
          ],
          "name": "stderr"
        },
        {
          "output_type": "stream",
          "text": [
            "Train Loss: 99.2325\n",
            "Val Loss: 100.4758\n",
            "Epoch 317 of 1000\n"
          ],
          "name": "stdout"
        },
        {
          "output_type": "stream",
          "text": [
            "938it [00:07, 119.78it/s]                         \n",
            "157it [00:00, 175.21it/s]                         \n",
            "  1%|▏         | 13/937 [00:00<00:07, 121.67it/s]"
          ],
          "name": "stderr"
        },
        {
          "output_type": "stream",
          "text": [
            "Train Loss: 99.2364\n",
            "Val Loss: 100.4044\n",
            "Epoch 318 of 1000\n"
          ],
          "name": "stdout"
        },
        {
          "output_type": "stream",
          "text": [
            "938it [00:07, 118.12it/s]                         \n",
            "157it [00:00, 175.94it/s]                         \n",
            "  1%|▏         | 13/937 [00:00<00:07, 125.29it/s]"
          ],
          "name": "stderr"
        },
        {
          "output_type": "stream",
          "text": [
            "Train Loss: 99.1833\n",
            "Val Loss: 100.3675\n",
            "Epoch 319 of 1000\n"
          ],
          "name": "stdout"
        },
        {
          "output_type": "stream",
          "text": [
            "938it [00:07, 119.99it/s]                         \n",
            "157it [00:00, 174.40it/s]                         \n",
            "  1%|▏         | 12/937 [00:00<00:08, 111.98it/s]"
          ],
          "name": "stderr"
        },
        {
          "output_type": "stream",
          "text": [
            "Train Loss: 99.1913\n",
            "Val Loss: 100.3975\n",
            "Epoch 320 of 1000\n"
          ],
          "name": "stdout"
        },
        {
          "output_type": "stream",
          "text": [
            "938it [00:07, 117.81it/s]                         \n",
            "157it [00:00, 173.86it/s]                         \n",
            "  1%|▏         | 12/937 [00:00<00:07, 117.43it/s]"
          ],
          "name": "stderr"
        },
        {
          "output_type": "stream",
          "text": [
            "Train Loss: 99.1727\n",
            "Val Loss: 100.4173\n",
            "Epoch 321 of 1000\n"
          ],
          "name": "stdout"
        },
        {
          "output_type": "stream",
          "text": [
            "938it [00:08, 114.83it/s]                         \n",
            "157it [00:00, 173.79it/s]                         \n",
            "  1%|▏         | 13/937 [00:00<00:07, 122.91it/s]"
          ],
          "name": "stderr"
        },
        {
          "output_type": "stream",
          "text": [
            "Train Loss: 99.1918\n",
            "Val Loss: 100.4343\n",
            "Epoch 322 of 1000\n"
          ],
          "name": "stdout"
        },
        {
          "output_type": "stream",
          "text": [
            "938it [00:08, 116.62it/s]                         \n",
            "157it [00:00, 171.70it/s]                         \n",
            "  1%|          | 11/937 [00:00<00:08, 103.83it/s]"
          ],
          "name": "stderr"
        },
        {
          "output_type": "stream",
          "text": [
            "Train Loss: 99.1666\n",
            "Val Loss: 100.4643\n",
            "Epoch 323 of 1000\n"
          ],
          "name": "stdout"
        },
        {
          "output_type": "stream",
          "text": [
            "938it [00:08, 115.76it/s]                         \n",
            "157it [00:00, 166.23it/s]\n",
            "  1%|▏         | 12/937 [00:00<00:08, 115.58it/s]"
          ],
          "name": "stderr"
        },
        {
          "output_type": "stream",
          "text": [
            "Train Loss: 99.1614\n",
            "Val Loss: 100.2755\n",
            "Epoch 324 of 1000\n"
          ],
          "name": "stdout"
        },
        {
          "output_type": "stream",
          "text": [
            "938it [00:07, 117.87it/s]                         \n",
            "157it [00:00, 173.92it/s]                         \n",
            "  1%|▏         | 12/937 [00:00<00:07, 117.71it/s]"
          ],
          "name": "stderr"
        },
        {
          "output_type": "stream",
          "text": [
            "Train Loss: 99.1354\n",
            "Val Loss: 100.3666\n",
            "Epoch 325 of 1000\n"
          ],
          "name": "stdout"
        },
        {
          "output_type": "stream",
          "text": [
            "938it [00:08, 115.69it/s]\n",
            "157it [00:00, 173.21it/s]                         \n",
            "  1%|▏         | 12/937 [00:00<00:07, 117.85it/s]"
          ],
          "name": "stderr"
        },
        {
          "output_type": "stream",
          "text": [
            "Train Loss: 99.1546\n",
            "Val Loss: 100.3766\n",
            "Epoch 326 of 1000\n"
          ],
          "name": "stdout"
        },
        {
          "output_type": "stream",
          "text": [
            "938it [00:08, 115.63it/s]                         \n",
            "157it [00:00, 172.51it/s]                         \n",
            "  1%|▏         | 13/937 [00:00<00:07, 120.98it/s]"
          ],
          "name": "stderr"
        },
        {
          "output_type": "stream",
          "text": [
            "Train Loss: 99.1497\n",
            "Val Loss: 100.3236\n",
            "Epoch 327 of 1000\n"
          ],
          "name": "stdout"
        },
        {
          "output_type": "stream",
          "text": [
            "938it [00:07, 117.36it/s]                         \n",
            "157it [00:00, 167.77it/s]                         \n",
            "  1%|▏         | 12/937 [00:00<00:08, 112.57it/s]"
          ],
          "name": "stderr"
        },
        {
          "output_type": "stream",
          "text": [
            "Train Loss: 99.1765\n",
            "Val Loss: 100.3056\n",
            "Epoch 328 of 1000\n"
          ],
          "name": "stdout"
        },
        {
          "output_type": "stream",
          "text": [
            "938it [00:07, 117.63it/s]                         \n",
            "157it [00:00, 167.35it/s]                         \n",
            "  1%|▏         | 12/937 [00:00<00:07, 119.39it/s]"
          ],
          "name": "stderr"
        },
        {
          "output_type": "stream",
          "text": [
            "Train Loss: 99.1322\n",
            "Val Loss: 100.3668\n",
            "Epoch 329 of 1000\n"
          ],
          "name": "stdout"
        },
        {
          "output_type": "stream",
          "text": [
            "938it [00:07, 117.58it/s]                         \n",
            "157it [00:00, 172.77it/s]                         \n",
            "  1%|▏         | 13/937 [00:00<00:07, 124.68it/s]"
          ],
          "name": "stderr"
        },
        {
          "output_type": "stream",
          "text": [
            "Train Loss: 99.1106\n",
            "Val Loss: 100.3763\n",
            "Epoch 330 of 1000\n"
          ],
          "name": "stdout"
        },
        {
          "output_type": "stream",
          "text": [
            "938it [00:07, 117.49it/s]                         \n",
            "157it [00:00, 171.45it/s]                         \n",
            "  1%|▏         | 13/937 [00:00<00:07, 123.96it/s]"
          ],
          "name": "stderr"
        },
        {
          "output_type": "stream",
          "text": [
            "Train Loss: 99.1177\n",
            "Val Loss: 100.3544\n",
            "Epoch 331 of 1000\n"
          ],
          "name": "stdout"
        },
        {
          "output_type": "stream",
          "text": [
            "938it [00:08, 116.82it/s]                         \n",
            "157it [00:00, 172.51it/s]                         \n",
            "  1%|▏         | 13/937 [00:00<00:07, 121.47it/s]"
          ],
          "name": "stderr"
        },
        {
          "output_type": "stream",
          "text": [
            "Train Loss: 99.1182\n",
            "Val Loss: 100.3703\n",
            "Epoch 332 of 1000\n"
          ],
          "name": "stdout"
        },
        {
          "output_type": "stream",
          "text": [
            "938it [00:07, 117.63it/s]                         \n",
            "157it [00:00, 168.55it/s]                         \n",
            "  1%|▏         | 12/937 [00:00<00:08, 115.18it/s]"
          ],
          "name": "stderr"
        },
        {
          "output_type": "stream",
          "text": [
            "Train Loss: 99.1107\n",
            "Val Loss: 100.2924\n",
            "Epoch 333 of 1000\n"
          ],
          "name": "stdout"
        },
        {
          "output_type": "stream",
          "text": [
            "938it [00:08, 117.24it/s]                         \n",
            "157it [00:00, 172.20it/s]                         \n",
            "  1%|▏         | 12/937 [00:00<00:08, 112.70it/s]"
          ],
          "name": "stderr"
        },
        {
          "output_type": "stream",
          "text": [
            "Train Loss: 99.1011\n",
            "Val Loss: 100.2490\n",
            "Epoch 334 of 1000\n"
          ],
          "name": "stdout"
        },
        {
          "output_type": "stream",
          "text": [
            "938it [00:08, 117.09it/s]                         \n",
            "157it [00:00, 168.43it/s]                         \n",
            "  1%|▏         | 12/937 [00:00<00:08, 111.99it/s]"
          ],
          "name": "stderr"
        },
        {
          "output_type": "stream",
          "text": [
            "Train Loss: 99.0796\n",
            "Val Loss: 100.3046\n",
            "Epoch 335 of 1000\n"
          ],
          "name": "stdout"
        },
        {
          "output_type": "stream",
          "text": [
            "938it [00:08, 117.17it/s]                         \n",
            "157it [00:00, 170.63it/s]                         \n",
            "  1%|▏         | 12/937 [00:00<00:07, 118.53it/s]"
          ],
          "name": "stderr"
        },
        {
          "output_type": "stream",
          "text": [
            "Train Loss: 99.0686\n",
            "Val Loss: 100.3161\n",
            "Epoch 336 of 1000\n"
          ],
          "name": "stdout"
        },
        {
          "output_type": "stream",
          "text": [
            "938it [00:08, 116.06it/s]\n",
            "157it [00:00, 171.02it/s]                         \n",
            "  1%|▏         | 13/937 [00:00<00:07, 123.31it/s]"
          ],
          "name": "stderr"
        },
        {
          "output_type": "stream",
          "text": [
            "Train Loss: 99.0913\n",
            "Val Loss: 100.2863\n",
            "Epoch 337 of 1000\n"
          ],
          "name": "stdout"
        },
        {
          "output_type": "stream",
          "text": [
            "938it [00:08, 115.78it/s]                         \n",
            "157it [00:00, 167.34it/s]                         \n",
            "  1%|▏         | 12/937 [00:00<00:07, 119.78it/s]"
          ],
          "name": "stderr"
        },
        {
          "output_type": "stream",
          "text": [
            "Train Loss: 99.0899\n",
            "Val Loss: 100.3412\n",
            "Epoch 338 of 1000\n"
          ],
          "name": "stdout"
        },
        {
          "output_type": "stream",
          "text": [
            "938it [00:07, 118.04it/s]                         \n",
            "157it [00:00, 172.53it/s]                         \n",
            "  1%|▏         | 12/937 [00:00<00:07, 115.81it/s]"
          ],
          "name": "stderr"
        },
        {
          "output_type": "stream",
          "text": [
            "Train Loss: 99.0547\n",
            "Val Loss: 100.4022\n",
            "Epoch 339 of 1000\n"
          ],
          "name": "stdout"
        },
        {
          "output_type": "stream",
          "text": [
            "938it [00:08, 116.92it/s]                         \n",
            "157it [00:00, 175.84it/s]                         \n",
            "  1%|▏         | 13/937 [00:00<00:07, 121.21it/s]"
          ],
          "name": "stderr"
        },
        {
          "output_type": "stream",
          "text": [
            "Train Loss: 99.0750\n",
            "Val Loss: 100.4219\n",
            "Epoch 340 of 1000\n"
          ],
          "name": "stdout"
        },
        {
          "output_type": "stream",
          "text": [
            "938it [00:08, 116.44it/s]                         \n",
            "157it [00:00, 177.11it/s]                         \n",
            "  1%|▏         | 12/937 [00:00<00:08, 111.52it/s]"
          ],
          "name": "stderr"
        },
        {
          "output_type": "stream",
          "text": [
            "Train Loss: 99.0566\n",
            "Val Loss: 100.2597\n",
            "Epoch 341 of 1000\n"
          ],
          "name": "stdout"
        },
        {
          "output_type": "stream",
          "text": [
            "938it [00:08, 116.34it/s]                         \n",
            "157it [00:00, 174.55it/s]                         \n",
            "  1%|▏         | 12/937 [00:00<00:07, 118.46it/s]"
          ],
          "name": "stderr"
        },
        {
          "output_type": "stream",
          "text": [
            "Train Loss: 99.0142\n",
            "Val Loss: 100.3736\n",
            "Epoch 342 of 1000\n"
          ],
          "name": "stdout"
        },
        {
          "output_type": "stream",
          "text": [
            "938it [00:07, 117.34it/s]                         \n",
            "157it [00:00, 169.39it/s]                         \n",
            "  1%|▏         | 12/937 [00:00<00:07, 119.67it/s]"
          ],
          "name": "stderr"
        },
        {
          "output_type": "stream",
          "text": [
            "Train Loss: 99.0466\n",
            "Val Loss: 100.1921\n",
            "Epoch 343 of 1000\n"
          ],
          "name": "stdout"
        },
        {
          "output_type": "stream",
          "text": [
            "938it [00:08, 115.75it/s]                         \n",
            "157it [00:00, 168.39it/s]                         \n",
            "  1%|▏         | 12/937 [00:00<00:08, 115.60it/s]"
          ],
          "name": "stderr"
        },
        {
          "output_type": "stream",
          "text": [
            "Train Loss: 99.0624\n",
            "Val Loss: 100.3229\n",
            "Epoch 344 of 1000\n"
          ],
          "name": "stdout"
        },
        {
          "output_type": "stream",
          "text": [
            "938it [00:08, 116.42it/s]                         \n",
            "157it [00:00, 171.99it/s]                         \n",
            "  1%|▏         | 12/937 [00:00<00:08, 112.46it/s]"
          ],
          "name": "stderr"
        },
        {
          "output_type": "stream",
          "text": [
            "Train Loss: 99.0387\n",
            "Val Loss: 100.2981\n",
            "Epoch 345 of 1000\n"
          ],
          "name": "stdout"
        },
        {
          "output_type": "stream",
          "text": [
            "938it [00:08, 113.79it/s]                         \n",
            "157it [00:00, 167.88it/s]                         \n",
            "  1%|▏         | 12/937 [00:00<00:07, 116.30it/s]"
          ],
          "name": "stderr"
        },
        {
          "output_type": "stream",
          "text": [
            "Train Loss: 99.0338\n",
            "Val Loss: 100.3266\n",
            "Epoch 346 of 1000\n"
          ],
          "name": "stdout"
        },
        {
          "output_type": "stream",
          "text": [
            "938it [00:08, 114.76it/s]                         \n",
            "157it [00:00, 172.86it/s]                         \n",
            "  1%|▏         | 12/937 [00:00<00:08, 114.85it/s]"
          ],
          "name": "stderr"
        },
        {
          "output_type": "stream",
          "text": [
            "Train Loss: 99.0224\n",
            "Val Loss: 100.3293\n",
            "Epoch 347 of 1000\n"
          ],
          "name": "stdout"
        },
        {
          "output_type": "stream",
          "text": [
            "938it [00:07, 117.94it/s]                         \n",
            "157it [00:00, 170.55it/s]                         \n",
            "  1%|▏         | 12/937 [00:00<00:07, 117.05it/s]"
          ],
          "name": "stderr"
        },
        {
          "output_type": "stream",
          "text": [
            "Train Loss: 98.9953\n",
            "Val Loss: 100.2260\n",
            "Epoch 348 of 1000\n"
          ],
          "name": "stdout"
        },
        {
          "output_type": "stream",
          "text": [
            "938it [00:07, 118.48it/s]                         \n",
            "157it [00:00, 173.35it/s]                         \n",
            "  1%|▏         | 12/937 [00:00<00:08, 114.12it/s]"
          ],
          "name": "stderr"
        },
        {
          "output_type": "stream",
          "text": [
            "Train Loss: 98.9843\n",
            "Val Loss: 100.2666\n",
            "Epoch 349 of 1000\n"
          ],
          "name": "stdout"
        },
        {
          "output_type": "stream",
          "text": [
            "938it [00:07, 118.80it/s]                         \n",
            "157it [00:00, 174.42it/s]                         \n",
            "  1%|▏         | 13/937 [00:00<00:07, 122.39it/s]"
          ],
          "name": "stderr"
        },
        {
          "output_type": "stream",
          "text": [
            "Train Loss: 98.9974\n",
            "Val Loss: 100.2859\n",
            "Epoch 350 of 1000\n"
          ],
          "name": "stdout"
        },
        {
          "output_type": "stream",
          "text": [
            "938it [00:07, 118.33it/s]                         \n",
            "157it [00:00, 170.03it/s]\n",
            "  1%|          | 11/937 [00:00<00:08, 108.52it/s]"
          ],
          "name": "stderr"
        },
        {
          "output_type": "stream",
          "text": [
            "Train Loss: 98.9911\n",
            "Val Loss: 100.2880\n",
            "Epoch 351 of 1000\n"
          ],
          "name": "stdout"
        },
        {
          "output_type": "stream",
          "text": [
            "938it [00:07, 117.57it/s]\n",
            "157it [00:00, 171.48it/s]                         \n",
            "  1%|▏         | 12/937 [00:00<00:07, 118.95it/s]"
          ],
          "name": "stderr"
        },
        {
          "output_type": "stream",
          "text": [
            "Train Loss: 98.9782\n",
            "Val Loss: 100.2650\n",
            "Epoch 352 of 1000\n"
          ],
          "name": "stdout"
        },
        {
          "output_type": "stream",
          "text": [
            "938it [00:08, 116.57it/s]                         \n",
            "157it [00:00, 170.66it/s]                         \n",
            "  1%|          | 11/937 [00:00<00:08, 105.37it/s]"
          ],
          "name": "stderr"
        },
        {
          "output_type": "stream",
          "text": [
            "Train Loss: 98.9912\n",
            "Val Loss: 100.3252\n",
            "Epoch 353 of 1000\n"
          ],
          "name": "stdout"
        },
        {
          "output_type": "stream",
          "text": [
            "938it [00:08, 115.88it/s]                         \n",
            "157it [00:00, 158.54it/s]                         \n",
            "  1%|▏         | 12/937 [00:00<00:07, 116.41it/s]"
          ],
          "name": "stderr"
        },
        {
          "output_type": "stream",
          "text": [
            "Train Loss: 98.9512\n",
            "Val Loss: 100.2461\n",
            "Epoch 354 of 1000\n"
          ],
          "name": "stdout"
        },
        {
          "output_type": "stream",
          "text": [
            "938it [00:07, 118.96it/s]                         \n",
            "157it [00:00, 172.11it/s]                         \n",
            "  1%|▏         | 12/937 [00:00<00:08, 113.31it/s]"
          ],
          "name": "stderr"
        },
        {
          "output_type": "stream",
          "text": [
            "Train Loss: 98.9736\n",
            "Val Loss: 100.2961\n",
            "Epoch 355 of 1000\n"
          ],
          "name": "stdout"
        },
        {
          "output_type": "stream",
          "text": [
            "938it [00:07, 118.64it/s]                         \n",
            "157it [00:00, 168.44it/s]                         \n",
            "  1%|          | 11/937 [00:00<00:08, 109.45it/s]"
          ],
          "name": "stderr"
        },
        {
          "output_type": "stream",
          "text": [
            "Train Loss: 98.9718\n",
            "Val Loss: 100.2203\n",
            "Epoch 356 of 1000\n"
          ],
          "name": "stdout"
        },
        {
          "output_type": "stream",
          "text": [
            "938it [00:08, 117.06it/s]                         \n",
            "157it [00:00, 171.06it/s]                         \n",
            "  1%|▏         | 12/937 [00:00<00:08, 114.59it/s]"
          ],
          "name": "stderr"
        },
        {
          "output_type": "stream",
          "text": [
            "Train Loss: 98.9507\n",
            "Val Loss: 100.3462\n",
            "Epoch 357 of 1000\n"
          ],
          "name": "stdout"
        },
        {
          "output_type": "stream",
          "text": [
            "938it [00:07, 117.97it/s]                         \n",
            "157it [00:00, 174.16it/s]                         \n",
            "  1%|▏         | 13/937 [00:00<00:07, 121.30it/s]"
          ],
          "name": "stderr"
        },
        {
          "output_type": "stream",
          "text": [
            "Train Loss: 98.9282\n",
            "Val Loss: 100.2869\n",
            "Epoch 358 of 1000\n"
          ],
          "name": "stdout"
        },
        {
          "output_type": "stream",
          "text": [
            "938it [00:07, 117.31it/s]                         \n",
            "157it [00:00, 174.72it/s]                         \n",
            "  1%|▏         | 12/937 [00:00<00:07, 119.57it/s]"
          ],
          "name": "stderr"
        },
        {
          "output_type": "stream",
          "text": [
            "Train Loss: 98.9485\n",
            "Val Loss: 100.3015\n",
            "Epoch 359 of 1000\n"
          ],
          "name": "stdout"
        },
        {
          "output_type": "stream",
          "text": [
            "938it [00:08, 116.78it/s]                         \n",
            "157it [00:00, 169.46it/s]                         \n",
            "  1%|▏         | 12/937 [00:00<00:08, 112.94it/s]"
          ],
          "name": "stderr"
        },
        {
          "output_type": "stream",
          "text": [
            "Train Loss: 98.9437\n",
            "Val Loss: 100.2669\n",
            "Epoch 360 of 1000\n"
          ],
          "name": "stdout"
        },
        {
          "output_type": "stream",
          "text": [
            "938it [00:08, 116.66it/s]                         \n",
            "157it [00:00, 172.44it/s]                         \n",
            "  1%|▏         | 12/937 [00:00<00:07, 117.12it/s]"
          ],
          "name": "stderr"
        },
        {
          "output_type": "stream",
          "text": [
            "Train Loss: 98.9279\n",
            "Val Loss: 100.2410\n",
            "Epoch 361 of 1000\n"
          ],
          "name": "stdout"
        },
        {
          "output_type": "stream",
          "text": [
            "938it [00:08, 116.98it/s]                         \n",
            "157it [00:00, 165.51it/s]                         \n",
            "  1%|▏         | 12/937 [00:00<00:07, 118.17it/s]"
          ],
          "name": "stderr"
        },
        {
          "output_type": "stream",
          "text": [
            "Train Loss: 98.9356\n",
            "Val Loss: 100.1375\n",
            "Epoch 362 of 1000\n"
          ],
          "name": "stdout"
        },
        {
          "output_type": "stream",
          "text": [
            "938it [00:08, 116.01it/s]                         \n",
            "157it [00:00, 172.66it/s]                         \n",
            "  1%|▏         | 12/937 [00:00<00:07, 119.91it/s]"
          ],
          "name": "stderr"
        },
        {
          "output_type": "stream",
          "text": [
            "Train Loss: 98.9406\n",
            "Val Loss: 100.1911\n",
            "Epoch 363 of 1000\n"
          ],
          "name": "stdout"
        },
        {
          "output_type": "stream",
          "text": [
            "938it [00:07, 117.75it/s]                         \n",
            "157it [00:00, 170.45it/s]                         \n",
            "  1%|▏         | 12/937 [00:00<00:07, 118.25it/s]"
          ],
          "name": "stderr"
        },
        {
          "output_type": "stream",
          "text": [
            "Train Loss: 98.9081\n",
            "Val Loss: 100.2356\n",
            "Epoch 364 of 1000\n"
          ],
          "name": "stdout"
        },
        {
          "output_type": "stream",
          "text": [
            "938it [00:07, 117.59it/s]                         \n",
            "157it [00:00, 171.27it/s]                         \n",
            "  1%|▏         | 12/937 [00:00<00:07, 118.38it/s]"
          ],
          "name": "stderr"
        },
        {
          "output_type": "stream",
          "text": [
            "Train Loss: 98.9052\n",
            "Val Loss: 100.2625\n",
            "Epoch 365 of 1000\n"
          ],
          "name": "stdout"
        },
        {
          "output_type": "stream",
          "text": [
            "938it [00:07, 118.55it/s]                         \n",
            "157it [00:00, 172.44it/s]                         \n",
            "  1%|▏         | 12/937 [00:00<00:07, 116.15it/s]"
          ],
          "name": "stderr"
        },
        {
          "output_type": "stream",
          "text": [
            "Train Loss: 98.9145\n",
            "Val Loss: 100.2225\n",
            "Epoch 366 of 1000\n"
          ],
          "name": "stdout"
        },
        {
          "output_type": "stream",
          "text": [
            "938it [00:08, 117.21it/s]                         \n",
            "157it [00:00, 171.41it/s]                         \n",
            "  1%|▏         | 12/937 [00:00<00:08, 115.35it/s]"
          ],
          "name": "stderr"
        },
        {
          "output_type": "stream",
          "text": [
            "Train Loss: 98.8591\n",
            "Val Loss: 100.1861\n",
            "Epoch 367 of 1000\n"
          ],
          "name": "stdout"
        },
        {
          "output_type": "stream",
          "text": [
            "938it [00:07, 117.62it/s]                         \n",
            "157it [00:00, 173.00it/s]                         \n",
            "  1%|▏         | 12/937 [00:00<00:07, 118.05it/s]"
          ],
          "name": "stderr"
        },
        {
          "output_type": "stream",
          "text": [
            "Train Loss: 98.8823\n",
            "Val Loss: 100.2413\n",
            "Epoch 368 of 1000\n"
          ],
          "name": "stdout"
        },
        {
          "output_type": "stream",
          "text": [
            "938it [00:08, 116.79it/s]                         \n",
            "157it [00:00, 174.80it/s]                         \n",
            "  1%|▏         | 12/937 [00:00<00:07, 117.84it/s]"
          ],
          "name": "stderr"
        },
        {
          "output_type": "stream",
          "text": [
            "Train Loss: 98.8934\n",
            "Val Loss: 100.2356\n",
            "Epoch 369 of 1000\n"
          ],
          "name": "stdout"
        },
        {
          "output_type": "stream",
          "text": [
            "938it [00:07, 117.27it/s]                         \n",
            "157it [00:00, 167.70it/s]                         \n",
            "  1%|▏         | 13/937 [00:00<00:07, 120.84it/s]"
          ],
          "name": "stderr"
        },
        {
          "output_type": "stream",
          "text": [
            "Train Loss: 98.8779\n",
            "Val Loss: 100.1984\n",
            "Epoch 370 of 1000\n"
          ],
          "name": "stdout"
        },
        {
          "output_type": "stream",
          "text": [
            "938it [00:08, 115.36it/s]                         \n",
            "157it [00:00, 170.62it/s]                         \n",
            "  1%|▏         | 12/937 [00:00<00:07, 117.17it/s]"
          ],
          "name": "stderr"
        },
        {
          "output_type": "stream",
          "text": [
            "Train Loss: 98.8546\n",
            "Val Loss: 100.2118\n",
            "Epoch 371 of 1000\n"
          ],
          "name": "stdout"
        },
        {
          "output_type": "stream",
          "text": [
            "938it [00:08, 116.11it/s]                         \n",
            "157it [00:00, 165.44it/s]                         \n",
            "  1%|▏         | 13/937 [00:00<00:07, 118.69it/s]"
          ],
          "name": "stderr"
        },
        {
          "output_type": "stream",
          "text": [
            "Train Loss: 98.8566\n",
            "Val Loss: 100.1310\n",
            "Epoch 372 of 1000\n"
          ],
          "name": "stdout"
        },
        {
          "output_type": "stream",
          "text": [
            "938it [00:08, 114.93it/s]                         \n",
            "157it [00:00, 160.64it/s]                         \n",
            "  1%|▏         | 12/937 [00:00<00:08, 114.40it/s]"
          ],
          "name": "stderr"
        },
        {
          "output_type": "stream",
          "text": [
            "Train Loss: 98.8718\n",
            "Val Loss: 100.1928\n",
            "Epoch 373 of 1000\n"
          ],
          "name": "stdout"
        },
        {
          "output_type": "stream",
          "text": [
            "938it [00:08, 116.02it/s]                         \n",
            "157it [00:00, 169.31it/s]                         \n",
            "  1%|▏         | 12/937 [00:00<00:07, 117.68it/s]"
          ],
          "name": "stderr"
        },
        {
          "output_type": "stream",
          "text": [
            "Train Loss: 98.8324\n",
            "Val Loss: 100.1934\n",
            "Epoch 374 of 1000\n"
          ],
          "name": "stdout"
        },
        {
          "output_type": "stream",
          "text": [
            "938it [00:08, 114.47it/s]                         \n",
            "157it [00:00, 170.72it/s]\n",
            "  1%|          | 11/937 [00:00<00:08, 106.22it/s]"
          ],
          "name": "stderr"
        },
        {
          "output_type": "stream",
          "text": [
            "Train Loss: 98.8401\n",
            "Val Loss: 100.1249\n",
            "Epoch 375 of 1000\n"
          ],
          "name": "stdout"
        },
        {
          "output_type": "stream",
          "text": [
            "938it [00:08, 116.81it/s]                         \n",
            "157it [00:00, 165.50it/s]                         \n",
            "  1%|▏         | 12/937 [00:00<00:08, 108.36it/s]"
          ],
          "name": "stderr"
        },
        {
          "output_type": "stream",
          "text": [
            "Train Loss: 98.8359\n",
            "Val Loss: 100.1858\n",
            "Epoch 376 of 1000\n"
          ],
          "name": "stdout"
        },
        {
          "output_type": "stream",
          "text": [
            "938it [00:08, 115.23it/s]                         \n",
            "157it [00:00, 167.17it/s]                         \n",
            "  1%|▏         | 12/937 [00:00<00:07, 117.56it/s]"
          ],
          "name": "stderr"
        },
        {
          "output_type": "stream",
          "text": [
            "Train Loss: 98.7981\n",
            "Val Loss: 100.2437\n",
            "Epoch 377 of 1000\n"
          ],
          "name": "stdout"
        },
        {
          "output_type": "stream",
          "text": [
            "938it [00:08, 114.83it/s]                         \n",
            "157it [00:00, 170.87it/s]                         \n",
            "  1%|▏         | 12/937 [00:00<00:07, 117.68it/s]"
          ],
          "name": "stderr"
        },
        {
          "output_type": "stream",
          "text": [
            "Train Loss: 98.8180\n",
            "Val Loss: 100.2201\n",
            "Epoch 378 of 1000\n"
          ],
          "name": "stdout"
        },
        {
          "output_type": "stream",
          "text": [
            "938it [00:08, 116.71it/s]                         \n",
            "157it [00:00, 164.50it/s]                         \n",
            "  1%|▏         | 12/937 [00:00<00:07, 118.03it/s]"
          ],
          "name": "stderr"
        },
        {
          "output_type": "stream",
          "text": [
            "Train Loss: 98.8232\n",
            "Val Loss: 100.1959\n",
            "Epoch 379 of 1000\n"
          ],
          "name": "stdout"
        },
        {
          "output_type": "stream",
          "text": [
            "938it [00:08, 116.19it/s]                         \n",
            "157it [00:00, 170.38it/s]\n",
            "  1%|▏         | 12/937 [00:00<00:07, 118.11it/s]"
          ],
          "name": "stderr"
        },
        {
          "output_type": "stream",
          "text": [
            "Train Loss: 98.8039\n",
            "Val Loss: 100.1382\n",
            "Epoch 380 of 1000\n"
          ],
          "name": "stdout"
        },
        {
          "output_type": "stream",
          "text": [
            "938it [00:08, 116.79it/s]\n",
            "157it [00:00, 167.17it/s]                         \n",
            "  1%|▏         | 12/937 [00:00<00:07, 115.79it/s]"
          ],
          "name": "stderr"
        },
        {
          "output_type": "stream",
          "text": [
            "Train Loss: 98.8321\n",
            "Val Loss: 100.1875\n",
            "Epoch 381 of 1000\n"
          ],
          "name": "stdout"
        },
        {
          "output_type": "stream",
          "text": [
            "938it [00:08, 115.68it/s]                         \n",
            "157it [00:00, 171.47it/s]                         \n",
            "  1%|▏         | 12/937 [00:00<00:07, 117.04it/s]"
          ],
          "name": "stderr"
        },
        {
          "output_type": "stream",
          "text": [
            "Train Loss: 98.8002\n",
            "Val Loss: 100.1935\n",
            "Epoch 382 of 1000\n"
          ],
          "name": "stdout"
        },
        {
          "output_type": "stream",
          "text": [
            "938it [00:08, 116.81it/s]\n",
            "157it [00:00, 171.52it/s]                         \n",
            "  1%|▏         | 13/937 [00:00<00:07, 119.09it/s]"
          ],
          "name": "stderr"
        },
        {
          "output_type": "stream",
          "text": [
            "Train Loss: 98.7843\n",
            "Val Loss: 100.2213\n",
            "Epoch 383 of 1000\n"
          ],
          "name": "stdout"
        },
        {
          "output_type": "stream",
          "text": [
            "938it [00:08, 115.76it/s]                         \n",
            "157it [00:00, 172.90it/s]                         \n",
            "  1%|▏         | 12/937 [00:00<00:07, 116.68it/s]"
          ],
          "name": "stderr"
        },
        {
          "output_type": "stream",
          "text": [
            "Train Loss: 98.8217\n",
            "Val Loss: 100.2033\n",
            "Epoch 384 of 1000\n"
          ],
          "name": "stdout"
        },
        {
          "output_type": "stream",
          "text": [
            "938it [00:08, 116.59it/s]\n",
            "157it [00:00, 170.03it/s]                         \n",
            "  1%|          | 11/937 [00:00<00:08, 105.78it/s]"
          ],
          "name": "stderr"
        },
        {
          "output_type": "stream",
          "text": [
            "Train Loss: 98.8100\n",
            "Val Loss: 100.2216\n",
            "Epoch 385 of 1000\n"
          ],
          "name": "stdout"
        },
        {
          "output_type": "stream",
          "text": [
            "938it [00:08, 116.89it/s]\n",
            "157it [00:00, 170.65it/s]                         \n",
            "  1%|▏         | 13/937 [00:00<00:07, 120.86it/s]"
          ],
          "name": "stderr"
        },
        {
          "output_type": "stream",
          "text": [
            "Train Loss: 98.7748\n",
            "Val Loss: 100.1523\n",
            "Epoch 386 of 1000\n"
          ],
          "name": "stdout"
        },
        {
          "output_type": "stream",
          "text": [
            "938it [00:08, 115.63it/s]                         \n",
            "157it [00:00, 170.72it/s]                         \n",
            "  1%|▏         | 13/937 [00:00<00:07, 120.96it/s]"
          ],
          "name": "stderr"
        },
        {
          "output_type": "stream",
          "text": [
            "Train Loss: 98.7652\n",
            "Val Loss: 100.1482\n",
            "Epoch 387 of 1000\n"
          ],
          "name": "stdout"
        },
        {
          "output_type": "stream",
          "text": [
            "938it [00:08, 116.82it/s]                         \n",
            "157it [00:00, 174.74it/s]                         \n",
            "  1%|▏         | 12/937 [00:00<00:07, 119.90it/s]"
          ],
          "name": "stderr"
        },
        {
          "output_type": "stream",
          "text": [
            "Train Loss: 98.7842\n",
            "Val Loss: 100.1828\n",
            "Epoch 388 of 1000\n"
          ],
          "name": "stdout"
        },
        {
          "output_type": "stream",
          "text": [
            "938it [00:08, 116.38it/s]                         \n",
            "157it [00:00, 169.34it/s]                         \n",
            "  1%|▏         | 12/937 [00:00<00:07, 119.17it/s]"
          ],
          "name": "stderr"
        },
        {
          "output_type": "stream",
          "text": [
            "Train Loss: 98.7755\n",
            "Val Loss: 100.0944\n",
            "Epoch 389 of 1000\n"
          ],
          "name": "stdout"
        },
        {
          "output_type": "stream",
          "text": [
            "938it [00:08, 114.82it/s]                         \n",
            "157it [00:00, 168.21it/s]                         \n",
            "  1%|▏         | 12/937 [00:00<00:07, 118.62it/s]"
          ],
          "name": "stderr"
        },
        {
          "output_type": "stream",
          "text": [
            "Train Loss: 98.7494\n",
            "Val Loss: 100.0778\n",
            "Epoch 390 of 1000\n"
          ],
          "name": "stdout"
        },
        {
          "output_type": "stream",
          "text": [
            "938it [00:08, 116.06it/s]                         \n",
            "157it [00:00, 166.84it/s]                         \n",
            "  1%|▏         | 12/937 [00:00<00:08, 113.79it/s]"
          ],
          "name": "stderr"
        },
        {
          "output_type": "stream",
          "text": [
            "Train Loss: 98.7548\n",
            "Val Loss: 100.1208\n",
            "Epoch 391 of 1000\n"
          ],
          "name": "stdout"
        },
        {
          "output_type": "stream",
          "text": [
            "938it [00:08, 115.79it/s]                         \n",
            "157it [00:00, 167.41it/s]                         \n",
            "  1%|▏         | 12/937 [00:00<00:08, 110.88it/s]"
          ],
          "name": "stderr"
        },
        {
          "output_type": "stream",
          "text": [
            "Train Loss: 98.7727\n",
            "Val Loss: 100.1676\n",
            "Epoch 392 of 1000\n"
          ],
          "name": "stdout"
        },
        {
          "output_type": "stream",
          "text": [
            "938it [00:08, 116.31it/s]                         \n",
            "157it [00:00, 171.39it/s]                         \n",
            "  1%|▏         | 12/937 [00:00<00:07, 117.09it/s]"
          ],
          "name": "stderr"
        },
        {
          "output_type": "stream",
          "text": [
            "Train Loss: 98.7247\n",
            "Val Loss: 100.1550\n",
            "Epoch 393 of 1000\n"
          ],
          "name": "stdout"
        },
        {
          "output_type": "stream",
          "text": [
            "938it [00:08, 116.44it/s]                         \n",
            "157it [00:00, 173.36it/s]                         \n",
            "  1%|▏         | 12/937 [00:00<00:08, 114.03it/s]"
          ],
          "name": "stderr"
        },
        {
          "output_type": "stream",
          "text": [
            "Train Loss: 98.7117\n",
            "Val Loss: 100.1349\n",
            "Epoch 394 of 1000\n"
          ],
          "name": "stdout"
        },
        {
          "output_type": "stream",
          "text": [
            "938it [00:08, 117.23it/s]                         \n",
            "157it [00:00, 159.45it/s]                         \n",
            "  1%|▏         | 12/937 [00:00<00:07, 117.21it/s]"
          ],
          "name": "stderr"
        },
        {
          "output_type": "stream",
          "text": [
            "Train Loss: 98.7105\n",
            "Val Loss: 100.1229\n",
            "Epoch 395 of 1000\n"
          ],
          "name": "stdout"
        },
        {
          "output_type": "stream",
          "text": [
            "938it [00:08, 116.41it/s]                         \n",
            "157it [00:00, 174.14it/s]                         \n",
            "  1%|▏         | 12/937 [00:00<00:07, 116.13it/s]"
          ],
          "name": "stderr"
        },
        {
          "output_type": "stream",
          "text": [
            "Train Loss: 98.7134\n",
            "Val Loss: 100.1791\n",
            "Epoch 396 of 1000\n"
          ],
          "name": "stdout"
        },
        {
          "output_type": "stream",
          "text": [
            "938it [00:08, 116.03it/s]\n",
            "157it [00:00, 173.59it/s]                         \n",
            "  1%|▏         | 13/937 [00:00<00:07, 120.93it/s]"
          ],
          "name": "stderr"
        },
        {
          "output_type": "stream",
          "text": [
            "Train Loss: 98.7185\n",
            "Val Loss: 100.1125\n",
            "Epoch 397 of 1000\n"
          ],
          "name": "stdout"
        },
        {
          "output_type": "stream",
          "text": [
            "938it [00:08, 114.34it/s]                         \n",
            "157it [00:00, 172.91it/s]                         \n",
            "  1%|▏         | 12/937 [00:00<00:08, 114.79it/s]"
          ],
          "name": "stderr"
        },
        {
          "output_type": "stream",
          "text": [
            "Train Loss: 98.7240\n",
            "Val Loss: 100.0462\n",
            "Epoch 398 of 1000\n"
          ],
          "name": "stdout"
        },
        {
          "output_type": "stream",
          "text": [
            "938it [00:08, 116.13it/s]                         \n",
            "157it [00:00, 173.74it/s]                         \n",
            "  1%|▏         | 12/937 [00:00<00:08, 114.76it/s]"
          ],
          "name": "stderr"
        },
        {
          "output_type": "stream",
          "text": [
            "Train Loss: 98.7294\n",
            "Val Loss: 100.0986\n",
            "Epoch 399 of 1000\n"
          ],
          "name": "stdout"
        },
        {
          "output_type": "stream",
          "text": [
            "938it [00:08, 116.35it/s]\n",
            "157it [00:00, 170.42it/s]                         \n",
            "  1%|▏         | 12/937 [00:00<00:08, 115.20it/s]"
          ],
          "name": "stderr"
        },
        {
          "output_type": "stream",
          "text": [
            "Train Loss: 98.7089\n",
            "Val Loss: 100.0635\n",
            "Epoch 400 of 1000\n"
          ],
          "name": "stdout"
        },
        {
          "output_type": "stream",
          "text": [
            "938it [00:08, 116.93it/s]                         \n",
            "157it [00:00, 169.88it/s]\n",
            "  1%|▏         | 13/937 [00:00<00:07, 121.17it/s]"
          ],
          "name": "stderr"
        },
        {
          "output_type": "stream",
          "text": [
            "Train Loss: 98.6949\n",
            "Val Loss: 100.1845\n",
            "Epoch 401 of 1000\n"
          ],
          "name": "stdout"
        },
        {
          "output_type": "stream",
          "text": [
            "938it [00:08, 116.78it/s]                         \n",
            "157it [00:00, 171.47it/s]                         \n",
            "  1%|          | 11/937 [00:00<00:08, 108.42it/s]"
          ],
          "name": "stderr"
        },
        {
          "output_type": "stream",
          "text": [
            "Train Loss: 98.6855\n",
            "Val Loss: 100.1263\n",
            "Epoch 402 of 1000\n"
          ],
          "name": "stdout"
        },
        {
          "output_type": "stream",
          "text": [
            "938it [00:07, 117.55it/s]                         \n",
            "157it [00:00, 167.35it/s]                         \n",
            "  1%|▏         | 12/937 [00:00<00:08, 114.96it/s]"
          ],
          "name": "stderr"
        },
        {
          "output_type": "stream",
          "text": [
            "Train Loss: 98.6935\n",
            "Val Loss: 100.1255\n",
            "Epoch 403 of 1000\n"
          ],
          "name": "stdout"
        },
        {
          "output_type": "stream",
          "text": [
            "938it [00:08, 116.26it/s]                         \n",
            "157it [00:00, 173.81it/s]                         \n",
            "  1%|▏         | 12/937 [00:00<00:08, 115.05it/s]"
          ],
          "name": "stderr"
        },
        {
          "output_type": "stream",
          "text": [
            "Train Loss: 98.6777\n",
            "Val Loss: 100.0343\n",
            "Epoch 404 of 1000\n"
          ],
          "name": "stdout"
        },
        {
          "output_type": "stream",
          "text": [
            "938it [00:08, 116.91it/s]                         \n",
            "157it [00:00, 166.96it/s]                         \n",
            "  1%|▏         | 12/937 [00:00<00:08, 115.48it/s]"
          ],
          "name": "stderr"
        },
        {
          "output_type": "stream",
          "text": [
            "Train Loss: 98.6891\n",
            "Val Loss: 100.0343\n",
            "Epoch 405 of 1000\n"
          ],
          "name": "stdout"
        },
        {
          "output_type": "stream",
          "text": [
            "938it [00:08, 116.04it/s]\n",
            "157it [00:00, 170.53it/s]                         \n",
            "  1%|▏         | 12/937 [00:00<00:08, 115.62it/s]"
          ],
          "name": "stderr"
        },
        {
          "output_type": "stream",
          "text": [
            "Train Loss: 98.6478\n",
            "Val Loss: 100.1275\n",
            "Epoch 406 of 1000\n"
          ],
          "name": "stdout"
        },
        {
          "output_type": "stream",
          "text": [
            "938it [00:08, 114.06it/s]                         \n",
            "157it [00:00, 171.28it/s]                         \n",
            "  1%|          | 11/937 [00:00<00:08, 106.00it/s]"
          ],
          "name": "stderr"
        },
        {
          "output_type": "stream",
          "text": [
            "Train Loss: 98.6768\n",
            "Val Loss: 100.0055\n",
            "Epoch 407 of 1000\n"
          ],
          "name": "stdout"
        },
        {
          "output_type": "stream",
          "text": [
            "938it [00:08, 115.17it/s]                         \n",
            "157it [00:00, 175.50it/s]                         \n",
            "  1%|▏         | 12/937 [00:00<00:07, 118.22it/s]"
          ],
          "name": "stderr"
        },
        {
          "output_type": "stream",
          "text": [
            "Train Loss: 98.6740\n",
            "Val Loss: 100.1626\n",
            "Epoch 408 of 1000\n"
          ],
          "name": "stdout"
        },
        {
          "output_type": "stream",
          "text": [
            "938it [00:08, 116.77it/s]                         \n",
            "157it [00:00, 172.46it/s]                         \n",
            "  1%|▏         | 12/937 [00:00<00:07, 119.19it/s]"
          ],
          "name": "stderr"
        },
        {
          "output_type": "stream",
          "text": [
            "Train Loss: 98.6489\n",
            "Val Loss: 100.1344\n",
            "Epoch 409 of 1000\n"
          ],
          "name": "stdout"
        },
        {
          "output_type": "stream",
          "text": [
            "938it [00:08, 116.84it/s]                         \n",
            "157it [00:00, 164.92it/s]                         \n",
            "  1%|▏         | 12/937 [00:00<00:08, 114.50it/s]"
          ],
          "name": "stderr"
        },
        {
          "output_type": "stream",
          "text": [
            "Train Loss: 98.6138\n",
            "Val Loss: 100.0528\n",
            "Epoch 410 of 1000\n"
          ],
          "name": "stdout"
        },
        {
          "output_type": "stream",
          "text": [
            "938it [00:08, 114.81it/s]                         \n",
            "157it [00:00, 173.90it/s]                         \n",
            "  1%|          | 11/937 [00:00<00:08, 103.95it/s]"
          ],
          "name": "stderr"
        },
        {
          "output_type": "stream",
          "text": [
            "Train Loss: 98.6758\n",
            "Val Loss: 100.0191\n",
            "Epoch 411 of 1000\n"
          ],
          "name": "stdout"
        },
        {
          "output_type": "stream",
          "text": [
            "938it [00:08, 114.39it/s]                         \n",
            "157it [00:00, 169.92it/s]                         \n",
            "  1%|▏         | 12/937 [00:00<00:08, 115.58it/s]"
          ],
          "name": "stderr"
        },
        {
          "output_type": "stream",
          "text": [
            "Train Loss: 98.6615\n",
            "Val Loss: 100.1577\n",
            "Epoch 412 of 1000\n"
          ],
          "name": "stdout"
        },
        {
          "output_type": "stream",
          "text": [
            "938it [00:08, 116.46it/s]                         \n",
            "157it [00:00, 170.91it/s]                         \n",
            "  1%|          | 10/937 [00:00<00:09, 99.87it/s]"
          ],
          "name": "stderr"
        },
        {
          "output_type": "stream",
          "text": [
            "Train Loss: 98.6219\n",
            "Val Loss: 100.0610\n",
            "Epoch 413 of 1000\n"
          ],
          "name": "stdout"
        },
        {
          "output_type": "stream",
          "text": [
            "938it [00:08, 114.58it/s]                         \n",
            "157it [00:00, 169.82it/s]                         \n",
            "  1%|▏         | 12/937 [00:00<00:07, 116.58it/s]"
          ],
          "name": "stderr"
        },
        {
          "output_type": "stream",
          "text": [
            "Train Loss: 98.6224\n",
            "Val Loss: 100.0940\n",
            "Epoch 414 of 1000\n"
          ],
          "name": "stdout"
        },
        {
          "output_type": "stream",
          "text": [
            "938it [00:08, 114.30it/s]                         \n",
            "157it [00:00, 164.87it/s]                         \n",
            "  1%|          | 11/937 [00:00<00:08, 109.08it/s]"
          ],
          "name": "stderr"
        },
        {
          "output_type": "stream",
          "text": [
            "Train Loss: 98.6175\n",
            "Val Loss: 100.0008\n",
            "Epoch 415 of 1000\n"
          ],
          "name": "stdout"
        },
        {
          "output_type": "stream",
          "text": [
            "938it [00:08, 111.53it/s]\n",
            "157it [00:00, 168.05it/s]                         \n",
            "  1%|▏         | 12/937 [00:00<00:08, 114.90it/s]"
          ],
          "name": "stderr"
        },
        {
          "output_type": "stream",
          "text": [
            "Train Loss: 98.6196\n",
            "Val Loss: 100.0311\n",
            "Epoch 416 of 1000\n"
          ],
          "name": "stdout"
        },
        {
          "output_type": "stream",
          "text": [
            "938it [00:08, 116.88it/s]                         \n",
            "157it [00:00, 170.41it/s]                         \n",
            "  1%|          | 11/937 [00:00<00:08, 108.45it/s]"
          ],
          "name": "stderr"
        },
        {
          "output_type": "stream",
          "text": [
            "Train Loss: 98.6239\n",
            "Val Loss: 100.0678\n",
            "Epoch 417 of 1000\n"
          ],
          "name": "stdout"
        },
        {
          "output_type": "stream",
          "text": [
            "938it [00:08, 116.52it/s]                         \n",
            "157it [00:00, 170.25it/s]                         \n",
            "  1%|▏         | 12/937 [00:00<00:07, 117.85it/s]"
          ],
          "name": "stderr"
        },
        {
          "output_type": "stream",
          "text": [
            "Train Loss: 98.6211\n",
            "Val Loss: 100.0186\n",
            "Epoch 418 of 1000\n"
          ],
          "name": "stdout"
        },
        {
          "output_type": "stream",
          "text": [
            "938it [00:07, 117.27it/s]                         \n",
            "157it [00:00, 170.79it/s]                         \n",
            "  1%|▏         | 12/937 [00:00<00:07, 118.67it/s]"
          ],
          "name": "stderr"
        },
        {
          "output_type": "stream",
          "text": [
            "Train Loss: 98.6302\n",
            "Val Loss: 100.0298\n",
            "Epoch 419 of 1000\n"
          ],
          "name": "stdout"
        },
        {
          "output_type": "stream",
          "text": [
            "938it [00:08, 115.16it/s]                         \n",
            "157it [00:00, 167.79it/s]                         \n",
            "  1%|▏         | 12/937 [00:00<00:07, 115.79it/s]"
          ],
          "name": "stderr"
        },
        {
          "output_type": "stream",
          "text": [
            "Train Loss: 98.6109\n",
            "Val Loss: 100.1320\n",
            "Epoch 420 of 1000\n"
          ],
          "name": "stdout"
        },
        {
          "output_type": "stream",
          "text": [
            "938it [00:08, 113.93it/s]                         \n",
            "157it [00:00, 170.50it/s]                         \n",
            "  1%|▏         | 12/937 [00:00<00:08, 112.35it/s]"
          ],
          "name": "stderr"
        },
        {
          "output_type": "stream",
          "text": [
            "Train Loss: 98.6041\n",
            "Val Loss: 100.1257\n",
            "Epoch 421 of 1000\n"
          ],
          "name": "stdout"
        },
        {
          "output_type": "stream",
          "text": [
            "938it [00:08, 113.98it/s]                         \n",
            "157it [00:00, 178.61it/s]                         \n",
            "  1%|▏         | 12/937 [00:00<00:07, 119.60it/s]"
          ],
          "name": "stderr"
        },
        {
          "output_type": "stream",
          "text": [
            "Train Loss: 98.5871\n",
            "Val Loss: 100.0286\n",
            "Epoch 422 of 1000\n"
          ],
          "name": "stdout"
        },
        {
          "output_type": "stream",
          "text": [
            "938it [00:08, 116.03it/s]                         \n",
            "157it [00:00, 169.10it/s]                         \n",
            "  1%|▏         | 12/937 [00:00<00:08, 114.38it/s]"
          ],
          "name": "stderr"
        },
        {
          "output_type": "stream",
          "text": [
            "Train Loss: 98.5805\n",
            "Val Loss: 100.1026\n",
            "Epoch 423 of 1000\n"
          ],
          "name": "stdout"
        },
        {
          "output_type": "stream",
          "text": [
            "938it [00:08, 114.92it/s]                         \n",
            "157it [00:00, 167.36it/s]                         \n",
            "  1%|▏         | 12/937 [00:00<00:08, 110.62it/s]"
          ],
          "name": "stderr"
        },
        {
          "output_type": "stream",
          "text": [
            "Train Loss: 98.6115\n",
            "Val Loss: 100.0795\n",
            "Epoch 424 of 1000\n"
          ],
          "name": "stdout"
        },
        {
          "output_type": "stream",
          "text": [
            "938it [00:08, 111.80it/s]                         \n",
            "157it [00:00, 167.04it/s]                         \n",
            "  1%|▏         | 12/937 [00:00<00:08, 114.41it/s]"
          ],
          "name": "stderr"
        },
        {
          "output_type": "stream",
          "text": [
            "Train Loss: 98.5637\n",
            "Val Loss: 100.1026\n",
            "Epoch 425 of 1000\n"
          ],
          "name": "stdout"
        },
        {
          "output_type": "stream",
          "text": [
            "938it [00:08, 115.59it/s]                         \n",
            "157it [00:00, 170.61it/s]                         \n",
            "  1%|▏         | 12/937 [00:00<00:07, 119.38it/s]"
          ],
          "name": "stderr"
        },
        {
          "output_type": "stream",
          "text": [
            "Train Loss: 98.5867\n",
            "Val Loss: 100.0430\n",
            "Epoch 426 of 1000\n"
          ],
          "name": "stdout"
        },
        {
          "output_type": "stream",
          "text": [
            "938it [00:08, 115.29it/s]                         \n",
            "157it [00:00, 169.48it/s]\n",
            "  1%|▏         | 12/937 [00:00<00:07, 115.67it/s]"
          ],
          "name": "stderr"
        },
        {
          "output_type": "stream",
          "text": [
            "Train Loss: 98.5711\n",
            "Val Loss: 99.9664\n",
            "Epoch 427 of 1000\n"
          ],
          "name": "stdout"
        },
        {
          "output_type": "stream",
          "text": [
            "938it [00:08, 115.55it/s]                         \n",
            "157it [00:00, 173.23it/s]                         \n",
            "  1%|▏         | 12/937 [00:00<00:08, 115.35it/s]"
          ],
          "name": "stderr"
        },
        {
          "output_type": "stream",
          "text": [
            "Train Loss: 98.5680\n",
            "Val Loss: 100.0056\n",
            "Epoch 428 of 1000\n"
          ],
          "name": "stdout"
        },
        {
          "output_type": "stream",
          "text": [
            "938it [00:08, 114.59it/s]                         \n",
            "157it [00:00, 168.71it/s]                         \n",
            "  1%|          | 11/937 [00:00<00:09, 102.86it/s]"
          ],
          "name": "stderr"
        },
        {
          "output_type": "stream",
          "text": [
            "Train Loss: 98.5468\n",
            "Val Loss: 100.1475\n",
            "Epoch 429 of 1000\n"
          ],
          "name": "stdout"
        },
        {
          "output_type": "stream",
          "text": [
            "938it [00:08, 115.61it/s]                         \n",
            "157it [00:00, 163.44it/s]                         \n",
            "  1%|▏         | 12/937 [00:00<00:07, 115.68it/s]"
          ],
          "name": "stderr"
        },
        {
          "output_type": "stream",
          "text": [
            "Train Loss: 98.5474\n",
            "Val Loss: 100.0621\n",
            "Epoch 430 of 1000\n"
          ],
          "name": "stdout"
        },
        {
          "output_type": "stream",
          "text": [
            "938it [00:08, 114.87it/s]                         \n",
            "157it [00:00, 167.67it/s]                         \n",
            "  1%|▏         | 13/937 [00:00<00:07, 121.19it/s]"
          ],
          "name": "stderr"
        },
        {
          "output_type": "stream",
          "text": [
            "Train Loss: 98.5539\n",
            "Val Loss: 100.0493\n",
            "Epoch 431 of 1000\n"
          ],
          "name": "stdout"
        },
        {
          "output_type": "stream",
          "text": [
            "938it [00:08, 114.72it/s]                         \n",
            "157it [00:00, 158.14it/s]                         \n",
            "  1%|▏         | 12/937 [00:00<00:07, 117.83it/s]"
          ],
          "name": "stderr"
        },
        {
          "output_type": "stream",
          "text": [
            "Train Loss: 98.5044\n",
            "Val Loss: 99.9621\n",
            "Epoch 432 of 1000\n"
          ],
          "name": "stdout"
        },
        {
          "output_type": "stream",
          "text": [
            "938it [00:08, 116.35it/s]                         \n",
            "157it [00:00, 176.07it/s]                         \n",
            "  1%|▏         | 12/937 [00:00<00:07, 117.59it/s]"
          ],
          "name": "stderr"
        },
        {
          "output_type": "stream",
          "text": [
            "Train Loss: 98.5417\n",
            "Val Loss: 100.0419\n",
            "Epoch 433 of 1000\n"
          ],
          "name": "stdout"
        },
        {
          "output_type": "stream",
          "text": [
            "938it [00:08, 116.64it/s]                         \n",
            "157it [00:00, 169.89it/s]                         \n",
            "  1%|▏         | 12/937 [00:00<00:08, 112.52it/s]"
          ],
          "name": "stderr"
        },
        {
          "output_type": "stream",
          "text": [
            "Train Loss: 98.5434\n",
            "Val Loss: 100.0284\n",
            "Epoch 434 of 1000\n"
          ],
          "name": "stdout"
        },
        {
          "output_type": "stream",
          "text": [
            "938it [00:08, 117.07it/s]                         \n",
            "157it [00:00, 166.49it/s]                         \n",
            "  1%|▏         | 12/937 [00:00<00:08, 113.47it/s]"
          ],
          "name": "stderr"
        },
        {
          "output_type": "stream",
          "text": [
            "Train Loss: 98.5256\n",
            "Val Loss: 99.9100\n",
            "Epoch 435 of 1000\n"
          ],
          "name": "stdout"
        },
        {
          "output_type": "stream",
          "text": [
            "938it [00:08, 117.01it/s]                         \n",
            "157it [00:00, 167.28it/s]                         \n",
            "  1%|          | 11/937 [00:00<00:08, 109.01it/s]"
          ],
          "name": "stderr"
        },
        {
          "output_type": "stream",
          "text": [
            "Train Loss: 98.5284\n",
            "Val Loss: 100.0526\n",
            "Epoch 436 of 1000\n"
          ],
          "name": "stdout"
        },
        {
          "output_type": "stream",
          "text": [
            "938it [00:08, 116.30it/s]                         \n",
            "157it [00:00, 167.96it/s]                         \n",
            "  1%|▏         | 12/937 [00:00<00:08, 110.26it/s]"
          ],
          "name": "stderr"
        },
        {
          "output_type": "stream",
          "text": [
            "Train Loss: 98.5306\n",
            "Val Loss: 100.0233\n",
            "Epoch 437 of 1000\n"
          ],
          "name": "stdout"
        },
        {
          "output_type": "stream",
          "text": [
            "938it [00:08, 115.54it/s]                         \n",
            "157it [00:00, 170.04it/s]                         \n",
            "  1%|▏         | 12/937 [00:00<00:08, 112.69it/s]"
          ],
          "name": "stderr"
        },
        {
          "output_type": "stream",
          "text": [
            "Train Loss: 98.4879\n",
            "Val Loss: 100.0024\n",
            "Epoch 438 of 1000\n"
          ],
          "name": "stdout"
        },
        {
          "output_type": "stream",
          "text": [
            "938it [00:08, 115.80it/s]                         \n",
            "157it [00:00, 169.64it/s]                         \n",
            "  1%|▏         | 12/937 [00:00<00:08, 114.29it/s]"
          ],
          "name": "stderr"
        },
        {
          "output_type": "stream",
          "text": [
            "Train Loss: 98.5131\n",
            "Val Loss: 100.0492\n",
            "Epoch 439 of 1000\n"
          ],
          "name": "stdout"
        },
        {
          "output_type": "stream",
          "text": [
            "938it [00:08, 113.99it/s]                         \n",
            "157it [00:00, 170.16it/s]                         \n",
            "  1%|▏         | 12/937 [00:00<00:07, 117.47it/s]"
          ],
          "name": "stderr"
        },
        {
          "output_type": "stream",
          "text": [
            "Train Loss: 98.5195\n",
            "Val Loss: 100.0333\n",
            "Epoch 440 of 1000\n"
          ],
          "name": "stdout"
        },
        {
          "output_type": "stream",
          "text": [
            "938it [00:08, 115.47it/s]                         \n",
            "157it [00:00, 168.81it/s]                         \n",
            "  1%|          | 11/937 [00:00<00:08, 104.49it/s]"
          ],
          "name": "stderr"
        },
        {
          "output_type": "stream",
          "text": [
            "Train Loss: 98.5590\n",
            "Val Loss: 100.1057\n",
            "Epoch 441 of 1000\n"
          ],
          "name": "stdout"
        },
        {
          "output_type": "stream",
          "text": [
            "938it [00:08, 115.05it/s]                         \n",
            "157it [00:00, 168.41it/s]\n",
            "  1%|▏         | 12/937 [00:00<00:08, 111.58it/s]"
          ],
          "name": "stderr"
        },
        {
          "output_type": "stream",
          "text": [
            "Train Loss: 98.5240\n",
            "Val Loss: 99.9761\n",
            "Epoch 442 of 1000\n"
          ],
          "name": "stdout"
        },
        {
          "output_type": "stream",
          "text": [
            "938it [00:08, 116.11it/s]                         \n",
            "157it [00:00, 165.86it/s]                         \n",
            "  1%|▏         | 12/937 [00:00<00:07, 118.10it/s]"
          ],
          "name": "stderr"
        },
        {
          "output_type": "stream",
          "text": [
            "Train Loss: 98.4676\n",
            "Val Loss: 99.9884\n",
            "Epoch 443 of 1000\n"
          ],
          "name": "stdout"
        },
        {
          "output_type": "stream",
          "text": [
            "938it [00:08, 115.36it/s]                         \n",
            "157it [00:00, 167.18it/s]                         \n",
            "  1%|▏         | 12/937 [00:00<00:07, 116.71it/s]"
          ],
          "name": "stderr"
        },
        {
          "output_type": "stream",
          "text": [
            "Train Loss: 98.4830\n",
            "Val Loss: 99.9975\n",
            "Epoch 444 of 1000\n"
          ],
          "name": "stdout"
        },
        {
          "output_type": "stream",
          "text": [
            "938it [00:08, 115.72it/s]                         \n",
            "157it [00:00, 164.95it/s]                         \n",
            "  1%|▏         | 12/937 [00:00<00:07, 116.46it/s]"
          ],
          "name": "stderr"
        },
        {
          "output_type": "stream",
          "text": [
            "Train Loss: 98.4688\n",
            "Val Loss: 99.9666\n",
            "Epoch 445 of 1000\n"
          ],
          "name": "stdout"
        },
        {
          "output_type": "stream",
          "text": [
            "938it [00:08, 114.92it/s]                         \n",
            "157it [00:00, 168.62it/s]\n",
            "  1%|▏         | 12/937 [00:00<00:08, 112.62it/s]"
          ],
          "name": "stderr"
        },
        {
          "output_type": "stream",
          "text": [
            "Train Loss: 98.5135\n",
            "Val Loss: 100.0146\n",
            "Epoch 446 of 1000\n"
          ],
          "name": "stdout"
        },
        {
          "output_type": "stream",
          "text": [
            "938it [00:08, 115.26it/s]                         \n",
            "157it [00:00, 162.29it/s]                         \n",
            "  1%|▏         | 12/937 [00:00<00:07, 118.84it/s]"
          ],
          "name": "stderr"
        },
        {
          "output_type": "stream",
          "text": [
            "Train Loss: 98.4916\n",
            "Val Loss: 100.0085\n",
            "Epoch 447 of 1000\n"
          ],
          "name": "stdout"
        },
        {
          "output_type": "stream",
          "text": [
            "938it [00:08, 116.70it/s]                         \n",
            "157it [00:00, 166.79it/s]                         \n",
            "  1%|▏         | 12/937 [00:00<00:08, 115.60it/s]"
          ],
          "name": "stderr"
        },
        {
          "output_type": "stream",
          "text": [
            "Train Loss: 98.4499\n",
            "Val Loss: 99.9798\n",
            "Epoch 448 of 1000\n"
          ],
          "name": "stdout"
        },
        {
          "output_type": "stream",
          "text": [
            "938it [00:08, 113.81it/s]\n",
            "157it [00:00, 163.07it/s]                         \n",
            "  1%|▏         | 12/937 [00:00<00:08, 113.03it/s]"
          ],
          "name": "stderr"
        },
        {
          "output_type": "stream",
          "text": [
            "Train Loss: 98.4628\n",
            "Val Loss: 99.9642\n",
            "Epoch 449 of 1000\n"
          ],
          "name": "stdout"
        },
        {
          "output_type": "stream",
          "text": [
            "938it [00:08, 111.69it/s]                         \n",
            "157it [00:01, 150.88it/s]                         \n",
            "  1%|▏         | 12/937 [00:00<00:08, 111.04it/s]"
          ],
          "name": "stderr"
        },
        {
          "output_type": "stream",
          "text": [
            "Train Loss: 98.4575\n",
            "Val Loss: 99.9741\n",
            "Epoch 450 of 1000\n"
          ],
          "name": "stdout"
        },
        {
          "output_type": "stream",
          "text": [
            "938it [00:08, 114.78it/s]                         \n",
            "157it [00:00, 165.16it/s]                         \n",
            "  1%|▏         | 12/937 [00:00<00:07, 117.71it/s]"
          ],
          "name": "stderr"
        },
        {
          "output_type": "stream",
          "text": [
            "Train Loss: 98.4386\n",
            "Val Loss: 99.9917\n",
            "Epoch 451 of 1000\n"
          ],
          "name": "stdout"
        },
        {
          "output_type": "stream",
          "text": [
            "938it [00:08, 114.39it/s]                         \n",
            "157it [00:00, 167.06it/s]                         \n",
            "  1%|▏         | 12/937 [00:00<00:07, 118.37it/s]"
          ],
          "name": "stderr"
        },
        {
          "output_type": "stream",
          "text": [
            "Train Loss: 98.4243\n",
            "Val Loss: 99.9732\n",
            "Epoch 452 of 1000\n"
          ],
          "name": "stdout"
        },
        {
          "output_type": "stream",
          "text": [
            "938it [00:08, 114.07it/s]                         \n",
            "157it [00:00, 166.67it/s]                         \n",
            "  1%|▏         | 12/937 [00:00<00:08, 113.40it/s]"
          ],
          "name": "stderr"
        },
        {
          "output_type": "stream",
          "text": [
            "Train Loss: 98.4673\n",
            "Val Loss: 99.8949\n",
            "Epoch 453 of 1000\n"
          ],
          "name": "stdout"
        },
        {
          "output_type": "stream",
          "text": [
            "938it [00:08, 114.77it/s]                         \n",
            "157it [00:00, 167.35it/s]                         \n",
            "  1%|          | 11/937 [00:00<00:09, 102.67it/s]"
          ],
          "name": "stderr"
        },
        {
          "output_type": "stream",
          "text": [
            "Train Loss: 98.4392\n",
            "Val Loss: 100.0055\n",
            "Epoch 454 of 1000\n"
          ],
          "name": "stdout"
        },
        {
          "output_type": "stream",
          "text": [
            "938it [00:08, 117.23it/s]                         \n",
            "157it [00:00, 171.56it/s]\n",
            "  1%|▏         | 12/937 [00:00<00:08, 114.63it/s]"
          ],
          "name": "stderr"
        },
        {
          "output_type": "stream",
          "text": [
            "Train Loss: 98.4560\n",
            "Val Loss: 99.8916\n",
            "Epoch 455 of 1000\n"
          ],
          "name": "stdout"
        },
        {
          "output_type": "stream",
          "text": [
            "938it [00:08, 115.74it/s]                         \n",
            "157it [00:00, 167.50it/s]                         \n",
            "  1%|▏         | 12/937 [00:00<00:08, 114.42it/s]"
          ],
          "name": "stderr"
        },
        {
          "output_type": "stream",
          "text": [
            "Train Loss: 98.4589\n",
            "Val Loss: 99.8867\n",
            "Epoch 456 of 1000\n"
          ],
          "name": "stdout"
        },
        {
          "output_type": "stream",
          "text": [
            "938it [00:08, 115.39it/s]\n",
            "157it [00:00, 170.39it/s]                         \n",
            "  1%|▏         | 12/937 [00:00<00:08, 114.07it/s]"
          ],
          "name": "stderr"
        },
        {
          "output_type": "stream",
          "text": [
            "Train Loss: 98.4445\n",
            "Val Loss: 99.9960\n",
            "Epoch 457 of 1000\n"
          ],
          "name": "stdout"
        },
        {
          "output_type": "stream",
          "text": [
            "938it [00:08, 115.85it/s]                         \n",
            "157it [00:00, 170.79it/s]\n",
            "  1%|▏         | 12/937 [00:00<00:07, 116.27it/s]"
          ],
          "name": "stderr"
        },
        {
          "output_type": "stream",
          "text": [
            "Train Loss: 98.4349\n",
            "Val Loss: 99.9368\n",
            "Epoch 458 of 1000\n"
          ],
          "name": "stdout"
        },
        {
          "output_type": "stream",
          "text": [
            "938it [00:08, 116.80it/s]                         \n",
            "157it [00:00, 170.49it/s]                         \n",
            "  1%|▏         | 12/937 [00:00<00:08, 113.97it/s]"
          ],
          "name": "stderr"
        },
        {
          "output_type": "stream",
          "text": [
            "Train Loss: 98.4187\n",
            "Val Loss: 99.9105\n",
            "Epoch 459 of 1000\n"
          ],
          "name": "stdout"
        },
        {
          "output_type": "stream",
          "text": [
            "938it [00:08, 114.11it/s]                         \n",
            "157it [00:00, 167.95it/s]                         \n",
            "  1%|▏         | 12/937 [00:00<00:08, 114.80it/s]"
          ],
          "name": "stderr"
        },
        {
          "output_type": "stream",
          "text": [
            "Train Loss: 98.4190\n",
            "Val Loss: 99.9365\n",
            "Epoch 460 of 1000\n"
          ],
          "name": "stdout"
        },
        {
          "output_type": "stream",
          "text": [
            "938it [00:08, 115.63it/s]                         \n",
            "157it [00:00, 170.57it/s]\n",
            "  1%|          | 11/937 [00:00<00:08, 109.86it/s]"
          ],
          "name": "stderr"
        },
        {
          "output_type": "stream",
          "text": [
            "Train Loss: 98.3936\n",
            "Val Loss: 99.8711\n",
            "Epoch 461 of 1000\n"
          ],
          "name": "stdout"
        },
        {
          "output_type": "stream",
          "text": [
            "938it [00:08, 116.96it/s]                         \n",
            "157it [00:00, 169.97it/s]                         \n",
            "  1%|          | 11/937 [00:00<00:08, 108.27it/s]"
          ],
          "name": "stderr"
        },
        {
          "output_type": "stream",
          "text": [
            "Train Loss: 98.3853\n",
            "Val Loss: 99.9234\n",
            "Epoch 462 of 1000\n"
          ],
          "name": "stdout"
        },
        {
          "output_type": "stream",
          "text": [
            "938it [00:07, 117.71it/s]                         \n",
            "157it [00:00, 171.12it/s]                         \n",
            "  1%|▏         | 13/937 [00:00<00:07, 120.62it/s]"
          ],
          "name": "stderr"
        },
        {
          "output_type": "stream",
          "text": [
            "Train Loss: 98.4150\n",
            "Val Loss: 99.9150\n",
            "Epoch 463 of 1000\n"
          ],
          "name": "stdout"
        },
        {
          "output_type": "stream",
          "text": [
            "938it [00:08, 115.37it/s]                         \n",
            "157it [00:00, 169.34it/s]                         \n",
            "  1%|▏         | 12/937 [00:00<00:07, 117.71it/s]"
          ],
          "name": "stderr"
        },
        {
          "output_type": "stream",
          "text": [
            "Train Loss: 98.4053\n",
            "Val Loss: 99.8746\n",
            "Epoch 464 of 1000\n"
          ],
          "name": "stdout"
        },
        {
          "output_type": "stream",
          "text": [
            "938it [00:08, 116.09it/s]                         \n",
            "157it [00:00, 167.50it/s]                         \n",
            "  1%|▏         | 12/937 [00:00<00:07, 116.12it/s]"
          ],
          "name": "stderr"
        },
        {
          "output_type": "stream",
          "text": [
            "Train Loss: 98.3963\n",
            "Val Loss: 99.8805\n",
            "Epoch 465 of 1000\n"
          ],
          "name": "stdout"
        },
        {
          "output_type": "stream",
          "text": [
            "938it [00:08, 116.36it/s]\n",
            "157it [00:00, 163.10it/s]                         \n",
            "  1%|▏         | 13/937 [00:00<00:07, 123.21it/s]"
          ],
          "name": "stderr"
        },
        {
          "output_type": "stream",
          "text": [
            "Train Loss: 98.3994\n",
            "Val Loss: 99.8624\n",
            "Epoch 466 of 1000\n"
          ],
          "name": "stdout"
        },
        {
          "output_type": "stream",
          "text": [
            "938it [00:08, 117.00it/s]\n",
            "157it [00:00, 167.20it/s]                         \n",
            "  1%|▏         | 12/937 [00:00<00:08, 115.28it/s]"
          ],
          "name": "stderr"
        },
        {
          "output_type": "stream",
          "text": [
            "Train Loss: 98.4027\n",
            "Val Loss: 99.9453\n",
            "Epoch 467 of 1000\n"
          ],
          "name": "stdout"
        },
        {
          "output_type": "stream",
          "text": [
            "938it [00:08, 115.77it/s]                         \n",
            "157it [00:00, 164.75it/s]                         \n",
            "  1%|▏         | 12/937 [00:00<00:07, 117.90it/s]"
          ],
          "name": "stderr"
        },
        {
          "output_type": "stream",
          "text": [
            "Train Loss: 98.3945\n",
            "Val Loss: 99.9289\n",
            "Epoch 468 of 1000\n"
          ],
          "name": "stdout"
        },
        {
          "output_type": "stream",
          "text": [
            "938it [00:08, 114.48it/s]                         \n",
            "157it [00:00, 169.54it/s]                         \n",
            "  1%|▏         | 12/937 [00:00<00:07, 115.93it/s]"
          ],
          "name": "stderr"
        },
        {
          "output_type": "stream",
          "text": [
            "Train Loss: 98.3924\n",
            "Val Loss: 100.0034\n",
            "Epoch 469 of 1000\n"
          ],
          "name": "stdout"
        },
        {
          "output_type": "stream",
          "text": [
            "938it [00:08, 115.24it/s]                         \n",
            "157it [00:00, 170.33it/s]\n",
            "  1%|▏         | 12/937 [00:00<00:08, 115.08it/s]"
          ],
          "name": "stderr"
        },
        {
          "output_type": "stream",
          "text": [
            "Train Loss: 98.3734\n",
            "Val Loss: 99.9955\n",
            "Epoch 470 of 1000\n"
          ],
          "name": "stdout"
        },
        {
          "output_type": "stream",
          "text": [
            "938it [00:08, 116.50it/s]                         \n",
            "157it [00:00, 173.50it/s]                         \n",
            "  1%|▏         | 12/937 [00:00<00:08, 115.51it/s]"
          ],
          "name": "stderr"
        },
        {
          "output_type": "stream",
          "text": [
            "Train Loss: 98.3669\n",
            "Val Loss: 99.8870\n",
            "Epoch 471 of 1000\n"
          ],
          "name": "stdout"
        },
        {
          "output_type": "stream",
          "text": [
            "938it [00:08, 114.37it/s]                         \n",
            "157it [00:00, 171.42it/s]                         \n",
            "  1%|▏         | 12/937 [00:00<00:08, 114.83it/s]"
          ],
          "name": "stderr"
        },
        {
          "output_type": "stream",
          "text": [
            "Train Loss: 98.3586\n",
            "Val Loss: 99.9746\n",
            "Epoch 472 of 1000\n"
          ],
          "name": "stdout"
        },
        {
          "output_type": "stream",
          "text": [
            "938it [00:08, 116.38it/s]                         \n",
            "157it [00:00, 172.40it/s]                         \n",
            "  1%|▏         | 12/937 [00:00<00:07, 119.69it/s]"
          ],
          "name": "stderr"
        },
        {
          "output_type": "stream",
          "text": [
            "Train Loss: 98.3214\n",
            "Val Loss: 99.9242\n",
            "Epoch 473 of 1000\n"
          ],
          "name": "stdout"
        },
        {
          "output_type": "stream",
          "text": [
            "938it [00:08, 114.95it/s]                         \n",
            "157it [00:00, 160.07it/s]                         \n",
            "  1%|          | 11/937 [00:00<00:08, 108.23it/s]"
          ],
          "name": "stderr"
        },
        {
          "output_type": "stream",
          "text": [
            "Train Loss: 98.3672\n",
            "Val Loss: 99.9498\n",
            "Epoch 474 of 1000\n"
          ],
          "name": "stdout"
        },
        {
          "output_type": "stream",
          "text": [
            "938it [00:08, 116.42it/s]                         \n",
            "157it [00:00, 165.36it/s]                         \n",
            "  1%|▏         | 12/937 [00:00<00:08, 113.80it/s]"
          ],
          "name": "stderr"
        },
        {
          "output_type": "stream",
          "text": [
            "Train Loss: 98.3344\n",
            "Val Loss: 99.9227\n",
            "Epoch 475 of 1000\n"
          ],
          "name": "stdout"
        },
        {
          "output_type": "stream",
          "text": [
            "938it [00:08, 115.72it/s]                         \n",
            "157it [00:00, 167.93it/s]                         \n",
            "  1%|▏         | 12/937 [00:00<00:08, 114.14it/s]"
          ],
          "name": "stderr"
        },
        {
          "output_type": "stream",
          "text": [
            "Train Loss: 98.3523\n",
            "Val Loss: 99.8094\n",
            "Epoch 476 of 1000\n"
          ],
          "name": "stdout"
        },
        {
          "output_type": "stream",
          "text": [
            "938it [00:08, 115.60it/s]\n",
            "157it [00:00, 165.60it/s]                         \n",
            "  1%|          | 11/937 [00:00<00:08, 109.35it/s]"
          ],
          "name": "stderr"
        },
        {
          "output_type": "stream",
          "text": [
            "Train Loss: 98.3495\n",
            "Val Loss: 99.9536\n",
            "Epoch 477 of 1000\n"
          ],
          "name": "stdout"
        },
        {
          "output_type": "stream",
          "text": [
            "938it [00:08, 116.96it/s]                         \n",
            "157it [00:00, 179.14it/s]                         \n",
            "  1%|▏         | 12/937 [00:00<00:07, 117.74it/s]"
          ],
          "name": "stderr"
        },
        {
          "output_type": "stream",
          "text": [
            "Train Loss: 98.3060\n",
            "Val Loss: 99.9368\n",
            "Epoch 478 of 1000\n"
          ],
          "name": "stdout"
        },
        {
          "output_type": "stream",
          "text": [
            "938it [00:08, 116.36it/s]                         \n",
            "157it [00:00, 171.80it/s]                         \n",
            "  1%|▏         | 12/937 [00:00<00:07, 119.71it/s]"
          ],
          "name": "stderr"
        },
        {
          "output_type": "stream",
          "text": [
            "Train Loss: 98.3534\n",
            "Val Loss: 99.9086\n",
            "Epoch 479 of 1000\n"
          ],
          "name": "stdout"
        },
        {
          "output_type": "stream",
          "text": [
            "938it [00:07, 118.36it/s]\n",
            "157it [00:00, 172.91it/s]                         \n",
            "  1%|▏         | 12/937 [00:00<00:07, 119.47it/s]"
          ],
          "name": "stderr"
        },
        {
          "output_type": "stream",
          "text": [
            "Train Loss: 98.3167\n",
            "Val Loss: 99.8699\n",
            "Epoch 480 of 1000\n"
          ],
          "name": "stdout"
        },
        {
          "output_type": "stream",
          "text": [
            "938it [00:07, 117.33it/s]                         \n",
            "157it [00:00, 173.28it/s]                         \n",
            "  1%|▏         | 12/937 [00:00<00:08, 114.24it/s]"
          ],
          "name": "stderr"
        },
        {
          "output_type": "stream",
          "text": [
            "Train Loss: 98.3306\n",
            "Val Loss: 99.8660\n",
            "Epoch 481 of 1000\n"
          ],
          "name": "stdout"
        },
        {
          "output_type": "stream",
          "text": [
            "938it [00:07, 118.14it/s]                         \n",
            "157it [00:00, 170.85it/s]                         \n",
            "  1%|▏         | 12/937 [00:00<00:07, 117.90it/s]"
          ],
          "name": "stderr"
        },
        {
          "output_type": "stream",
          "text": [
            "Train Loss: 98.3109\n",
            "Val Loss: 99.8238\n",
            "Epoch 482 of 1000\n"
          ],
          "name": "stdout"
        },
        {
          "output_type": "stream",
          "text": [
            "938it [00:08, 116.89it/s]                         \n",
            "157it [00:00, 172.59it/s]                         \n",
            "  1%|▏         | 13/937 [00:00<00:07, 120.68it/s]"
          ],
          "name": "stderr"
        },
        {
          "output_type": "stream",
          "text": [
            "Train Loss: 98.3219\n",
            "Val Loss: 99.9383\n",
            "Epoch 483 of 1000\n"
          ],
          "name": "stdout"
        },
        {
          "output_type": "stream",
          "text": [
            "938it [00:08, 113.43it/s]                         \n",
            "157it [00:00, 167.48it/s]                         \n",
            "  1%|▏         | 12/937 [00:00<00:07, 117.59it/s]"
          ],
          "name": "stderr"
        },
        {
          "output_type": "stream",
          "text": [
            "Train Loss: 98.2916\n",
            "Val Loss: 99.8564\n",
            "Epoch 484 of 1000\n"
          ],
          "name": "stdout"
        },
        {
          "output_type": "stream",
          "text": [
            "938it [00:08, 114.83it/s]                         \n",
            "157it [00:00, 168.59it/s]                         \n",
            "  1%|▏         | 12/937 [00:00<00:07, 118.01it/s]"
          ],
          "name": "stderr"
        },
        {
          "output_type": "stream",
          "text": [
            "Train Loss: 98.2944\n",
            "Val Loss: 99.8478\n",
            "Epoch 485 of 1000\n"
          ],
          "name": "stdout"
        },
        {
          "output_type": "stream",
          "text": [
            "938it [00:07, 119.48it/s]                         \n",
            "157it [00:00, 177.22it/s]                         \n",
            "  1%|▏         | 12/937 [00:00<00:08, 112.89it/s]"
          ],
          "name": "stderr"
        },
        {
          "output_type": "stream",
          "text": [
            "Train Loss: 98.3034\n",
            "Val Loss: 99.8624\n",
            "Epoch 486 of 1000\n"
          ],
          "name": "stdout"
        },
        {
          "output_type": "stream",
          "text": [
            "938it [00:08, 116.76it/s]                         \n",
            "157it [00:00, 164.06it/s]                         \n",
            "  1%|          | 11/937 [00:00<00:08, 109.54it/s]"
          ],
          "name": "stderr"
        },
        {
          "output_type": "stream",
          "text": [
            "Train Loss: 98.2874\n",
            "Val Loss: 99.9151\n",
            "Epoch 487 of 1000\n"
          ],
          "name": "stdout"
        },
        {
          "output_type": "stream",
          "text": [
            "938it [00:08, 117.07it/s]                         \n",
            "157it [00:00, 173.71it/s]                         \n",
            "  1%|▏         | 13/937 [00:00<00:07, 116.37it/s]"
          ],
          "name": "stderr"
        },
        {
          "output_type": "stream",
          "text": [
            "Train Loss: 98.2787\n",
            "Val Loss: 99.9481\n",
            "Epoch 488 of 1000\n"
          ],
          "name": "stdout"
        },
        {
          "output_type": "stream",
          "text": [
            "938it [00:08, 115.61it/s]                         \n",
            "157it [00:00, 177.48it/s]                         \n",
            "  1%|▏         | 12/937 [00:00<00:07, 118.75it/s]"
          ],
          "name": "stderr"
        },
        {
          "output_type": "stream",
          "text": [
            "Train Loss: 98.2959\n",
            "Val Loss: 99.8396\n",
            "Epoch 489 of 1000\n"
          ],
          "name": "stdout"
        },
        {
          "output_type": "stream",
          "text": [
            "938it [00:08, 116.78it/s]                         \n",
            "157it [00:00, 173.76it/s]                         \n",
            "  1%|▏         | 12/937 [00:00<00:07, 118.18it/s]"
          ],
          "name": "stderr"
        },
        {
          "output_type": "stream",
          "text": [
            "Train Loss: 98.2773\n",
            "Val Loss: 100.0499\n",
            "Epoch 490 of 1000\n"
          ],
          "name": "stdout"
        },
        {
          "output_type": "stream",
          "text": [
            "938it [00:07, 117.86it/s]                         \n",
            "157it [00:00, 171.53it/s]                         \n",
            "  1%|▏         | 12/937 [00:00<00:07, 117.20it/s]"
          ],
          "name": "stderr"
        },
        {
          "output_type": "stream",
          "text": [
            "Train Loss: 98.2505\n",
            "Val Loss: 99.7786\n",
            "Epoch 491 of 1000\n"
          ],
          "name": "stdout"
        },
        {
          "output_type": "stream",
          "text": [
            "938it [00:08, 117.01it/s]                         \n",
            "157it [00:00, 173.80it/s]                         \n",
            "  1%|▏         | 12/937 [00:00<00:07, 115.96it/s]"
          ],
          "name": "stderr"
        },
        {
          "output_type": "stream",
          "text": [
            "Train Loss: 98.2710\n",
            "Val Loss: 99.8051\n",
            "Epoch 492 of 1000\n"
          ],
          "name": "stdout"
        },
        {
          "output_type": "stream",
          "text": [
            "938it [00:08, 116.38it/s]                         \n",
            "157it [00:00, 174.36it/s]                         \n",
            "  1%|          | 11/937 [00:00<00:08, 105.94it/s]"
          ],
          "name": "stderr"
        },
        {
          "output_type": "stream",
          "text": [
            "Train Loss: 98.2705\n",
            "Val Loss: 99.7969\n",
            "Epoch 493 of 1000\n"
          ],
          "name": "stdout"
        },
        {
          "output_type": "stream",
          "text": [
            "938it [00:08, 117.06it/s]                         \n",
            "157it [00:00, 172.44it/s]                         \n",
            "  1%|▏         | 12/937 [00:00<00:07, 117.66it/s]"
          ],
          "name": "stderr"
        },
        {
          "output_type": "stream",
          "text": [
            "Train Loss: 98.2549\n",
            "Val Loss: 99.8147\n",
            "Epoch 494 of 1000\n"
          ],
          "name": "stdout"
        },
        {
          "output_type": "stream",
          "text": [
            "938it [00:07, 117.55it/s]                         \n",
            "157it [00:00, 172.90it/s]                         \n",
            "  1%|▏         | 13/937 [00:00<00:07, 122.05it/s]"
          ],
          "name": "stderr"
        },
        {
          "output_type": "stream",
          "text": [
            "Train Loss: 98.2645\n",
            "Val Loss: 99.9500\n",
            "Epoch 495 of 1000\n"
          ],
          "name": "stdout"
        },
        {
          "output_type": "stream",
          "text": [
            "938it [00:08, 116.63it/s]                         \n",
            "157it [00:00, 170.70it/s]                         \n",
            "  1%|▏         | 12/937 [00:00<00:08, 114.85it/s]"
          ],
          "name": "stderr"
        },
        {
          "output_type": "stream",
          "text": [
            "Train Loss: 98.2546\n",
            "Val Loss: 99.7756\n",
            "Epoch 496 of 1000\n"
          ],
          "name": "stdout"
        },
        {
          "output_type": "stream",
          "text": [
            "938it [00:07, 117.64it/s]\n",
            "157it [00:00, 171.73it/s]                         \n",
            "  1%|▏         | 12/937 [00:00<00:08, 111.14it/s]"
          ],
          "name": "stderr"
        },
        {
          "output_type": "stream",
          "text": [
            "Train Loss: 98.2452\n",
            "Val Loss: 99.9222\n",
            "Epoch 497 of 1000\n"
          ],
          "name": "stdout"
        },
        {
          "output_type": "stream",
          "text": [
            "938it [00:08, 115.69it/s]\n",
            "157it [00:00, 170.61it/s]                         \n",
            "  1%|▏         | 12/937 [00:00<00:07, 116.14it/s]"
          ],
          "name": "stderr"
        },
        {
          "output_type": "stream",
          "text": [
            "Train Loss: 98.2666\n",
            "Val Loss: 99.8187\n",
            "Epoch 498 of 1000\n"
          ],
          "name": "stdout"
        },
        {
          "output_type": "stream",
          "text": [
            "938it [00:08, 115.88it/s]                         \n",
            "157it [00:00, 175.25it/s]                         \n",
            "  1%|          | 11/937 [00:00<00:08, 106.93it/s]"
          ],
          "name": "stderr"
        },
        {
          "output_type": "stream",
          "text": [
            "Train Loss: 98.2630\n",
            "Val Loss: 99.8797\n",
            "Epoch 499 of 1000\n"
          ],
          "name": "stdout"
        },
        {
          "output_type": "stream",
          "text": [
            "938it [00:07, 117.77it/s]                         \n",
            "157it [00:00, 176.07it/s]                         \n",
            "  1%|          | 11/937 [00:00<00:08, 103.67it/s]"
          ],
          "name": "stderr"
        },
        {
          "output_type": "stream",
          "text": [
            "Train Loss: 98.2252\n",
            "Val Loss: 99.7919\n",
            "Epoch 500 of 1000\n"
          ],
          "name": "stdout"
        },
        {
          "output_type": "stream",
          "text": [
            "938it [00:07, 117.38it/s]                         \n",
            "157it [00:00, 174.04it/s]                         \n",
            "  1%|▏         | 13/937 [00:00<00:07, 121.48it/s]"
          ],
          "name": "stderr"
        },
        {
          "output_type": "stream",
          "text": [
            "Train Loss: 98.2445\n",
            "Val Loss: 99.8345\n",
            "Epoch 501 of 1000\n"
          ],
          "name": "stdout"
        },
        {
          "output_type": "stream",
          "text": [
            "938it [00:07, 117.96it/s]                         \n",
            "157it [00:00, 172.52it/s]                         \n",
            "  1%|▏         | 13/937 [00:00<00:07, 120.92it/s]"
          ],
          "name": "stderr"
        },
        {
          "output_type": "stream",
          "text": [
            "Train Loss: 98.2275\n",
            "Val Loss: 99.7312\n",
            "Epoch 502 of 1000\n"
          ],
          "name": "stdout"
        },
        {
          "output_type": "stream",
          "text": [
            "938it [00:08, 117.14it/s]                         \n",
            "157it [00:00, 171.43it/s]                         \n",
            "  1%|▏         | 12/937 [00:00<00:08, 114.43it/s]"
          ],
          "name": "stderr"
        },
        {
          "output_type": "stream",
          "text": [
            "Train Loss: 98.2154\n",
            "Val Loss: 99.8663\n",
            "Epoch 503 of 1000\n"
          ],
          "name": "stdout"
        },
        {
          "output_type": "stream",
          "text": [
            "938it [00:07, 117.54it/s]                         \n",
            "157it [00:00, 168.09it/s]                         \n",
            "  1%|▏         | 12/937 [00:00<00:07, 115.64it/s]"
          ],
          "name": "stderr"
        },
        {
          "output_type": "stream",
          "text": [
            "Train Loss: 98.2465\n",
            "Val Loss: 99.9026\n",
            "Epoch 504 of 1000\n"
          ],
          "name": "stdout"
        },
        {
          "output_type": "stream",
          "text": [
            "938it [00:08, 116.49it/s]                         \n",
            "157it [00:00, 164.06it/s]                         \n",
            "  1%|▏         | 12/937 [00:00<00:08, 113.93it/s]"
          ],
          "name": "stderr"
        },
        {
          "output_type": "stream",
          "text": [
            "Train Loss: 98.2298\n",
            "Val Loss: 99.8520\n",
            "Epoch 505 of 1000\n"
          ],
          "name": "stdout"
        },
        {
          "output_type": "stream",
          "text": [
            "938it [00:08, 116.89it/s]                         \n",
            "157it [00:00, 172.87it/s]                         \n",
            "  1%|▏         | 12/937 [00:00<00:07, 116.95it/s]"
          ],
          "name": "stderr"
        },
        {
          "output_type": "stream",
          "text": [
            "Train Loss: 98.2237\n",
            "Val Loss: 99.7694\n",
            "Epoch 506 of 1000\n"
          ],
          "name": "stdout"
        },
        {
          "output_type": "stream",
          "text": [
            "938it [00:07, 118.19it/s]                         \n",
            "157it [00:00, 179.14it/s]                         \n",
            "  1%|▏         | 13/937 [00:00<00:07, 122.51it/s]"
          ],
          "name": "stderr"
        },
        {
          "output_type": "stream",
          "text": [
            "Train Loss: 98.2251\n",
            "Val Loss: 99.7681\n",
            "Epoch 507 of 1000\n"
          ],
          "name": "stdout"
        },
        {
          "output_type": "stream",
          "text": [
            "938it [00:07, 117.74it/s]                         \n",
            "157it [00:00, 174.28it/s]                         \n",
            "  1%|          | 11/937 [00:00<00:08, 107.11it/s]"
          ],
          "name": "stderr"
        },
        {
          "output_type": "stream",
          "text": [
            "Train Loss: 98.1836\n",
            "Val Loss: 99.8516\n",
            "Epoch 508 of 1000\n"
          ],
          "name": "stdout"
        },
        {
          "output_type": "stream",
          "text": [
            "938it [00:08, 116.97it/s]                         \n",
            "157it [00:00, 172.74it/s]                         \n",
            "  1%|▏         | 12/937 [00:00<00:08, 113.45it/s]"
          ],
          "name": "stderr"
        },
        {
          "output_type": "stream",
          "text": [
            "Train Loss: 98.1974\n",
            "Val Loss: 99.9113\n",
            "Epoch 509 of 1000\n"
          ],
          "name": "stdout"
        },
        {
          "output_type": "stream",
          "text": [
            "938it [00:07, 117.33it/s]                         \n",
            "157it [00:00, 174.33it/s]                         \n",
            "  1%|▏         | 13/937 [00:00<00:07, 120.62it/s]"
          ],
          "name": "stderr"
        },
        {
          "output_type": "stream",
          "text": [
            "Train Loss: 98.2302\n",
            "Val Loss: 99.8466\n",
            "Epoch 510 of 1000\n"
          ],
          "name": "stdout"
        },
        {
          "output_type": "stream",
          "text": [
            "938it [00:08, 116.68it/s]                         \n",
            "157it [00:00, 173.23it/s]                         \n",
            "  1%|▏         | 12/937 [00:00<00:07, 117.84it/s]"
          ],
          "name": "stderr"
        },
        {
          "output_type": "stream",
          "text": [
            "Train Loss: 98.2069\n",
            "Val Loss: 99.8331\n",
            "Epoch 511 of 1000\n"
          ],
          "name": "stdout"
        },
        {
          "output_type": "stream",
          "text": [
            "938it [00:08, 116.08it/s]                         \n",
            "157it [00:00, 171.65it/s]                         \n",
            "  1%|          | 11/937 [00:00<00:08, 105.49it/s]"
          ],
          "name": "stderr"
        },
        {
          "output_type": "stream",
          "text": [
            "Train Loss: 98.1944\n",
            "Val Loss: 99.7638\n",
            "Epoch 512 of 1000\n"
          ],
          "name": "stdout"
        },
        {
          "output_type": "stream",
          "text": [
            "938it [00:08, 116.22it/s]                         \n",
            "157it [00:00, 172.92it/s]                         \n",
            "  1%|▏         | 13/937 [00:00<00:07, 120.78it/s]"
          ],
          "name": "stderr"
        },
        {
          "output_type": "stream",
          "text": [
            "Train Loss: 98.2093\n",
            "Val Loss: 99.8088\n",
            "Epoch 513 of 1000\n"
          ],
          "name": "stdout"
        },
        {
          "output_type": "stream",
          "text": [
            "938it [00:08, 116.63it/s]                         \n",
            "157it [00:00, 171.50it/s]                         \n",
            "  1%|▏         | 12/937 [00:00<00:07, 118.41it/s]"
          ],
          "name": "stderr"
        },
        {
          "output_type": "stream",
          "text": [
            "Train Loss: 98.2228\n",
            "Val Loss: 99.8965\n",
            "Epoch 514 of 1000\n"
          ],
          "name": "stdout"
        },
        {
          "output_type": "stream",
          "text": [
            "938it [00:07, 119.36it/s]                         \n",
            "157it [00:00, 164.91it/s]                         \n",
            "  1%|▏         | 12/937 [00:00<00:08, 114.98it/s]"
          ],
          "name": "stderr"
        },
        {
          "output_type": "stream",
          "text": [
            "Train Loss: 98.1882\n",
            "Val Loss: 99.7644\n",
            "Epoch 515 of 1000\n"
          ],
          "name": "stdout"
        },
        {
          "output_type": "stream",
          "text": [
            "938it [00:07, 118.37it/s]                         \n",
            "157it [00:00, 176.13it/s]                         \n",
            "  1%|▏         | 12/937 [00:00<00:07, 117.45it/s]"
          ],
          "name": "stderr"
        },
        {
          "output_type": "stream",
          "text": [
            "Train Loss: 98.1941\n",
            "Val Loss: 99.7823\n",
            "Epoch 516 of 1000\n"
          ],
          "name": "stdout"
        },
        {
          "output_type": "stream",
          "text": [
            "938it [00:08, 116.78it/s]                         \n",
            "157it [00:00, 172.18it/s]                         \n",
            "  1%|▏         | 12/937 [00:00<00:07, 119.93it/s]"
          ],
          "name": "stderr"
        },
        {
          "output_type": "stream",
          "text": [
            "Train Loss: 98.1884\n",
            "Val Loss: 99.7989\n",
            "Epoch 517 of 1000\n"
          ],
          "name": "stdout"
        },
        {
          "output_type": "stream",
          "text": [
            "938it [00:07, 118.02it/s]                         \n",
            "157it [00:00, 167.61it/s]                         \n",
            "  1%|▏         | 12/937 [00:00<00:07, 118.45it/s]"
          ],
          "name": "stderr"
        },
        {
          "output_type": "stream",
          "text": [
            "Train Loss: 98.1743\n",
            "Val Loss: 99.8009\n",
            "Epoch 518 of 1000\n"
          ],
          "name": "stdout"
        },
        {
          "output_type": "stream",
          "text": [
            "938it [00:08, 113.52it/s]                         \n",
            "157it [00:00, 163.23it/s]                         \n",
            "  1%|▏         | 12/937 [00:00<00:07, 115.96it/s]"
          ],
          "name": "stderr"
        },
        {
          "output_type": "stream",
          "text": [
            "Train Loss: 98.1591\n",
            "Val Loss: 99.7751\n",
            "Epoch 519 of 1000\n"
          ],
          "name": "stdout"
        },
        {
          "output_type": "stream",
          "text": [
            "938it [00:08, 114.88it/s]\n",
            "157it [00:00, 173.97it/s]                         \n",
            "  1%|▏         | 12/937 [00:00<00:08, 113.40it/s]"
          ],
          "name": "stderr"
        },
        {
          "output_type": "stream",
          "text": [
            "Train Loss: 98.1802\n",
            "Val Loss: 99.7904\n",
            "Epoch 520 of 1000\n"
          ],
          "name": "stdout"
        },
        {
          "output_type": "stream",
          "text": [
            "938it [00:08, 114.68it/s]                         \n",
            "157it [00:00, 168.78it/s]                         \n",
            "  1%|▏         | 12/937 [00:00<00:07, 118.74it/s]"
          ],
          "name": "stderr"
        },
        {
          "output_type": "stream",
          "text": [
            "Train Loss: 98.1696\n",
            "Val Loss: 99.7724\n",
            "Epoch 521 of 1000\n"
          ],
          "name": "stdout"
        },
        {
          "output_type": "stream",
          "text": [
            "938it [00:07, 119.04it/s]                         \n",
            "157it [00:00, 176.52it/s]                         \n",
            "  1%|▏         | 13/937 [00:00<00:07, 122.66it/s]"
          ],
          "name": "stderr"
        },
        {
          "output_type": "stream",
          "text": [
            "Train Loss: 98.1499\n",
            "Val Loss: 99.7219\n",
            "Epoch 522 of 1000\n"
          ],
          "name": "stdout"
        },
        {
          "output_type": "stream",
          "text": [
            "938it [00:07, 117.32it/s]                         \n",
            "157it [00:00, 166.63it/s]                         \n",
            "  1%|▏         | 12/937 [00:00<00:07, 117.25it/s]"
          ],
          "name": "stderr"
        },
        {
          "output_type": "stream",
          "text": [
            "Train Loss: 98.1518\n",
            "Val Loss: 99.8634\n",
            "Epoch 523 of 1000\n"
          ],
          "name": "stdout"
        },
        {
          "output_type": "stream",
          "text": [
            "938it [00:07, 117.26it/s]                         \n",
            "157it [00:00, 169.73it/s]                         \n",
            "  1%|▏         | 12/937 [00:00<00:08, 115.13it/s]"
          ],
          "name": "stderr"
        },
        {
          "output_type": "stream",
          "text": [
            "Train Loss: 98.1298\n",
            "Val Loss: 99.7317\n",
            "Epoch 524 of 1000\n"
          ],
          "name": "stdout"
        },
        {
          "output_type": "stream",
          "text": [
            "938it [00:07, 117.67it/s]                         \n",
            "157it [00:00, 172.10it/s]                         \n",
            "  1%|▏         | 12/937 [00:00<00:07, 118.34it/s]"
          ],
          "name": "stderr"
        },
        {
          "output_type": "stream",
          "text": [
            "Train Loss: 98.1432\n",
            "Val Loss: 99.7314\n",
            "Epoch 525 of 1000\n"
          ],
          "name": "stdout"
        },
        {
          "output_type": "stream",
          "text": [
            "938it [00:07, 118.22it/s]                         \n",
            "157it [00:00, 172.17it/s]                         \n",
            "  1%|▏         | 12/937 [00:00<00:08, 115.62it/s]"
          ],
          "name": "stderr"
        },
        {
          "output_type": "stream",
          "text": [
            "Train Loss: 98.1730\n",
            "Val Loss: 99.7664\n",
            "Epoch 526 of 1000\n"
          ],
          "name": "stdout"
        },
        {
          "output_type": "stream",
          "text": [
            "938it [00:07, 117.69it/s]                         \n",
            "157it [00:00, 174.19it/s]                         \n",
            "  1%|          | 11/937 [00:00<00:08, 107.81it/s]"
          ],
          "name": "stderr"
        },
        {
          "output_type": "stream",
          "text": [
            "Train Loss: 98.1351\n",
            "Val Loss: 99.6781\n",
            "Epoch 527 of 1000\n"
          ],
          "name": "stdout"
        },
        {
          "output_type": "stream",
          "text": [
            "938it [00:08, 116.63it/s]                         \n",
            "157it [00:00, 169.23it/s]\n",
            "  1%|▏         | 12/937 [00:00<00:07, 119.56it/s]"
          ],
          "name": "stderr"
        },
        {
          "output_type": "stream",
          "text": [
            "Train Loss: 98.1487\n",
            "Val Loss: 99.7741\n",
            "Epoch 528 of 1000\n"
          ],
          "name": "stdout"
        },
        {
          "output_type": "stream",
          "text": [
            "938it [00:07, 118.11it/s]                         \n",
            "157it [00:00, 172.97it/s]                         \n",
            "  1%|▏         | 12/937 [00:00<00:07, 119.04it/s]"
          ],
          "name": "stderr"
        },
        {
          "output_type": "stream",
          "text": [
            "Train Loss: 98.1344\n",
            "Val Loss: 99.7964\n",
            "Epoch 529 of 1000\n"
          ],
          "name": "stdout"
        },
        {
          "output_type": "stream",
          "text": [
            "938it [00:07, 118.01it/s]                         \n",
            "157it [00:00, 170.83it/s]                         \n",
            "  1%|▏         | 12/937 [00:00<00:08, 112.78it/s]"
          ],
          "name": "stderr"
        },
        {
          "output_type": "stream",
          "text": [
            "Train Loss: 98.1402\n",
            "Val Loss: 99.7669\n",
            "Epoch 530 of 1000\n"
          ],
          "name": "stdout"
        },
        {
          "output_type": "stream",
          "text": [
            "938it [00:08, 116.53it/s]                         \n",
            "157it [00:00, 174.32it/s]                         \n",
            "  1%|▏         | 12/937 [00:00<00:07, 119.38it/s]"
          ],
          "name": "stderr"
        },
        {
          "output_type": "stream",
          "text": [
            "Train Loss: 98.1543\n",
            "Val Loss: 99.6939\n",
            "Epoch 531 of 1000\n"
          ],
          "name": "stdout"
        },
        {
          "output_type": "stream",
          "text": [
            "938it [00:08, 115.70it/s]                        \n",
            "157it [00:00, 174.40it/s]                         \n",
            "  1%|▏         | 12/937 [00:00<00:07, 118.24it/s]"
          ],
          "name": "stderr"
        },
        {
          "output_type": "stream",
          "text": [
            "Train Loss: 98.1074\n",
            "Val Loss: 99.7466\n",
            "Epoch 532 of 1000\n"
          ],
          "name": "stdout"
        },
        {
          "output_type": "stream",
          "text": [
            "938it [00:08, 117.18it/s]                         \n",
            "157it [00:00, 178.74it/s]                         \n",
            "  1%|▏         | 12/937 [00:00<00:07, 119.15it/s]"
          ],
          "name": "stderr"
        },
        {
          "output_type": "stream",
          "text": [
            "Train Loss: 98.0996\n",
            "Val Loss: 99.8197\n",
            "Epoch 533 of 1000\n"
          ],
          "name": "stdout"
        },
        {
          "output_type": "stream",
          "text": [
            "938it [00:07, 118.65it/s]                         \n",
            "157it [00:00, 172.09it/s]                         \n",
            "  1%|▏         | 12/937 [00:00<00:08, 114.93it/s]"
          ],
          "name": "stderr"
        },
        {
          "output_type": "stream",
          "text": [
            "Train Loss: 98.0950\n",
            "Val Loss: 99.7987\n",
            "Epoch 534 of 1000\n"
          ],
          "name": "stdout"
        },
        {
          "output_type": "stream",
          "text": [
            "938it [00:08, 116.75it/s]                         \n",
            "157it [00:00, 172.09it/s]                         \n",
            "  1%|          | 11/937 [00:00<00:08, 105.95it/s]"
          ],
          "name": "stderr"
        },
        {
          "output_type": "stream",
          "text": [
            "Train Loss: 98.1385\n",
            "Val Loss: 99.7695\n",
            "Epoch 535 of 1000\n"
          ],
          "name": "stdout"
        },
        {
          "output_type": "stream",
          "text": [
            "938it [00:08, 117.09it/s]                         \n",
            "157it [00:00, 171.87it/s]                         \n",
            "  1%|▏         | 12/937 [00:00<00:07, 118.22it/s]"
          ],
          "name": "stderr"
        },
        {
          "output_type": "stream",
          "text": [
            "Train Loss: 98.1138\n",
            "Val Loss: 99.6794\n",
            "Epoch 536 of 1000\n"
          ],
          "name": "stdout"
        },
        {
          "output_type": "stream",
          "text": [
            "938it [00:08, 116.25it/s]                         \n",
            "157it [00:00, 175.54it/s]                         \n",
            "  1%|▏         | 12/937 [00:00<00:07, 118.49it/s]"
          ],
          "name": "stderr"
        },
        {
          "output_type": "stream",
          "text": [
            "Train Loss: 98.0974\n",
            "Val Loss: 99.8593\n",
            "Epoch 537 of 1000\n"
          ],
          "name": "stdout"
        },
        {
          "output_type": "stream",
          "text": [
            "938it [00:08, 117.06it/s]                         \n",
            "157it [00:00, 171.06it/s]                         \n",
            "  1%|▏         | 12/937 [00:00<00:07, 119.07it/s]"
          ],
          "name": "stderr"
        },
        {
          "output_type": "stream",
          "text": [
            "Train Loss: 98.0921\n",
            "Val Loss: 99.7468\n",
            "Epoch 538 of 1000\n"
          ],
          "name": "stdout"
        },
        {
          "output_type": "stream",
          "text": [
            "938it [00:08, 116.62it/s]                         \n",
            "157it [00:00, 171.71it/s]                         \n",
            "  1%|▏         | 12/937 [00:00<00:07, 117.58it/s]"
          ],
          "name": "stderr"
        },
        {
          "output_type": "stream",
          "text": [
            "Train Loss: 98.0892\n",
            "Val Loss: 99.7921\n",
            "Epoch 539 of 1000\n"
          ],
          "name": "stdout"
        },
        {
          "output_type": "stream",
          "text": [
            "938it [00:08, 114.69it/s]                         \n",
            "157it [00:00, 169.31it/s]                         \n",
            "  1%|▏         | 12/937 [00:00<00:07, 115.92it/s]"
          ],
          "name": "stderr"
        },
        {
          "output_type": "stream",
          "text": [
            "Train Loss: 98.0845\n",
            "Val Loss: 99.6928\n",
            "Epoch 540 of 1000\n"
          ],
          "name": "stdout"
        },
        {
          "output_type": "stream",
          "text": [
            "938it [00:08, 115.49it/s]                         \n",
            "157it [00:00, 164.52it/s]                         \n",
            "  1%|▏         | 12/937 [00:00<00:08, 113.37it/s]"
          ],
          "name": "stderr"
        },
        {
          "output_type": "stream",
          "text": [
            "Train Loss: 98.0709\n",
            "Val Loss: 99.7772\n",
            "Epoch 541 of 1000\n"
          ],
          "name": "stdout"
        },
        {
          "output_type": "stream",
          "text": [
            "938it [00:08, 115.92it/s]                         \n",
            "157it [00:00, 171.81it/s]                         \n",
            "  1%|          | 11/937 [00:00<00:08, 105.73it/s]"
          ],
          "name": "stderr"
        },
        {
          "output_type": "stream",
          "text": [
            "Train Loss: 98.0697\n",
            "Val Loss: 99.7780\n",
            "Epoch 542 of 1000\n"
          ],
          "name": "stdout"
        },
        {
          "output_type": "stream",
          "text": [
            "938it [00:07, 117.48it/s]                         \n",
            "157it [00:00, 171.57it/s]                         \n",
            "  1%|▏         | 13/937 [00:00<00:07, 121.00it/s]"
          ],
          "name": "stderr"
        },
        {
          "output_type": "stream",
          "text": [
            "Train Loss: 98.0561\n",
            "Val Loss: 99.6877\n",
            "Epoch 543 of 1000\n"
          ],
          "name": "stdout"
        },
        {
          "output_type": "stream",
          "text": [
            "938it [00:07, 117.43it/s]                         \n",
            "157it [00:00, 172.23it/s]                         \n",
            "  1%|▏         | 13/937 [00:00<00:07, 120.74it/s]"
          ],
          "name": "stderr"
        },
        {
          "output_type": "stream",
          "text": [
            "Train Loss: 98.0672\n",
            "Val Loss: 99.7571\n",
            "Epoch 544 of 1000\n"
          ],
          "name": "stdout"
        },
        {
          "output_type": "stream",
          "text": [
            "938it [00:07, 118.20it/s]\n",
            "157it [00:00, 167.79it/s]                         \n",
            "  1%|▏         | 12/937 [00:00<00:08, 114.67it/s]"
          ],
          "name": "stderr"
        },
        {
          "output_type": "stream",
          "text": [
            "Train Loss: 98.0772\n",
            "Val Loss: 99.7424\n",
            "Epoch 545 of 1000\n"
          ],
          "name": "stdout"
        },
        {
          "output_type": "stream",
          "text": [
            "938it [00:08, 115.67it/s]                         \n",
            "157it [00:00, 170.18it/s]                         \n",
            "  1%|▏         | 12/937 [00:00<00:08, 115.19it/s]"
          ],
          "name": "stderr"
        },
        {
          "output_type": "stream",
          "text": [
            "Train Loss: 98.0541\n",
            "Val Loss: 99.6971\n",
            "Epoch 546 of 1000\n"
          ],
          "name": "stdout"
        },
        {
          "output_type": "stream",
          "text": [
            "938it [00:08, 115.18it/s]                         \n",
            "157it [00:00, 171.19it/s]                         \n",
            "  1%|▏         | 12/937 [00:00<00:07, 119.31it/s]"
          ],
          "name": "stderr"
        },
        {
          "output_type": "stream",
          "text": [
            "Train Loss: 98.0562\n",
            "Val Loss: 99.6888\n",
            "Epoch 547 of 1000\n"
          ],
          "name": "stdout"
        },
        {
          "output_type": "stream",
          "text": [
            "938it [00:07, 117.34it/s]                         \n",
            "157it [00:00, 174.89it/s]                         \n",
            "  1%|▏         | 12/937 [00:00<00:08, 111.05it/s]"
          ],
          "name": "stderr"
        },
        {
          "output_type": "stream",
          "text": [
            "Train Loss: 98.0491\n",
            "Val Loss: 99.7268\n",
            "Epoch 548 of 1000\n"
          ],
          "name": "stdout"
        },
        {
          "output_type": "stream",
          "text": [
            "938it [00:08, 114.85it/s]                         \n",
            "157it [00:00, 166.86it/s]                         \n",
            "  1%|▏         | 12/937 [00:00<00:08, 113.71it/s]"
          ],
          "name": "stderr"
        },
        {
          "output_type": "stream",
          "text": [
            "Train Loss: 98.0488\n",
            "Val Loss: 99.7038\n",
            "Epoch 549 of 1000\n"
          ],
          "name": "stdout"
        },
        {
          "output_type": "stream",
          "text": [
            "938it [00:08, 114.07it/s]                         \n",
            "157it [00:00, 171.17it/s]                         \n",
            "  1%|▏         | 12/937 [00:00<00:07, 117.94it/s]"
          ],
          "name": "stderr"
        },
        {
          "output_type": "stream",
          "text": [
            "Train Loss: 98.0536\n",
            "Val Loss: 99.7246\n",
            "Epoch 550 of 1000\n"
          ],
          "name": "stdout"
        },
        {
          "output_type": "stream",
          "text": [
            "938it [00:08, 116.33it/s]                         \n",
            "157it [00:00, 168.37it/s]                         \n",
            "  1%|          | 11/937 [00:00<00:08, 109.32it/s]"
          ],
          "name": "stderr"
        },
        {
          "output_type": "stream",
          "text": [
            "Train Loss: 98.0215\n",
            "Val Loss: 99.7335\n",
            "Epoch 551 of 1000\n"
          ],
          "name": "stdout"
        },
        {
          "output_type": "stream",
          "text": [
            "938it [00:07, 117.70it/s]                         \n",
            "157it [00:00, 164.91it/s]                         \n",
            "  1%|▏         | 12/937 [00:00<00:08, 109.41it/s]"
          ],
          "name": "stderr"
        },
        {
          "output_type": "stream",
          "text": [
            "Train Loss: 98.0567\n",
            "Val Loss: 99.6592\n",
            "Epoch 552 of 1000\n"
          ],
          "name": "stdout"
        },
        {
          "output_type": "stream",
          "text": [
            "938it [00:08, 112.82it/s]                         \n",
            "157it [00:00, 164.34it/s]                         \n",
            "  1%|▏         | 12/937 [00:00<00:07, 115.98it/s]"
          ],
          "name": "stderr"
        },
        {
          "output_type": "stream",
          "text": [
            "Train Loss: 98.0148\n",
            "Val Loss: 99.8103\n",
            "Epoch 553 of 1000\n"
          ],
          "name": "stdout"
        },
        {
          "output_type": "stream",
          "text": [
            "938it [00:08, 110.93it/s]                         \n",
            "157it [00:00, 168.83it/s]                         \n",
            "  1%|▏         | 12/937 [00:00<00:08, 110.67it/s]"
          ],
          "name": "stderr"
        },
        {
          "output_type": "stream",
          "text": [
            "Train Loss: 98.0409\n",
            "Val Loss: 99.7737\n",
            "Epoch 554 of 1000\n"
          ],
          "name": "stdout"
        },
        {
          "output_type": "stream",
          "text": [
            "938it [00:07, 117.35it/s]                         \n",
            "157it [00:00, 172.13it/s]                         \n",
            "  1%|▏         | 12/937 [00:00<00:07, 116.74it/s]"
          ],
          "name": "stderr"
        },
        {
          "output_type": "stream",
          "text": [
            "Train Loss: 98.0200\n",
            "Val Loss: 99.7549\n",
            "Epoch 555 of 1000\n"
          ],
          "name": "stdout"
        },
        {
          "output_type": "stream",
          "text": [
            "938it [00:07, 117.46it/s]                         \n",
            "157it [00:00, 172.83it/s]                         \n",
            "  1%|          | 11/937 [00:00<00:08, 107.14it/s]"
          ],
          "name": "stderr"
        },
        {
          "output_type": "stream",
          "text": [
            "Train Loss: 98.0349\n",
            "Val Loss: 99.7361\n",
            "Epoch 556 of 1000\n"
          ],
          "name": "stdout"
        },
        {
          "output_type": "stream",
          "text": [
            "938it [00:08, 116.22it/s]                         \n",
            "157it [00:00, 162.92it/s]                         \n",
            "  1%|▏         | 12/937 [00:00<00:07, 117.16it/s]"
          ],
          "name": "stderr"
        },
        {
          "output_type": "stream",
          "text": [
            "Train Loss: 98.0566\n",
            "Val Loss: 99.5980\n",
            "Epoch 557 of 1000\n"
          ],
          "name": "stdout"
        },
        {
          "output_type": "stream",
          "text": [
            "938it [00:07, 119.09it/s]                         \n",
            "157it [00:00, 171.03it/s]                         \n",
            "  1%|▏         | 12/937 [00:00<00:08, 115.18it/s]"
          ],
          "name": "stderr"
        },
        {
          "output_type": "stream",
          "text": [
            "Train Loss: 98.0400\n",
            "Val Loss: 99.6873\n",
            "Epoch 558 of 1000\n"
          ],
          "name": "stdout"
        },
        {
          "output_type": "stream",
          "text": [
            "938it [00:08, 116.02it/s]                         \n",
            "157it [00:00, 165.40it/s]                         \n",
            "  1%|▏         | 12/937 [00:00<00:07, 117.65it/s]"
          ],
          "name": "stderr"
        },
        {
          "output_type": "stream",
          "text": [
            "Train Loss: 98.0181\n",
            "Val Loss: 99.7367\n",
            "Epoch 559 of 1000\n"
          ],
          "name": "stdout"
        },
        {
          "output_type": "stream",
          "text": [
            "938it [00:08, 116.02it/s]                         \n",
            "157it [00:01, 156.98it/s]                         \n",
            "  1%|▏         | 12/937 [00:00<00:07, 116.66it/s]"
          ],
          "name": "stderr"
        },
        {
          "output_type": "stream",
          "text": [
            "Train Loss: 98.0113\n",
            "Val Loss: 99.7451\n",
            "Epoch 560 of 1000\n"
          ],
          "name": "stdout"
        },
        {
          "output_type": "stream",
          "text": [
            "938it [00:08, 116.63it/s]                         \n",
            "157it [00:00, 171.53it/s]                         \n",
            "  1%|▏         | 12/937 [00:00<00:07, 118.66it/s]"
          ],
          "name": "stderr"
        },
        {
          "output_type": "stream",
          "text": [
            "Train Loss: 98.0139\n",
            "Val Loss: 99.7306\n",
            "Epoch 561 of 1000\n"
          ],
          "name": "stdout"
        },
        {
          "output_type": "stream",
          "text": [
            "938it [00:08, 116.24it/s]                         \n",
            "157it [00:00, 169.64it/s]                         \n",
            "  1%|▏         | 13/937 [00:00<00:07, 122.32it/s]"
          ],
          "name": "stderr"
        },
        {
          "output_type": "stream",
          "text": [
            "Train Loss: 97.9781\n",
            "Val Loss: 99.7242\n",
            "Epoch 562 of 1000\n"
          ],
          "name": "stdout"
        },
        {
          "output_type": "stream",
          "text": [
            "938it [00:07, 118.98it/s]                         \n",
            "157it [00:00, 161.96it/s]                         \n",
            "  1%|          | 11/937 [00:00<00:08, 106.11it/s]"
          ],
          "name": "stderr"
        },
        {
          "output_type": "stream",
          "text": [
            "Train Loss: 98.0359\n",
            "Val Loss: 99.7120\n",
            "Epoch 563 of 1000\n"
          ],
          "name": "stdout"
        },
        {
          "output_type": "stream",
          "text": [
            "938it [00:07, 117.66it/s]                         \n",
            "157it [00:00, 171.16it/s]                         \n",
            "  1%|          | 11/937 [00:00<00:08, 107.74it/s]"
          ],
          "name": "stderr"
        },
        {
          "output_type": "stream",
          "text": [
            "Train Loss: 98.0029\n",
            "Val Loss: 99.7350\n",
            "Epoch 564 of 1000\n"
          ],
          "name": "stdout"
        },
        {
          "output_type": "stream",
          "text": [
            "938it [00:08, 114.89it/s]                         \n",
            "157it [00:00, 168.38it/s]\n",
            "  1%|▏         | 12/937 [00:00<00:08, 114.92it/s]"
          ],
          "name": "stderr"
        },
        {
          "output_type": "stream",
          "text": [
            "Train Loss: 97.9975\n",
            "Val Loss: 99.8136\n",
            "Epoch 565 of 1000\n"
          ],
          "name": "stdout"
        },
        {
          "output_type": "stream",
          "text": [
            "938it [00:08, 114.79it/s]                         \n",
            "157it [00:01, 153.02it/s]                         \n",
            "  1%|▏         | 12/937 [00:00<00:07, 117.14it/s]"
          ],
          "name": "stderr"
        },
        {
          "output_type": "stream",
          "text": [
            "Train Loss: 98.0034\n",
            "Val Loss: 99.6574\n",
            "Epoch 566 of 1000\n"
          ],
          "name": "stdout"
        },
        {
          "output_type": "stream",
          "text": [
            "938it [00:08, 116.17it/s]                         \n",
            "157it [00:00, 173.39it/s]                         \n",
            "  1%|▏         | 12/937 [00:00<00:07, 117.48it/s]"
          ],
          "name": "stderr"
        },
        {
          "output_type": "stream",
          "text": [
            "Train Loss: 98.0033\n",
            "Val Loss: 99.7039\n",
            "Epoch 567 of 1000\n"
          ],
          "name": "stdout"
        },
        {
          "output_type": "stream",
          "text": [
            "938it [00:08, 115.63it/s]                         \n",
            "157it [00:00, 164.66it/s]                         \n",
            "  1%|▏         | 12/937 [00:00<00:07, 118.52it/s]"
          ],
          "name": "stderr"
        },
        {
          "output_type": "stream",
          "text": [
            "Train Loss: 98.0011\n",
            "Val Loss: 99.7060\n",
            "Epoch 568 of 1000\n"
          ],
          "name": "stdout"
        },
        {
          "output_type": "stream",
          "text": [
            "938it [00:08, 115.79it/s]\n",
            "157it [00:00, 172.67it/s]                         \n",
            "  1%|▏         | 12/937 [00:00<00:08, 113.86it/s]"
          ],
          "name": "stderr"
        },
        {
          "output_type": "stream",
          "text": [
            "Train Loss: 97.9919\n",
            "Val Loss: 99.6703\n",
            "Epoch 569 of 1000\n"
          ],
          "name": "stdout"
        },
        {
          "output_type": "stream",
          "text": [
            "938it [00:08, 116.94it/s]                         \n",
            "157it [00:00, 179.33it/s]                         \n",
            "  1%|▏         | 12/937 [00:00<00:07, 119.82it/s]"
          ],
          "name": "stderr"
        },
        {
          "output_type": "stream",
          "text": [
            "Train Loss: 97.9771\n",
            "Val Loss: 99.7391\n",
            "Epoch 570 of 1000\n"
          ],
          "name": "stdout"
        },
        {
          "output_type": "stream",
          "text": [
            "938it [00:07, 119.21it/s]                         \n",
            "157it [00:00, 176.93it/s]                         \n",
            "  1%|▏         | 12/937 [00:00<00:08, 110.96it/s]"
          ],
          "name": "stderr"
        },
        {
          "output_type": "stream",
          "text": [
            "Train Loss: 97.9619\n",
            "Val Loss: 99.7307\n",
            "Epoch 571 of 1000\n"
          ],
          "name": "stdout"
        },
        {
          "output_type": "stream",
          "text": [
            "938it [00:08, 116.27it/s]                         \n",
            "157it [00:00, 167.94it/s]                         \n",
            "  1%|▏         | 12/937 [00:00<00:08, 114.47it/s]"
          ],
          "name": "stderr"
        },
        {
          "output_type": "stream",
          "text": [
            "Train Loss: 97.9714\n",
            "Val Loss: 99.5743\n",
            "Epoch 572 of 1000\n"
          ],
          "name": "stdout"
        },
        {
          "output_type": "stream",
          "text": [
            "938it [00:08, 114.61it/s]                         \n",
            "157it [00:00, 170.89it/s]\n",
            "  1%|▏         | 12/937 [00:00<00:07, 118.63it/s]"
          ],
          "name": "stderr"
        },
        {
          "output_type": "stream",
          "text": [
            "Train Loss: 97.9641\n",
            "Val Loss: 99.7655\n",
            "Epoch 573 of 1000\n"
          ],
          "name": "stdout"
        },
        {
          "output_type": "stream",
          "text": [
            "938it [00:08, 117.00it/s]                         \n",
            "157it [00:00, 167.79it/s]                         \n",
            "  1%|          | 11/937 [00:00<00:08, 105.40it/s]"
          ],
          "name": "stderr"
        },
        {
          "output_type": "stream",
          "text": [
            "Train Loss: 97.9578\n",
            "Val Loss: 99.7202\n",
            "Epoch 574 of 1000\n"
          ],
          "name": "stdout"
        },
        {
          "output_type": "stream",
          "text": [
            "938it [00:08, 116.65it/s]                         \n",
            "157it [00:00, 170.99it/s]                         \n",
            "  1%|          | 10/937 [00:00<00:09, 99.33it/s]"
          ],
          "name": "stderr"
        },
        {
          "output_type": "stream",
          "text": [
            "Train Loss: 97.9706\n",
            "Val Loss: 99.6085\n",
            "Epoch 575 of 1000\n"
          ],
          "name": "stdout"
        },
        {
          "output_type": "stream",
          "text": [
            "938it [00:07, 117.48it/s]                         \n",
            "157it [00:00, 167.92it/s]                         \n",
            "  1%|▏         | 12/937 [00:00<00:07, 116.31it/s]"
          ],
          "name": "stderr"
        },
        {
          "output_type": "stream",
          "text": [
            "Train Loss: 97.9782\n",
            "Val Loss: 99.6684\n",
            "Epoch 576 of 1000\n"
          ],
          "name": "stdout"
        },
        {
          "output_type": "stream",
          "text": [
            "938it [00:08, 116.73it/s]                         \n",
            "157it [00:00, 171.29it/s]                         \n",
            "  1%|          | 11/937 [00:00<00:08, 107.59it/s]"
          ],
          "name": "stderr"
        },
        {
          "output_type": "stream",
          "text": [
            "Train Loss: 97.9537\n",
            "Val Loss: 99.6733\n",
            "Epoch 577 of 1000\n"
          ],
          "name": "stdout"
        },
        {
          "output_type": "stream",
          "text": [
            "938it [00:07, 117.76it/s]                         \n",
            "157it [00:00, 174.54it/s]                         \n",
            "  1%|▏         | 12/937 [00:00<00:08, 112.46it/s]"
          ],
          "name": "stderr"
        },
        {
          "output_type": "stream",
          "text": [
            "Train Loss: 97.9659\n",
            "Val Loss: 99.7206\n",
            "Epoch 578 of 1000\n"
          ],
          "name": "stdout"
        },
        {
          "output_type": "stream",
          "text": [
            "938it [00:08, 116.50it/s]                         \n",
            "157it [00:00, 173.32it/s]                         \n",
            "  1%|▏         | 12/937 [00:00<00:07, 118.57it/s]"
          ],
          "name": "stderr"
        },
        {
          "output_type": "stream",
          "text": [
            "Train Loss: 97.9608\n",
            "Val Loss: 99.6596\n",
            "Epoch 579 of 1000\n"
          ],
          "name": "stdout"
        },
        {
          "output_type": "stream",
          "text": [
            "938it [00:08, 115.82it/s]                         \n",
            "157it [00:00, 172.06it/s]                         \n",
            "  1%|▏         | 12/937 [00:00<00:07, 118.84it/s]"
          ],
          "name": "stderr"
        },
        {
          "output_type": "stream",
          "text": [
            "Train Loss: 97.9458\n",
            "Val Loss: 99.7784\n",
            "Epoch 580 of 1000\n"
          ],
          "name": "stdout"
        },
        {
          "output_type": "stream",
          "text": [
            "938it [00:08, 115.81it/s]                         \n",
            "157it [00:00, 180.19it/s]                         \n",
            "  1%|▏         | 13/937 [00:00<00:07, 122.65it/s]"
          ],
          "name": "stderr"
        },
        {
          "output_type": "stream",
          "text": [
            "Train Loss: 97.9216\n",
            "Val Loss: 99.6524\n",
            "Epoch 581 of 1000\n"
          ],
          "name": "stdout"
        },
        {
          "output_type": "stream",
          "text": [
            "938it [00:08, 114.88it/s]                         \n",
            "157it [00:00, 167.98it/s]                         \n",
            "  1%|▏         | 12/937 [00:00<00:07, 117.50it/s]"
          ],
          "name": "stderr"
        },
        {
          "output_type": "stream",
          "text": [
            "Train Loss: 97.9358\n",
            "Val Loss: 99.6114\n",
            "Epoch 582 of 1000\n"
          ],
          "name": "stdout"
        },
        {
          "output_type": "stream",
          "text": [
            "938it [00:08, 116.82it/s]                         \n",
            "157it [00:00, 170.18it/s]                         \n",
            "  1%|▏         | 12/937 [00:00<00:07, 117.40it/s]"
          ],
          "name": "stderr"
        },
        {
          "output_type": "stream",
          "text": [
            "Train Loss: 97.9561\n",
            "Val Loss: 99.7176\n",
            "Epoch 583 of 1000\n"
          ],
          "name": "stdout"
        },
        {
          "output_type": "stream",
          "text": [
            "938it [00:08, 115.15it/s]                         \n",
            "157it [00:00, 169.40it/s]                         \n",
            "  1%|▏         | 12/937 [00:00<00:07, 119.37it/s]"
          ],
          "name": "stderr"
        },
        {
          "output_type": "stream",
          "text": [
            "Train Loss: 97.9231\n",
            "Val Loss: 99.6292\n",
            "Epoch 584 of 1000\n"
          ],
          "name": "stdout"
        },
        {
          "output_type": "stream",
          "text": [
            "938it [00:08, 116.78it/s]                         \n",
            "157it [00:01, 154.11it/s]                         \n",
            "  1%|          | 10/937 [00:00<00:09, 97.86it/s]"
          ],
          "name": "stderr"
        },
        {
          "output_type": "stream",
          "text": [
            "Train Loss: 97.9585\n",
            "Val Loss: 99.7508\n",
            "Epoch 585 of 1000\n"
          ],
          "name": "stdout"
        },
        {
          "output_type": "stream",
          "text": [
            "938it [00:08, 115.87it/s]                         \n",
            "157it [00:00, 169.16it/s]                         \n",
            "  1%|▏         | 12/937 [00:00<00:07, 117.92it/s]"
          ],
          "name": "stderr"
        },
        {
          "output_type": "stream",
          "text": [
            "Train Loss: 97.9101\n",
            "Val Loss: 99.6762\n",
            "Epoch 586 of 1000\n"
          ],
          "name": "stdout"
        },
        {
          "output_type": "stream",
          "text": [
            "938it [00:08, 115.83it/s]                         \n",
            "157it [00:00, 171.09it/s]                         \n",
            "  1%|▏         | 12/937 [00:00<00:08, 108.96it/s]"
          ],
          "name": "stderr"
        },
        {
          "output_type": "stream",
          "text": [
            "Train Loss: 97.9359\n",
            "Val Loss: 99.7830\n",
            "Epoch 587 of 1000\n"
          ],
          "name": "stdout"
        },
        {
          "output_type": "stream",
          "text": [
            "938it [00:08, 112.95it/s]                         \n",
            "157it [00:01, 155.54it/s]                         \n",
            "  1%|▏         | 12/937 [00:00<00:07, 117.82it/s]"
          ],
          "name": "stderr"
        },
        {
          "output_type": "stream",
          "text": [
            "Train Loss: 97.9129\n",
            "Val Loss: 99.6657\n",
            "Epoch 588 of 1000\n"
          ],
          "name": "stdout"
        },
        {
          "output_type": "stream",
          "text": [
            "938it [00:08, 115.73it/s]                         \n",
            "157it [00:00, 172.41it/s]                         \n",
            "  1%|▏         | 12/937 [00:00<00:08, 115.29it/s]"
          ],
          "name": "stderr"
        },
        {
          "output_type": "stream",
          "text": [
            "Train Loss: 97.9129\n",
            "Val Loss: 99.7525\n",
            "Epoch 589 of 1000\n"
          ],
          "name": "stdout"
        },
        {
          "output_type": "stream",
          "text": [
            "938it [00:08, 116.86it/s]                         \n",
            "157it [00:00, 175.60it/s]                         \n",
            "  1%|          | 11/937 [00:00<00:08, 109.61it/s]"
          ],
          "name": "stderr"
        },
        {
          "output_type": "stream",
          "text": [
            "Train Loss: 97.9256\n",
            "Val Loss: 99.6192\n",
            "Epoch 590 of 1000\n"
          ],
          "name": "stdout"
        },
        {
          "output_type": "stream",
          "text": [
            "938it [00:07, 117.67it/s]                         \n",
            "157it [00:00, 172.48it/s]                         \n",
            "  1%|▏         | 13/937 [00:00<00:07, 123.99it/s]"
          ],
          "name": "stderr"
        },
        {
          "output_type": "stream",
          "text": [
            "Train Loss: 97.9458\n",
            "Val Loss: 99.6260\n",
            "Epoch 591 of 1000\n"
          ],
          "name": "stdout"
        },
        {
          "output_type": "stream",
          "text": [
            "938it [00:07, 118.08it/s]                         \n",
            "157it [00:00, 178.89it/s]                         \n",
            "  1%|▏         | 13/937 [00:00<00:07, 120.57it/s]"
          ],
          "name": "stderr"
        },
        {
          "output_type": "stream",
          "text": [
            "Train Loss: 97.8985\n",
            "Val Loss: 99.6799\n",
            "Epoch 592 of 1000\n"
          ],
          "name": "stdout"
        },
        {
          "output_type": "stream",
          "text": [
            "938it [00:08, 115.62it/s]                         \n",
            "157it [00:00, 175.69it/s]                         \n",
            "  1%|          | 8/937 [00:00<00:12, 76.34it/s]"
          ],
          "name": "stderr"
        },
        {
          "output_type": "stream",
          "text": [
            "Train Loss: 97.9357\n",
            "Val Loss: 99.6816\n",
            "Epoch 593 of 1000\n"
          ],
          "name": "stdout"
        },
        {
          "output_type": "stream",
          "text": [
            "938it [00:08, 115.41it/s]                         \n",
            "157it [00:00, 163.05it/s]                         \n",
            "  1%|▏         | 12/937 [00:00<00:08, 110.61it/s]"
          ],
          "name": "stderr"
        },
        {
          "output_type": "stream",
          "text": [
            "Train Loss: 97.8698\n",
            "Val Loss: 99.6885\n",
            "Epoch 594 of 1000\n"
          ],
          "name": "stdout"
        },
        {
          "output_type": "stream",
          "text": [
            "938it [00:08, 116.68it/s]                         \n",
            "157it [00:00, 170.86it/s]                         \n",
            "  1%|▏         | 12/937 [00:00<00:07, 116.24it/s]"
          ],
          "name": "stderr"
        },
        {
          "output_type": "stream",
          "text": [
            "Train Loss: 97.9018\n",
            "Val Loss: 99.7665\n",
            "Epoch 595 of 1000\n"
          ],
          "name": "stdout"
        },
        {
          "output_type": "stream",
          "text": [
            "938it [00:07, 118.20it/s]                         \n",
            "157it [00:00, 172.38it/s]                         \n",
            "  1%|▏         | 12/937 [00:00<00:07, 119.92it/s]"
          ],
          "name": "stderr"
        },
        {
          "output_type": "stream",
          "text": [
            "Train Loss: 97.8629\n",
            "Val Loss: 99.6436\n",
            "Epoch 596 of 1000\n"
          ],
          "name": "stdout"
        },
        {
          "output_type": "stream",
          "text": [
            "938it [00:08, 116.49it/s]                         \n",
            "157it [00:00, 174.35it/s]                         \n",
            "  1%|▏         | 13/937 [00:00<00:07, 121.90it/s]"
          ],
          "name": "stderr"
        },
        {
          "output_type": "stream",
          "text": [
            "Train Loss: 97.8771\n",
            "Val Loss: 99.6136\n",
            "Epoch 597 of 1000\n"
          ],
          "name": "stdout"
        },
        {
          "output_type": "stream",
          "text": [
            "938it [00:08, 117.22it/s]                         \n",
            "157it [00:00, 170.10it/s]\n",
            "  1%|▏         | 13/937 [00:00<00:07, 121.08it/s]"
          ],
          "name": "stderr"
        },
        {
          "output_type": "stream",
          "text": [
            "Train Loss: 97.8836\n",
            "Val Loss: 99.6841\n",
            "Epoch 598 of 1000\n"
          ],
          "name": "stdout"
        },
        {
          "output_type": "stream",
          "text": [
            "938it [00:08, 116.29it/s]                         \n",
            "157it [00:00, 171.37it/s]                         \n",
            "  1%|▏         | 12/937 [00:00<00:08, 112.44it/s]"
          ],
          "name": "stderr"
        },
        {
          "output_type": "stream",
          "text": [
            "Train Loss: 97.8900\n",
            "Val Loss: 99.6465\n",
            "Epoch 599 of 1000\n"
          ],
          "name": "stdout"
        },
        {
          "output_type": "stream",
          "text": [
            "938it [00:08, 113.14it/s]                         \n",
            "157it [00:00, 163.93it/s]                         \n",
            "  1%|▏         | 12/937 [00:00<00:08, 112.07it/s]"
          ],
          "name": "stderr"
        },
        {
          "output_type": "stream",
          "text": [
            "Train Loss: 97.8899\n",
            "Val Loss: 99.6565\n",
            "Epoch 600 of 1000\n"
          ],
          "name": "stdout"
        },
        {
          "output_type": "stream",
          "text": [
            "938it [00:08, 116.53it/s]                         \n",
            "157it [00:00, 170.59it/s]\n",
            "  1%|          | 11/937 [00:00<00:08, 107.99it/s]"
          ],
          "name": "stderr"
        },
        {
          "output_type": "stream",
          "text": [
            "Train Loss: 97.9042\n",
            "Val Loss: 99.7540\n",
            "Epoch 601 of 1000\n"
          ],
          "name": "stdout"
        },
        {
          "output_type": "stream",
          "text": [
            "938it [00:08, 114.11it/s]                         \n",
            "157it [00:00, 170.99it/s]                         \n",
            "  1%|▏         | 12/937 [00:00<00:07, 116.33it/s]"
          ],
          "name": "stderr"
        },
        {
          "output_type": "stream",
          "text": [
            "Train Loss: 97.9106\n",
            "Val Loss: 99.5696\n",
            "Epoch 602 of 1000\n"
          ],
          "name": "stdout"
        },
        {
          "output_type": "stream",
          "text": [
            "938it [00:07, 117.73it/s]                         \n",
            "157it [00:00, 177.05it/s]                         \n",
            "  1%|▏         | 12/937 [00:00<00:07, 119.29it/s]"
          ],
          "name": "stderr"
        },
        {
          "output_type": "stream",
          "text": [
            "Train Loss: 97.8443\n",
            "Val Loss: 99.6552\n",
            "Epoch 603 of 1000\n"
          ],
          "name": "stdout"
        },
        {
          "output_type": "stream",
          "text": [
            "938it [00:08, 116.26it/s]                         \n",
            "157it [00:00, 173.16it/s]                         \n",
            "  1%|▏         | 12/937 [00:00<00:08, 111.35it/s]"
          ],
          "name": "stderr"
        },
        {
          "output_type": "stream",
          "text": [
            "Train Loss: 97.8721\n",
            "Val Loss: 99.5965\n",
            "Epoch 604 of 1000\n"
          ],
          "name": "stdout"
        },
        {
          "output_type": "stream",
          "text": [
            "938it [00:08, 115.90it/s]                         \n",
            "157it [00:00, 170.68it/s]                         \n",
            "  1%|          | 11/937 [00:00<00:08, 109.04it/s]"
          ],
          "name": "stderr"
        },
        {
          "output_type": "stream",
          "text": [
            "Train Loss: 97.8462\n",
            "Val Loss: 99.6319\n",
            "Epoch 605 of 1000\n"
          ],
          "name": "stdout"
        },
        {
          "output_type": "stream",
          "text": [
            "938it [00:08, 115.73it/s]                         \n",
            "157it [00:00, 171.26it/s]                         \n",
            "  1%|          | 11/937 [00:00<00:08, 108.59it/s]"
          ],
          "name": "stderr"
        },
        {
          "output_type": "stream",
          "text": [
            "Train Loss: 97.8771\n",
            "Val Loss: 99.5475\n",
            "Epoch 606 of 1000\n"
          ],
          "name": "stdout"
        },
        {
          "output_type": "stream",
          "text": [
            "938it [00:08, 114.51it/s]                         \n",
            "157it [00:00, 171.35it/s]                         \n",
            "  1%|▏         | 12/937 [00:00<00:08, 115.27it/s]"
          ],
          "name": "stderr"
        },
        {
          "output_type": "stream",
          "text": [
            "Train Loss: 97.8574\n",
            "Val Loss: 99.6428\n",
            "Epoch 607 of 1000\n"
          ],
          "name": "stdout"
        },
        {
          "output_type": "stream",
          "text": [
            "938it [00:08, 116.24it/s]                         \n",
            "157it [00:00, 171.14it/s]                         \n",
            "  1%|          | 11/937 [00:00<00:08, 108.08it/s]"
          ],
          "name": "stderr"
        },
        {
          "output_type": "stream",
          "text": [
            "Train Loss: 97.8505\n",
            "Val Loss: 99.6135\n",
            "Epoch 608 of 1000\n"
          ],
          "name": "stdout"
        },
        {
          "output_type": "stream",
          "text": [
            "938it [00:08, 114.33it/s]                         \n",
            "157it [00:00, 172.18it/s]                         \n",
            "  1%|▏         | 12/937 [00:00<00:08, 114.95it/s]"
          ],
          "name": "stderr"
        },
        {
          "output_type": "stream",
          "text": [
            "Train Loss: 97.8355\n",
            "Val Loss: 99.5431\n",
            "Epoch 609 of 1000\n"
          ],
          "name": "stdout"
        },
        {
          "output_type": "stream",
          "text": [
            "938it [00:08, 115.18it/s]                         \n",
            "157it [00:00, 173.51it/s]                         \n",
            "  1%|▏         | 12/937 [00:00<00:07, 116.58it/s]"
          ],
          "name": "stderr"
        },
        {
          "output_type": "stream",
          "text": [
            "Train Loss: 97.8437\n",
            "Val Loss: 99.5942\n",
            "Epoch 610 of 1000\n"
          ],
          "name": "stdout"
        },
        {
          "output_type": "stream",
          "text": [
            "938it [00:08, 115.10it/s]                         \n",
            "157it [00:00, 168.02it/s]                         \n",
            "  1%|▏         | 12/937 [00:00<00:07, 117.77it/s]"
          ],
          "name": "stderr"
        },
        {
          "output_type": "stream",
          "text": [
            "Train Loss: 97.8389\n",
            "Val Loss: 99.6086\n",
            "Epoch 611 of 1000\n"
          ],
          "name": "stdout"
        },
        {
          "output_type": "stream",
          "text": [
            "938it [00:08, 112.82it/s]                         \n",
            "157it [00:00, 168.98it/s]                         \n",
            "  1%|▏         | 12/937 [00:00<00:07, 115.81it/s]"
          ],
          "name": "stderr"
        },
        {
          "output_type": "stream",
          "text": [
            "Train Loss: 97.8443\n",
            "Val Loss: 99.5735\n",
            "Epoch 612 of 1000\n"
          ],
          "name": "stdout"
        },
        {
          "output_type": "stream",
          "text": [
            "938it [00:08, 113.26it/s]                         \n",
            "157it [00:00, 157.54it/s]                         \n",
            "  1%|▏         | 12/937 [00:00<00:07, 118.03it/s]"
          ],
          "name": "stderr"
        },
        {
          "output_type": "stream",
          "text": [
            "Train Loss: 97.8287\n",
            "Val Loss: 99.5652\n",
            "Epoch 613 of 1000\n"
          ],
          "name": "stdout"
        },
        {
          "output_type": "stream",
          "text": [
            "938it [00:08, 115.88it/s]                         \n",
            "157it [00:00, 157.39it/s]                         \n",
            "  1%|▏         | 12/937 [00:00<00:07, 119.80it/s]"
          ],
          "name": "stderr"
        },
        {
          "output_type": "stream",
          "text": [
            "Train Loss: 97.8174\n",
            "Val Loss: 99.5754\n",
            "Epoch 614 of 1000\n"
          ],
          "name": "stdout"
        },
        {
          "output_type": "stream",
          "text": [
            "938it [00:08, 114.90it/s]                         \n",
            "157it [00:00, 166.91it/s]                         \n",
            "  1%|▏         | 12/937 [00:00<00:08, 114.89it/s]"
          ],
          "name": "stderr"
        },
        {
          "output_type": "stream",
          "text": [
            "Train Loss: 97.8446\n",
            "Val Loss: 99.5910\n",
            "Epoch 615 of 1000\n"
          ],
          "name": "stdout"
        },
        {
          "output_type": "stream",
          "text": [
            "938it [00:08, 112.19it/s]                         \n",
            "157it [00:00, 170.46it/s]                         \n",
            "  1%|          | 11/937 [00:00<00:08, 106.37it/s]"
          ],
          "name": "stderr"
        },
        {
          "output_type": "stream",
          "text": [
            "Train Loss: 97.8329\n",
            "Val Loss: 99.5689\n",
            "Epoch 616 of 1000\n"
          ],
          "name": "stdout"
        },
        {
          "output_type": "stream",
          "text": [
            "938it [00:08, 114.50it/s]                         \n",
            "157it [00:00, 171.31it/s]                         \n",
            "  1%|▏         | 12/937 [00:00<00:08, 111.47it/s]"
          ],
          "name": "stderr"
        },
        {
          "output_type": "stream",
          "text": [
            "Train Loss: 97.8395\n",
            "Val Loss: 99.5386\n",
            "Epoch 617 of 1000\n"
          ],
          "name": "stdout"
        },
        {
          "output_type": "stream",
          "text": [
            "938it [00:08, 115.63it/s]\n",
            "157it [00:00, 166.84it/s]                         \n",
            "  1%|          | 11/937 [00:00<00:08, 109.48it/s]"
          ],
          "name": "stderr"
        },
        {
          "output_type": "stream",
          "text": [
            "Train Loss: 97.8254\n",
            "Val Loss: 99.5379\n",
            "Epoch 618 of 1000\n"
          ],
          "name": "stdout"
        },
        {
          "output_type": "stream",
          "text": [
            "938it [00:08, 114.33it/s]                         \n",
            "157it [00:00, 166.93it/s]                         \n",
            "  1%|▏         | 12/937 [00:00<00:08, 113.31it/s]"
          ],
          "name": "stderr"
        },
        {
          "output_type": "stream",
          "text": [
            "Train Loss: 97.7632\n",
            "Val Loss: 99.6029\n",
            "Epoch 619 of 1000\n"
          ],
          "name": "stdout"
        },
        {
          "output_type": "stream",
          "text": [
            "938it [00:08, 113.29it/s]                         \n",
            "157it [00:00, 166.23it/s]                         \n",
            "  1%|          | 11/937 [00:00<00:08, 106.16it/s]"
          ],
          "name": "stderr"
        },
        {
          "output_type": "stream",
          "text": [
            "Train Loss: 97.8135\n",
            "Val Loss: 99.6087\n",
            "Epoch 620 of 1000\n"
          ],
          "name": "stdout"
        },
        {
          "output_type": "stream",
          "text": [
            "938it [00:08, 112.55it/s]                         \n",
            "157it [00:00, 173.19it/s]                         \n",
            "  1%|▏         | 12/937 [00:00<00:07, 119.68it/s]"
          ],
          "name": "stderr"
        },
        {
          "output_type": "stream",
          "text": [
            "Train Loss: 97.8193\n",
            "Val Loss: 99.6234\n",
            "Epoch 621 of 1000\n"
          ],
          "name": "stdout"
        },
        {
          "output_type": "stream",
          "text": [
            "938it [00:08, 110.91it/s]                         \n",
            "157it [00:00, 163.56it/s]                         \n",
            "  1%|▏         | 12/937 [00:00<00:08, 115.13it/s]"
          ],
          "name": "stderr"
        },
        {
          "output_type": "stream",
          "text": [
            "Train Loss: 97.8245\n",
            "Val Loss: 99.6097\n",
            "Epoch 622 of 1000\n"
          ],
          "name": "stdout"
        },
        {
          "output_type": "stream",
          "text": [
            "938it [00:08, 112.27it/s]                         \n",
            "157it [00:00, 166.69it/s]                         \n",
            "  1%|▏         | 12/937 [00:00<00:07, 119.45it/s]"
          ],
          "name": "stderr"
        },
        {
          "output_type": "stream",
          "text": [
            "Train Loss: 97.8288\n",
            "Val Loss: 99.6713\n",
            "Epoch 623 of 1000\n"
          ],
          "name": "stdout"
        },
        {
          "output_type": "stream",
          "text": [
            "938it [00:08, 113.66it/s]                         \n",
            "157it [00:00, 167.12it/s]                         \n",
            "  1%|          | 11/937 [00:00<00:08, 104.84it/s]"
          ],
          "name": "stderr"
        },
        {
          "output_type": "stream",
          "text": [
            "Train Loss: 97.7947\n",
            "Val Loss: 99.6639\n",
            "Epoch 624 of 1000\n"
          ],
          "name": "stdout"
        },
        {
          "output_type": "stream",
          "text": [
            "938it [00:08, 115.72it/s]                         \n",
            "157it [00:00, 170.38it/s]                         \n",
            "  1%|▏         | 12/937 [00:00<00:07, 116.28it/s]"
          ],
          "name": "stderr"
        },
        {
          "output_type": "stream",
          "text": [
            "Train Loss: 97.8025\n",
            "Val Loss: 99.6131\n",
            "Epoch 625 of 1000\n"
          ],
          "name": "stdout"
        },
        {
          "output_type": "stream",
          "text": [
            "938it [00:08, 114.87it/s]                         \n",
            "157it [00:00, 170.28it/s]                         \n",
            "  1%|          | 9/937 [00:00<00:11, 77.93it/s]"
          ],
          "name": "stderr"
        },
        {
          "output_type": "stream",
          "text": [
            "Train Loss: 97.7835\n",
            "Val Loss: 99.6425\n",
            "Epoch 626 of 1000\n"
          ],
          "name": "stdout"
        },
        {
          "output_type": "stream",
          "text": [
            "938it [00:08, 110.55it/s]                         \n",
            "157it [00:00, 170.85it/s]                         \n",
            "  1%|          | 11/937 [00:00<00:09, 102.70it/s]"
          ],
          "name": "stderr"
        },
        {
          "output_type": "stream",
          "text": [
            "Train Loss: 97.7860\n",
            "Val Loss: 99.6526\n",
            "Epoch 627 of 1000\n"
          ],
          "name": "stdout"
        },
        {
          "output_type": "stream",
          "text": [
            "938it [00:08, 114.19it/s]                         \n",
            "157it [00:00, 171.55it/s]                         \n",
            "  1%|▏         | 12/937 [00:00<00:07, 118.72it/s]"
          ],
          "name": "stderr"
        },
        {
          "output_type": "stream",
          "text": [
            "Train Loss: 97.7633\n",
            "Val Loss: 99.4835\n",
            "Epoch 628 of 1000\n"
          ],
          "name": "stdout"
        },
        {
          "output_type": "stream",
          "text": [
            "938it [00:08, 117.09it/s]                         \n",
            "157it [00:00, 170.30it/s]                         \n",
            "  1%|          | 11/937 [00:00<00:08, 108.61it/s]"
          ],
          "name": "stderr"
        },
        {
          "output_type": "stream",
          "text": [
            "Train Loss: 97.8037\n",
            "Val Loss: 99.6136\n",
            "Epoch 629 of 1000\n"
          ],
          "name": "stdout"
        },
        {
          "output_type": "stream",
          "text": [
            "938it [00:08, 114.76it/s]                         \n",
            "157it [00:00, 172.41it/s]                         \n",
            "  1%|▏         | 12/937 [00:00<00:07, 116.20it/s]"
          ],
          "name": "stderr"
        },
        {
          "output_type": "stream",
          "text": [
            "Train Loss: 97.7859\n",
            "Val Loss: 99.5172\n",
            "Epoch 630 of 1000\n"
          ],
          "name": "stdout"
        },
        {
          "output_type": "stream",
          "text": [
            "938it [00:08, 115.63it/s]                         \n",
            "157it [00:00, 172.57it/s]                         \n",
            "  1%|▏         | 12/937 [00:00<00:08, 112.15it/s]"
          ],
          "name": "stderr"
        },
        {
          "output_type": "stream",
          "text": [
            "Train Loss: 97.8079\n",
            "Val Loss: 99.6429\n",
            "Epoch 631 of 1000\n"
          ],
          "name": "stdout"
        },
        {
          "output_type": "stream",
          "text": [
            "938it [00:08, 116.80it/s]                         \n",
            "157it [00:00, 171.49it/s]                         \n",
            "  1%|          | 11/937 [00:00<00:08, 107.40it/s]"
          ],
          "name": "stderr"
        },
        {
          "output_type": "stream",
          "text": [
            "Train Loss: 97.7781\n",
            "Val Loss: 99.5541\n",
            "Epoch 632 of 1000\n"
          ],
          "name": "stdout"
        },
        {
          "output_type": "stream",
          "text": [
            "938it [00:08, 115.12it/s]                         \n",
            "157it [00:00, 169.78it/s]                         \n",
            "  1%|▏         | 12/937 [00:00<00:08, 105.63it/s]"
          ],
          "name": "stderr"
        },
        {
          "output_type": "stream",
          "text": [
            "Train Loss: 97.7703\n",
            "Val Loss: 99.5191\n",
            "Epoch 633 of 1000\n"
          ],
          "name": "stdout"
        },
        {
          "output_type": "stream",
          "text": [
            "938it [00:08, 113.91it/s]                         \n",
            "157it [00:00, 166.97it/s]                         \n",
            "  1%|          | 11/937 [00:00<00:08, 105.00it/s]"
          ],
          "name": "stderr"
        },
        {
          "output_type": "stream",
          "text": [
            "Train Loss: 97.7570\n",
            "Val Loss: 99.5220\n",
            "Epoch 634 of 1000\n"
          ],
          "name": "stdout"
        },
        {
          "output_type": "stream",
          "text": [
            "938it [00:08, 112.28it/s]                         \n",
            "157it [00:00, 163.03it/s]                         \n",
            "  1%|▏         | 12/937 [00:00<00:08, 113.39it/s]"
          ],
          "name": "stderr"
        },
        {
          "output_type": "stream",
          "text": [
            "Train Loss: 97.8001\n",
            "Val Loss: 99.5726\n",
            "Epoch 635 of 1000\n"
          ],
          "name": "stdout"
        },
        {
          "output_type": "stream",
          "text": [
            "938it [00:08, 116.13it/s]                         \n",
            "157it [00:00, 170.40it/s]                         \n",
            "  1%|▏         | 12/937 [00:00<00:07, 117.47it/s]"
          ],
          "name": "stderr"
        },
        {
          "output_type": "stream",
          "text": [
            "Train Loss: 97.7602\n",
            "Val Loss: 99.5832\n",
            "Epoch 636 of 1000\n"
          ],
          "name": "stdout"
        },
        {
          "output_type": "stream",
          "text": [
            "938it [00:08, 113.27it/s]                         \n",
            "157it [00:00, 170.10it/s]\n",
            "  1%|          | 11/937 [00:00<00:08, 104.15it/s]"
          ],
          "name": "stderr"
        },
        {
          "output_type": "stream",
          "text": [
            "Train Loss: 97.7833\n",
            "Val Loss: 99.5145\n",
            "Epoch 637 of 1000\n"
          ],
          "name": "stdout"
        },
        {
          "output_type": "stream",
          "text": [
            "938it [00:08, 115.18it/s]                         \n",
            "157it [00:00, 166.94it/s]                         \n",
            "  1%|          | 11/937 [00:00<00:08, 107.64it/s]"
          ],
          "name": "stderr"
        },
        {
          "output_type": "stream",
          "text": [
            "Train Loss: 97.7660\n",
            "Val Loss: 99.5212\n",
            "Epoch 638 of 1000\n"
          ],
          "name": "stdout"
        },
        {
          "output_type": "stream",
          "text": [
            "938it [00:08, 114.54it/s]                         \n",
            "157it [00:00, 165.13it/s]                         \n",
            "  1%|▏         | 12/937 [00:00<00:07, 119.00it/s]"
          ],
          "name": "stderr"
        },
        {
          "output_type": "stream",
          "text": [
            "Train Loss: 97.7668\n",
            "Val Loss: 99.5427\n",
            "Epoch 639 of 1000\n"
          ],
          "name": "stdout"
        },
        {
          "output_type": "stream",
          "text": [
            "938it [00:08, 114.80it/s]                         \n",
            "157it [00:00, 174.72it/s]                         \n",
            "  1%|▏         | 12/937 [00:00<00:07, 117.07it/s]"
          ],
          "name": "stderr"
        },
        {
          "output_type": "stream",
          "text": [
            "Train Loss: 97.7753\n",
            "Val Loss: 99.5585\n",
            "Epoch 640 of 1000\n"
          ],
          "name": "stdout"
        },
        {
          "output_type": "stream",
          "text": [
            "938it [00:08, 116.10it/s]                         \n",
            "157it [00:00, 170.65it/s]\n",
            "  1%|▏         | 12/937 [00:00<00:08, 115.25it/s]"
          ],
          "name": "stderr"
        },
        {
          "output_type": "stream",
          "text": [
            "Train Loss: 97.7790\n",
            "Val Loss: 99.5056\n",
            "Epoch 641 of 1000\n"
          ],
          "name": "stdout"
        },
        {
          "output_type": "stream",
          "text": [
            "938it [00:08, 116.29it/s]                         \n",
            "157it [00:00, 171.50it/s]                         \n",
            "  1%|▏         | 12/937 [00:00<00:07, 118.54it/s]"
          ],
          "name": "stderr"
        },
        {
          "output_type": "stream",
          "text": [
            "Train Loss: 97.7514\n",
            "Val Loss: 99.5238\n",
            "Epoch 642 of 1000\n"
          ],
          "name": "stdout"
        },
        {
          "output_type": "stream",
          "text": [
            "938it [00:08, 115.01it/s]                         \n",
            "157it [00:00, 171.01it/s]                         \n",
            "  1%|          | 11/937 [00:00<00:09, 101.71it/s]"
          ],
          "name": "stderr"
        },
        {
          "output_type": "stream",
          "text": [
            "Train Loss: 97.7199\n",
            "Val Loss: 99.5739\n",
            "Epoch 643 of 1000\n"
          ],
          "name": "stdout"
        },
        {
          "output_type": "stream",
          "text": [
            "938it [00:07, 117.66it/s]                         \n",
            "157it [00:00, 169.44it/s]                         \n",
            "  1%|▏         | 12/937 [00:00<00:08, 110.76it/s]"
          ],
          "name": "stderr"
        },
        {
          "output_type": "stream",
          "text": [
            "Train Loss: 97.7294\n",
            "Val Loss: 99.6289\n",
            "Epoch 644 of 1000\n"
          ],
          "name": "stdout"
        },
        {
          "output_type": "stream",
          "text": [
            "938it [00:08, 115.01it/s]                         \n",
            "157it [00:00, 170.18it/s]                         \n",
            "  1%|▏         | 12/937 [00:00<00:07, 116.60it/s]"
          ],
          "name": "stderr"
        },
        {
          "output_type": "stream",
          "text": [
            "Train Loss: 97.7024\n",
            "Val Loss: 99.5428\n",
            "Epoch 645 of 1000\n"
          ],
          "name": "stdout"
        },
        {
          "output_type": "stream",
          "text": [
            "938it [00:08, 114.83it/s]                         \n",
            "157it [00:00, 163.69it/s]                         \n",
            "  1%|          | 9/937 [00:00<00:10, 89.23it/s]"
          ],
          "name": "stderr"
        },
        {
          "output_type": "stream",
          "text": [
            "Train Loss: 97.7607\n",
            "Val Loss: 99.6156\n",
            "Epoch 646 of 1000\n"
          ],
          "name": "stdout"
        },
        {
          "output_type": "stream",
          "text": [
            "938it [00:08, 115.04it/s]                         \n",
            "157it [00:00, 168.30it/s]\n",
            "  1%|▏         | 12/937 [00:00<00:07, 118.50it/s]"
          ],
          "name": "stderr"
        },
        {
          "output_type": "stream",
          "text": [
            "Train Loss: 97.7385\n",
            "Val Loss: 99.5333\n",
            "Epoch 647 of 1000\n"
          ],
          "name": "stdout"
        },
        {
          "output_type": "stream",
          "text": [
            "938it [00:08, 115.74it/s]\n",
            "157it [00:00, 171.80it/s]                         \n",
            "  1%|▏         | 13/937 [00:00<00:07, 122.00it/s]"
          ],
          "name": "stderr"
        },
        {
          "output_type": "stream",
          "text": [
            "Train Loss: 97.7338\n",
            "Val Loss: 99.5468\n",
            "Epoch 648 of 1000\n"
          ],
          "name": "stdout"
        },
        {
          "output_type": "stream",
          "text": [
            "938it [00:08, 114.49it/s]                         \n",
            "157it [00:00, 171.41it/s]                         \n",
            "  1%|          | 11/937 [00:00<00:08, 105.50it/s]"
          ],
          "name": "stderr"
        },
        {
          "output_type": "stream",
          "text": [
            "Train Loss: 97.6946\n",
            "Val Loss: 99.6315\n",
            "Epoch 649 of 1000\n"
          ],
          "name": "stdout"
        },
        {
          "output_type": "stream",
          "text": [
            "938it [00:08, 115.10it/s]                         \n",
            "157it [00:00, 165.16it/s]                         \n",
            "  1%|▏         | 12/937 [00:00<00:07, 115.82it/s]"
          ],
          "name": "stderr"
        },
        {
          "output_type": "stream",
          "text": [
            "Train Loss: 97.7280\n",
            "Val Loss: 99.5125\n",
            "Epoch 650 of 1000\n"
          ],
          "name": "stdout"
        },
        {
          "output_type": "stream",
          "text": [
            "938it [00:08, 116.79it/s]                         \n",
            "157it [00:00, 172.50it/s]                         \n",
            "  1%|▏         | 12/937 [00:00<00:08, 115.10it/s]"
          ],
          "name": "stderr"
        },
        {
          "output_type": "stream",
          "text": [
            "Train Loss: 97.7126\n",
            "Val Loss: 99.6304\n",
            "Epoch 651 of 1000\n"
          ],
          "name": "stdout"
        },
        {
          "output_type": "stream",
          "text": [
            "938it [00:07, 117.65it/s]                         \n",
            "157it [00:00, 171.57it/s]                         \n",
            "  1%|          | 11/937 [00:00<00:08, 106.69it/s]"
          ],
          "name": "stderr"
        },
        {
          "output_type": "stream",
          "text": [
            "Train Loss: 97.7116\n",
            "Val Loss: 99.5436\n",
            "Epoch 652 of 1000\n"
          ],
          "name": "stdout"
        },
        {
          "output_type": "stream",
          "text": [
            "938it [00:08, 115.43it/s]                         \n",
            "157it [00:00, 169.64it/s]                         \n",
            "  1%|▏         | 13/937 [00:00<00:07, 120.38it/s]"
          ],
          "name": "stderr"
        },
        {
          "output_type": "stream",
          "text": [
            "Train Loss: 97.7194\n",
            "Val Loss: 99.6121\n",
            "Epoch 653 of 1000\n"
          ],
          "name": "stdout"
        },
        {
          "output_type": "stream",
          "text": [
            "938it [00:07, 118.11it/s]                         \n",
            "157it [00:00, 168.98it/s]\n",
            "  1%|▏         | 12/937 [00:00<00:07, 115.97it/s]"
          ],
          "name": "stderr"
        },
        {
          "output_type": "stream",
          "text": [
            "Train Loss: 97.7406\n",
            "Val Loss: 99.5744\n",
            "Epoch 654 of 1000\n"
          ],
          "name": "stdout"
        },
        {
          "output_type": "stream",
          "text": [
            "938it [00:07, 118.09it/s]                         \n",
            "157it [00:00, 172.83it/s]                         \n",
            "  1%|▏         | 12/937 [00:00<00:08, 114.69it/s]"
          ],
          "name": "stderr"
        },
        {
          "output_type": "stream",
          "text": [
            "Train Loss: 97.7030\n",
            "Val Loss: 99.5296\n",
            "Epoch 655 of 1000\n"
          ],
          "name": "stdout"
        },
        {
          "output_type": "stream",
          "text": [
            "938it [00:08, 114.29it/s]                         \n",
            "157it [00:00, 161.94it/s]                         \n",
            "  1%|▏         | 12/937 [00:00<00:08, 112.28it/s]"
          ],
          "name": "stderr"
        },
        {
          "output_type": "stream",
          "text": [
            "Train Loss: 97.6913\n",
            "Val Loss: 99.5650\n",
            "Epoch 656 of 1000\n"
          ],
          "name": "stdout"
        },
        {
          "output_type": "stream",
          "text": [
            "938it [00:08, 111.54it/s]                         \n",
            "157it [00:00, 166.19it/s]                         \n",
            "  1%|          | 11/937 [00:00<00:09, 102.86it/s]"
          ],
          "name": "stderr"
        },
        {
          "output_type": "stream",
          "text": [
            "Train Loss: 97.7015\n",
            "Val Loss: 99.4319\n",
            "Epoch 657 of 1000\n"
          ],
          "name": "stdout"
        },
        {
          "output_type": "stream",
          "text": [
            "938it [00:07, 117.89it/s]                         \n",
            "157it [00:00, 170.32it/s]                         \n",
            "  1%|▏         | 12/937 [00:00<00:07, 116.03it/s]"
          ],
          "name": "stderr"
        },
        {
          "output_type": "stream",
          "text": [
            "Train Loss: 97.7123\n",
            "Val Loss: 99.5617\n",
            "Epoch 658 of 1000\n"
          ],
          "name": "stdout"
        },
        {
          "output_type": "stream",
          "text": [
            "938it [00:08, 116.30it/s]                         \n",
            "157it [00:00, 169.93it/s]                         \n",
            "  1%|▏         | 12/937 [00:00<00:08, 112.97it/s]"
          ],
          "name": "stderr"
        },
        {
          "output_type": "stream",
          "text": [
            "Train Loss: 97.7346\n",
            "Val Loss: 99.5989\n",
            "Epoch 659 of 1000\n"
          ],
          "name": "stdout"
        },
        {
          "output_type": "stream",
          "text": [
            "938it [00:08, 115.83it/s]                         \n",
            "157it [00:00, 167.82it/s]                         \n",
            "  1%|▏         | 13/937 [00:00<00:07, 121.55it/s]"
          ],
          "name": "stderr"
        },
        {
          "output_type": "stream",
          "text": [
            "Train Loss: 97.7131\n",
            "Val Loss: 99.4554\n",
            "Epoch 660 of 1000\n"
          ],
          "name": "stdout"
        },
        {
          "output_type": "stream",
          "text": [
            "938it [00:08, 116.77it/s]                         \n",
            "157it [00:00, 170.89it/s]                         \n",
            "  1%|▏         | 12/937 [00:00<00:08, 107.98it/s]"
          ],
          "name": "stderr"
        },
        {
          "output_type": "stream",
          "text": [
            "Train Loss: 97.6687\n",
            "Val Loss: 99.5825\n",
            "Epoch 661 of 1000\n"
          ],
          "name": "stdout"
        },
        {
          "output_type": "stream",
          "text": [
            "938it [00:07, 119.30it/s]                         \n",
            "157it [00:00, 170.61it/s]                         \n",
            "  1%|▏         | 12/937 [00:00<00:07, 116.31it/s]"
          ],
          "name": "stderr"
        },
        {
          "output_type": "stream",
          "text": [
            "Train Loss: 97.6742\n",
            "Val Loss: 99.4906\n",
            "Epoch 662 of 1000\n"
          ],
          "name": "stdout"
        },
        {
          "output_type": "stream",
          "text": [
            "938it [00:07, 117.58it/s]                         \n",
            "157it [00:00, 168.96it/s]                         \n",
            "  1%|▏         | 12/937 [00:00<00:07, 115.82it/s]"
          ],
          "name": "stderr"
        },
        {
          "output_type": "stream",
          "text": [
            "Train Loss: 97.6777\n",
            "Val Loss: 99.6158\n",
            "Epoch 663 of 1000\n"
          ],
          "name": "stdout"
        },
        {
          "output_type": "stream",
          "text": [
            "938it [00:08, 116.05it/s]                         \n",
            "157it [00:00, 169.66it/s]                         \n",
            "  1%|          | 11/937 [00:00<00:08, 107.46it/s]"
          ],
          "name": "stderr"
        },
        {
          "output_type": "stream",
          "text": [
            "Train Loss: 97.6846\n",
            "Val Loss: 99.5465\n",
            "Epoch 664 of 1000\n"
          ],
          "name": "stdout"
        },
        {
          "output_type": "stream",
          "text": [
            "938it [00:08, 116.78it/s]                         \n",
            "157it [00:00, 177.97it/s]                         \n",
            "  1%|▏         | 13/937 [00:00<00:07, 122.66it/s]"
          ],
          "name": "stderr"
        },
        {
          "output_type": "stream",
          "text": [
            "Train Loss: 97.6715\n",
            "Val Loss: 99.5045\n",
            "Epoch 665 of 1000\n"
          ],
          "name": "stdout"
        },
        {
          "output_type": "stream",
          "text": [
            "938it [00:08, 116.92it/s]                         \n",
            "157it [00:00, 171.60it/s]                         \n",
            "  1%|          | 11/937 [00:00<00:08, 103.69it/s]"
          ],
          "name": "stderr"
        },
        {
          "output_type": "stream",
          "text": [
            "Train Loss: 97.6825\n",
            "Val Loss: 99.5002\n",
            "Epoch 666 of 1000\n"
          ],
          "name": "stdout"
        },
        {
          "output_type": "stream",
          "text": [
            "938it [00:08, 115.59it/s]                         \n",
            "157it [00:00, 169.30it/s]                         \n",
            "  1%|▏         | 12/937 [00:00<00:07, 116.02it/s]"
          ],
          "name": "stderr"
        },
        {
          "output_type": "stream",
          "text": [
            "Train Loss: 97.6916\n",
            "Val Loss: 99.5050\n",
            "Epoch 667 of 1000\n"
          ],
          "name": "stdout"
        },
        {
          "output_type": "stream",
          "text": [
            "938it [00:08, 116.10it/s]                         \n",
            "157it [00:00, 170.73it/s]                         \n",
            "  1%|▏         | 12/937 [00:00<00:07, 117.38it/s]"
          ],
          "name": "stderr"
        },
        {
          "output_type": "stream",
          "text": [
            "Train Loss: 97.6706\n",
            "Val Loss: 99.4585\n",
            "Epoch 668 of 1000\n"
          ],
          "name": "stdout"
        },
        {
          "output_type": "stream",
          "text": [
            "938it [00:07, 119.05it/s]                         \n",
            "157it [00:00, 163.57it/s]                         \n",
            "  1%|▏         | 12/937 [00:00<00:08, 113.61it/s]"
          ],
          "name": "stderr"
        },
        {
          "output_type": "stream",
          "text": [
            "Train Loss: 97.6913\n",
            "Val Loss: 99.5169\n",
            "Epoch 669 of 1000\n"
          ],
          "name": "stdout"
        },
        {
          "output_type": "stream",
          "text": [
            "938it [00:08, 116.56it/s]                         \n",
            "157it [00:00, 173.43it/s]                         \n",
            "  1%|          | 11/937 [00:00<00:08, 107.55it/s]"
          ],
          "name": "stderr"
        },
        {
          "output_type": "stream",
          "text": [
            "Train Loss: 97.6868\n",
            "Val Loss: 99.5404\n",
            "Epoch 670 of 1000\n"
          ],
          "name": "stdout"
        },
        {
          "output_type": "stream",
          "text": [
            "938it [00:08, 108.99it/s]                         \n",
            "157it [00:00, 171.92it/s]                         \n",
            "  1%|          | 11/937 [00:00<00:08, 103.79it/s]"
          ],
          "name": "stderr"
        },
        {
          "output_type": "stream",
          "text": [
            "Train Loss: 97.6546\n",
            "Val Loss: 99.4533\n",
            "Epoch 671 of 1000\n"
          ],
          "name": "stdout"
        },
        {
          "output_type": "stream",
          "text": [
            "938it [00:09, 98.77it/s]                          \n",
            "157it [00:00, 177.78it/s]                         \n",
            "  1%|▏         | 12/937 [00:00<00:07, 115.80it/s]"
          ],
          "name": "stderr"
        },
        {
          "output_type": "stream",
          "text": [
            "Train Loss: 97.6503\n",
            "Val Loss: 99.5486\n",
            "Epoch 672 of 1000\n"
          ],
          "name": "stdout"
        },
        {
          "output_type": "stream",
          "text": [
            "938it [00:08, 107.95it/s]                         \n",
            "157it [00:00, 174.54it/s]                         \n",
            "  1%|▏         | 12/937 [00:00<00:07, 117.08it/s]"
          ],
          "name": "stderr"
        },
        {
          "output_type": "stream",
          "text": [
            "Train Loss: 97.6451\n",
            "Val Loss: 99.4898\n",
            "Epoch 673 of 1000\n"
          ],
          "name": "stdout"
        },
        {
          "output_type": "stream",
          "text": [
            "938it [00:08, 115.74it/s]                         \n",
            "157it [00:00, 168.08it/s]                         \n",
            "  1%|▏         | 13/937 [00:00<00:07, 120.54it/s]"
          ],
          "name": "stderr"
        },
        {
          "output_type": "stream",
          "text": [
            "Train Loss: 97.6585\n",
            "Val Loss: 99.5527\n",
            "Epoch 674 of 1000\n"
          ],
          "name": "stdout"
        },
        {
          "output_type": "stream",
          "text": [
            "938it [00:08, 116.97it/s]                         \n",
            "157it [00:01, 152.47it/s]\n",
            "  1%|          | 11/937 [00:00<00:08, 109.92it/s]"
          ],
          "name": "stderr"
        },
        {
          "output_type": "stream",
          "text": [
            "Train Loss: 97.6323\n",
            "Val Loss: 99.5020\n",
            "Epoch 675 of 1000\n"
          ],
          "name": "stdout"
        },
        {
          "output_type": "stream",
          "text": [
            "938it [00:07, 117.88it/s]                         \n",
            "157it [00:00, 175.48it/s]                         \n",
            "  1%|▏         | 13/937 [00:00<00:07, 120.80it/s]"
          ],
          "name": "stderr"
        },
        {
          "output_type": "stream",
          "text": [
            "Train Loss: 97.6646\n",
            "Val Loss: 99.4909\n",
            "Epoch 676 of 1000\n"
          ],
          "name": "stdout"
        },
        {
          "output_type": "stream",
          "text": [
            "938it [00:07, 119.00it/s]                         \n",
            "157it [00:00, 173.31it/s]                         \n",
            "  1%|▏         | 13/937 [00:00<00:07, 122.69it/s]"
          ],
          "name": "stderr"
        },
        {
          "output_type": "stream",
          "text": [
            "Train Loss: 97.6471\n",
            "Val Loss: 99.5431\n",
            "Epoch 677 of 1000\n"
          ],
          "name": "stdout"
        },
        {
          "output_type": "stream",
          "text": [
            "938it [00:07, 117.72it/s]                         \n",
            "157it [00:00, 170.59it/s]                         \n",
            "  1%|▏         | 12/937 [00:00<00:08, 112.84it/s]"
          ],
          "name": "stderr"
        },
        {
          "output_type": "stream",
          "text": [
            "Train Loss: 97.6388\n",
            "Val Loss: 99.5368\n",
            "Epoch 678 of 1000\n"
          ],
          "name": "stdout"
        },
        {
          "output_type": "stream",
          "text": [
            "938it [00:08, 115.01it/s]                         \n",
            "157it [00:00, 166.08it/s]                         \n",
            "  1%|          | 11/937 [00:00<00:08, 108.95it/s]"
          ],
          "name": "stderr"
        },
        {
          "output_type": "stream",
          "text": [
            "Train Loss: 97.6662\n",
            "Val Loss: 99.4420\n",
            "Epoch 679 of 1000\n"
          ],
          "name": "stdout"
        },
        {
          "output_type": "stream",
          "text": [
            "938it [00:08, 114.97it/s]                         \n",
            "157it [00:00, 176.10it/s]                         \n",
            "  1%|▏         | 13/937 [00:00<00:07, 120.70it/s]"
          ],
          "name": "stderr"
        },
        {
          "output_type": "stream",
          "text": [
            "Train Loss: 97.6587\n",
            "Val Loss: 99.4587\n",
            "Epoch 680 of 1000\n"
          ],
          "name": "stdout"
        },
        {
          "output_type": "stream",
          "text": [
            "938it [00:08, 114.97it/s]                         \n",
            "157it [00:00, 170.88it/s]\n",
            "  1%|▏         | 12/937 [00:00<00:08, 114.70it/s]"
          ],
          "name": "stderr"
        },
        {
          "output_type": "stream",
          "text": [
            "Train Loss: 97.6369\n",
            "Val Loss: 99.4798\n",
            "Epoch 681 of 1000\n"
          ],
          "name": "stdout"
        },
        {
          "output_type": "stream",
          "text": [
            "938it [00:08, 114.80it/s]                         \n",
            "157it [00:00, 165.03it/s]                         \n",
            "  1%|▏         | 12/937 [00:00<00:07, 116.83it/s]"
          ],
          "name": "stderr"
        },
        {
          "output_type": "stream",
          "text": [
            "Train Loss: 97.6447\n",
            "Val Loss: 99.4573\n",
            "Epoch 682 of 1000\n"
          ],
          "name": "stdout"
        },
        {
          "output_type": "stream",
          "text": [
            "938it [00:08, 115.22it/s]                         \n",
            "157it [00:00, 169.16it/s]\n",
            "  1%|          | 11/937 [00:00<00:09, 102.66it/s]"
          ],
          "name": "stderr"
        },
        {
          "output_type": "stream",
          "text": [
            "Train Loss: 97.6007\n",
            "Val Loss: 99.5561\n",
            "Epoch 683 of 1000\n"
          ],
          "name": "stdout"
        },
        {
          "output_type": "stream",
          "text": [
            "938it [00:08, 116.42it/s]                         \n",
            "157it [00:00, 166.71it/s]                         \n",
            "  1%|▏         | 12/937 [00:00<00:07, 116.62it/s]"
          ],
          "name": "stderr"
        },
        {
          "output_type": "stream",
          "text": [
            "Train Loss: 97.6515\n",
            "Val Loss: 99.5046\n",
            "Epoch 684 of 1000\n"
          ],
          "name": "stdout"
        },
        {
          "output_type": "stream",
          "text": [
            "938it [00:08, 113.52it/s]                         \n",
            "157it [00:00, 168.08it/s]                         \n",
            "  1%|▏         | 12/937 [00:00<00:07, 115.75it/s]"
          ],
          "name": "stderr"
        },
        {
          "output_type": "stream",
          "text": [
            "Train Loss: 97.5982\n",
            "Val Loss: 99.5936\n",
            "Epoch 685 of 1000\n"
          ],
          "name": "stdout"
        },
        {
          "output_type": "stream",
          "text": [
            "938it [00:08, 116.11it/s]                         \n",
            "157it [00:00, 170.84it/s]                         \n",
            "  1%|▏         | 12/937 [00:00<00:08, 111.00it/s]"
          ],
          "name": "stderr"
        },
        {
          "output_type": "stream",
          "text": [
            "Train Loss: 97.6123\n",
            "Val Loss: 99.4888\n",
            "Epoch 686 of 1000\n"
          ],
          "name": "stdout"
        },
        {
          "output_type": "stream",
          "text": [
            "938it [00:08, 112.58it/s]                         \n",
            "157it [00:00, 172.27it/s]                         \n",
            "  1%|▏         | 12/937 [00:00<00:07, 118.62it/s]"
          ],
          "name": "stderr"
        },
        {
          "output_type": "stream",
          "text": [
            "Train Loss: 97.6184\n",
            "Val Loss: 99.4599\n",
            "Epoch 687 of 1000\n"
          ],
          "name": "stdout"
        },
        {
          "output_type": "stream",
          "text": [
            "938it [00:07, 117.66it/s]\n",
            "157it [00:01, 153.98it/s]                         \n",
            "  1%|▏         | 12/937 [00:00<00:08, 112.95it/s]"
          ],
          "name": "stderr"
        },
        {
          "output_type": "stream",
          "text": [
            "Train Loss: 97.5846\n",
            "Val Loss: 99.4605\n",
            "Epoch 688 of 1000\n"
          ],
          "name": "stdout"
        },
        {
          "output_type": "stream",
          "text": [
            "938it [00:08, 115.52it/s]\n",
            "157it [00:00, 169.22it/s]                         \n",
            "  1%|▏         | 12/937 [00:00<00:08, 115.15it/s]"
          ],
          "name": "stderr"
        },
        {
          "output_type": "stream",
          "text": [
            "Train Loss: 97.6153\n",
            "Val Loss: 99.5163\n",
            "Epoch 689 of 1000\n"
          ],
          "name": "stdout"
        },
        {
          "output_type": "stream",
          "text": [
            "938it [00:08, 113.34it/s]                         \n",
            "157it [00:01, 152.30it/s]                         \n",
            "  1%|▏         | 12/937 [00:00<00:08, 115.20it/s]"
          ],
          "name": "stderr"
        },
        {
          "output_type": "stream",
          "text": [
            "Train Loss: 97.5939\n",
            "Val Loss: 99.4800\n",
            "Epoch 690 of 1000\n"
          ],
          "name": "stdout"
        },
        {
          "output_type": "stream",
          "text": [
            "938it [00:08, 112.38it/s]                         \n",
            "157it [00:00, 172.41it/s]                         \n",
            "  1%|▏         | 12/937 [00:00<00:07, 116.53it/s]"
          ],
          "name": "stderr"
        },
        {
          "output_type": "stream",
          "text": [
            "Train Loss: 97.5930\n",
            "Val Loss: 99.5334\n",
            "Epoch 691 of 1000\n"
          ],
          "name": "stdout"
        },
        {
          "output_type": "stream",
          "text": [
            "938it [00:08, 115.38it/s]\n",
            "157it [00:00, 172.10it/s]                         \n",
            "  1%|▏         | 12/937 [00:00<00:07, 117.46it/s]"
          ],
          "name": "stderr"
        },
        {
          "output_type": "stream",
          "text": [
            "Train Loss: 97.6030\n",
            "Val Loss: 99.5083\n",
            "Epoch 692 of 1000\n"
          ],
          "name": "stdout"
        },
        {
          "output_type": "stream",
          "text": [
            "938it [00:08, 114.41it/s]                         \n",
            "157it [00:00, 167.36it/s]                         \n",
            "  1%|▏         | 12/937 [00:00<00:07, 119.31it/s]"
          ],
          "name": "stderr"
        },
        {
          "output_type": "stream",
          "text": [
            "Train Loss: 97.6163\n",
            "Val Loss: 99.4957\n",
            "Epoch 693 of 1000\n"
          ],
          "name": "stdout"
        },
        {
          "output_type": "stream",
          "text": [
            "938it [00:08, 116.46it/s]                         \n",
            "157it [00:00, 166.57it/s]                         \n",
            "  1%|▏         | 12/937 [00:00<00:08, 113.95it/s]"
          ],
          "name": "stderr"
        },
        {
          "output_type": "stream",
          "text": [
            "Train Loss: 97.5953\n",
            "Val Loss: 99.4286\n",
            "Epoch 694 of 1000\n"
          ],
          "name": "stdout"
        },
        {
          "output_type": "stream",
          "text": [
            "938it [00:08, 114.97it/s]                         \n",
            "157it [00:00, 167.97it/s]                         \n",
            "  1%|          | 11/937 [00:00<00:08, 103.66it/s]"
          ],
          "name": "stderr"
        },
        {
          "output_type": "stream",
          "text": [
            "Train Loss: 97.5886\n",
            "Val Loss: 99.5190\n",
            "Epoch 695 of 1000\n"
          ],
          "name": "stdout"
        },
        {
          "output_type": "stream",
          "text": [
            "938it [00:08, 114.69it/s]                         \n",
            "157it [00:00, 169.11it/s]                         \n",
            "  1%|▏         | 13/937 [00:00<00:07, 118.88it/s]"
          ],
          "name": "stderr"
        },
        {
          "output_type": "stream",
          "text": [
            "Train Loss: 97.5698\n",
            "Val Loss: 99.5578\n",
            "Epoch 696 of 1000\n"
          ],
          "name": "stdout"
        },
        {
          "output_type": "stream",
          "text": [
            "938it [00:08, 114.99it/s]                         \n",
            "157it [00:00, 169.23it/s]                         \n",
            "  1%|▏         | 12/937 [00:00<00:07, 118.10it/s]"
          ],
          "name": "stderr"
        },
        {
          "output_type": "stream",
          "text": [
            "Train Loss: 97.5858\n",
            "Val Loss: 99.4793\n",
            "Epoch 697 of 1000\n"
          ],
          "name": "stdout"
        },
        {
          "output_type": "stream",
          "text": [
            "938it [00:08, 114.28it/s]                         \n",
            "157it [00:00, 172.30it/s]                         \n",
            "  1%|▏         | 12/937 [00:00<00:08, 114.28it/s]"
          ],
          "name": "stderr"
        },
        {
          "output_type": "stream",
          "text": [
            "Train Loss: 97.5998\n",
            "Val Loss: 99.4139\n",
            "Epoch 698 of 1000\n"
          ],
          "name": "stdout"
        },
        {
          "output_type": "stream",
          "text": [
            "938it [00:08, 116.37it/s]\n",
            "157it [00:00, 170.09it/s]                         \n",
            "  1%|▏         | 12/937 [00:00<00:08, 114.87it/s]"
          ],
          "name": "stderr"
        },
        {
          "output_type": "stream",
          "text": [
            "Train Loss: 97.5885\n",
            "Val Loss: 99.4689\n",
            "Epoch 699 of 1000\n"
          ],
          "name": "stdout"
        },
        {
          "output_type": "stream",
          "text": [
            "938it [00:08, 111.30it/s]                         \n",
            "157it [00:00, 168.47it/s]                         \n",
            "  1%|          | 11/937 [00:00<00:08, 106.80it/s]"
          ],
          "name": "stderr"
        },
        {
          "output_type": "stream",
          "text": [
            "Train Loss: 97.5831\n",
            "Val Loss: 99.5227\n",
            "Epoch 700 of 1000\n"
          ],
          "name": "stdout"
        },
        {
          "output_type": "stream",
          "text": [
            "938it [00:08, 114.91it/s]                         \n",
            "157it [00:00, 174.56it/s]                         \n",
            "  1%|          | 11/937 [00:00<00:08, 104.68it/s]"
          ],
          "name": "stderr"
        },
        {
          "output_type": "stream",
          "text": [
            "Train Loss: 97.6048\n",
            "Val Loss: 99.3928\n",
            "Epoch 701 of 1000\n"
          ],
          "name": "stdout"
        },
        {
          "output_type": "stream",
          "text": [
            "938it [00:08, 114.46it/s]                         \n",
            "157it [00:00, 172.60it/s]                         \n",
            "  1%|▏         | 12/937 [00:00<00:07, 118.95it/s]"
          ],
          "name": "stderr"
        },
        {
          "output_type": "stream",
          "text": [
            "Train Loss: 97.5638\n",
            "Val Loss: 99.5717\n",
            "Epoch 702 of 1000\n"
          ],
          "name": "stdout"
        },
        {
          "output_type": "stream",
          "text": [
            "938it [00:07, 117.54it/s]                         \n",
            "157it [00:01, 155.04it/s]                         \n",
            "  1%|▏         | 13/937 [00:00<00:07, 119.38it/s]"
          ],
          "name": "stderr"
        },
        {
          "output_type": "stream",
          "text": [
            "Train Loss: 97.5816\n",
            "Val Loss: 99.4024\n",
            "Epoch 703 of 1000\n"
          ],
          "name": "stdout"
        },
        {
          "output_type": "stream",
          "text": [
            "938it [00:08, 117.17it/s]                         \n",
            "157it [00:00, 170.54it/s]                         \n",
            "  1%|▏         | 12/937 [00:00<00:08, 115.08it/s]"
          ],
          "name": "stderr"
        },
        {
          "output_type": "stream",
          "text": [
            "Train Loss: 97.5603\n",
            "Val Loss: 99.5561\n",
            "Epoch 704 of 1000\n"
          ],
          "name": "stdout"
        },
        {
          "output_type": "stream",
          "text": [
            "938it [00:08, 116.97it/s]                         \n",
            "157it [00:00, 170.33it/s]                         \n",
            "  1%|▏         | 12/937 [00:00<00:07, 116.24it/s]"
          ],
          "name": "stderr"
        },
        {
          "output_type": "stream",
          "text": [
            "Train Loss: 97.5829\n",
            "Val Loss: 99.3923\n",
            "Epoch 705 of 1000\n"
          ],
          "name": "stdout"
        },
        {
          "output_type": "stream",
          "text": [
            "938it [00:08, 116.47it/s]                         \n",
            "157it [00:00, 175.91it/s]                         \n",
            "  1%|▏         | 12/937 [00:00<00:08, 112.88it/s]"
          ],
          "name": "stderr"
        },
        {
          "output_type": "stream",
          "text": [
            "Train Loss: 97.5459\n",
            "Val Loss: 99.4656\n",
            "Epoch 706 of 1000\n"
          ],
          "name": "stdout"
        },
        {
          "output_type": "stream",
          "text": [
            "938it [00:08, 115.99it/s]                         \n",
            "157it [00:00, 171.72it/s]                         \n",
            "  1%|▏         | 12/937 [00:00<00:07, 118.23it/s]"
          ],
          "name": "stderr"
        },
        {
          "output_type": "stream",
          "text": [
            "Train Loss: 97.5518\n",
            "Val Loss: 99.4394\n",
            "Epoch 707 of 1000\n"
          ],
          "name": "stdout"
        },
        {
          "output_type": "stream",
          "text": [
            "938it [00:07, 119.72it/s]                         \n",
            "157it [00:00, 170.21it/s]                         \n",
            "  1%|▏         | 12/937 [00:00<00:08, 114.96it/s]"
          ],
          "name": "stderr"
        },
        {
          "output_type": "stream",
          "text": [
            "Train Loss: 97.5836\n",
            "Val Loss: 99.4970\n",
            "Epoch 708 of 1000\n"
          ],
          "name": "stdout"
        },
        {
          "output_type": "stream",
          "text": [
            "938it [00:08, 116.86it/s]                         \n",
            "157it [00:00, 169.18it/s]\n",
            "  1%|▏         | 12/937 [00:00<00:07, 116.50it/s]"
          ],
          "name": "stderr"
        },
        {
          "output_type": "stream",
          "text": [
            "Train Loss: 97.5619\n",
            "Val Loss: 99.3970\n",
            "Epoch 709 of 1000\n"
          ],
          "name": "stdout"
        },
        {
          "output_type": "stream",
          "text": [
            "938it [00:08, 117.24it/s]                         \n",
            "157it [00:00, 172.43it/s]                         \n",
            "  1%|          | 11/937 [00:00<00:08, 105.80it/s]"
          ],
          "name": "stderr"
        },
        {
          "output_type": "stream",
          "text": [
            "Train Loss: 97.5633\n",
            "Val Loss: 99.4149\n",
            "Epoch 710 of 1000\n"
          ],
          "name": "stdout"
        },
        {
          "output_type": "stream",
          "text": [
            "938it [00:08, 115.43it/s]                         \n",
            "157it [00:00, 169.59it/s]\n",
            "  1%|▏         | 12/937 [00:00<00:08, 113.96it/s]"
          ],
          "name": "stderr"
        },
        {
          "output_type": "stream",
          "text": [
            "Train Loss: 97.5807\n",
            "Val Loss: 99.4215\n",
            "Epoch 711 of 1000\n"
          ],
          "name": "stdout"
        },
        {
          "output_type": "stream",
          "text": [
            "938it [00:08, 114.90it/s]                         \n",
            "157it [00:00, 168.10it/s]                         \n",
            "  1%|          | 11/937 [00:00<00:08, 104.14it/s]"
          ],
          "name": "stderr"
        },
        {
          "output_type": "stream",
          "text": [
            "Train Loss: 97.5422\n",
            "Val Loss: 99.4882\n",
            "Epoch 712 of 1000\n"
          ],
          "name": "stdout"
        },
        {
          "output_type": "stream",
          "text": [
            "938it [00:08, 113.40it/s]                         \n",
            "157it [00:00, 160.93it/s]                         \n",
            "  1%|▏         | 12/937 [00:00<00:08, 115.10it/s]"
          ],
          "name": "stderr"
        },
        {
          "output_type": "stream",
          "text": [
            "Train Loss: 97.5478\n",
            "Val Loss: 99.4606\n",
            "Epoch 713 of 1000\n"
          ],
          "name": "stdout"
        },
        {
          "output_type": "stream",
          "text": [
            "938it [00:08, 115.38it/s]                         \n",
            "157it [00:00, 166.42it/s]                         \n",
            "  1%|▏         | 12/937 [00:00<00:07, 118.22it/s]"
          ],
          "name": "stderr"
        },
        {
          "output_type": "stream",
          "text": [
            "Train Loss: 97.5438\n",
            "Val Loss: 99.5241\n",
            "Epoch 714 of 1000\n"
          ],
          "name": "stdout"
        },
        {
          "output_type": "stream",
          "text": [
            "938it [00:08, 115.17it/s]                         \n",
            "157it [00:00, 166.40it/s]                         \n",
            "  1%|          | 11/937 [00:00<00:08, 104.64it/s]"
          ],
          "name": "stderr"
        },
        {
          "output_type": "stream",
          "text": [
            "Train Loss: 97.5771\n",
            "Val Loss: 99.5188\n",
            "Epoch 715 of 1000\n"
          ],
          "name": "stdout"
        },
        {
          "output_type": "stream",
          "text": [
            "938it [00:08, 113.45it/s]                         \n",
            "157it [00:00, 166.71it/s]                         \n",
            "  1%|▏         | 12/937 [00:00<00:07, 119.63it/s]"
          ],
          "name": "stderr"
        },
        {
          "output_type": "stream",
          "text": [
            "Train Loss: 97.5362\n",
            "Val Loss: 99.4152\n",
            "Epoch 716 of 1000\n"
          ],
          "name": "stdout"
        },
        {
          "output_type": "stream",
          "text": [
            "938it [00:08, 115.18it/s]                         \n",
            "157it [00:00, 166.04it/s]                         \n",
            "  1%|▏         | 12/937 [00:00<00:07, 117.67it/s]"
          ],
          "name": "stderr"
        },
        {
          "output_type": "stream",
          "text": [
            "Train Loss: 97.5210\n",
            "Val Loss: 99.5306\n",
            "Epoch 717 of 1000\n"
          ],
          "name": "stdout"
        },
        {
          "output_type": "stream",
          "text": [
            "938it [00:08, 116.64it/s]                         \n",
            "157it [00:00, 169.11it/s]                         \n",
            "  1%|▏         | 12/937 [00:00<00:08, 115.17it/s]"
          ],
          "name": "stderr"
        },
        {
          "output_type": "stream",
          "text": [
            "Train Loss: 97.5538\n",
            "Val Loss: 99.3405\n",
            "Epoch 718 of 1000\n"
          ],
          "name": "stdout"
        },
        {
          "output_type": "stream",
          "text": [
            "938it [00:08, 115.29it/s]                         \n",
            "157it [00:00, 170.00it/s]                         \n",
            "  1%|▏         | 12/937 [00:00<00:08, 114.52it/s]"
          ],
          "name": "stderr"
        },
        {
          "output_type": "stream",
          "text": [
            "Train Loss: 97.5681\n",
            "Val Loss: 99.5351\n",
            "Epoch 719 of 1000\n"
          ],
          "name": "stdout"
        },
        {
          "output_type": "stream",
          "text": [
            "938it [00:08, 112.84it/s]                         \n",
            "157it [00:00, 164.79it/s]                         \n",
            "  1%|▏         | 12/937 [00:00<00:07, 115.88it/s]"
          ],
          "name": "stderr"
        },
        {
          "output_type": "stream",
          "text": [
            "Train Loss: 97.5222\n",
            "Val Loss: 99.4692\n",
            "Epoch 720 of 1000\n"
          ],
          "name": "stdout"
        },
        {
          "output_type": "stream",
          "text": [
            "938it [00:08, 115.78it/s]                         \n",
            "157it [00:00, 176.26it/s]                         \n",
            "  1%|▏         | 12/937 [00:00<00:08, 111.11it/s]"
          ],
          "name": "stderr"
        },
        {
          "output_type": "stream",
          "text": [
            "Train Loss: 97.5327\n",
            "Val Loss: 99.4100\n",
            "Epoch 721 of 1000\n"
          ],
          "name": "stdout"
        },
        {
          "output_type": "stream",
          "text": [
            "938it [00:08, 114.78it/s]                         \n",
            "157it [00:00, 173.01it/s]                         \n",
            "  1%|▏         | 12/937 [00:00<00:08, 112.61it/s]"
          ],
          "name": "stderr"
        },
        {
          "output_type": "stream",
          "text": [
            "Train Loss: 97.5258\n",
            "Val Loss: 99.4966\n",
            "Epoch 722 of 1000\n"
          ],
          "name": "stdout"
        },
        {
          "output_type": "stream",
          "text": [
            "938it [00:08, 114.29it/s]                         \n",
            "157it [00:00, 169.84it/s]                         \n",
            "  1%|          | 11/937 [00:00<00:08, 106.91it/s]"
          ],
          "name": "stderr"
        },
        {
          "output_type": "stream",
          "text": [
            "Train Loss: 97.5148\n",
            "Val Loss: 99.5523\n",
            "Epoch 723 of 1000\n"
          ],
          "name": "stdout"
        },
        {
          "output_type": "stream",
          "text": [
            "938it [00:08, 115.36it/s]                         \n",
            "157it [00:00, 168.89it/s]                         \n",
            "  1%|▏         | 12/937 [00:00<00:07, 119.08it/s]"
          ],
          "name": "stderr"
        },
        {
          "output_type": "stream",
          "text": [
            "Train Loss: 97.5190\n",
            "Val Loss: 99.3477\n",
            "Epoch 724 of 1000\n"
          ],
          "name": "stdout"
        },
        {
          "output_type": "stream",
          "text": [
            "938it [00:08, 113.88it/s]                         \n",
            "157it [00:00, 167.07it/s]                         \n",
            "  1%|          | 11/937 [00:00<00:08, 109.08it/s]"
          ],
          "name": "stderr"
        },
        {
          "output_type": "stream",
          "text": [
            "Train Loss: 97.5398\n",
            "Val Loss: 99.4734\n",
            "Epoch 725 of 1000\n"
          ],
          "name": "stdout"
        },
        {
          "output_type": "stream",
          "text": [
            "938it [00:08, 111.06it/s]                         \n",
            "157it [00:00, 166.74it/s]                         \n",
            "  1%|▏         | 12/937 [00:00<00:08, 113.51it/s]"
          ],
          "name": "stderr"
        },
        {
          "output_type": "stream",
          "text": [
            "Train Loss: 97.5177\n",
            "Val Loss: 99.4572\n",
            "Epoch 726 of 1000\n"
          ],
          "name": "stdout"
        },
        {
          "output_type": "stream",
          "text": [
            "938it [00:08, 111.14it/s]\n",
            "157it [00:00, 173.56it/s]                         \n",
            "  1%|▏         | 12/937 [00:00<00:08, 114.82it/s]"
          ],
          "name": "stderr"
        },
        {
          "output_type": "stream",
          "text": [
            "Train Loss: 97.5256\n",
            "Val Loss: 99.3895\n",
            "Epoch 727 of 1000\n"
          ],
          "name": "stdout"
        },
        {
          "output_type": "stream",
          "text": [
            "938it [00:08, 113.71it/s]                         \n",
            "157it [00:00, 169.69it/s]\n",
            "  1%|▏         | 12/937 [00:00<00:07, 117.65it/s]"
          ],
          "name": "stderr"
        },
        {
          "output_type": "stream",
          "text": [
            "Train Loss: 97.5039\n",
            "Val Loss: 99.4313\n",
            "Epoch 728 of 1000\n"
          ],
          "name": "stdout"
        },
        {
          "output_type": "stream",
          "text": [
            "938it [00:07, 117.37it/s]                         \n",
            "157it [00:00, 169.07it/s]                         \n",
            "  1%|▏         | 12/937 [00:00<00:08, 115.19it/s]"
          ],
          "name": "stderr"
        },
        {
          "output_type": "stream",
          "text": [
            "Train Loss: 97.4764\n",
            "Val Loss: 99.4985\n",
            "Epoch 729 of 1000\n"
          ],
          "name": "stdout"
        },
        {
          "output_type": "stream",
          "text": [
            "938it [00:08, 114.69it/s]                         \n",
            "157it [00:00, 169.54it/s]                         \n",
            "  1%|▏         | 12/937 [00:00<00:07, 118.91it/s]"
          ],
          "name": "stderr"
        },
        {
          "output_type": "stream",
          "text": [
            "Train Loss: 97.5032\n",
            "Val Loss: 99.4228\n",
            "Epoch 730 of 1000\n"
          ],
          "name": "stdout"
        },
        {
          "output_type": "stream",
          "text": [
            "938it [00:08, 114.22it/s]                         \n",
            "157it [00:00, 169.30it/s]                         \n",
            "  1%|          | 10/937 [00:00<00:09, 93.77it/s]"
          ],
          "name": "stderr"
        },
        {
          "output_type": "stream",
          "text": [
            "Train Loss: 97.5056\n",
            "Val Loss: 99.4056\n",
            "Epoch 731 of 1000\n"
          ],
          "name": "stdout"
        },
        {
          "output_type": "stream",
          "text": [
            "938it [00:10, 92.97it/s]                         \n",
            "157it [00:00, 174.43it/s]                         \n",
            "  1%|          | 10/937 [00:00<00:09, 99.48it/s]"
          ],
          "name": "stderr"
        },
        {
          "output_type": "stream",
          "text": [
            "Train Loss: 97.4908\n",
            "Val Loss: 99.4377\n",
            "Epoch 732 of 1000\n"
          ],
          "name": "stdout"
        },
        {
          "output_type": "stream",
          "text": [
            "938it [00:09, 99.63it/s]                         \n",
            "157it [00:00, 173.65it/s]                         \n",
            "  1%|          | 10/937 [00:00<00:09, 96.66it/s]"
          ],
          "name": "stderr"
        },
        {
          "output_type": "stream",
          "text": [
            "Train Loss: 97.4671\n",
            "Val Loss: 99.4337\n",
            "Epoch 733 of 1000\n"
          ],
          "name": "stdout"
        },
        {
          "output_type": "stream",
          "text": [
            "938it [00:08, 104.50it/s]                         \n",
            "157it [00:00, 171.97it/s]                         \n",
            "  1%|▏         | 12/937 [00:00<00:08, 114.31it/s]"
          ],
          "name": "stderr"
        },
        {
          "output_type": "stream",
          "text": [
            "Train Loss: 97.4990\n",
            "Val Loss: 99.5023\n",
            "Epoch 734 of 1000\n"
          ],
          "name": "stdout"
        },
        {
          "output_type": "stream",
          "text": [
            "938it [00:07, 120.13it/s]                         \n",
            "157it [00:00, 177.22it/s]                         \n",
            "  1%|▏         | 13/937 [00:00<00:07, 123.45it/s]"
          ],
          "name": "stderr"
        },
        {
          "output_type": "stream",
          "text": [
            "Train Loss: 97.5076\n",
            "Val Loss: 99.4242\n",
            "Epoch 735 of 1000\n"
          ],
          "name": "stdout"
        },
        {
          "output_type": "stream",
          "text": [
            "938it [00:07, 118.12it/s]                         \n",
            "157it [00:00, 173.07it/s]                         \n",
            "  1%|▏         | 13/937 [00:00<00:07, 122.59it/s]"
          ],
          "name": "stderr"
        },
        {
          "output_type": "stream",
          "text": [
            "Train Loss: 97.4978\n",
            "Val Loss: 99.4039\n",
            "Epoch 736 of 1000\n"
          ],
          "name": "stdout"
        },
        {
          "output_type": "stream",
          "text": [
            "938it [00:07, 119.69it/s]                         \n",
            "157it [00:00, 172.52it/s]                         \n",
            "  1%|▏         | 13/937 [00:00<00:07, 122.40it/s]"
          ],
          "name": "stderr"
        },
        {
          "output_type": "stream",
          "text": [
            "Train Loss: 97.4625\n",
            "Val Loss: 99.3614\n",
            "Epoch 737 of 1000\n"
          ],
          "name": "stdout"
        },
        {
          "output_type": "stream",
          "text": [
            "938it [00:07, 120.11it/s]                         \n",
            "157it [00:00, 176.47it/s]                         \n",
            "  1%|▏         | 12/937 [00:00<00:07, 119.28it/s]"
          ],
          "name": "stderr"
        },
        {
          "output_type": "stream",
          "text": [
            "Train Loss: 97.4816\n",
            "Val Loss: 99.3628\n",
            "Epoch 738 of 1000\n"
          ],
          "name": "stdout"
        },
        {
          "output_type": "stream",
          "text": [
            "938it [00:07, 121.88it/s]                         \n",
            "157it [00:00, 173.88it/s]                         \n",
            "  1%|▏         | 13/937 [00:00<00:07, 124.13it/s]"
          ],
          "name": "stderr"
        },
        {
          "output_type": "stream",
          "text": [
            "Train Loss: 97.4996\n",
            "Val Loss: 99.4950\n",
            "Epoch 739 of 1000\n"
          ],
          "name": "stdout"
        },
        {
          "output_type": "stream",
          "text": [
            "938it [00:07, 121.22it/s]                         \n",
            "157it [00:00, 179.30it/s]                         \n",
            "  1%|▏         | 12/937 [00:00<00:07, 118.29it/s]"
          ],
          "name": "stderr"
        },
        {
          "output_type": "stream",
          "text": [
            "Train Loss: 97.4927\n",
            "Val Loss: 99.4607\n",
            "Epoch 740 of 1000\n"
          ],
          "name": "stdout"
        },
        {
          "output_type": "stream",
          "text": [
            "938it [00:07, 122.12it/s]                         \n",
            "157it [00:00, 179.40it/s]                         \n",
            "  1%|▏         | 13/937 [00:00<00:07, 122.98it/s]"
          ],
          "name": "stderr"
        },
        {
          "output_type": "stream",
          "text": [
            "Train Loss: 97.4672\n",
            "Val Loss: 99.4028\n",
            "Epoch 741 of 1000\n"
          ],
          "name": "stdout"
        },
        {
          "output_type": "stream",
          "text": [
            "938it [00:07, 122.57it/s]                         \n",
            "157it [00:00, 177.95it/s]                         \n",
            "  1%|▏         | 13/937 [00:00<00:07, 126.53it/s]"
          ],
          "name": "stderr"
        },
        {
          "output_type": "stream",
          "text": [
            "Train Loss: 97.4690\n",
            "Val Loss: 99.4516\n",
            "Epoch 742 of 1000\n"
          ],
          "name": "stdout"
        },
        {
          "output_type": "stream",
          "text": [
            "938it [00:07, 122.90it/s]                         \n",
            "157it [00:00, 179.79it/s]                         \n",
            "  1%|▏         | 12/937 [00:00<00:08, 112.51it/s]"
          ],
          "name": "stderr"
        },
        {
          "output_type": "stream",
          "text": [
            "Train Loss: 97.4665\n",
            "Val Loss: 99.4224\n",
            "Epoch 743 of 1000\n"
          ],
          "name": "stdout"
        },
        {
          "output_type": "stream",
          "text": [
            "938it [00:07, 121.18it/s]                         \n",
            "157it [00:00, 178.16it/s]                         \n",
            "  1%|▏         | 13/937 [00:00<00:07, 122.39it/s]"
          ],
          "name": "stderr"
        },
        {
          "output_type": "stream",
          "text": [
            "Train Loss: 97.4488\n",
            "Val Loss: 99.4277\n",
            "Epoch 744 of 1000\n"
          ],
          "name": "stdout"
        },
        {
          "output_type": "stream",
          "text": [
            "938it [00:07, 120.44it/s]                         \n",
            "157it [00:01, 78.66it/s]\n",
            "  0%|          | 3/937 [00:00<00:38, 24.41it/s]"
          ],
          "name": "stderr"
        },
        {
          "output_type": "stream",
          "text": [
            "Train Loss: 97.4684\n",
            "Val Loss: 99.4152\n",
            "Epoch 745 of 1000\n"
          ],
          "name": "stdout"
        },
        {
          "output_type": "stream",
          "text": [
            "938it [00:12, 74.42it/s]                          \n",
            "157it [00:00, 175.94it/s]                         \n",
            "  1%|▏         | 12/937 [00:00<00:07, 118.49it/s]"
          ],
          "name": "stderr"
        },
        {
          "output_type": "stream",
          "text": [
            "Train Loss: 97.4788\n",
            "Val Loss: 99.4366\n",
            "Epoch 746 of 1000\n"
          ],
          "name": "stdout"
        },
        {
          "output_type": "stream",
          "text": [
            "938it [00:07, 118.36it/s]                         \n",
            "157it [00:01, 138.77it/s]                         \n",
            "  1%|          | 9/937 [00:00<00:10, 89.90it/s]"
          ],
          "name": "stderr"
        },
        {
          "output_type": "stream",
          "text": [
            "Train Loss: 97.4628\n",
            "Val Loss: 99.4765\n",
            "Epoch 747 of 1000\n"
          ],
          "name": "stdout"
        },
        {
          "output_type": "stream",
          "text": [
            "938it [00:07, 118.88it/s]                         \n",
            "157it [00:00, 179.23it/s]                         \n",
            "  1%|▏         | 12/937 [00:00<00:08, 113.44it/s]"
          ],
          "name": "stderr"
        },
        {
          "output_type": "stream",
          "text": [
            "Train Loss: 97.4590\n",
            "Val Loss: 99.3941\n",
            "Epoch 748 of 1000\n"
          ],
          "name": "stdout"
        },
        {
          "output_type": "stream",
          "text": [
            "938it [00:07, 120.40it/s]                         \n",
            "157it [00:00, 176.84it/s]                         \n",
            "  1%|▏         | 13/937 [00:00<00:07, 122.82it/s]"
          ],
          "name": "stderr"
        },
        {
          "output_type": "stream",
          "text": [
            "Train Loss: 97.4568\n",
            "Val Loss: 99.3844\n",
            "Epoch 749 of 1000\n"
          ],
          "name": "stdout"
        },
        {
          "output_type": "stream",
          "text": [
            "938it [00:07, 120.45it/s]                         \n",
            "157it [00:00, 175.40it/s]                         \n",
            "  1%|▏         | 12/937 [00:00<00:07, 117.12it/s]"
          ],
          "name": "stderr"
        },
        {
          "output_type": "stream",
          "text": [
            "Train Loss: 97.4594\n",
            "Val Loss: 99.3952\n",
            "Epoch 750 of 1000\n"
          ],
          "name": "stdout"
        },
        {
          "output_type": "stream",
          "text": [
            "938it [00:07, 119.90it/s]                         \n",
            "157it [00:00, 173.92it/s]                         \n",
            "  1%|▏         | 12/937 [00:00<00:07, 116.28it/s]"
          ],
          "name": "stderr"
        },
        {
          "output_type": "stream",
          "text": [
            "Train Loss: 97.4858\n",
            "Val Loss: 99.4298\n",
            "Epoch 751 of 1000\n"
          ],
          "name": "stdout"
        },
        {
          "output_type": "stream",
          "text": [
            "938it [00:07, 118.55it/s]                         \n",
            "157it [00:00, 169.34it/s]                         \n",
            "  1%|▏         | 12/937 [00:00<00:07, 117.47it/s]"
          ],
          "name": "stderr"
        },
        {
          "output_type": "stream",
          "text": [
            "Train Loss: 97.4514\n",
            "Val Loss: 99.4033\n",
            "Epoch 752 of 1000\n"
          ],
          "name": "stdout"
        },
        {
          "output_type": "stream",
          "text": [
            "938it [00:07, 120.22it/s]\n",
            "157it [00:00, 174.74it/s]                         \n",
            "  1%|          | 11/937 [00:00<00:08, 108.17it/s]"
          ],
          "name": "stderr"
        },
        {
          "output_type": "stream",
          "text": [
            "Train Loss: 97.4581\n",
            "Val Loss: 99.4923\n",
            "Epoch 753 of 1000\n"
          ],
          "name": "stdout"
        },
        {
          "output_type": "stream",
          "text": [
            "938it [00:07, 117.95it/s]                         \n",
            "157it [00:00, 174.47it/s]                         \n",
            "  1%|▏         | 12/937 [00:00<00:08, 111.23it/s]"
          ],
          "name": "stderr"
        },
        {
          "output_type": "stream",
          "text": [
            "Train Loss: 97.4469\n",
            "Val Loss: 99.5282\n",
            "Epoch 754 of 1000\n"
          ],
          "name": "stdout"
        },
        {
          "output_type": "stream",
          "text": [
            "938it [00:07, 117.77it/s]                         \n",
            "157it [00:00, 170.75it/s]                         \n",
            "  1%|▏         | 12/937 [00:00<00:07, 117.12it/s]"
          ],
          "name": "stderr"
        },
        {
          "output_type": "stream",
          "text": [
            "Train Loss: 97.4233\n",
            "Val Loss: 99.3956\n",
            "Epoch 755 of 1000\n"
          ],
          "name": "stdout"
        },
        {
          "output_type": "stream",
          "text": [
            "938it [00:08, 116.61it/s]                         \n",
            "157it [00:00, 167.70it/s]                         \n",
            "  1%|▏         | 12/937 [00:00<00:08, 113.38it/s]"
          ],
          "name": "stderr"
        },
        {
          "output_type": "stream",
          "text": [
            "Train Loss: 97.4363\n",
            "Val Loss: 99.3035\n",
            "Epoch 756 of 1000\n"
          ],
          "name": "stdout"
        },
        {
          "output_type": "stream",
          "text": [
            "938it [00:07, 119.77it/s]                         \n",
            "157it [00:00, 180.72it/s]                         \n",
            "  1%|▏         | 12/937 [00:00<00:08, 111.92it/s]"
          ],
          "name": "stderr"
        },
        {
          "output_type": "stream",
          "text": [
            "Train Loss: 97.4187\n",
            "Val Loss: 99.3131\n",
            "Epoch 757 of 1000\n"
          ],
          "name": "stdout"
        },
        {
          "output_type": "stream",
          "text": [
            "938it [00:07, 120.84it/s]                         \n",
            "157it [00:00, 179.54it/s]                         \n",
            "  1%|▏         | 13/937 [00:00<00:07, 122.49it/s]"
          ],
          "name": "stderr"
        },
        {
          "output_type": "stream",
          "text": [
            "Train Loss: 97.4379\n",
            "Val Loss: 99.4007\n",
            "Epoch 758 of 1000\n"
          ],
          "name": "stdout"
        },
        {
          "output_type": "stream",
          "text": [
            "938it [00:08, 107.96it/s]                        \n",
            "157it [00:01, 151.92it/s]                         \n",
            "  1%|          | 11/937 [00:00<00:08, 107.52it/s]"
          ],
          "name": "stderr"
        },
        {
          "output_type": "stream",
          "text": [
            "Train Loss: 97.4464\n",
            "Val Loss: 99.4589\n",
            "Epoch 759 of 1000\n"
          ],
          "name": "stdout"
        },
        {
          "output_type": "stream",
          "text": [
            "938it [00:07, 118.30it/s]                         \n",
            "157it [00:00, 175.38it/s]                         \n",
            "  1%|▏         | 13/937 [00:00<00:07, 123.43it/s]"
          ],
          "name": "stderr"
        },
        {
          "output_type": "stream",
          "text": [
            "Train Loss: 97.4228\n",
            "Val Loss: 99.3971\n",
            "Epoch 760 of 1000\n"
          ],
          "name": "stdout"
        },
        {
          "output_type": "stream",
          "text": [
            "938it [00:07, 118.35it/s]                         \n",
            "157it [00:00, 181.87it/s]                         \n",
            "  1%|▏         | 13/937 [00:00<00:07, 121.74it/s]"
          ],
          "name": "stderr"
        },
        {
          "output_type": "stream",
          "text": [
            "Train Loss: 97.4394\n",
            "Val Loss: 99.4284\n",
            "Epoch 761 of 1000\n"
          ],
          "name": "stdout"
        },
        {
          "output_type": "stream",
          "text": [
            "938it [00:07, 121.02it/s]                         \n",
            "157it [00:00, 172.22it/s]                         \n",
            "  1%|          | 6/937 [00:00<00:16, 57.33it/s]"
          ],
          "name": "stderr"
        },
        {
          "output_type": "stream",
          "text": [
            "Train Loss: 97.4357\n",
            "Val Loss: 99.3920\n",
            "Epoch 762 of 1000\n"
          ],
          "name": "stdout"
        },
        {
          "output_type": "stream",
          "text": [
            "938it [00:08, 116.78it/s]                         \n",
            "157it [00:00, 175.90it/s]                         \n",
            "  1%|▏         | 13/937 [00:00<00:07, 124.68it/s]"
          ],
          "name": "stderr"
        },
        {
          "output_type": "stream",
          "text": [
            "Train Loss: 97.4164\n",
            "Val Loss: 99.3733\n",
            "Epoch 763 of 1000\n"
          ],
          "name": "stdout"
        },
        {
          "output_type": "stream",
          "text": [
            "938it [00:07, 118.94it/s]                         \n",
            "157it [00:00, 172.79it/s]                         \n",
            "  1%|▏         | 13/937 [00:00<00:07, 121.09it/s]"
          ],
          "name": "stderr"
        },
        {
          "output_type": "stream",
          "text": [
            "Train Loss: 97.3925\n",
            "Val Loss: 99.3979\n",
            "Epoch 764 of 1000\n"
          ],
          "name": "stdout"
        },
        {
          "output_type": "stream",
          "text": [
            "938it [00:07, 119.17it/s]                         \n",
            "157it [00:00, 175.58it/s]                         \n",
            "  1%|▏         | 12/937 [00:00<00:07, 116.49it/s]"
          ],
          "name": "stderr"
        },
        {
          "output_type": "stream",
          "text": [
            "Train Loss: 97.4351\n",
            "Val Loss: 99.4673\n",
            "Epoch 765 of 1000\n"
          ],
          "name": "stdout"
        },
        {
          "output_type": "stream",
          "text": [
            "938it [00:07, 121.12it/s]                         \n",
            "157it [00:00, 174.64it/s]                         \n",
            "  1%|▏         | 13/937 [00:00<00:07, 125.27it/s]"
          ],
          "name": "stderr"
        },
        {
          "output_type": "stream",
          "text": [
            "Train Loss: 97.4494\n",
            "Val Loss: 99.3654\n",
            "Epoch 766 of 1000\n"
          ],
          "name": "stdout"
        },
        {
          "output_type": "stream",
          "text": [
            "938it [00:07, 119.65it/s]                         \n",
            "157it [00:00, 177.11it/s]                         \n",
            "  1%|▏         | 12/937 [00:00<00:07, 115.87it/s]"
          ],
          "name": "stderr"
        },
        {
          "output_type": "stream",
          "text": [
            "Train Loss: 97.3952\n",
            "Val Loss: 99.4142\n",
            "Epoch 767 of 1000\n"
          ],
          "name": "stdout"
        },
        {
          "output_type": "stream",
          "text": [
            "938it [00:08, 117.08it/s]                         \n",
            "157it [00:00, 172.87it/s]                         \n",
            "  1%|▏         | 12/937 [00:00<00:08, 114.37it/s]"
          ],
          "name": "stderr"
        },
        {
          "output_type": "stream",
          "text": [
            "Train Loss: 97.4133\n",
            "Val Loss: 99.3237\n",
            "Epoch 768 of 1000\n"
          ],
          "name": "stdout"
        },
        {
          "output_type": "stream",
          "text": [
            "938it [00:07, 118.55it/s]                         \n",
            "157it [00:00, 174.54it/s]                         \n",
            "  1%|▏         | 13/937 [00:00<00:07, 122.40it/s]"
          ],
          "name": "stderr"
        },
        {
          "output_type": "stream",
          "text": [
            "Train Loss: 97.4115\n",
            "Val Loss: 99.3556\n",
            "Epoch 769 of 1000\n"
          ],
          "name": "stdout"
        },
        {
          "output_type": "stream",
          "text": [
            "938it [00:07, 117.57it/s]                         \n",
            "157it [00:00, 172.96it/s]                         \n",
            "  1%|▏         | 12/937 [00:00<00:07, 119.12it/s]"
          ],
          "name": "stderr"
        },
        {
          "output_type": "stream",
          "text": [
            "Train Loss: 97.4281\n",
            "Val Loss: 99.4043\n",
            "Epoch 770 of 1000\n"
          ],
          "name": "stdout"
        },
        {
          "output_type": "stream",
          "text": [
            "938it [00:07, 118.82it/s]                         \n",
            "157it [00:00, 170.57it/s]                         \n",
            "  1%|          | 11/937 [00:00<00:08, 104.15it/s]"
          ],
          "name": "stderr"
        },
        {
          "output_type": "stream",
          "text": [
            "Train Loss: 97.4134\n",
            "Val Loss: 99.3664\n",
            "Epoch 771 of 1000\n"
          ],
          "name": "stdout"
        },
        {
          "output_type": "stream",
          "text": [
            "938it [00:08, 116.58it/s]                         \n",
            "157it [00:00, 171.94it/s]                         \n",
            "  1%|▏         | 13/937 [00:00<00:07, 122.59it/s]"
          ],
          "name": "stderr"
        },
        {
          "output_type": "stream",
          "text": [
            "Train Loss: 97.4028\n",
            "Val Loss: 99.4156\n",
            "Epoch 772 of 1000\n"
          ],
          "name": "stdout"
        },
        {
          "output_type": "stream",
          "text": [
            "938it [00:08, 109.42it/s]\n",
            "157it [00:00, 165.14it/s]                         \n",
            "  1%|▏         | 12/937 [00:00<00:08, 112.28it/s]"
          ],
          "name": "stderr"
        },
        {
          "output_type": "stream",
          "text": [
            "Train Loss: 97.4236\n",
            "Val Loss: 99.3427\n",
            "Epoch 773 of 1000\n"
          ],
          "name": "stdout"
        },
        {
          "output_type": "stream",
          "text": [
            "938it [00:07, 118.88it/s]                         \n",
            "157it [00:00, 177.91it/s]                         \n",
            "  1%|▏         | 12/937 [00:00<00:07, 118.58it/s]"
          ],
          "name": "stderr"
        },
        {
          "output_type": "stream",
          "text": [
            "Train Loss: 97.4246\n",
            "Val Loss: 99.4449\n",
            "Epoch 774 of 1000\n"
          ],
          "name": "stdout"
        },
        {
          "output_type": "stream",
          "text": [
            "938it [00:08, 117.24it/s]                         \n",
            "157it [00:00, 167.67it/s]                         \n",
            "  1%|▏         | 12/937 [00:00<00:08, 112.87it/s]"
          ],
          "name": "stderr"
        },
        {
          "output_type": "stream",
          "text": [
            "Train Loss: 97.4202\n",
            "Val Loss: 99.4690\n",
            "Epoch 775 of 1000\n"
          ],
          "name": "stdout"
        },
        {
          "output_type": "stream",
          "text": [
            "938it [00:07, 117.34it/s]                         \n",
            "157it [00:00, 174.05it/s]                         \n",
            "  1%|          | 11/937 [00:00<00:08, 105.80it/s]"
          ],
          "name": "stderr"
        },
        {
          "output_type": "stream",
          "text": [
            "Train Loss: 97.3990\n",
            "Val Loss: 99.4371\n",
            "Epoch 776 of 1000\n"
          ],
          "name": "stdout"
        },
        {
          "output_type": "stream",
          "text": [
            "938it [00:07, 117.57it/s]                         \n",
            "157it [00:00, 179.22it/s]                         \n",
            "  1%|▏         | 13/937 [00:00<00:07, 121.59it/s]"
          ],
          "name": "stderr"
        },
        {
          "output_type": "stream",
          "text": [
            "Train Loss: 97.4059\n",
            "Val Loss: 99.3592\n",
            "Epoch 777 of 1000\n"
          ],
          "name": "stdout"
        },
        {
          "output_type": "stream",
          "text": [
            "938it [00:07, 120.86it/s]                         \n",
            "157it [00:00, 159.60it/s]                         \n",
            "  1%|▏         | 12/937 [00:00<00:08, 112.70it/s]"
          ],
          "name": "stderr"
        },
        {
          "output_type": "stream",
          "text": [
            "Train Loss: 97.4114\n",
            "Val Loss: 99.3653\n",
            "Epoch 778 of 1000\n"
          ],
          "name": "stdout"
        },
        {
          "output_type": "stream",
          "text": [
            "938it [00:08, 116.35it/s]                         \n",
            "157it [00:00, 171.93it/s]                         \n",
            "  1%|▏         | 13/937 [00:00<00:07, 121.92it/s]"
          ],
          "name": "stderr"
        },
        {
          "output_type": "stream",
          "text": [
            "Train Loss: 97.3800\n",
            "Val Loss: 99.4935\n",
            "Epoch 779 of 1000\n"
          ],
          "name": "stdout"
        },
        {
          "output_type": "stream",
          "text": [
            "938it [00:07, 119.36it/s]                         \n",
            "157it [00:00, 178.82it/s]                         \n",
            "  1%|▏         | 12/937 [00:00<00:07, 116.03it/s]"
          ],
          "name": "stderr"
        },
        {
          "output_type": "stream",
          "text": [
            "Train Loss: 97.3754\n",
            "Val Loss: 99.3348\n",
            "Epoch 780 of 1000\n"
          ],
          "name": "stdout"
        },
        {
          "output_type": "stream",
          "text": [
            "938it [00:07, 119.04it/s]                         \n",
            "157it [00:00, 177.72it/s]                         \n",
            "  1%|▏         | 13/937 [00:00<00:07, 122.96it/s]"
          ],
          "name": "stderr"
        },
        {
          "output_type": "stream",
          "text": [
            "Train Loss: 97.3934\n",
            "Val Loss: 99.3945\n",
            "Epoch 781 of 1000\n"
          ],
          "name": "stdout"
        },
        {
          "output_type": "stream",
          "text": [
            "938it [00:07, 122.82it/s]                         \n",
            "157it [00:00, 179.55it/s]                         \n",
            "  1%|▏         | 13/937 [00:00<00:07, 123.25it/s]"
          ],
          "name": "stderr"
        },
        {
          "output_type": "stream",
          "text": [
            "Train Loss: 97.3980\n",
            "Val Loss: 99.4364\n",
            "Epoch 782 of 1000\n"
          ],
          "name": "stdout"
        },
        {
          "output_type": "stream",
          "text": [
            "938it [00:07, 121.48it/s]                         \n",
            "157it [00:00, 177.99it/s]                         \n",
            "  1%|          | 11/937 [00:00<00:08, 104.53it/s]"
          ],
          "name": "stderr"
        },
        {
          "output_type": "stream",
          "text": [
            "Train Loss: 97.3739\n",
            "Val Loss: 99.4045\n",
            "Epoch 783 of 1000\n"
          ],
          "name": "stdout"
        },
        {
          "output_type": "stream",
          "text": [
            "938it [00:07, 121.46it/s]\n",
            "157it [00:00, 173.82it/s]                         \n",
            "  1%|▏         | 12/937 [00:00<00:07, 119.33it/s]"
          ],
          "name": "stderr"
        },
        {
          "output_type": "stream",
          "text": [
            "Train Loss: 97.3793\n",
            "Val Loss: 99.3224\n",
            "Epoch 784 of 1000\n"
          ],
          "name": "stdout"
        },
        {
          "output_type": "stream",
          "text": [
            "938it [00:07, 119.31it/s]                         \n",
            "157it [00:00, 171.95it/s]                         \n",
            "  1%|          | 10/937 [00:00<00:09, 96.42it/s]"
          ],
          "name": "stderr"
        },
        {
          "output_type": "stream",
          "text": [
            "Train Loss: 97.3749\n",
            "Val Loss: 99.3496\n",
            "Epoch 785 of 1000\n"
          ],
          "name": "stdout"
        },
        {
          "output_type": "stream",
          "text": [
            "938it [00:08, 114.50it/s]                         \n",
            "157it [00:00, 172.60it/s]                         \n",
            "  1%|▏         | 12/937 [00:00<00:08, 112.06it/s]"
          ],
          "name": "stderr"
        },
        {
          "output_type": "stream",
          "text": [
            "Train Loss: 97.3576\n",
            "Val Loss: 99.4606\n",
            "Epoch 786 of 1000\n"
          ],
          "name": "stdout"
        },
        {
          "output_type": "stream",
          "text": [
            "938it [00:07, 118.57it/s]                         \n",
            "157it [00:00, 177.62it/s]                         \n",
            "  1%|▏         | 12/937 [00:00<00:07, 115.82it/s]"
          ],
          "name": "stderr"
        },
        {
          "output_type": "stream",
          "text": [
            "Train Loss: 97.3896\n",
            "Val Loss: 99.3329\n",
            "Epoch 787 of 1000\n"
          ],
          "name": "stdout"
        },
        {
          "output_type": "stream",
          "text": [
            "938it [00:07, 121.14it/s]                         \n",
            "157it [00:00, 172.14it/s]                         \n",
            "  1%|▏         | 12/937 [00:00<00:07, 119.15it/s]"
          ],
          "name": "stderr"
        },
        {
          "output_type": "stream",
          "text": [
            "Train Loss: 97.3689\n",
            "Val Loss: 99.3651\n",
            "Epoch 788 of 1000\n"
          ],
          "name": "stdout"
        },
        {
          "output_type": "stream",
          "text": [
            "938it [00:07, 118.22it/s]                         \n",
            "157it [00:00, 175.05it/s]                         \n",
            "  1%|▏         | 12/937 [00:00<00:07, 117.36it/s]"
          ],
          "name": "stderr"
        },
        {
          "output_type": "stream",
          "text": [
            "Train Loss: 97.3794\n",
            "Val Loss: 99.3171\n",
            "Epoch 789 of 1000\n"
          ],
          "name": "stdout"
        },
        {
          "output_type": "stream",
          "text": [
            "938it [00:08, 116.02it/s]                         \n",
            "157it [00:00, 171.37it/s]                         \n",
            "  1%|▏         | 12/937 [00:00<00:07, 117.71it/s]"
          ],
          "name": "stderr"
        },
        {
          "output_type": "stream",
          "text": [
            "Train Loss: 97.3776\n",
            "Val Loss: 99.3715\n",
            "Epoch 790 of 1000\n"
          ],
          "name": "stdout"
        },
        {
          "output_type": "stream",
          "text": [
            "938it [00:07, 118.56it/s]                         \n",
            "157it [00:00, 175.09it/s]                         \n",
            "  1%|▏         | 12/937 [00:00<00:08, 112.81it/s]"
          ],
          "name": "stderr"
        },
        {
          "output_type": "stream",
          "text": [
            "Train Loss: 97.3716\n",
            "Val Loss: 99.3433\n",
            "Epoch 791 of 1000\n"
          ],
          "name": "stdout"
        },
        {
          "output_type": "stream",
          "text": [
            "938it [00:07, 120.33it/s]                         \n",
            "157it [00:00, 177.70it/s]                         \n",
            "  1%|▏         | 12/937 [00:00<00:07, 119.03it/s]"
          ],
          "name": "stderr"
        },
        {
          "output_type": "stream",
          "text": [
            "Train Loss: 97.3386\n",
            "Val Loss: 99.3258\n",
            "Epoch 792 of 1000\n"
          ],
          "name": "stdout"
        },
        {
          "output_type": "stream",
          "text": [
            "938it [00:07, 117.26it/s]                         \n",
            "157it [00:00, 161.19it/s]                         \n",
            "  1%|          | 11/937 [00:00<00:08, 104.50it/s]"
          ],
          "name": "stderr"
        },
        {
          "output_type": "stream",
          "text": [
            "Train Loss: 97.3707\n",
            "Val Loss: 99.4142\n",
            "Epoch 793 of 1000\n"
          ],
          "name": "stdout"
        },
        {
          "output_type": "stream",
          "text": [
            "938it [00:08, 106.56it/s]                         \n",
            "157it [00:00, 167.79it/s]\n",
            "  1%|          | 9/937 [00:00<00:10, 86.88it/s]"
          ],
          "name": "stderr"
        },
        {
          "output_type": "stream",
          "text": [
            "Train Loss: 97.3444\n",
            "Val Loss: 99.3366\n",
            "Epoch 794 of 1000\n"
          ],
          "name": "stdout"
        },
        {
          "output_type": "stream",
          "text": [
            "938it [00:09, 102.92it/s]                         \n",
            "157it [00:00, 170.37it/s]                         \n",
            "  1%|          | 10/937 [00:00<00:09, 96.98it/s]"
          ],
          "name": "stderr"
        },
        {
          "output_type": "stream",
          "text": [
            "Train Loss: 97.3717\n",
            "Val Loss: 99.3861\n",
            "Epoch 795 of 1000\n"
          ],
          "name": "stdout"
        },
        {
          "output_type": "stream",
          "text": [
            "938it [00:09, 99.36it/s]                         \n",
            "157it [00:00, 179.71it/s]                         \n",
            "  1%|▏         | 13/937 [00:00<00:07, 125.45it/s]"
          ],
          "name": "stderr"
        },
        {
          "output_type": "stream",
          "text": [
            "Train Loss: 97.3514\n",
            "Val Loss: 99.3598\n",
            "Epoch 796 of 1000\n"
          ],
          "name": "stdout"
        },
        {
          "output_type": "stream",
          "text": [
            "938it [00:07, 118.07it/s]\n",
            "157it [00:00, 168.86it/s]                         \n",
            "  1%|▏         | 13/937 [00:00<00:07, 122.24it/s]"
          ],
          "name": "stderr"
        },
        {
          "output_type": "stream",
          "text": [
            "Train Loss: 97.3504\n",
            "Val Loss: 99.3678\n",
            "Epoch 797 of 1000\n"
          ],
          "name": "stdout"
        },
        {
          "output_type": "stream",
          "text": [
            "938it [00:07, 120.25it/s]                         \n",
            "157it [00:00, 173.36it/s]                         \n",
            "  1%|▏         | 13/937 [00:00<00:07, 121.38it/s]"
          ],
          "name": "stderr"
        },
        {
          "output_type": "stream",
          "text": [
            "Train Loss: 97.3316\n",
            "Val Loss: 99.3597\n",
            "Epoch 798 of 1000\n"
          ],
          "name": "stdout"
        },
        {
          "output_type": "stream",
          "text": [
            "938it [00:07, 118.53it/s]                         \n",
            "157it [00:00, 168.41it/s]                         \n",
            "  1%|▏         | 12/937 [00:00<00:07, 116.61it/s]"
          ],
          "name": "stderr"
        },
        {
          "output_type": "stream",
          "text": [
            "Train Loss: 97.3368\n",
            "Val Loss: 99.3678\n",
            "Epoch 799 of 1000\n"
          ],
          "name": "stdout"
        },
        {
          "output_type": "stream",
          "text": [
            "938it [00:07, 119.69it/s]                         \n",
            "157it [00:00, 181.80it/s]                         \n",
            "  1%|▏         | 13/937 [00:00<00:07, 120.83it/s]"
          ],
          "name": "stderr"
        },
        {
          "output_type": "stream",
          "text": [
            "Train Loss: 97.3481\n",
            "Val Loss: 99.3359\n",
            "Epoch 800 of 1000\n"
          ],
          "name": "stdout"
        },
        {
          "output_type": "stream",
          "text": [
            "938it [00:07, 120.42it/s]\n",
            "157it [00:00, 175.12it/s]                         \n",
            "  1%|          | 11/937 [00:00<00:08, 106.63it/s]"
          ],
          "name": "stderr"
        },
        {
          "output_type": "stream",
          "text": [
            "Train Loss: 97.3417\n",
            "Val Loss: 99.3991\n",
            "Epoch 801 of 1000\n"
          ],
          "name": "stdout"
        },
        {
          "output_type": "stream",
          "text": [
            "938it [00:07, 118.19it/s]                         \n",
            "157it [00:00, 165.95it/s]                         \n",
            "  1%|▏         | 12/937 [00:00<00:08, 114.05it/s]"
          ],
          "name": "stderr"
        },
        {
          "output_type": "stream",
          "text": [
            "Train Loss: 97.3528\n",
            "Val Loss: 99.3498\n",
            "Epoch 802 of 1000\n"
          ],
          "name": "stdout"
        },
        {
          "output_type": "stream",
          "text": [
            "938it [00:08, 116.85it/s]                         \n",
            "157it [00:00, 173.47it/s]                         \n",
            "  1%|          | 11/937 [00:00<00:08, 105.89it/s]"
          ],
          "name": "stderr"
        },
        {
          "output_type": "stream",
          "text": [
            "Train Loss: 97.3586\n",
            "Val Loss: 99.2507\n",
            "Epoch 803 of 1000\n"
          ],
          "name": "stdout"
        },
        {
          "output_type": "stream",
          "text": [
            "938it [00:07, 117.82it/s]                         \n",
            "157it [00:00, 181.65it/s]                         \n",
            "  1%|▏         | 12/937 [00:00<00:07, 119.97it/s]"
          ],
          "name": "stderr"
        },
        {
          "output_type": "stream",
          "text": [
            "Train Loss: 97.3312\n",
            "Val Loss: 99.3277\n",
            "Epoch 804 of 1000\n"
          ],
          "name": "stdout"
        },
        {
          "output_type": "stream",
          "text": [
            "938it [00:07, 121.82it/s]                         \n",
            "157it [00:00, 181.53it/s]                         \n",
            "  1%|▏         | 13/937 [00:00<00:07, 122.18it/s]"
          ],
          "name": "stderr"
        },
        {
          "output_type": "stream",
          "text": [
            "Train Loss: 97.3327\n",
            "Val Loss: 99.3489\n",
            "Epoch 805 of 1000\n"
          ],
          "name": "stdout"
        },
        {
          "output_type": "stream",
          "text": [
            "938it [00:07, 120.95it/s]                         \n",
            "157it [00:00, 169.27it/s]                         \n",
            "  1%|▏         | 12/937 [00:00<00:07, 119.47it/s]"
          ],
          "name": "stderr"
        },
        {
          "output_type": "stream",
          "text": [
            "Train Loss: 97.3568\n",
            "Val Loss: 99.3516\n",
            "Epoch 806 of 1000\n"
          ],
          "name": "stdout"
        },
        {
          "output_type": "stream",
          "text": [
            "938it [00:07, 118.19it/s]                         \n",
            "157it [00:00, 171.79it/s]                         \n",
            "  1%|▏         | 12/937 [00:00<00:07, 119.67it/s]"
          ],
          "name": "stderr"
        },
        {
          "output_type": "stream",
          "text": [
            "Train Loss: 97.3340\n",
            "Val Loss: 99.2105\n",
            "Epoch 807 of 1000\n"
          ],
          "name": "stdout"
        },
        {
          "output_type": "stream",
          "text": [
            "938it [00:07, 122.27it/s]                         \n",
            "157it [00:00, 177.72it/s]                         \n",
            "  1%|▏         | 13/937 [00:00<00:07, 120.95it/s]"
          ],
          "name": "stderr"
        },
        {
          "output_type": "stream",
          "text": [
            "Train Loss: 97.3210\n",
            "Val Loss: 99.3915\n",
            "Epoch 808 of 1000\n"
          ],
          "name": "stdout"
        },
        {
          "output_type": "stream",
          "text": [
            "938it [00:07, 121.74it/s]                         \n",
            "157it [00:00, 181.06it/s]                         \n",
            "  1%|▏         | 13/937 [00:00<00:07, 122.35it/s]"
          ],
          "name": "stderr"
        },
        {
          "output_type": "stream",
          "text": [
            "Train Loss: 97.3284\n",
            "Val Loss: 99.3061\n",
            "Epoch 809 of 1000\n"
          ],
          "name": "stdout"
        },
        {
          "output_type": "stream",
          "text": [
            "938it [00:07, 122.02it/s]                         \n",
            "157it [00:00, 181.22it/s]                         \n",
            "  1%|▏         | 13/937 [00:00<00:07, 120.74it/s]"
          ],
          "name": "stderr"
        },
        {
          "output_type": "stream",
          "text": [
            "Train Loss: 97.3125\n",
            "Val Loss: 99.3516\n",
            "Epoch 810 of 1000\n"
          ],
          "name": "stdout"
        },
        {
          "output_type": "stream",
          "text": [
            "938it [00:07, 120.86it/s]                         \n",
            "157it [00:00, 175.97it/s]                         \n",
            "  1%|▏         | 13/937 [00:00<00:07, 123.50it/s]"
          ],
          "name": "stderr"
        },
        {
          "output_type": "stream",
          "text": [
            "Train Loss: 97.3371\n",
            "Val Loss: 99.4417\n",
            "Epoch 811 of 1000\n"
          ],
          "name": "stdout"
        },
        {
          "output_type": "stream",
          "text": [
            "938it [00:07, 124.41it/s]                         \n",
            "157it [00:00, 180.44it/s]                         \n",
            "  1%|▏         | 13/937 [00:00<00:07, 121.52it/s]"
          ],
          "name": "stderr"
        },
        {
          "output_type": "stream",
          "text": [
            "Train Loss: 97.3321\n",
            "Val Loss: 99.3615\n",
            "Epoch 812 of 1000\n"
          ],
          "name": "stdout"
        },
        {
          "output_type": "stream",
          "text": [
            "938it [00:07, 120.00it/s]                         \n",
            "157it [00:00, 179.94it/s]                         \n",
            "  1%|▏         | 13/937 [00:00<00:07, 123.08it/s]"
          ],
          "name": "stderr"
        },
        {
          "output_type": "stream",
          "text": [
            "Train Loss: 97.2994\n",
            "Val Loss: 99.3564\n",
            "Epoch 813 of 1000\n"
          ],
          "name": "stdout"
        },
        {
          "output_type": "stream",
          "text": [
            "938it [00:07, 122.93it/s]                         \n",
            "157it [00:00, 180.72it/s]                         \n",
            "  1%|▏         | 13/937 [00:00<00:07, 121.02it/s]"
          ],
          "name": "stderr"
        },
        {
          "output_type": "stream",
          "text": [
            "Train Loss: 97.3283\n",
            "Val Loss: 99.4768\n",
            "Epoch 814 of 1000\n"
          ],
          "name": "stdout"
        },
        {
          "output_type": "stream",
          "text": [
            "938it [00:07, 119.29it/s]                         \n",
            "157it [00:00, 170.80it/s]                         \n",
            "  1%|▏         | 13/937 [00:00<00:07, 122.22it/s]"
          ],
          "name": "stderr"
        },
        {
          "output_type": "stream",
          "text": [
            "Train Loss: 97.3239\n",
            "Val Loss: 99.3384\n",
            "Epoch 815 of 1000\n"
          ],
          "name": "stdout"
        },
        {
          "output_type": "stream",
          "text": [
            "938it [00:07, 119.21it/s]                         \n",
            "157it [00:00, 177.48it/s]                         \n",
            "  1%|▏         | 12/937 [00:00<00:07, 118.23it/s]"
          ],
          "name": "stderr"
        },
        {
          "output_type": "stream",
          "text": [
            "Train Loss: 97.3148\n",
            "Val Loss: 99.3194\n",
            "Epoch 816 of 1000\n"
          ],
          "name": "stdout"
        },
        {
          "output_type": "stream",
          "text": [
            "938it [00:07, 119.32it/s]                         \n",
            "157it [00:00, 172.18it/s]                         \n",
            "  1%|▏         | 12/937 [00:00<00:07, 116.85it/s]"
          ],
          "name": "stderr"
        },
        {
          "output_type": "stream",
          "text": [
            "Train Loss: 97.3114\n",
            "Val Loss: 99.3577\n",
            "Epoch 817 of 1000\n"
          ],
          "name": "stdout"
        },
        {
          "output_type": "stream",
          "text": [
            "938it [00:07, 118.49it/s]\n",
            "157it [00:00, 167.54it/s]                         \n",
            "  1%|▏         | 12/937 [00:00<00:07, 117.59it/s]"
          ],
          "name": "stderr"
        },
        {
          "output_type": "stream",
          "text": [
            "Train Loss: 97.3051\n",
            "Val Loss: 99.3244\n",
            "Epoch 818 of 1000\n"
          ],
          "name": "stdout"
        },
        {
          "output_type": "stream",
          "text": [
            "938it [00:07, 122.96it/s]                         \n",
            "157it [00:00, 175.02it/s]                         \n",
            "  1%|▏         | 13/937 [00:00<00:07, 122.85it/s]"
          ],
          "name": "stderr"
        },
        {
          "output_type": "stream",
          "text": [
            "Train Loss: 97.3094\n",
            "Val Loss: 99.2990\n",
            "Epoch 819 of 1000\n"
          ],
          "name": "stdout"
        },
        {
          "output_type": "stream",
          "text": [
            "938it [00:07, 118.83it/s]                         \n",
            "157it [00:00, 170.66it/s]                         \n",
            "  1%|▏         | 13/937 [00:00<00:07, 121.04it/s]"
          ],
          "name": "stderr"
        },
        {
          "output_type": "stream",
          "text": [
            "Train Loss: 97.2892\n",
            "Val Loss: 99.4608\n",
            "Epoch 820 of 1000\n"
          ],
          "name": "stdout"
        },
        {
          "output_type": "stream",
          "text": [
            "938it [00:07, 118.74it/s]                         \n",
            "157it [00:00, 174.45it/s]                         \n",
            "  1%|▏         | 13/937 [00:00<00:07, 122.49it/s]"
          ],
          "name": "stderr"
        },
        {
          "output_type": "stream",
          "text": [
            "Train Loss: 97.3073\n",
            "Val Loss: 99.4597\n",
            "Epoch 821 of 1000\n"
          ],
          "name": "stdout"
        },
        {
          "output_type": "stream",
          "text": [
            "938it [00:07, 120.87it/s]                         \n",
            "157it [00:00, 177.83it/s]                         \n",
            "  1%|▏         | 12/937 [00:00<00:07, 117.58it/s]"
          ],
          "name": "stderr"
        },
        {
          "output_type": "stream",
          "text": [
            "Train Loss: 97.3081\n",
            "Val Loss: 99.4579\n",
            "Epoch 822 of 1000\n"
          ],
          "name": "stdout"
        },
        {
          "output_type": "stream",
          "text": [
            "938it [00:07, 123.32it/s]                         \n",
            "157it [00:00, 181.87it/s]                         \n",
            "  1%|▏         | 13/937 [00:00<00:07, 123.77it/s]"
          ],
          "name": "stderr"
        },
        {
          "output_type": "stream",
          "text": [
            "Train Loss: 97.3134\n",
            "Val Loss: 99.3707\n",
            "Epoch 823 of 1000\n"
          ],
          "name": "stdout"
        },
        {
          "output_type": "stream",
          "text": [
            "938it [00:07, 122.65it/s]                         \n",
            "157it [00:00, 183.51it/s]                         \n",
            "  1%|▏         | 12/937 [00:00<00:08, 113.77it/s]"
          ],
          "name": "stderr"
        },
        {
          "output_type": "stream",
          "text": [
            "Train Loss: 97.2905\n",
            "Val Loss: 99.3253\n",
            "Epoch 824 of 1000\n"
          ],
          "name": "stdout"
        },
        {
          "output_type": "stream",
          "text": [
            "938it [00:07, 119.53it/s]                         \n",
            "157it [00:00, 177.54it/s]                         \n",
            "  1%|▏         | 13/937 [00:00<00:07, 121.91it/s]"
          ],
          "name": "stderr"
        },
        {
          "output_type": "stream",
          "text": [
            "Train Loss: 97.3120\n",
            "Val Loss: 99.3643\n",
            "Epoch 825 of 1000\n"
          ],
          "name": "stdout"
        },
        {
          "output_type": "stream",
          "text": [
            "938it [00:07, 121.28it/s]\n",
            "157it [00:00, 176.41it/s]                         \n",
            "  1%|▏         | 13/937 [00:00<00:07, 122.16it/s]"
          ],
          "name": "stderr"
        },
        {
          "output_type": "stream",
          "text": [
            "Train Loss: 97.2827\n",
            "Val Loss: 99.3347\n",
            "Epoch 826 of 1000\n"
          ],
          "name": "stdout"
        },
        {
          "output_type": "stream",
          "text": [
            "938it [00:07, 120.02it/s]                         \n",
            "157it [00:00, 184.75it/s]                         \n",
            "  1%|▏         | 13/937 [00:00<00:07, 121.59it/s]"
          ],
          "name": "stderr"
        },
        {
          "output_type": "stream",
          "text": [
            "Train Loss: 97.3038\n",
            "Val Loss: 99.2204\n",
            "Epoch 827 of 1000\n"
          ],
          "name": "stdout"
        },
        {
          "output_type": "stream",
          "text": [
            "938it [00:07, 124.84it/s]                         \n",
            "157it [00:00, 184.35it/s]                         \n",
            "  1%|▏         | 13/937 [00:00<00:07, 125.57it/s]"
          ],
          "name": "stderr"
        },
        {
          "output_type": "stream",
          "text": [
            "Train Loss: 97.2864\n",
            "Val Loss: 99.3386\n",
            "Epoch 828 of 1000\n"
          ],
          "name": "stdout"
        },
        {
          "output_type": "stream",
          "text": [
            "938it [00:07, 122.32it/s]                         \n",
            "157it [00:00, 182.83it/s]                         \n",
            "  1%|▏         | 13/937 [00:00<00:07, 121.69it/s]"
          ],
          "name": "stderr"
        },
        {
          "output_type": "stream",
          "text": [
            "Train Loss: 97.2757\n",
            "Val Loss: 99.4079\n",
            "Epoch 829 of 1000\n"
          ],
          "name": "stdout"
        },
        {
          "output_type": "stream",
          "text": [
            "938it [00:07, 123.87it/s]                         \n",
            "157it [00:00, 184.99it/s]                         \n",
            "  1%|▏         | 13/937 [00:00<00:07, 124.52it/s]"
          ],
          "name": "stderr"
        },
        {
          "output_type": "stream",
          "text": [
            "Train Loss: 97.3013\n",
            "Val Loss: 99.3759\n",
            "Epoch 830 of 1000\n"
          ],
          "name": "stdout"
        },
        {
          "output_type": "stream",
          "text": [
            "938it [00:07, 127.25it/s]                         \n",
            "157it [00:00, 187.93it/s]                         \n",
            "  1%|▏         | 13/937 [00:00<00:07, 127.46it/s]"
          ],
          "name": "stderr"
        },
        {
          "output_type": "stream",
          "text": [
            "Train Loss: 97.2786\n",
            "Val Loss: 99.3537\n",
            "Epoch 831 of 1000\n"
          ],
          "name": "stdout"
        },
        {
          "output_type": "stream",
          "text": [
            "938it [00:07, 122.53it/s]                         \n",
            "157it [00:00, 183.92it/s]                         \n",
            "  1%|▏         | 13/937 [00:00<00:07, 122.80it/s]"
          ],
          "name": "stderr"
        },
        {
          "output_type": "stream",
          "text": [
            "Train Loss: 97.2699\n",
            "Val Loss: 99.3972\n",
            "Epoch 832 of 1000\n"
          ],
          "name": "stdout"
        },
        {
          "output_type": "stream",
          "text": [
            "938it [00:07, 123.63it/s]                         \n",
            "157it [00:00, 167.79it/s]                         \n",
            "  1%|          | 11/937 [00:00<00:08, 108.79it/s]"
          ],
          "name": "stderr"
        },
        {
          "output_type": "stream",
          "text": [
            "Train Loss: 97.2695\n",
            "Val Loss: 99.3067\n",
            "Epoch 833 of 1000\n"
          ],
          "name": "stdout"
        },
        {
          "output_type": "stream",
          "text": [
            "938it [00:07, 123.28it/s]\n",
            "157it [00:00, 180.72it/s]                         \n",
            "  1%|▏         | 12/937 [00:00<00:07, 119.37it/s]"
          ],
          "name": "stderr"
        },
        {
          "output_type": "stream",
          "text": [
            "Train Loss: 97.2559\n",
            "Val Loss: 99.4279\n",
            "Epoch 834 of 1000\n"
          ],
          "name": "stdout"
        },
        {
          "output_type": "stream",
          "text": [
            "938it [00:07, 121.51it/s]                         \n",
            "157it [00:00, 181.80it/s]                         \n",
            "  1%|          | 11/937 [00:00<00:08, 109.47it/s]"
          ],
          "name": "stderr"
        },
        {
          "output_type": "stream",
          "text": [
            "Train Loss: 97.2722\n",
            "Val Loss: 99.3096\n",
            "Epoch 835 of 1000\n"
          ],
          "name": "stdout"
        },
        {
          "output_type": "stream",
          "text": [
            "938it [00:07, 122.16it/s]                         \n",
            "157it [00:00, 179.35it/s]                         \n",
            "  1%|▏         | 13/937 [00:00<00:07, 126.31it/s]"
          ],
          "name": "stderr"
        },
        {
          "output_type": "stream",
          "text": [
            "Train Loss: 97.2821\n",
            "Val Loss: 99.3957\n",
            "Epoch 836 of 1000\n"
          ],
          "name": "stdout"
        },
        {
          "output_type": "stream",
          "text": [
            "938it [00:07, 123.73it/s]\n",
            "157it [00:00, 172.85it/s]                         \n",
            "  1%|▏         | 12/937 [00:00<00:07, 117.57it/s]"
          ],
          "name": "stderr"
        },
        {
          "output_type": "stream",
          "text": [
            "Train Loss: 97.2597\n",
            "Val Loss: 99.2456\n",
            "Epoch 837 of 1000\n"
          ],
          "name": "stdout"
        },
        {
          "output_type": "stream",
          "text": [
            "938it [00:07, 120.30it/s]                         \n",
            "157it [00:00, 175.58it/s]                         \n",
            "  1%|▏         | 13/937 [00:00<00:07, 123.44it/s]"
          ],
          "name": "stderr"
        },
        {
          "output_type": "stream",
          "text": [
            "Train Loss: 97.2769\n",
            "Val Loss: 99.3335\n",
            "Epoch 838 of 1000\n"
          ],
          "name": "stdout"
        },
        {
          "output_type": "stream",
          "text": [
            "938it [00:07, 119.53it/s]                         \n",
            "157it [00:00, 181.25it/s]                         \n",
            "  1%|          | 11/937 [00:00<00:08, 106.88it/s]"
          ],
          "name": "stderr"
        },
        {
          "output_type": "stream",
          "text": [
            "Train Loss: 97.2795\n",
            "Val Loss: 99.3279\n",
            "Epoch 839 of 1000\n"
          ],
          "name": "stdout"
        },
        {
          "output_type": "stream",
          "text": [
            " 41%|████      | 381/937 [00:03<00:04, 120.36it/s]"
          ],
          "name": "stderr"
        },
        {
          "output_type": "stream",
          "text": [
            "Buffered data was truncated after reaching the output size limit."
          ],
          "name": "stdout"
        }
      ]
    }
  ]
}